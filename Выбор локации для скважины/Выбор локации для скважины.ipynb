{
 "cells": [
  {
   "cell_type": "markdown",
   "metadata": {},
   "source": [
    "# Выбор локации для скважины"
   ]
  },
  {
   "cell_type": "markdown",
   "metadata": {},
   "source": [
    "Допустим, вы работаете в добывающей компании «ГлавРосГосНефть». Нужно решить, где бурить новую скважину.\n",
    "\n",
    "Вам предоставлены пробы нефти в трёх регионах: в каждом 10 000 месторождений, где измерили качество нефти и объём её запасов. Постройте модель машинного обучения, которая поможет определить регион, где добыча принесёт наибольшую прибыль. Проанализируйте возможную прибыль и риски техникой *Bootstrap.*\n",
    "\n",
    "Шаги для выбора локации:\n",
    "\n",
    "- В избранном регионе ищут месторождения, для каждого определяют значения признаков;\n",
    "- Строят модель и оценивают объём запасов;\n",
    "- Выбирают месторождения с самым высокими оценками значений. Количество месторождений зависит от бюджета компании и стоимости разработки одной скважины;\n",
    "- Прибыль равна суммарной прибыли отобранных месторождений."
   ]
  },
  {
   "cell_type": "markdown",
   "metadata": {},
   "source": [
    "## Загрузка и подготовка данных"
   ]
  },
  {
   "cell_type": "code",
   "execution_count": 1,
   "metadata": {},
   "outputs": [],
   "source": [
    "import pandas as pd\n",
    "import numpy as np\n",
    "import scipy.stats as st\n",
    "from sklearn.linear_model import LinearRegression\n",
    "from sklearn.metrics import mean_squared_error\n",
    "from sklearn.model_selection import train_test_split\n",
    "from sklearn.preprocessing import StandardScaler\n",
    "import matplotlib.pyplot as plt\n",
    "import seaborn as sns"
   ]
  },
  {
   "cell_type": "code",
   "execution_count": 2,
   "metadata": {},
   "outputs": [],
   "source": [
    "geo_data_0 = pd.read_csv('/datasets/geo_data_0.csv') \n",
    "geo_data_1 = pd.read_csv('/datasets/geo_data_1.csv') \n",
    "geo_data_2 = pd.read_csv('/datasets/geo_data_2.csv')"
   ]
  },
  {
   "cell_type": "code",
   "execution_count": 3,
   "metadata": {},
   "outputs": [
    {
     "name": "stdout",
     "output_type": "stream",
     "text": [
      "<class 'pandas.core.frame.DataFrame'>\n",
      "RangeIndex: 100000 entries, 0 to 99999\n",
      "Data columns (total 5 columns):\n",
      " #   Column   Non-Null Count   Dtype  \n",
      "---  ------   --------------   -----  \n",
      " 0   id       100000 non-null  object \n",
      " 1   f0       100000 non-null  float64\n",
      " 2   f1       100000 non-null  float64\n",
      " 3   f2       100000 non-null  float64\n",
      " 4   product  100000 non-null  float64\n",
      "dtypes: float64(4), object(1)\n",
      "memory usage: 3.8+ MB\n",
      "None\n",
      "\n",
      "<class 'pandas.core.frame.DataFrame'>\n",
      "RangeIndex: 100000 entries, 0 to 99999\n",
      "Data columns (total 5 columns):\n",
      " #   Column   Non-Null Count   Dtype  \n",
      "---  ------   --------------   -----  \n",
      " 0   id       100000 non-null  object \n",
      " 1   f0       100000 non-null  float64\n",
      " 2   f1       100000 non-null  float64\n",
      " 3   f2       100000 non-null  float64\n",
      " 4   product  100000 non-null  float64\n",
      "dtypes: float64(4), object(1)\n",
      "memory usage: 3.8+ MB\n",
      "None\n",
      "\n",
      "<class 'pandas.core.frame.DataFrame'>\n",
      "RangeIndex: 100000 entries, 0 to 99999\n",
      "Data columns (total 5 columns):\n",
      " #   Column   Non-Null Count   Dtype  \n",
      "---  ------   --------------   -----  \n",
      " 0   id       100000 non-null  object \n",
      " 1   f0       100000 non-null  float64\n",
      " 2   f1       100000 non-null  float64\n",
      " 3   f2       100000 non-null  float64\n",
      " 4   product  100000 non-null  float64\n",
      "dtypes: float64(4), object(1)\n",
      "memory usage: 3.8+ MB\n",
      "None\n",
      "\n"
     ]
    }
   ],
   "source": [
    "for d in [geo_data_0, geo_data_1, geo_data_2]:\n",
    "    print(d.info(), end='\\n\\n')"
   ]
  },
  {
   "cell_type": "markdown",
   "metadata": {},
   "source": [
    "Пропусков нет, можем исследовать данные дальше."
   ]
  },
  {
   "cell_type": "code",
   "execution_count": 4,
   "metadata": {},
   "outputs": [
    {
     "name": "stdout",
     "output_type": "stream",
     "text": [
      "      id        f0        f1        f2     product\n",
      "0  txEyH  0.705745 -0.497823  1.221170  105.280062\n",
      "1  2acmU  1.334711 -0.340164  4.365080   73.037750\n",
      "2  409Wp  1.022732  0.151990  1.419926   85.265647\n",
      "3  iJLyR -0.032172  0.139033  2.978566  168.620776\n",
      "4  Xdl7t  1.988431  0.155413  4.751769  154.036647\n",
      "5  wX4Hy  0.969570  0.489775 -0.735383   64.741541\n",
      "6  tL6pL  0.645075  0.530656  1.780266   49.055285\n",
      "7  BYPU6 -0.400648  0.808337 -5.624670   72.943292\n",
      "8  j9Oui  0.643105 -0.551583  2.372141  113.356160\n",
      "9  OLuZU  2.173381  0.563698  9.441852  127.910945\n",
      "\n",
      "      id         f0         f1        f2     product\n",
      "0  kBEdx -15.001348  -8.276000 -0.005876    3.179103\n",
      "1  62mP7  14.272088  -3.475083  0.999183   26.953261\n",
      "2  vyE1P   6.263187  -5.948386  5.001160  134.766305\n",
      "3  KcrkZ -13.081196 -11.506057  4.999415  137.945408\n",
      "4  AHL4O  12.702195  -8.147433  5.004363  134.766305\n",
      "5  HHckp  -3.327590  -2.205276  3.003647   84.038886\n",
      "6  h5Ujo -11.142655 -10.133399  4.002382  110.992147\n",
      "7  muH9x   4.234715  -0.001354  2.004588   53.906522\n",
      "8  YiRkx  13.355129  -0.332068  4.998647  134.766305\n",
      "9  jG6Gi   1.069227 -11.025667  4.997844  137.945408\n",
      "\n",
      "      id        f0        f1        f2     product\n",
      "0  fwXo0 -1.146987  0.963328 -0.828965   27.758673\n",
      "1  WJtFt  0.262778  0.269839 -2.530187   56.069697\n",
      "2  ovLUW  0.194587  0.289035 -5.586433   62.871910\n",
      "3  q6cA6  2.236060 -0.553760  0.930038  114.572842\n",
      "4  WPMUX -0.515993  1.716266  5.899011  149.600746\n",
      "5  LzZXx -0.758092  0.710691  2.585887   90.222465\n",
      "6  WBHRv -0.574891  0.317727  1.773745   45.641478\n",
      "7  XO8fn -1.906649 -2.458350 -0.177097   72.480640\n",
      "8  ybmQ5  1.776292 -0.279356  3.004156  106.616832\n",
      "9  OilcN -1.214452 -0.439314  5.922514   52.954532\n",
      "\n"
     ]
    }
   ],
   "source": [
    "for d in [geo_data_0, geo_data_1, geo_data_2]:\n",
    "    print(d.head(10), end='\\n\\n')"
   ]
  },
  {
   "cell_type": "markdown",
   "metadata": {},
   "source": [
    "Можем заметить, что в датафреймах есть столбец *id*, который не нужен для обучения модели. Поэтому можем его удалить."
   ]
  },
  {
   "cell_type": "code",
   "execution_count": 5,
   "metadata": {},
   "outputs": [],
   "source": [
    "geo_data_0 = geo_data_0.drop(['id'], axis=1)\n",
    "geo_data_1 = geo_data_1.drop(['id'], axis=1)\n",
    "geo_data_2 = geo_data_2.drop(['id'], axis=1)"
   ]
  },
  {
   "cell_type": "code",
   "execution_count": 6,
   "metadata": {},
   "outputs": [
    {
     "name": "stdout",
     "output_type": "stream",
     "text": [
      "Index(['f0', 'f1', 'f2', 'product'], dtype='object')\n",
      "Index(['f0', 'f1', 'f2', 'product'], dtype='object')\n",
      "Index(['f0', 'f1', 'f2', 'product'], dtype='object')\n"
     ]
    }
   ],
   "source": [
    "for d in [geo_data_0, geo_data_1, geo_data_2]:\n",
    "    print(d.columns)"
   ]
  },
  {
   "cell_type": "markdown",
   "metadata": {},
   "source": [
    "**Вывод:** успешно загрузили и проверили данные, удалили ненужный столбец *id*.\n"
   ]
  },
  {
   "cell_type": "markdown",
   "metadata": {},
   "source": [
    "## Обучение и проверка модели"
   ]
  },
  {
   "cell_type": "code",
   "execution_count": 50,
   "metadata": {},
   "outputs": [
    {
     "name": "stdout",
     "output_type": "stream",
     "text": [
      "Регион 1 \n",
      "\n",
      "RMSE: 37.5794217150813\n",
      "Предсказанный cредний запас сырья: 92.59256778438035\n",
      "Истинный cредний запас сырья: 92.07859674082927 \n",
      "\n",
      "\n",
      "Регион 2 \n",
      "\n",
      "RMSE: 0.893099286775617\n",
      "Предсказанный cредний запас сырья: 68.728546895446\n",
      "Истинный cредний запас сырья: 68.72313602435997 \n",
      "\n",
      "\n",
      "Регион 3 \n",
      "\n",
      "RMSE: 40.02970873393434\n",
      "Предсказанный cредний запас сырья: 94.96504596800489\n",
      "Истинный cредний запас сырья: 94.88423280885438 \n",
      "\n",
      "\n"
     ]
    }
   ],
   "source": [
    "# Регион 1\n",
    "features_0 = geo_data_0.drop(['product'], axis=1)\n",
    "target_0 = geo_data_0['product']\n",
    "features_train_0, features_valid_0, target_train_0, target_valid_0 = train_test_split(features_0, target_0, test_size=0.25, random_state=12345)\n",
    "model_0 = LinearRegression() \n",
    "model_0.fit(features_train_0, target_train_0) \n",
    "predictions_valid_0 = model_0.predict(features_valid_0)\n",
    "m_predictions_valid_0 = pd.Series(predictions_valid_0)\n",
    "m_predictions_valid_0.reset_index(drop=True, inplace=True)\n",
    "rmse_0 = mean_squared_error(target_valid_0, predictions_valid_0)**0.5\n",
    "\n",
    "print('Регион 1', '\\n')\n",
    "print('RMSE:', rmse_0)\n",
    "print('Предсказанный cредний запас сырья:', predictions_valid_0.mean())\n",
    "print('Истинный cредний запас сырья:', target_valid_0.mean(), '\\n\\n')\n",
    "\n",
    "\n",
    "# Регион 2\n",
    "m_predictions_valid_1 = []\n",
    "features_1 = geo_data_1.drop(['product'], axis=1)\n",
    "target_1 = geo_data_1['product']\n",
    "features_train_1, features_valid_1, target_train_1, target_valid_1 = train_test_split(features_1, target_1, test_size=0.25, random_state=12345)\n",
    "model_1 = LinearRegression() \n",
    "model_1.fit(features_train_1, target_train_1) \n",
    "predictions_valid_1 = model_1.predict(features_valid_1)\n",
    "m_predictions_valid_1 = pd.Series(predictions_valid_1)\n",
    "m_predictions_valid_1.reset_index(drop=True, inplace=True)\n",
    "rmse_1 = mean_squared_error(target_valid_1, predictions_valid_1)**0.5\n",
    "\n",
    "print('Регион 2', '\\n')\n",
    "print('RMSE:', rmse_1)\n",
    "print('Предсказанный cредний запас сырья:', predictions_valid_1.mean())\n",
    "print('Истинный cредний запас сырья:', target_valid_1.mean(), '\\n\\n')\n",
    "\n",
    "\n",
    "# Регион 3\n",
    "features_2 = geo_data_2.drop(['product'], axis=1)\n",
    "target_2 = geo_data_2['product']\n",
    "features_train_2, features_valid_2, target_train_2, target_valid_2 = train_test_split(features_2, target_2, test_size=0.25, random_state=12345)\n",
    "model_2 = LinearRegression() \n",
    "model_2.fit(features_train_2, target_train_2) \n",
    "predictions_valid_2 = model_2.predict(features_valid_2)\n",
    "m_predictions_valid_2 = pd.Series(predictions_valid_2)\n",
    "m_predictions_valid_2.reset_index(drop=True, inplace=True)\n",
    "rmse_2 = mean_squared_error(target_valid_2, predictions_valid_2)**0.5\n",
    "\n",
    "print('Регион 3', '\\n')\n",
    "print('RMSE:', rmse_2)\n",
    "print('Предсказанный cредний запас сырья:', predictions_valid_2.mean())\n",
    "print('Истинный cредний запас сырья:', target_valid_2.mean(), '\\n\\n')"
   ]
  },
  {
   "cell_type": "markdown",
   "metadata": {},
   "source": [
    "**Вывод:** модель показала наилучший среди остальных результат RMSE равным ~0.89 во втором по счету регионе. Но в этом регионе самый низкий предсказанный средний запас сырья, поэтому можно считать его малоприбыльным отностильно двух других регионов. Что касается предсказнного и истинного значения среднего запаса сырья, то они почти совпадают, что говорит нам о хорошем качестве обученной модели."
   ]
  },
  {
   "cell_type": "markdown",
   "metadata": {},
   "source": [
    "## Подготовка к расчёту прибыли"
   ]
  },
  {
   "cell_type": "markdown",
   "metadata": {},
   "source": [
    "Создадим константы для дальнейших вычислений:"
   ]
  },
  {
   "cell_type": "code",
   "execution_count": 18,
   "metadata": {},
   "outputs": [],
   "source": [
    "ALL_POINTS = 500\n",
    "BEST_POINTS = 200                 #200 лучших точек для разработки\n",
    "BUDGET = 10_000_000_000        #бюджет на разработку скважин в регионе — 10 млрд рублей\n",
    "INCOME = 450_000"
   ]
  },
  {
   "cell_type": "markdown",
   "metadata": {},
   "source": [
    "Рассчитаем достаточный объём сырья для безубыточной разработки новой скважины: "
   ]
  },
  {
   "cell_type": "code",
   "execution_count": 22,
   "metadata": {},
   "outputs": [
    {
     "name": "stdout",
     "output_type": "stream",
     "text": [
      "Достаточный объём сырья для безубыточной разработки новой скважины: 111.11111111111111\n",
      "Объем сырья в скважине №1: 92.50000000000001\n",
      "Объем сырья в скважине №2: 68.82500000000002\n",
      "Объем сырья в скважине №3: 95.00000000000004\n"
     ]
    }
   ],
   "source": [
    "sufficient_volume = BUDGET / (BEST_POINTS * INCOME)\n",
    "\n",
    "print('Достаточный объём сырья для безубыточной разработки новой скважины:', sufficient_volume)\n",
    "print('Объем сырья в скважине №1:', geo_data_0['product'].mean())\n",
    "print('Объем сырья в скважине №2:', geo_data_1['product'].mean())\n",
    "print('Объем сырья в скважине №3:', geo_data_2['product'].mean())"
   ]
  },
  {
   "cell_type": "markdown",
   "metadata": {},
   "source": [
    "**Вывод:** как мы можем заметить, средние показатели объема сырья в каждом регионе заметно ниже, чем показатель достаточного объёма сырья для безубыточной разработки новой скважины."
   ]
  },
  {
   "cell_type": "markdown",
   "metadata": {},
   "source": [
    "Теперь напишем функцию по расчету прибыли:"
   ]
  },
  {
   "cell_type": "code",
   "execution_count": 52,
   "metadata": {},
   "outputs": [],
   "source": [
    "def profit(target, probabilities, revenue, count): \n",
    "    probs_sorted = probabilities.sort_values(ascending=False) \n",
    "    selected = target[probs_sorted.index][:count]             \n",
    "    return revenue * selected.sum() - BUDGET"
   ]
  },
  {
   "cell_type": "markdown",
   "metadata": {},
   "source": [
    "## Расчёт прибыли и рисков "
   ]
  },
  {
   "cell_type": "code",
   "execution_count": 55,
   "metadata": {},
   "outputs": [
    {
     "name": "stdout",
     "output_type": "stream",
     "text": [
      "Регион 0 \n",
      "\n",
      "Средняя выручка: -1466761335.3934894\n",
      "Доверительный интервал: [ -2053404437.3309832 : -875805850.7742691 ]\n",
      "Риск: 100.0 %\n",
      "Регион 1 \n",
      "\n",
      "Средняя выручка: -1427684719.833217\n",
      "Доверительный интервал: [ -2068771572.458009 : -855800998.2685544 ]\n",
      "Риск: 100.0 %\n"
     ]
    }
   ],
   "source": [
    "# predictions_valid_0_s = pd.Series(predictions_valid_0)   \n",
    "# target_valid_s = pd.Series(target_valid).reset_index(drop=True)  \n",
    "\n",
    "# state = np.random.RandomState(12345)\n",
    "    \n",
    "# values_0 = []\n",
    "    \n",
    "# for i in range(1000):\n",
    "#     target_subsample = target_valid_s.sample(n=500, replace=True, random_state=state) \n",
    "#     probs_subsample = predictions_valid_0_s[target_subsample.index]\n",
    "#     values_0.append(profit(target_subsample, probs_subsample, INCOME, BEST_POINTS))\n",
    "\n",
    "# values_0 = pd.Series(values_0)\n",
    "\n",
    "# mean_0 = values_0.mean()\n",
    "# lower_0 = values_0.quantile(.025)\n",
    "# upper_0 = values_0.quantile(.975)\n",
    "# risk_0 = st.percentileofscore(values_0, 0)\n",
    "    \n",
    "# print('Регион 0', '\\n')\n",
    "# print('Средняя выручка:', mean_0)\n",
    "# print('Доверительный интервал: [', lower_0, ':', upper_0, ']')\n",
    "# print('Риск:', risk_0, '%')\n",
    "\n",
    "\n",
    "\n",
    "\n",
    "# predictions_valid_1_s = pd.Series(predictions_valid_1) \n",
    "\n",
    "\n",
    "# state = np.random.RandomState(12345)\n",
    "    \n",
    "# values_1 = []\n",
    "    \n",
    "# for i in range(1000):\n",
    "#     target_subsample = target_valid_s.sample(n=500, replace=True, random_state=state) \n",
    "#     probs_subsample = predictions_valid_1_s[target_subsample.index]\n",
    "#     values_1.append(profit(target_subsample, probs_subsample, INCOME, BEST_POINTS))\n",
    "\n",
    "# values_1 = pd.Series(values_1)\n",
    "\n",
    "# mean_1 = values_1.mean()\n",
    "# lower_1 = values_1.quantile(.025)\n",
    "# upper_1 = values_1.quantile(.975)\n",
    "# risk_1 = st.percentileofscore(values_1, 0)\n",
    "    \n",
    "# print('Регион 1', '\\n')\n",
    "# print('Средняя выручка:', mean_1)\n",
    "# print('Доверительный интервал: [', lower_1, ':', upper_1, ']')\n",
    "# print('Риск:', risk_1, '%')"
   ]
  },
  {
   "cell_type": "code",
   "execution_count": 61,
   "metadata": {},
   "outputs": [
    {
     "name": "stdout",
     "output_type": "stream",
     "text": [
      "Для региона 0\n",
      "Средняя выручка: 425938526.91059244\n",
      "Доверительный интервал: от  -102090094.83793654 до 947976353.3583689\n",
      "Риск: 6.0 %\n",
      "Для региона 1\n",
      "Средняя выручка: 515222773.4432899\n",
      "Доверительный интервал: от  68873225.37050176 до 931547591.2570494\n",
      "Риск: 1.0 %\n",
      "Для региона 2\n",
      "Средняя выручка: 435008362.7827556\n",
      "Доверительный интервал: от  -128880547.32978901 до 969706954.1802661\n",
      "Риск: 6.4 %\n"
     ]
    }
   ],
   "source": [
    "num = 0\n",
    "for dataset in [geo_data_0, geo_data_1, geo_data_2]:\n",
    "    features = dataset.drop(['product'], axis=1)  \n",
    "    target = dataset['product']  \n",
    "    features_train, features_valid, target_train, target_valid = train_test_split(features, target, test_size=0.25, random_state=12345)\n",
    "    \n",
    "    model = LinearRegression()\n",
    "    model.fit(features_train, target_train) \n",
    "    predictions_valid = model.predict(features_valid) \n",
    "    \n",
    "    predictions_valid_ = pd.Series(predictions_valid) \n",
    "    target_valid_ = pd.Series(target_valid).reset_index(drop=True)\n",
    "\n",
    "    state = np.random.RandomState(12345)\n",
    "    \n",
    "    values = []\n",
    "    \n",
    "    for i in range(1000):\n",
    "        target_subsample = target_valid_.sample(n=500, replace=True, random_state=state) \n",
    "        probs_subsample = predictions_valid_[target_subsample.index]\n",
    "        values.append(profit(target_subsample, probs_subsample, INCOME, BEST_POINTS))\n",
    "\n",
    "    values = pd.Series(values)\n",
    "\n",
    "    lower = values.quantile(.025)\n",
    "    upper = values.quantile(.975)\n",
    "    risk = st.percentileofscore(values, 0)\n",
    "    \n",
    "    print('Для региона', num)\n",
    "    print('Средняя выручка:', values.mean())\n",
    "    print('Доверительный интервал: от ', lower, 'до', upper)\n",
    "    print('Риск:', risk, '%')\n",
    "    \n",
    "    num += 1"
   ]
  },
  {
   "cell_type": "markdown",
   "metadata": {},
   "source": [
    "## Вывод"
   ]
  },
  {
   "cell_type": "markdown",
   "metadata": {},
   "source": [
    "Первый и третий регионы обладают достаточно высоким процентом риска и имеют отрицательное значение прибыли на левой границе доверительного интервала, следовательно они не подходят под условия нашей задачи. **Второй регион** обладает процентом риска всего 1%, что подходит под условия нашей задачи; также обладает положительной левой границей и самым высоким средним доходом из трех регионов. Следовательно для разработки нового месторождения лучшим регионом из трех будет второй регион."
   ]
  }
 ],
 "metadata": {
  "ExecuteTimeLog": [
   {
    "duration": 1874,
    "start_time": "2023-04-20T12:49:11.024Z"
   },
   {
    "duration": 2796,
    "start_time": "2023-04-20T12:49:47.633Z"
   },
   {
    "duration": 43,
    "start_time": "2023-04-20T12:51:31.768Z"
   },
   {
    "duration": 52,
    "start_time": "2023-04-20T12:51:44.811Z"
   },
   {
    "duration": 60,
    "start_time": "2023-04-20T12:51:52.751Z"
   },
   {
    "duration": 50,
    "start_time": "2023-04-20T12:52:07.253Z"
   },
   {
    "duration": 63,
    "start_time": "2023-04-20T12:52:13.264Z"
   },
   {
    "duration": 56,
    "start_time": "2023-04-20T12:53:02.599Z"
   },
   {
    "duration": 22,
    "start_time": "2023-04-20T12:53:45.152Z"
   },
   {
    "duration": 139,
    "start_time": "2023-04-20T12:56:53.881Z"
   },
   {
    "duration": 63,
    "start_time": "2023-04-20T12:58:09.209Z"
   },
   {
    "duration": 17,
    "start_time": "2023-04-20T12:58:17.507Z"
   },
   {
    "duration": 15,
    "start_time": "2023-04-20T12:58:37.414Z"
   },
   {
    "duration": 11,
    "start_time": "2023-04-20T12:58:43.946Z"
   },
   {
    "duration": 11,
    "start_time": "2023-04-20T12:58:55.961Z"
   },
   {
    "duration": 6,
    "start_time": "2023-04-20T12:58:57.278Z"
   },
   {
    "duration": 7,
    "start_time": "2023-04-20T12:59:10.303Z"
   },
   {
    "duration": 5,
    "start_time": "2023-04-20T12:59:16.300Z"
   },
   {
    "duration": 17,
    "start_time": "2023-04-20T12:59:51.163Z"
   },
   {
    "duration": 12,
    "start_time": "2023-04-20T13:00:06.379Z"
   },
   {
    "duration": 5,
    "start_time": "2023-04-20T13:00:08.259Z"
   },
   {
    "duration": 15,
    "start_time": "2023-04-20T13:00:22.455Z"
   },
   {
    "duration": 1789,
    "start_time": "2023-04-20T13:00:42.212Z"
   },
   {
    "duration": 553,
    "start_time": "2023-04-20T13:00:44.003Z"
   },
   {
    "duration": 77,
    "start_time": "2023-04-20T13:00:44.562Z"
   },
   {
    "duration": 22,
    "start_time": "2023-04-20T13:00:44.642Z"
   },
   {
    "duration": 21,
    "start_time": "2023-04-20T13:00:44.666Z"
   },
   {
    "duration": 33,
    "start_time": "2023-04-20T13:00:44.689Z"
   },
   {
    "duration": 111,
    "start_time": "2023-04-20T13:26:05.721Z"
   },
   {
    "duration": 415,
    "start_time": "2023-04-20T13:26:44.501Z"
   },
   {
    "duration": 271,
    "start_time": "2023-04-20T13:26:51.141Z"
   },
   {
    "duration": 377,
    "start_time": "2023-04-20T13:27:44.949Z"
   },
   {
    "duration": 303,
    "start_time": "2023-04-20T13:28:00.325Z"
   },
   {
    "duration": 353,
    "start_time": "2023-04-20T13:28:18.967Z"
   },
   {
    "duration": 242,
    "start_time": "2023-04-20T13:28:51.777Z"
   },
   {
    "duration": 298,
    "start_time": "2023-04-20T13:34:58.228Z"
   },
   {
    "duration": 332,
    "start_time": "2023-04-20T13:35:05.787Z"
   },
   {
    "duration": 3,
    "start_time": "2023-04-20T13:42:40.722Z"
   },
   {
    "duration": 9,
    "start_time": "2023-04-20T13:47:33.277Z"
   },
   {
    "duration": 3,
    "start_time": "2023-04-20T13:47:38.405Z"
   },
   {
    "duration": 4,
    "start_time": "2023-04-20T13:47:39.870Z"
   },
   {
    "duration": 11,
    "start_time": "2023-04-20T13:49:53.614Z"
   },
   {
    "duration": 8,
    "start_time": "2023-04-20T13:50:17.304Z"
   },
   {
    "duration": 9,
    "start_time": "2023-04-20T13:50:22.225Z"
   },
   {
    "duration": 3,
    "start_time": "2023-04-20T13:54:41.070Z"
   },
   {
    "duration": 85,
    "start_time": "2023-04-20T14:00:23.633Z"
   },
   {
    "duration": 172,
    "start_time": "2023-04-20T14:02:41.368Z"
   },
   {
    "duration": 368,
    "start_time": "2023-04-20T14:02:52.944Z"
   },
   {
    "duration": 384,
    "start_time": "2023-04-20T14:03:02.438Z"
   },
   {
    "duration": 420,
    "start_time": "2023-04-20T14:03:20.812Z"
   },
   {
    "duration": 12,
    "start_time": "2023-04-20T14:29:35.531Z"
   },
   {
    "duration": 86,
    "start_time": "2023-04-20T14:31:44.155Z"
   },
   {
    "duration": 16,
    "start_time": "2023-04-20T14:32:23.948Z"
   },
   {
    "duration": 16,
    "start_time": "2023-04-20T14:37:52.151Z"
   },
   {
    "duration": 9,
    "start_time": "2023-04-20T14:38:23.028Z"
   },
   {
    "duration": 40,
    "start_time": "2023-04-20T14:40:13.394Z"
   },
   {
    "duration": 88,
    "start_time": "2023-04-20T14:42:43.645Z"
   },
   {
    "duration": 328,
    "start_time": "2023-04-20T14:43:24.493Z"
   },
   {
    "duration": 8,
    "start_time": "2023-04-20T14:43:35.131Z"
   },
   {
    "duration": 16,
    "start_time": "2023-04-20T14:43:54.931Z"
   },
   {
    "duration": 12,
    "start_time": "2023-04-20T14:44:48.901Z"
   },
   {
    "duration": 13,
    "start_time": "2023-04-20T14:44:52.971Z"
   },
   {
    "duration": 10,
    "start_time": "2023-04-20T14:45:14.515Z"
   },
   {
    "duration": 9,
    "start_time": "2023-04-20T14:45:19.547Z"
   },
   {
    "duration": 15,
    "start_time": "2023-04-20T14:51:17.808Z"
   },
   {
    "duration": 20,
    "start_time": "2023-04-20T14:52:45.605Z"
   },
   {
    "duration": 350,
    "start_time": "2023-04-20T14:58:53.076Z"
   },
   {
    "duration": 384,
    "start_time": "2023-04-20T14:59:25.729Z"
   },
   {
    "duration": 27,
    "start_time": "2023-04-20T14:59:33.721Z"
   },
   {
    "duration": 29,
    "start_time": "2023-04-20T14:59:55.638Z"
   },
   {
    "duration": 331,
    "start_time": "2023-04-20T15:02:54.299Z"
   },
   {
    "duration": 443,
    "start_time": "2023-04-20T15:03:23.583Z"
   },
   {
    "duration": 37,
    "start_time": "2023-04-20T15:03:28.554Z"
   },
   {
    "duration": 3,
    "start_time": "2023-04-20T15:05:54.504Z"
   },
   {
    "duration": 1447,
    "start_time": "2023-04-20T15:21:52.781Z"
   },
   {
    "duration": 1400,
    "start_time": "2023-04-20T15:22:11.727Z"
   },
   {
    "duration": 2769,
    "start_time": "2023-04-20T15:26:56.313Z"
   },
   {
    "duration": 5,
    "start_time": "2023-04-20T15:36:20.714Z"
   },
   {
    "duration": 52,
    "start_time": "2023-04-20T15:39:09.860Z"
   },
   {
    "duration": 75,
    "start_time": "2023-04-20T15:40:23.344Z"
   },
   {
    "duration": 4683,
    "start_time": "2023-04-20T15:40:39.134Z"
   },
   {
    "duration": 76,
    "start_time": "2023-04-20T15:43:33.034Z"
   },
   {
    "duration": 4622,
    "start_time": "2023-04-20T15:44:24.371Z"
   }
  ],
  "kernelspec": {
   "display_name": "Python 3 (ipykernel)",
   "language": "python",
   "name": "python3"
  },
  "language_info": {
   "codemirror_mode": {
    "name": "ipython",
    "version": 3
   },
   "file_extension": ".py",
   "mimetype": "text/x-python",
   "name": "python",
   "nbconvert_exporter": "python",
   "pygments_lexer": "ipython3",
   "version": "3.9.13"
  },
  "toc": {
   "base_numbering": 1,
   "nav_menu": {},
   "number_sections": true,
   "sideBar": true,
   "skip_h1_title": true,
   "title_cell": "Table of Contents",
   "title_sidebar": "Contents",
   "toc_cell": false,
   "toc_position": {},
   "toc_section_display": true,
   "toc_window_display": false
  }
 },
 "nbformat": 4,
 "nbformat_minor": 2
}
