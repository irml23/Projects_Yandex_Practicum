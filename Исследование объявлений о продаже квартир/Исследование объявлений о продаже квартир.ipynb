{
 "cells": [
  {
   "cell_type": "markdown",
   "metadata": {},
   "source": [
    "# Исследование объявлений о продаже квартир\n",
    "\n",
    "В вашем распоряжении данные сервиса Яндекс.Недвижимость — архив объявлений о продаже квартир в Санкт-Петербурге и соседних населённых пунктов за несколько лет. Нужно научиться определять рыночную стоимость объектов недвижимости. Ваша задача — установить параметры. Это позволит построить автоматизированную систему: она отследит аномалии и мошенническую деятельность. \n",
    "\n",
    "По каждой квартире на продажу доступны два вида данных. Первые вписаны пользователем, вторые — получены автоматически на основе картографических данных. Например, расстояние до центра, аэропорта, ближайшего парка и водоёма. "
   ]
  },
  {
   "cell_type": "markdown",
   "metadata": {},
   "source": [
    "### Откройте файл с данными и изучите общую информацию. "
   ]
  },
  {
   "cell_type": "markdown",
   "metadata": {},
   "source": [
    "Загрузим данные из файла в датафрейм и проверим, корректно ли они загрузились. В качестве разделителя необходимо использовать знак табуляции."
   ]
  },
  {
   "cell_type": "code",
   "execution_count": 1,
   "metadata": {},
   "outputs": [
    {
     "data": {
      "text/html": [
       "<div>\n",
       "<style scoped>\n",
       "    .dataframe tbody tr th:only-of-type {\n",
       "        vertical-align: middle;\n",
       "    }\n",
       "\n",
       "    .dataframe tbody tr th {\n",
       "        vertical-align: top;\n",
       "    }\n",
       "\n",
       "    .dataframe thead th {\n",
       "        text-align: right;\n",
       "    }\n",
       "</style>\n",
       "<table border=\"1\" class=\"dataframe\">\n",
       "  <thead>\n",
       "    <tr style=\"text-align: right;\">\n",
       "      <th></th>\n",
       "      <th>total_images</th>\n",
       "      <th>last_price</th>\n",
       "      <th>total_area</th>\n",
       "      <th>first_day_exposition</th>\n",
       "      <th>rooms</th>\n",
       "      <th>ceiling_height</th>\n",
       "      <th>floors_total</th>\n",
       "      <th>living_area</th>\n",
       "      <th>floor</th>\n",
       "      <th>is_apartment</th>\n",
       "      <th>...</th>\n",
       "      <th>kitchen_area</th>\n",
       "      <th>balcony</th>\n",
       "      <th>locality_name</th>\n",
       "      <th>airports_nearest</th>\n",
       "      <th>cityCenters_nearest</th>\n",
       "      <th>parks_around3000</th>\n",
       "      <th>parks_nearest</th>\n",
       "      <th>ponds_around3000</th>\n",
       "      <th>ponds_nearest</th>\n",
       "      <th>days_exposition</th>\n",
       "    </tr>\n",
       "  </thead>\n",
       "  <tbody>\n",
       "    <tr>\n",
       "      <th>0</th>\n",
       "      <td>20</td>\n",
       "      <td>13000000.0</td>\n",
       "      <td>108.00</td>\n",
       "      <td>2019-03-07T00:00:00</td>\n",
       "      <td>3</td>\n",
       "      <td>2.70</td>\n",
       "      <td>16.0</td>\n",
       "      <td>51.00</td>\n",
       "      <td>8</td>\n",
       "      <td>NaN</td>\n",
       "      <td>...</td>\n",
       "      <td>25.00</td>\n",
       "      <td>NaN</td>\n",
       "      <td>Санкт-Петербург</td>\n",
       "      <td>18863.0</td>\n",
       "      <td>16028.0</td>\n",
       "      <td>1.0</td>\n",
       "      <td>482.0</td>\n",
       "      <td>2.0</td>\n",
       "      <td>755.0</td>\n",
       "      <td>NaN</td>\n",
       "    </tr>\n",
       "    <tr>\n",
       "      <th>1</th>\n",
       "      <td>7</td>\n",
       "      <td>3350000.0</td>\n",
       "      <td>40.40</td>\n",
       "      <td>2018-12-04T00:00:00</td>\n",
       "      <td>1</td>\n",
       "      <td>NaN</td>\n",
       "      <td>11.0</td>\n",
       "      <td>18.60</td>\n",
       "      <td>1</td>\n",
       "      <td>NaN</td>\n",
       "      <td>...</td>\n",
       "      <td>11.00</td>\n",
       "      <td>2.0</td>\n",
       "      <td>посёлок Шушары</td>\n",
       "      <td>12817.0</td>\n",
       "      <td>18603.0</td>\n",
       "      <td>0.0</td>\n",
       "      <td>NaN</td>\n",
       "      <td>0.0</td>\n",
       "      <td>NaN</td>\n",
       "      <td>81.0</td>\n",
       "    </tr>\n",
       "    <tr>\n",
       "      <th>2</th>\n",
       "      <td>10</td>\n",
       "      <td>5196000.0</td>\n",
       "      <td>56.00</td>\n",
       "      <td>2015-08-20T00:00:00</td>\n",
       "      <td>2</td>\n",
       "      <td>NaN</td>\n",
       "      <td>5.0</td>\n",
       "      <td>34.30</td>\n",
       "      <td>4</td>\n",
       "      <td>NaN</td>\n",
       "      <td>...</td>\n",
       "      <td>8.30</td>\n",
       "      <td>0.0</td>\n",
       "      <td>Санкт-Петербург</td>\n",
       "      <td>21741.0</td>\n",
       "      <td>13933.0</td>\n",
       "      <td>1.0</td>\n",
       "      <td>90.0</td>\n",
       "      <td>2.0</td>\n",
       "      <td>574.0</td>\n",
       "      <td>558.0</td>\n",
       "    </tr>\n",
       "    <tr>\n",
       "      <th>3</th>\n",
       "      <td>0</td>\n",
       "      <td>64900000.0</td>\n",
       "      <td>159.00</td>\n",
       "      <td>2015-07-24T00:00:00</td>\n",
       "      <td>3</td>\n",
       "      <td>NaN</td>\n",
       "      <td>14.0</td>\n",
       "      <td>NaN</td>\n",
       "      <td>9</td>\n",
       "      <td>NaN</td>\n",
       "      <td>...</td>\n",
       "      <td>NaN</td>\n",
       "      <td>0.0</td>\n",
       "      <td>Санкт-Петербург</td>\n",
       "      <td>28098.0</td>\n",
       "      <td>6800.0</td>\n",
       "      <td>2.0</td>\n",
       "      <td>84.0</td>\n",
       "      <td>3.0</td>\n",
       "      <td>234.0</td>\n",
       "      <td>424.0</td>\n",
       "    </tr>\n",
       "    <tr>\n",
       "      <th>4</th>\n",
       "      <td>2</td>\n",
       "      <td>10000000.0</td>\n",
       "      <td>100.00</td>\n",
       "      <td>2018-06-19T00:00:00</td>\n",
       "      <td>2</td>\n",
       "      <td>3.03</td>\n",
       "      <td>14.0</td>\n",
       "      <td>32.00</td>\n",
       "      <td>13</td>\n",
       "      <td>NaN</td>\n",
       "      <td>...</td>\n",
       "      <td>41.00</td>\n",
       "      <td>NaN</td>\n",
       "      <td>Санкт-Петербург</td>\n",
       "      <td>31856.0</td>\n",
       "      <td>8098.0</td>\n",
       "      <td>2.0</td>\n",
       "      <td>112.0</td>\n",
       "      <td>1.0</td>\n",
       "      <td>48.0</td>\n",
       "      <td>121.0</td>\n",
       "    </tr>\n",
       "    <tr>\n",
       "      <th>5</th>\n",
       "      <td>10</td>\n",
       "      <td>2890000.0</td>\n",
       "      <td>30.40</td>\n",
       "      <td>2018-09-10T00:00:00</td>\n",
       "      <td>1</td>\n",
       "      <td>NaN</td>\n",
       "      <td>12.0</td>\n",
       "      <td>14.40</td>\n",
       "      <td>5</td>\n",
       "      <td>NaN</td>\n",
       "      <td>...</td>\n",
       "      <td>9.10</td>\n",
       "      <td>NaN</td>\n",
       "      <td>городской посёлок Янино-1</td>\n",
       "      <td>NaN</td>\n",
       "      <td>NaN</td>\n",
       "      <td>NaN</td>\n",
       "      <td>NaN</td>\n",
       "      <td>NaN</td>\n",
       "      <td>NaN</td>\n",
       "      <td>55.0</td>\n",
       "    </tr>\n",
       "    <tr>\n",
       "      <th>6</th>\n",
       "      <td>6</td>\n",
       "      <td>3700000.0</td>\n",
       "      <td>37.30</td>\n",
       "      <td>2017-11-02T00:00:00</td>\n",
       "      <td>1</td>\n",
       "      <td>NaN</td>\n",
       "      <td>26.0</td>\n",
       "      <td>10.60</td>\n",
       "      <td>6</td>\n",
       "      <td>NaN</td>\n",
       "      <td>...</td>\n",
       "      <td>14.40</td>\n",
       "      <td>1.0</td>\n",
       "      <td>посёлок Парголово</td>\n",
       "      <td>52996.0</td>\n",
       "      <td>19143.0</td>\n",
       "      <td>0.0</td>\n",
       "      <td>NaN</td>\n",
       "      <td>0.0</td>\n",
       "      <td>NaN</td>\n",
       "      <td>155.0</td>\n",
       "    </tr>\n",
       "    <tr>\n",
       "      <th>7</th>\n",
       "      <td>5</td>\n",
       "      <td>7915000.0</td>\n",
       "      <td>71.60</td>\n",
       "      <td>2019-04-18T00:00:00</td>\n",
       "      <td>2</td>\n",
       "      <td>NaN</td>\n",
       "      <td>24.0</td>\n",
       "      <td>NaN</td>\n",
       "      <td>22</td>\n",
       "      <td>NaN</td>\n",
       "      <td>...</td>\n",
       "      <td>18.90</td>\n",
       "      <td>2.0</td>\n",
       "      <td>Санкт-Петербург</td>\n",
       "      <td>23982.0</td>\n",
       "      <td>11634.0</td>\n",
       "      <td>0.0</td>\n",
       "      <td>NaN</td>\n",
       "      <td>0.0</td>\n",
       "      <td>NaN</td>\n",
       "      <td>NaN</td>\n",
       "    </tr>\n",
       "    <tr>\n",
       "      <th>8</th>\n",
       "      <td>20</td>\n",
       "      <td>2900000.0</td>\n",
       "      <td>33.16</td>\n",
       "      <td>2018-05-23T00:00:00</td>\n",
       "      <td>1</td>\n",
       "      <td>NaN</td>\n",
       "      <td>27.0</td>\n",
       "      <td>15.43</td>\n",
       "      <td>26</td>\n",
       "      <td>NaN</td>\n",
       "      <td>...</td>\n",
       "      <td>8.81</td>\n",
       "      <td>NaN</td>\n",
       "      <td>посёлок Мурино</td>\n",
       "      <td>NaN</td>\n",
       "      <td>NaN</td>\n",
       "      <td>NaN</td>\n",
       "      <td>NaN</td>\n",
       "      <td>NaN</td>\n",
       "      <td>NaN</td>\n",
       "      <td>189.0</td>\n",
       "    </tr>\n",
       "    <tr>\n",
       "      <th>9</th>\n",
       "      <td>18</td>\n",
       "      <td>5400000.0</td>\n",
       "      <td>61.00</td>\n",
       "      <td>2017-02-26T00:00:00</td>\n",
       "      <td>3</td>\n",
       "      <td>2.50</td>\n",
       "      <td>9.0</td>\n",
       "      <td>43.60</td>\n",
       "      <td>7</td>\n",
       "      <td>NaN</td>\n",
       "      <td>...</td>\n",
       "      <td>6.50</td>\n",
       "      <td>2.0</td>\n",
       "      <td>Санкт-Петербург</td>\n",
       "      <td>50898.0</td>\n",
       "      <td>15008.0</td>\n",
       "      <td>0.0</td>\n",
       "      <td>NaN</td>\n",
       "      <td>0.0</td>\n",
       "      <td>NaN</td>\n",
       "      <td>289.0</td>\n",
       "    </tr>\n",
       "    <tr>\n",
       "      <th>10</th>\n",
       "      <td>5</td>\n",
       "      <td>5050000.0</td>\n",
       "      <td>39.60</td>\n",
       "      <td>2017-11-16T00:00:00</td>\n",
       "      <td>1</td>\n",
       "      <td>2.67</td>\n",
       "      <td>12.0</td>\n",
       "      <td>20.30</td>\n",
       "      <td>3</td>\n",
       "      <td>NaN</td>\n",
       "      <td>...</td>\n",
       "      <td>8.50</td>\n",
       "      <td>NaN</td>\n",
       "      <td>Санкт-Петербург</td>\n",
       "      <td>38357.0</td>\n",
       "      <td>13878.0</td>\n",
       "      <td>1.0</td>\n",
       "      <td>310.0</td>\n",
       "      <td>2.0</td>\n",
       "      <td>553.0</td>\n",
       "      <td>137.0</td>\n",
       "    </tr>\n",
       "    <tr>\n",
       "      <th>11</th>\n",
       "      <td>9</td>\n",
       "      <td>3300000.0</td>\n",
       "      <td>44.00</td>\n",
       "      <td>2018-08-27T00:00:00</td>\n",
       "      <td>2</td>\n",
       "      <td>NaN</td>\n",
       "      <td>5.0</td>\n",
       "      <td>31.00</td>\n",
       "      <td>4</td>\n",
       "      <td>False</td>\n",
       "      <td>...</td>\n",
       "      <td>6.00</td>\n",
       "      <td>1.0</td>\n",
       "      <td>Ломоносов</td>\n",
       "      <td>48252.0</td>\n",
       "      <td>51677.0</td>\n",
       "      <td>0.0</td>\n",
       "      <td>NaN</td>\n",
       "      <td>0.0</td>\n",
       "      <td>NaN</td>\n",
       "      <td>7.0</td>\n",
       "    </tr>\n",
       "    <tr>\n",
       "      <th>12</th>\n",
       "      <td>10</td>\n",
       "      <td>3890000.0</td>\n",
       "      <td>54.00</td>\n",
       "      <td>2016-06-30T00:00:00</td>\n",
       "      <td>2</td>\n",
       "      <td>NaN</td>\n",
       "      <td>5.0</td>\n",
       "      <td>30.00</td>\n",
       "      <td>5</td>\n",
       "      <td>NaN</td>\n",
       "      <td>...</td>\n",
       "      <td>9.00</td>\n",
       "      <td>0.0</td>\n",
       "      <td>Сертолово</td>\n",
       "      <td>NaN</td>\n",
       "      <td>NaN</td>\n",
       "      <td>NaN</td>\n",
       "      <td>NaN</td>\n",
       "      <td>NaN</td>\n",
       "      <td>NaN</td>\n",
       "      <td>90.0</td>\n",
       "    </tr>\n",
       "    <tr>\n",
       "      <th>13</th>\n",
       "      <td>20</td>\n",
       "      <td>3550000.0</td>\n",
       "      <td>42.80</td>\n",
       "      <td>2017-07-01T00:00:00</td>\n",
       "      <td>2</td>\n",
       "      <td>2.56</td>\n",
       "      <td>5.0</td>\n",
       "      <td>27.00</td>\n",
       "      <td>5</td>\n",
       "      <td>NaN</td>\n",
       "      <td>...</td>\n",
       "      <td>5.20</td>\n",
       "      <td>1.0</td>\n",
       "      <td>Петергоф</td>\n",
       "      <td>37868.0</td>\n",
       "      <td>33058.0</td>\n",
       "      <td>1.0</td>\n",
       "      <td>294.0</td>\n",
       "      <td>3.0</td>\n",
       "      <td>298.0</td>\n",
       "      <td>366.0</td>\n",
       "    </tr>\n",
       "    <tr>\n",
       "      <th>14</th>\n",
       "      <td>1</td>\n",
       "      <td>4400000.0</td>\n",
       "      <td>36.00</td>\n",
       "      <td>2016-06-23T00:00:00</td>\n",
       "      <td>1</td>\n",
       "      <td>NaN</td>\n",
       "      <td>6.0</td>\n",
       "      <td>17.00</td>\n",
       "      <td>1</td>\n",
       "      <td>NaN</td>\n",
       "      <td>...</td>\n",
       "      <td>8.00</td>\n",
       "      <td>0.0</td>\n",
       "      <td>Пушкин</td>\n",
       "      <td>20782.0</td>\n",
       "      <td>30759.0</td>\n",
       "      <td>0.0</td>\n",
       "      <td>NaN</td>\n",
       "      <td>1.0</td>\n",
       "      <td>96.0</td>\n",
       "      <td>203.0</td>\n",
       "    </tr>\n",
       "  </tbody>\n",
       "</table>\n",
       "<p>15 rows × 22 columns</p>\n",
       "</div>"
      ],
      "text/plain": [
       "    total_images  last_price  total_area first_day_exposition  rooms  \\\n",
       "0             20  13000000.0      108.00  2019-03-07T00:00:00      3   \n",
       "1              7   3350000.0       40.40  2018-12-04T00:00:00      1   \n",
       "2             10   5196000.0       56.00  2015-08-20T00:00:00      2   \n",
       "3              0  64900000.0      159.00  2015-07-24T00:00:00      3   \n",
       "4              2  10000000.0      100.00  2018-06-19T00:00:00      2   \n",
       "5             10   2890000.0       30.40  2018-09-10T00:00:00      1   \n",
       "6              6   3700000.0       37.30  2017-11-02T00:00:00      1   \n",
       "7              5   7915000.0       71.60  2019-04-18T00:00:00      2   \n",
       "8             20   2900000.0       33.16  2018-05-23T00:00:00      1   \n",
       "9             18   5400000.0       61.00  2017-02-26T00:00:00      3   \n",
       "10             5   5050000.0       39.60  2017-11-16T00:00:00      1   \n",
       "11             9   3300000.0       44.00  2018-08-27T00:00:00      2   \n",
       "12            10   3890000.0       54.00  2016-06-30T00:00:00      2   \n",
       "13            20   3550000.0       42.80  2017-07-01T00:00:00      2   \n",
       "14             1   4400000.0       36.00  2016-06-23T00:00:00      1   \n",
       "\n",
       "    ceiling_height  floors_total  living_area  floor is_apartment  ...  \\\n",
       "0             2.70          16.0        51.00      8          NaN  ...   \n",
       "1              NaN          11.0        18.60      1          NaN  ...   \n",
       "2              NaN           5.0        34.30      4          NaN  ...   \n",
       "3              NaN          14.0          NaN      9          NaN  ...   \n",
       "4             3.03          14.0        32.00     13          NaN  ...   \n",
       "5              NaN          12.0        14.40      5          NaN  ...   \n",
       "6              NaN          26.0        10.60      6          NaN  ...   \n",
       "7              NaN          24.0          NaN     22          NaN  ...   \n",
       "8              NaN          27.0        15.43     26          NaN  ...   \n",
       "9             2.50           9.0        43.60      7          NaN  ...   \n",
       "10            2.67          12.0        20.30      3          NaN  ...   \n",
       "11             NaN           5.0        31.00      4        False  ...   \n",
       "12             NaN           5.0        30.00      5          NaN  ...   \n",
       "13            2.56           5.0        27.00      5          NaN  ...   \n",
       "14             NaN           6.0        17.00      1          NaN  ...   \n",
       "\n",
       "    kitchen_area  balcony              locality_name  airports_nearest  \\\n",
       "0          25.00      NaN            Санкт-Петербург           18863.0   \n",
       "1          11.00      2.0             посёлок Шушары           12817.0   \n",
       "2           8.30      0.0            Санкт-Петербург           21741.0   \n",
       "3            NaN      0.0            Санкт-Петербург           28098.0   \n",
       "4          41.00      NaN            Санкт-Петербург           31856.0   \n",
       "5           9.10      NaN  городской посёлок Янино-1               NaN   \n",
       "6          14.40      1.0          посёлок Парголово           52996.0   \n",
       "7          18.90      2.0            Санкт-Петербург           23982.0   \n",
       "8           8.81      NaN             посёлок Мурино               NaN   \n",
       "9           6.50      2.0            Санкт-Петербург           50898.0   \n",
       "10          8.50      NaN            Санкт-Петербург           38357.0   \n",
       "11          6.00      1.0                  Ломоносов           48252.0   \n",
       "12          9.00      0.0                  Сертолово               NaN   \n",
       "13          5.20      1.0                   Петергоф           37868.0   \n",
       "14          8.00      0.0                     Пушкин           20782.0   \n",
       "\n",
       "   cityCenters_nearest  parks_around3000  parks_nearest  ponds_around3000  \\\n",
       "0              16028.0               1.0          482.0               2.0   \n",
       "1              18603.0               0.0            NaN               0.0   \n",
       "2              13933.0               1.0           90.0               2.0   \n",
       "3               6800.0               2.0           84.0               3.0   \n",
       "4               8098.0               2.0          112.0               1.0   \n",
       "5                  NaN               NaN            NaN               NaN   \n",
       "6              19143.0               0.0            NaN               0.0   \n",
       "7              11634.0               0.0            NaN               0.0   \n",
       "8                  NaN               NaN            NaN               NaN   \n",
       "9              15008.0               0.0            NaN               0.0   \n",
       "10             13878.0               1.0          310.0               2.0   \n",
       "11             51677.0               0.0            NaN               0.0   \n",
       "12                 NaN               NaN            NaN               NaN   \n",
       "13             33058.0               1.0          294.0               3.0   \n",
       "14             30759.0               0.0            NaN               1.0   \n",
       "\n",
       "    ponds_nearest  days_exposition  \n",
       "0           755.0              NaN  \n",
       "1             NaN             81.0  \n",
       "2           574.0            558.0  \n",
       "3           234.0            424.0  \n",
       "4            48.0            121.0  \n",
       "5             NaN             55.0  \n",
       "6             NaN            155.0  \n",
       "7             NaN              NaN  \n",
       "8             NaN            189.0  \n",
       "9             NaN            289.0  \n",
       "10          553.0            137.0  \n",
       "11            NaN              7.0  \n",
       "12            NaN             90.0  \n",
       "13          298.0            366.0  \n",
       "14           96.0            203.0  \n",
       "\n",
       "[15 rows x 22 columns]"
      ]
     },
     "execution_count": 1,
     "metadata": {},
     "output_type": "execute_result"
    }
   ],
   "source": [
    "import pandas as pd\n",
    "import numpy as np\n",
    "\n",
    "df = pd.read_csv('/datasets/real_estate_data.csv', sep='\\t')\n",
    "\n",
    "df.head(15)"
   ]
  },
  {
   "cell_type": "markdown",
   "metadata": {},
   "source": [
    "Датафрейм отображается корректно, поэтому далее изучим данные в нем более детально с помощью метода info()."
   ]
  },
  {
   "cell_type": "code",
   "execution_count": 2,
   "metadata": {},
   "outputs": [
    {
     "name": "stdout",
     "output_type": "stream",
     "text": [
      "<class 'pandas.core.frame.DataFrame'>\n",
      "RangeIndex: 23699 entries, 0 to 23698\n",
      "Data columns (total 22 columns):\n",
      " #   Column                Non-Null Count  Dtype  \n",
      "---  ------                --------------  -----  \n",
      " 0   total_images          23699 non-null  int64  \n",
      " 1   last_price            23699 non-null  float64\n",
      " 2   total_area            23699 non-null  float64\n",
      " 3   first_day_exposition  23699 non-null  object \n",
      " 4   rooms                 23699 non-null  int64  \n",
      " 5   ceiling_height        14504 non-null  float64\n",
      " 6   floors_total          23613 non-null  float64\n",
      " 7   living_area           21796 non-null  float64\n",
      " 8   floor                 23699 non-null  int64  \n",
      " 9   is_apartment          2775 non-null   object \n",
      " 10  studio                23699 non-null  bool   \n",
      " 11  open_plan             23699 non-null  bool   \n",
      " 12  kitchen_area          21421 non-null  float64\n",
      " 13  balcony               12180 non-null  float64\n",
      " 14  locality_name         23650 non-null  object \n",
      " 15  airports_nearest      18157 non-null  float64\n",
      " 16  cityCenters_nearest   18180 non-null  float64\n",
      " 17  parks_around3000      18181 non-null  float64\n",
      " 18  parks_nearest         8079 non-null   float64\n",
      " 19  ponds_around3000      18181 non-null  float64\n",
      " 20  ponds_nearest         9110 non-null   float64\n",
      " 21  days_exposition       20518 non-null  float64\n",
      "dtypes: bool(2), float64(14), int64(3), object(3)\n",
      "memory usage: 3.7+ MB\n"
     ]
    }
   ],
   "source": [
    "df.info()"
   ]
  },
  {
   "cell_type": "markdown",
   "metadata": {},
   "source": [
    "О данных в нашем датафрейме мы можем сказать следующее: есть значительные пропуски данных в некоторых столбцах, к значениям некоторых столбцов некорректно применен тип данных, также есть одно некорретное для pep-8 название столбца \"cityCenters_nearest\", которое необходимо исправить в соответствии со змеинным регистром."
   ]
  },
  {
   "cell_type": "markdown",
   "metadata": {},
   "source": [
    "№3 Далее построим общую гистограмму для всех числовых столбцов таблицы."
   ]
  },
  {
   "cell_type": "code",
   "execution_count": 3,
   "metadata": {},
   "outputs": [
    {
     "data": {
      "text/plain": [
       "array([[<AxesSubplot:title={'center':'total_images'}>,\n",
       "        <AxesSubplot:title={'center':'last_price'}>,\n",
       "        <AxesSubplot:title={'center':'total_area'}>,\n",
       "        <AxesSubplot:title={'center':'rooms'}>],\n",
       "       [<AxesSubplot:title={'center':'ceiling_height'}>,\n",
       "        <AxesSubplot:title={'center':'floors_total'}>,\n",
       "        <AxesSubplot:title={'center':'living_area'}>,\n",
       "        <AxesSubplot:title={'center':'floor'}>],\n",
       "       [<AxesSubplot:title={'center':'kitchen_area'}>,\n",
       "        <AxesSubplot:title={'center':'balcony'}>,\n",
       "        <AxesSubplot:title={'center':'airports_nearest'}>,\n",
       "        <AxesSubplot:title={'center':'cityCenters_nearest'}>],\n",
       "       [<AxesSubplot:title={'center':'parks_around3000'}>,\n",
       "        <AxesSubplot:title={'center':'parks_nearest'}>,\n",
       "        <AxesSubplot:title={'center':'ponds_around3000'}>,\n",
       "        <AxesSubplot:title={'center':'ponds_nearest'}>],\n",
       "       [<AxesSubplot:title={'center':'days_exposition'}>, <AxesSubplot:>,\n",
       "        <AxesSubplot:>, <AxesSubplot:>]], dtype=object)"
      ]
     },
     "execution_count": 3,
     "metadata": {},
     "output_type": "execute_result"
    },
    {
     "data": {
      "image/png": "[encoded data removed]",
      "text/plain": [
       "<Figure size 1080x1440 with 20 Axes>"
      ]
     },
     "metadata": {
      "needs_background": "light"
     },
     "output_type": "display_data"
    }
   ],
   "source": [
    "df.hist(figsize=(15, 20), bins=20)"
   ]
  },
  {
   "cell_type": "markdown",
   "metadata": {},
   "source": [
    "По получившимся гистограммам мы можем сделать следующие выводы: в данных есть пропуски, что подтвердилось и после изучения датафрейма с помощью info(), а также в некоторых параметрах объектов, судя по сосредоточению графика в одной стороне и большом пространстве до/после него, в данных присутствуют аномальные значения (например, в параметре \"ceiling_height\" мы можем заметить, что судя по правому крайнему значению по оси абцисс 100 - присутсвует аномально большое значение для высоты потолка, что скорее всего является ошибкой, необходимо смотреть детальнее)."
   ]
  },
  {
   "cell_type": "markdown",
   "metadata": {},
   "source": [
    "### Предобработка данных"
   ]
  },
  {
   "cell_type": "markdown",
   "metadata": {},
   "source": [
    "Хоть этот пункт и не прописан в задании, но, думаю, будет правильным <b>привести название столбца \"cityCenters_nearest\" к \"змеинному\" регистру</b>. Затем проверим, применились ли изменения, с помощью вызова списка названий столбцов датафрейма."
   ]
  },
  {
   "cell_type": "code",
   "execution_count": 4,
   "metadata": {},
   "outputs": [
    {
     "data": {
      "text/plain": [
       "Index(['total_images', 'last_price', 'total_area', 'first_day_exposition',\n",
       "       'rooms', 'ceiling_height', 'floors_total', 'living_area', 'floor',\n",
       "       'is_apartment', 'studio', 'open_plan', 'kitchen_area', 'balcony',\n",
       "       'locality_name', 'airports_nearest', 'city_сenters_nearest',\n",
       "       'parks_around3000', 'parks_nearest', 'ponds_around3000',\n",
       "       'ponds_nearest', 'days_exposition'],\n",
       "      dtype='object')"
      ]
     },
     "execution_count": 4,
     "metadata": {},
     "output_type": "execute_result"
    }
   ],
   "source": [
    "df.rename(columns={'cityCenters_nearest': 'city_сenters_nearest'}, inplace=True)\n",
    "\n",
    "df.columns"
   ]
  },
  {
   "cell_type": "markdown",
   "metadata": {},
   "source": [
    "<b>№1 Найдем и изучим пропущенные значения в столбцах.</b> Первым шагом определим, в каких столбцах присутствуют пропуски:"
   ]
  },
  {
   "cell_type": "code",
   "execution_count": 5,
   "metadata": {},
   "outputs": [
    {
     "data": {
      "text/plain": [
       "total_images                0\n",
       "last_price                  0\n",
       "total_area                  0\n",
       "first_day_exposition        0\n",
       "rooms                       0\n",
       "ceiling_height           9195\n",
       "floors_total               86\n",
       "living_area              1903\n",
       "floor                       0\n",
       "is_apartment            20924\n",
       "studio                      0\n",
       "open_plan                   0\n",
       "kitchen_area             2278\n",
       "balcony                 11519\n",
       "locality_name              49\n",
       "airports_nearest         5542\n",
       "city_сenters_nearest     5519\n",
       "parks_around3000         5518\n",
       "parks_nearest           15620\n",
       "ponds_around3000         5518\n",
       "ponds_nearest           14589\n",
       "days_exposition          3181\n",
       "dtype: int64"
      ]
     },
     "execution_count": 5,
     "metadata": {},
     "output_type": "execute_result"
    }
   ],
   "source": [
    "df.isna().sum()"
   ]
  },
  {
   "cell_type": "markdown",
   "metadata": {},
   "source": [
    "Далее необходимо заполнить пропуски там, где это возможно. \n",
    "\n",
    "Начнем по порядку. В столбце \"celling_height\" пропуски составляют около целых 40 % данных, поэтому заменить какими-либо данными пропуски в этом столбце будет неправильным решением, поскольку это действие может сильно исказить данные.\n",
    "\n",
    "В стольце \"floors_total\" пропуски составляют ничтожно малую долю относительно общего числа данных, поэтому строки с пропусками в данном столбце мы можем спокойно удалить, это не насет вреда общим выводам:"
   ]
  },
  {
   "cell_type": "code",
   "execution_count": 6,
   "metadata": {},
   "outputs": [],
   "source": [
    "df.dropna(subset=['floors_total'], inplace=True)"
   ]
  },
  {
   "cell_type": "markdown",
   "metadata": {},
   "source": [
    "Оставим пропуски в следующем столбце \"living_area\", так как при их удалении исказятся данные, а заменить их каким-либо значением остается затруднительным.\n",
    "\n",
    "Столбец \"is_apartment\" содержит ~88 % пропусков, но эти пропуски с большей долей вероятностью означают лишь то, что квартира НЕ является апартаментами, потому этот параметр пропустили. Поэтому заполним пропуски значением \"False\":"
   ]
  },
  {
   "cell_type": "code",
   "execution_count": 7,
   "metadata": {},
   "outputs": [],
   "source": [
    "df['is_apartment'].fillna(False, inplace=True)"
   ]
  },
  {
   "cell_type": "markdown",
   "metadata": {},
   "source": [
    "Пропуски в столбцн \"kitchen_area\" мы не изменяем по той же причине, по которой не изменяли пропуски в столбце \"living_area\".\n",
    "\n",
    "В столбце \"balcony\" имеется почти половина пропусков, но они, скорее всего, могут говорить о том, что балкона просто нет, поэтому этот параметр многие и не заполняли. Поэтому можем заменить пропуски на значение 0, т.е. балконов нет:"
   ]
  },
  {
   "cell_type": "code",
   "execution_count": 8,
   "metadata": {},
   "outputs": [],
   "source": [
    "df['balcony'].fillna(0, inplace=True)"
   ]
  },
  {
   "cell_type": "markdown",
   "metadata": {},
   "source": [
    "Пропусков в столбце \"locality_name\" хоть и очень мало, но их удаление может значительно повлиять на последующие выводы. Заменить их невозможно, поскольку мы не владеем соответсвующий инф-й.\n",
    "\n",
    "Далее пропуски в столбцах \"airports_nearest\", \"city_сenters_nearest\", \"parks_nearest\", \"ponds_nearest\" мы оставляем, поскольку у нас не хватает информации для замены пропусков на какие-то значения, а удаление приведет к значительному искажению дальнейшего анализа.\n",
    "\n",
    "Пропуски в столбцах \"parks_around3000\" и \"ponds_around3000\" мы также не можем заменить, поскольку в них всего несколько вариантов значений, поэтому вставка каких-либо значений на месте пропусков может привести к значительному искажению. Удалить пропуски не можем, т.к. их число очень велико.\n",
    "\n",
    "Посмотрим на получившуюся картину:"
   ]
  },
  {
   "cell_type": "code",
   "execution_count": 9,
   "metadata": {},
   "outputs": [
    {
     "data": {
      "text/plain": [
       "total_images                0\n",
       "last_price                  0\n",
       "total_area                  0\n",
       "first_day_exposition        0\n",
       "rooms                       0\n",
       "ceiling_height           9118\n",
       "floors_total                0\n",
       "living_area              1870\n",
       "floor                       0\n",
       "is_apartment                0\n",
       "studio                      0\n",
       "open_plan                   0\n",
       "kitchen_area             2231\n",
       "balcony                     0\n",
       "locality_name              48\n",
       "airports_nearest         5532\n",
       "city_сenters_nearest     5509\n",
       "parks_around3000         5508\n",
       "parks_nearest           15568\n",
       "ponds_around3000         5508\n",
       "ponds_nearest           14552\n",
       "days_exposition          3172\n",
       "dtype: int64"
      ]
     },
     "execution_count": 9,
     "metadata": {},
     "output_type": "execute_result"
    }
   ],
   "source": [
    "df.isna().sum()"
   ]
  },
  {
   "cell_type": "markdown",
   "metadata": {},
   "source": [
    "<b>Вывод по пропускам:</b> пропуски в столбцах, как показало их изучение, появились  по двум причинам. 1) Намеренный пропуск продавцами значений, т.к. параметр отсутсвует в их квартире (например, количество балконов). 2) Неисправность в программе-картах, ведь число пропусков в соотсветсвующих столбцах одинаково, что может говорить об ошибках непосредственно по технической части. "
   ]
  },
  {
   "cell_type": "code",
   "execution_count": 10,
   "metadata": {},
   "outputs": [
    {
     "data": {
      "text/plain": [
       "0"
      ]
     },
     "execution_count": 10,
     "metadata": {},
     "output_type": "execute_result"
    }
   ],
   "source": [
    "#Заполняем пропуски для стобца living_area\n",
    "v1 = df['total_area'].median() / df['living_area'].median()\n",
    "df['living_area'] = df['living_area'].fillna(df['total_area'] / v1)\n",
    "\n",
    "df['living_area'].isna().sum() #проверим количество пропусков"
   ]
  },
  {
   "cell_type": "code",
   "execution_count": 11,
   "metadata": {},
   "outputs": [
    {
     "data": {
      "text/plain": [
       "0"
      ]
     },
     "execution_count": 11,
     "metadata": {},
     "output_type": "execute_result"
    }
   ],
   "source": [
    "#Заполняем пропуски для стобца living_area\n",
    "v2 = df['total_area'].median() / df['kitchen_area'].median()\n",
    "df['kitchen_area'] = df['kitchen_area'].fillna(df['total_area'] / v2)\n",
    "\n",
    "df['kitchen_area'].isna().sum() #проверим количество пропусков"
   ]
  },
  {
   "cell_type": "markdown",
   "metadata": {},
   "source": [
    "<b>Рассмотрим типы данных в каждом столбце</b>. Для удобвства выведем типы данных каждого столбца и начало самого датафрейма:"
   ]
  },
  {
   "cell_type": "code",
   "execution_count": 12,
   "metadata": {},
   "outputs": [
    {
     "name": "stdout",
     "output_type": "stream",
     "text": [
      "total_images              int64\n",
      "last_price              float64\n",
      "total_area              float64\n",
      "first_day_exposition     object\n",
      "rooms                     int64\n",
      "ceiling_height          float64\n",
      "floors_total            float64\n",
      "living_area             float64\n",
      "floor                     int64\n",
      "is_apartment               bool\n",
      "studio                     bool\n",
      "open_plan                  bool\n",
      "kitchen_area            float64\n",
      "balcony                 float64\n",
      "locality_name            object\n",
      "airports_nearest        float64\n",
      "city_сenters_nearest    float64\n",
      "parks_around3000        float64\n",
      "parks_nearest           float64\n",
      "ponds_around3000        float64\n",
      "ponds_nearest           float64\n",
      "days_exposition         float64\n",
      "dtype: object\n"
     ]
    },
    {
     "data": {
      "text/html": [
       "<div>\n",
       "<style scoped>\n",
       "    .dataframe tbody tr th:only-of-type {\n",
       "        vertical-align: middle;\n",
       "    }\n",
       "\n",
       "    .dataframe tbody tr th {\n",
       "        vertical-align: top;\n",
       "    }\n",
       "\n",
       "    .dataframe thead th {\n",
       "        text-align: right;\n",
       "    }\n",
       "</style>\n",
       "<table border=\"1\" class=\"dataframe\">\n",
       "  <thead>\n",
       "    <tr style=\"text-align: right;\">\n",
       "      <th></th>\n",
       "      <th>total_images</th>\n",
       "      <th>last_price</th>\n",
       "      <th>total_area</th>\n",
       "      <th>first_day_exposition</th>\n",
       "      <th>rooms</th>\n",
       "      <th>ceiling_height</th>\n",
       "      <th>floors_total</th>\n",
       "      <th>living_area</th>\n",
       "      <th>floor</th>\n",
       "      <th>is_apartment</th>\n",
       "      <th>...</th>\n",
       "      <th>kitchen_area</th>\n",
       "      <th>balcony</th>\n",
       "      <th>locality_name</th>\n",
       "      <th>airports_nearest</th>\n",
       "      <th>city_сenters_nearest</th>\n",
       "      <th>parks_around3000</th>\n",
       "      <th>parks_nearest</th>\n",
       "      <th>ponds_around3000</th>\n",
       "      <th>ponds_nearest</th>\n",
       "      <th>days_exposition</th>\n",
       "    </tr>\n",
       "  </thead>\n",
       "  <tbody>\n",
       "    <tr>\n",
       "      <th>0</th>\n",
       "      <td>20</td>\n",
       "      <td>13000000.0</td>\n",
       "      <td>108.00</td>\n",
       "      <td>2019-03-07T00:00:00</td>\n",
       "      <td>3</td>\n",
       "      <td>2.70</td>\n",
       "      <td>16.0</td>\n",
       "      <td>51.000000</td>\n",
       "      <td>8</td>\n",
       "      <td>False</td>\n",
       "      <td>...</td>\n",
       "      <td>25.000</td>\n",
       "      <td>0.0</td>\n",
       "      <td>Санкт-Петербург</td>\n",
       "      <td>18863.0</td>\n",
       "      <td>16028.0</td>\n",
       "      <td>1.0</td>\n",
       "      <td>482.0</td>\n",
       "      <td>2.0</td>\n",
       "      <td>755.0</td>\n",
       "      <td>NaN</td>\n",
       "    </tr>\n",
       "    <tr>\n",
       "      <th>1</th>\n",
       "      <td>7</td>\n",
       "      <td>3350000.0</td>\n",
       "      <td>40.40</td>\n",
       "      <td>2018-12-04T00:00:00</td>\n",
       "      <td>1</td>\n",
       "      <td>NaN</td>\n",
       "      <td>11.0</td>\n",
       "      <td>18.600000</td>\n",
       "      <td>1</td>\n",
       "      <td>False</td>\n",
       "      <td>...</td>\n",
       "      <td>11.000</td>\n",
       "      <td>2.0</td>\n",
       "      <td>посёлок Шушары</td>\n",
       "      <td>12817.0</td>\n",
       "      <td>18603.0</td>\n",
       "      <td>0.0</td>\n",
       "      <td>NaN</td>\n",
       "      <td>0.0</td>\n",
       "      <td>NaN</td>\n",
       "      <td>81.0</td>\n",
       "    </tr>\n",
       "    <tr>\n",
       "      <th>2</th>\n",
       "      <td>10</td>\n",
       "      <td>5196000.0</td>\n",
       "      <td>56.00</td>\n",
       "      <td>2015-08-20T00:00:00</td>\n",
       "      <td>2</td>\n",
       "      <td>NaN</td>\n",
       "      <td>5.0</td>\n",
       "      <td>34.300000</td>\n",
       "      <td>4</td>\n",
       "      <td>False</td>\n",
       "      <td>...</td>\n",
       "      <td>8.300</td>\n",
       "      <td>0.0</td>\n",
       "      <td>Санкт-Петербург</td>\n",
       "      <td>21741.0</td>\n",
       "      <td>13933.0</td>\n",
       "      <td>1.0</td>\n",
       "      <td>90.0</td>\n",
       "      <td>2.0</td>\n",
       "      <td>574.0</td>\n",
       "      <td>558.0</td>\n",
       "    </tr>\n",
       "    <tr>\n",
       "      <th>3</th>\n",
       "      <td>0</td>\n",
       "      <td>64900000.0</td>\n",
       "      <td>159.00</td>\n",
       "      <td>2015-07-24T00:00:00</td>\n",
       "      <td>3</td>\n",
       "      <td>NaN</td>\n",
       "      <td>14.0</td>\n",
       "      <td>91.730769</td>\n",
       "      <td>9</td>\n",
       "      <td>False</td>\n",
       "      <td>...</td>\n",
       "      <td>27.825</td>\n",
       "      <td>0.0</td>\n",
       "      <td>Санкт-Петербург</td>\n",
       "      <td>28098.0</td>\n",
       "      <td>6800.0</td>\n",
       "      <td>2.0</td>\n",
       "      <td>84.0</td>\n",
       "      <td>3.0</td>\n",
       "      <td>234.0</td>\n",
       "      <td>424.0</td>\n",
       "    </tr>\n",
       "    <tr>\n",
       "      <th>4</th>\n",
       "      <td>2</td>\n",
       "      <td>10000000.0</td>\n",
       "      <td>100.00</td>\n",
       "      <td>2018-06-19T00:00:00</td>\n",
       "      <td>2</td>\n",
       "      <td>3.03</td>\n",
       "      <td>14.0</td>\n",
       "      <td>32.000000</td>\n",
       "      <td>13</td>\n",
       "      <td>False</td>\n",
       "      <td>...</td>\n",
       "      <td>41.000</td>\n",
       "      <td>0.0</td>\n",
       "      <td>Санкт-Петербург</td>\n",
       "      <td>31856.0</td>\n",
       "      <td>8098.0</td>\n",
       "      <td>2.0</td>\n",
       "      <td>112.0</td>\n",
       "      <td>1.0</td>\n",
       "      <td>48.0</td>\n",
       "      <td>121.0</td>\n",
       "    </tr>\n",
       "    <tr>\n",
       "      <th>5</th>\n",
       "      <td>10</td>\n",
       "      <td>2890000.0</td>\n",
       "      <td>30.40</td>\n",
       "      <td>2018-09-10T00:00:00</td>\n",
       "      <td>1</td>\n",
       "      <td>NaN</td>\n",
       "      <td>12.0</td>\n",
       "      <td>14.400000</td>\n",
       "      <td>5</td>\n",
       "      <td>False</td>\n",
       "      <td>...</td>\n",
       "      <td>9.100</td>\n",
       "      <td>0.0</td>\n",
       "      <td>городской посёлок Янино-1</td>\n",
       "      <td>NaN</td>\n",
       "      <td>NaN</td>\n",
       "      <td>NaN</td>\n",
       "      <td>NaN</td>\n",
       "      <td>NaN</td>\n",
       "      <td>NaN</td>\n",
       "      <td>55.0</td>\n",
       "    </tr>\n",
       "    <tr>\n",
       "      <th>6</th>\n",
       "      <td>6</td>\n",
       "      <td>3700000.0</td>\n",
       "      <td>37.30</td>\n",
       "      <td>2017-11-02T00:00:00</td>\n",
       "      <td>1</td>\n",
       "      <td>NaN</td>\n",
       "      <td>26.0</td>\n",
       "      <td>10.600000</td>\n",
       "      <td>6</td>\n",
       "      <td>False</td>\n",
       "      <td>...</td>\n",
       "      <td>14.400</td>\n",
       "      <td>1.0</td>\n",
       "      <td>посёлок Парголово</td>\n",
       "      <td>52996.0</td>\n",
       "      <td>19143.0</td>\n",
       "      <td>0.0</td>\n",
       "      <td>NaN</td>\n",
       "      <td>0.0</td>\n",
       "      <td>NaN</td>\n",
       "      <td>155.0</td>\n",
       "    </tr>\n",
       "    <tr>\n",
       "      <th>7</th>\n",
       "      <td>5</td>\n",
       "      <td>7915000.0</td>\n",
       "      <td>71.60</td>\n",
       "      <td>2019-04-18T00:00:00</td>\n",
       "      <td>2</td>\n",
       "      <td>NaN</td>\n",
       "      <td>24.0</td>\n",
       "      <td>41.307692</td>\n",
       "      <td>22</td>\n",
       "      <td>False</td>\n",
       "      <td>...</td>\n",
       "      <td>18.900</td>\n",
       "      <td>2.0</td>\n",
       "      <td>Санкт-Петербург</td>\n",
       "      <td>23982.0</td>\n",
       "      <td>11634.0</td>\n",
       "      <td>0.0</td>\n",
       "      <td>NaN</td>\n",
       "      <td>0.0</td>\n",
       "      <td>NaN</td>\n",
       "      <td>NaN</td>\n",
       "    </tr>\n",
       "    <tr>\n",
       "      <th>8</th>\n",
       "      <td>20</td>\n",
       "      <td>2900000.0</td>\n",
       "      <td>33.16</td>\n",
       "      <td>2018-05-23T00:00:00</td>\n",
       "      <td>1</td>\n",
       "      <td>NaN</td>\n",
       "      <td>27.0</td>\n",
       "      <td>15.430000</td>\n",
       "      <td>26</td>\n",
       "      <td>False</td>\n",
       "      <td>...</td>\n",
       "      <td>8.810</td>\n",
       "      <td>0.0</td>\n",
       "      <td>посёлок Мурино</td>\n",
       "      <td>NaN</td>\n",
       "      <td>NaN</td>\n",
       "      <td>NaN</td>\n",
       "      <td>NaN</td>\n",
       "      <td>NaN</td>\n",
       "      <td>NaN</td>\n",
       "      <td>189.0</td>\n",
       "    </tr>\n",
       "    <tr>\n",
       "      <th>9</th>\n",
       "      <td>18</td>\n",
       "      <td>5400000.0</td>\n",
       "      <td>61.00</td>\n",
       "      <td>2017-02-26T00:00:00</td>\n",
       "      <td>3</td>\n",
       "      <td>2.50</td>\n",
       "      <td>9.0</td>\n",
       "      <td>43.600000</td>\n",
       "      <td>7</td>\n",
       "      <td>False</td>\n",
       "      <td>...</td>\n",
       "      <td>6.500</td>\n",
       "      <td>2.0</td>\n",
       "      <td>Санкт-Петербург</td>\n",
       "      <td>50898.0</td>\n",
       "      <td>15008.0</td>\n",
       "      <td>0.0</td>\n",
       "      <td>NaN</td>\n",
       "      <td>0.0</td>\n",
       "      <td>NaN</td>\n",
       "      <td>289.0</td>\n",
       "    </tr>\n",
       "  </tbody>\n",
       "</table>\n",
       "<p>10 rows × 22 columns</p>\n",
       "</div>"
      ],
      "text/plain": [
       "   total_images  last_price  total_area first_day_exposition  rooms  \\\n",
       "0            20  13000000.0      108.00  2019-03-07T00:00:00      3   \n",
       "1             7   3350000.0       40.40  2018-12-04T00:00:00      1   \n",
       "2            10   5196000.0       56.00  2015-08-20T00:00:00      2   \n",
       "3             0  64900000.0      159.00  2015-07-24T00:00:00      3   \n",
       "4             2  10000000.0      100.00  2018-06-19T00:00:00      2   \n",
       "5            10   2890000.0       30.40  2018-09-10T00:00:00      1   \n",
       "6             6   3700000.0       37.30  2017-11-02T00:00:00      1   \n",
       "7             5   7915000.0       71.60  2019-04-18T00:00:00      2   \n",
       "8            20   2900000.0       33.16  2018-05-23T00:00:00      1   \n",
       "9            18   5400000.0       61.00  2017-02-26T00:00:00      3   \n",
       "\n",
       "   ceiling_height  floors_total  living_area  floor  is_apartment  ...  \\\n",
       "0            2.70          16.0    51.000000      8         False  ...   \n",
       "1             NaN          11.0    18.600000      1         False  ...   \n",
       "2             NaN           5.0    34.300000      4         False  ...   \n",
       "3             NaN          14.0    91.730769      9         False  ...   \n",
       "4            3.03          14.0    32.000000     13         False  ...   \n",
       "5             NaN          12.0    14.400000      5         False  ...   \n",
       "6             NaN          26.0    10.600000      6         False  ...   \n",
       "7             NaN          24.0    41.307692     22         False  ...   \n",
       "8             NaN          27.0    15.430000     26         False  ...   \n",
       "9            2.50           9.0    43.600000      7         False  ...   \n",
       "\n",
       "   kitchen_area  balcony              locality_name  airports_nearest  \\\n",
       "0        25.000      0.0            Санкт-Петербург           18863.0   \n",
       "1        11.000      2.0             посёлок Шушары           12817.0   \n",
       "2         8.300      0.0            Санкт-Петербург           21741.0   \n",
       "3        27.825      0.0            Санкт-Петербург           28098.0   \n",
       "4        41.000      0.0            Санкт-Петербург           31856.0   \n",
       "5         9.100      0.0  городской посёлок Янино-1               NaN   \n",
       "6        14.400      1.0          посёлок Парголово           52996.0   \n",
       "7        18.900      2.0            Санкт-Петербург           23982.0   \n",
       "8         8.810      0.0             посёлок Мурино               NaN   \n",
       "9         6.500      2.0            Санкт-Петербург           50898.0   \n",
       "\n",
       "  city_сenters_nearest  parks_around3000  parks_nearest  ponds_around3000  \\\n",
       "0              16028.0               1.0          482.0               2.0   \n",
       "1              18603.0               0.0            NaN               0.0   \n",
       "2              13933.0               1.0           90.0               2.0   \n",
       "3               6800.0               2.0           84.0               3.0   \n",
       "4               8098.0               2.0          112.0               1.0   \n",
       "5                  NaN               NaN            NaN               NaN   \n",
       "6              19143.0               0.0            NaN               0.0   \n",
       "7              11634.0               0.0            NaN               0.0   \n",
       "8                  NaN               NaN            NaN               NaN   \n",
       "9              15008.0               0.0            NaN               0.0   \n",
       "\n",
       "   ponds_nearest  days_exposition  \n",
       "0          755.0              NaN  \n",
       "1            NaN             81.0  \n",
       "2          574.0            558.0  \n",
       "3          234.0            424.0  \n",
       "4           48.0            121.0  \n",
       "5            NaN             55.0  \n",
       "6            NaN            155.0  \n",
       "7            NaN              NaN  \n",
       "8            NaN            189.0  \n",
       "9            NaN            289.0  \n",
       "\n",
       "[10 rows x 22 columns]"
      ]
     },
     "execution_count": 12,
     "metadata": {},
     "output_type": "execute_result"
    }
   ],
   "source": [
    "print(df.dtypes)\n",
    "df.head(10)"
   ]
  },
  {
   "cell_type": "markdown",
   "metadata": {},
   "source": [
    "Заменим тип данных столбца \"first_day_exposition\" на datetime в целях удобства при дальнейших вычислениях и непосредственно анализа:"
   ]
  },
  {
   "cell_type": "code",
   "execution_count": 13,
   "metadata": {},
   "outputs": [],
   "source": [
    "df['first_day_exposition'] = pd.to_datetime(df['first_day_exposition'], format='%Y-%m-%dT%H:%M:%S')"
   ]
  },
  {
   "cell_type": "markdown",
   "metadata": {},
   "source": [
    "Далее следует заменить тип данных на int64 в столбцах, где возможно только целое значение: \"floors_total\", \"balcony\", \"parks_around3000\" и \"ponds_around3000\"."
   ]
  },
  {
   "cell_type": "code",
   "execution_count": 14,
   "metadata": {},
   "outputs": [],
   "source": [
    "#к первым двум применяеи замену на int\n",
    "df['floors_total'] = df['floors_total'].astype(int)\n",
    "df['balcony'] = df['balcony'].astype(int)\n",
    "\n",
    "#ко второй паре применяеи замену на Int64, поскольку, как оказалось, int не поддерживает пропуски, кои есть в указанных столбцах\n",
    "#приведение к int вызвало ошибку ValueError: Cannot convert non-finite values (NA or inf) to integer\n",
    "df['parks_around3000'] = df['parks_around3000'].astype('Int64')\n",
    "df['ponds_around3000'] = df['ponds_around3000'].astype('Int64')"
   ]
  },
  {
   "cell_type": "markdown",
   "metadata": {},
   "source": [
    "<b>Изучим уникальные значения в столбце с названиями и устраните неявные дубликаты.</b> Для начала необходимо посмотреть, какие уникальные значения присутствуют в столбце \"locality_name\":"
   ]
  },
  {
   "cell_type": "code",
   "execution_count": 15,
   "metadata": {},
   "outputs": [
    {
     "data": {
      "text/plain": [
       "array(['Санкт-Петербург', 'посёлок Шушары', 'городской посёлок Янино-1',\n",
       "       'посёлок Парголово', 'посёлок Мурино', 'Ломоносов', 'Сертолово',\n",
       "       'Петергоф', 'Пушкин', 'деревня Кудрово', 'Коммунар', 'Колпино',\n",
       "       'поселок городского типа Красный Бор', 'Гатчина', 'поселок Мурино',\n",
       "       'деревня Фёдоровское', 'Выборг', 'Кронштадт', 'Кировск',\n",
       "       'деревня Новое Девяткино', 'посёлок Металлострой',\n",
       "       'посёлок городского типа Лебяжье',\n",
       "       'посёлок городского типа Сиверский', 'поселок Молодцово',\n",
       "       'поселок городского типа Кузьмоловский',\n",
       "       'садовое товарищество Новая Ропша', 'Павловск',\n",
       "       'деревня Пикколово', 'Всеволожск', 'Волхов', 'Кингисепп',\n",
       "       'Приозерск', 'Сестрорецк', 'деревня Куттузи', 'посёлок Аннино',\n",
       "       'поселок городского типа Ефимовский', 'посёлок Плодовое',\n",
       "       'деревня Заклинье', 'поселок Торковичи', 'поселок Первомайское',\n",
       "       'Красное Село', 'посёлок Понтонный', 'Сясьстрой', 'деревня Старая',\n",
       "       'деревня Лесколово', 'посёлок Новый Свет', 'Сланцы',\n",
       "       'село Путилово', 'Ивангород', 'Мурино', 'Шлиссельбург',\n",
       "       'Никольское', 'Зеленогорск', 'Сосновый Бор', 'поселок Новый Свет',\n",
       "       'деревня Оржицы', 'деревня Кальтино', 'Кудрово',\n",
       "       'поселок Романовка', 'посёлок Бугры', 'поселок Бугры',\n",
       "       'поселок городского типа Рощино', 'Кириши', 'Луга', 'Волосово',\n",
       "       'Отрадное', 'село Павлово', 'поселок Оредеж', 'село Копорье',\n",
       "       'посёлок городского типа Красный Бор', 'посёлок Молодёжное',\n",
       "       'Тихвин', 'посёлок Победа', 'деревня Нурма',\n",
       "       'поселок городского типа Синявино', 'Тосно',\n",
       "       'посёлок городского типа Кузьмоловский', 'посёлок Стрельна',\n",
       "       'Бокситогорск', 'посёлок Александровская', 'деревня Лопухинка',\n",
       "       'Пикалёво', 'поселок Терволово',\n",
       "       'поселок городского типа Советский', 'Подпорожье',\n",
       "       'посёлок Петровское', 'посёлок городского типа Токсово',\n",
       "       'поселок Сельцо', 'посёлок городского типа Вырица',\n",
       "       'деревня Кипень', 'деревня Келози', 'деревня Вартемяги',\n",
       "       'посёлок Тельмана', 'поселок Севастьяново',\n",
       "       'городской поселок Большая Ижора', nan,\n",
       "       'городской посёлок Павлово', 'деревня Агалатово',\n",
       "       'посёлок Новогорелово', 'городской посёлок Лесогорский',\n",
       "       'деревня Лаголово', 'поселок Цвелодубово',\n",
       "       'поселок городского типа Рахья', 'поселок городского типа Вырица',\n",
       "       'деревня Белогорка', 'поселок Заводской',\n",
       "       'городской посёлок Новоселье', 'деревня Большие Колпаны',\n",
       "       'деревня Горбунки', 'деревня Батово', 'деревня Заневка',\n",
       "       'деревня Иссад', 'Приморск', 'городской посёлок Фёдоровское',\n",
       "       'деревня Мистолово', 'Новая Ладога', 'поселок Зимитицы',\n",
       "       'поселок Барышево', 'деревня Разметелево',\n",
       "       'поселок городского типа имени Свердлова', 'деревня Пеники',\n",
       "       'поселок Рябово', 'деревня Пудомяги', 'поселок станции Корнево',\n",
       "       'деревня Низино', 'деревня Бегуницы', 'посёлок Поляны',\n",
       "       'городской посёлок Мга', 'поселок Елизаветино',\n",
       "       'посёлок городского типа Кузнечное', 'деревня Колтуши',\n",
       "       'поселок Запорожское', 'посёлок городского типа Рощино',\n",
       "       'деревня Гостилицы', 'деревня Малое Карлино',\n",
       "       'посёлок Мичуринское', 'посёлок городского типа имени Морозова',\n",
       "       'посёлок Песочный', 'посёлок Сосново', 'деревня Аро',\n",
       "       'поселок Ильичёво', 'посёлок городского типа Тайцы',\n",
       "       'деревня Малое Верево', 'деревня Извара', 'поселок станции Вещево',\n",
       "       'село Паша', 'деревня Калитино',\n",
       "       'посёлок городского типа Ульяновка', 'деревня Чудской Бор',\n",
       "       'поселок городского типа Дубровка', 'деревня Мины',\n",
       "       'поселок Войсковицы', 'посёлок городского типа имени Свердлова',\n",
       "       'деревня Коркино', 'посёлок Ропша',\n",
       "       'поселок городского типа Приладожский', 'посёлок Щеглово',\n",
       "       'посёлок Гаврилово', 'Лодейное Поле', 'деревня Рабитицы',\n",
       "       'поселок городского типа Никольский', 'деревня Кузьмолово',\n",
       "       'деревня Малые Колпаны', 'поселок Тельмана',\n",
       "       'посёлок Петро-Славянка', 'городской посёлок Назия',\n",
       "       'посёлок Репино', 'посёлок Ильичёво', 'поселок Углово',\n",
       "       'поселок Старая Малукса', 'садовое товарищество Рахья',\n",
       "       'поселок Аннино', 'поселок Победа', 'деревня Меньково',\n",
       "       'деревня Старые Бегуницы', 'посёлок Сапёрный', 'поселок Семрино',\n",
       "       'поселок Гаврилово', 'поселок Глажево', 'поселок Кобринское',\n",
       "       'деревня Гарболово', 'деревня Юкки',\n",
       "       'поселок станции Приветнинское', 'деревня Мануйлово',\n",
       "       'деревня Пчева', 'поселок Поляны', 'поселок Цвылёво',\n",
       "       'поселок Мельниково', 'посёлок Пудость', 'посёлок Усть-Луга',\n",
       "       'Светогорск', 'Любань', 'поселок Селезнёво',\n",
       "       'поселок городского типа Рябово', 'Каменногорск', 'деревня Кривко',\n",
       "       'поселок Глебычево', 'деревня Парицы', 'поселок Жилпосёлок',\n",
       "       'посёлок городского типа Мга', 'городской поселок Янино-1',\n",
       "       'посёлок Войскорово', 'село Никольское', 'посёлок Терволово',\n",
       "       'поселок Стеклянный', 'посёлок городского типа Важины',\n",
       "       'посёлок Мыза-Ивановка', 'село Русско-Высоцкое',\n",
       "       'поселок городского типа Лебяжье',\n",
       "       'поселок городского типа Форносово', 'село Старая Ладога',\n",
       "       'поселок Житково', 'городской посёлок Виллози', 'деревня Лампово',\n",
       "       'деревня Шпаньково', 'деревня Лаврики', 'посёлок Сумино',\n",
       "       'посёлок Возрождение', 'деревня Старосиверская',\n",
       "       'посёлок Кикерино', 'поселок Возрождение',\n",
       "       'деревня Старое Хинколово', 'посёлок Пригородный',\n",
       "       'посёлок Торфяное', 'городской посёлок Будогощь',\n",
       "       'поселок Суходолье', 'поселок Красная Долина', 'деревня Хапо-Ое',\n",
       "       'поселок городского типа Дружная Горка', 'поселок Лисий Нос',\n",
       "       'деревня Яльгелево', 'посёлок Стеклянный', 'село Рождествено',\n",
       "       'деревня Старополье', 'посёлок Левашово', 'деревня Сяськелево',\n",
       "       'деревня Камышовка',\n",
       "       'садоводческое некоммерческое товарищество Лесная Поляна',\n",
       "       'деревня Хязельки', 'поселок Жилгородок',\n",
       "       'посёлок городского типа Павлово', 'деревня Ялгино',\n",
       "       'поселок Новый Учхоз', 'городской посёлок Рощино',\n",
       "       'поселок Гончарово', 'поселок Почап', 'посёлок Сапёрное',\n",
       "       'посёлок Платформа 69-й километр', 'поселок Каложицы',\n",
       "       'деревня Фалилеево', 'деревня Пельгора',\n",
       "       'поселок городского типа Лесогорский', 'деревня Торошковичи',\n",
       "       'посёлок Белоостров', 'посёлок Алексеевка', 'поселок Серебрянский',\n",
       "       'поселок Лукаши', 'поселок Петровское', 'деревня Щеглово',\n",
       "       'поселок Мичуринское', 'деревня Тарасово', 'поселок Кингисеппский',\n",
       "       'посёлок при железнодорожной станции Вещево', 'поселок Ушаки',\n",
       "       'деревня Котлы', 'деревня Сижно', 'деревня Торосово',\n",
       "       'посёлок Форт Красная Горка', 'деревня Новолисино',\n",
       "       'посёлок станции Громово', 'деревня Глинка', 'посёлок Мельниково',\n",
       "       'поселок городского типа Назия', 'деревня Старая Пустошь',\n",
       "       'поселок Коммунары', 'поселок Починок',\n",
       "       'посёлок городского типа Вознесенье', 'деревня Разбегаево',\n",
       "       'посёлок городского типа Рябово', 'поселок Гладкое',\n",
       "       'посёлок при железнодорожной станции Приветнинское',\n",
       "       'поселок Тёсово-4', 'посёлок Жилгородок', 'деревня Бор',\n",
       "       'посёлок Коробицыно', 'деревня Большая Вруда', 'деревня Курковицы',\n",
       "       'посёлок Лисий Нос', 'городской посёлок Советский',\n",
       "       'посёлок Кобралово', 'деревня Суоранда', 'поселок Кобралово',\n",
       "       'поселок городского типа Кондратьево',\n",
       "       'коттеджный поселок Счастье', 'поселок Любань', 'деревня Реброво',\n",
       "       'деревня Зимитицы', 'деревня Тойворово', 'поселок Семиозерье',\n",
       "       'поселок Лесное', 'поселок Совхозный', 'поселок Усть-Луга',\n",
       "       'посёлок Ленинское', 'посёлок Суйда',\n",
       "       'посёлок городского типа Форносово', 'деревня Нижние Осельки',\n",
       "       'посёлок станции Свирь', 'поселок Перово', 'Высоцк',\n",
       "       'поселок Гарболово', 'село Шум', 'поселок Котельский',\n",
       "       'поселок станции Лужайка', 'деревня Большая Пустомержа',\n",
       "       'поселок Красносельское', 'деревня Вахнова Кара', 'деревня Пижма',\n",
       "       'коттеджный поселок Кивеннапа Север', 'поселок Коробицыно',\n",
       "       'поселок Ромашки', 'посёлок Перово', 'деревня Каськово',\n",
       "       'деревня Куровицы', 'посёлок Плоское', 'поселок Сумино',\n",
       "       'поселок городского типа Большая Ижора', 'поселок Кирпичное',\n",
       "       'деревня Ям-Тесово', 'деревня Раздолье', 'деревня Терпилицы',\n",
       "       'поселок городского типа Токсово', 'посёлок Шугозеро',\n",
       "       'деревня Ваганово', 'поселок Пушное', 'садовое товарищество Садко',\n",
       "       'посёлок Усть-Ижора', 'деревня Выскатка',\n",
       "       'городской посёлок Свирьстрой', 'поселок Громово',\n",
       "       'деревня Кисельня', 'посёлок Старая Малукса',\n",
       "       'деревня Трубников Бор', 'поселок Калитино',\n",
       "       'посёлок Высокоключевой', 'садовое товарищество Приладожский',\n",
       "       'посёлок Пансионат Зелёный Бор', 'деревня Ненимяки',\n",
       "       'поселок Пансионат Зелёный Бор', 'деревня Снегирёвка',\n",
       "       'деревня Рапполово', 'деревня Пустынка', 'поселок Рабитицы',\n",
       "       'деревня Большой Сабск', 'деревня Русско', 'деревня Лупполово',\n",
       "       'деревня Большое Рейзино', 'деревня Малая Романовка',\n",
       "       'поселок Дружноселье', 'поселок Пчевжа', 'поселок Володарское',\n",
       "       'деревня Нижняя', 'коттеджный посёлок Лесное', 'деревня Тихковицы',\n",
       "       'деревня Борисова Грива', 'посёлок Дзержинского'], dtype=object)"
      ]
     },
     "execution_count": 15,
     "metadata": {},
     "output_type": "execute_result"
    }
   ],
   "source": [
    "df['locality_name'].unique()"
   ]
  },
  {
   "cell_type": "markdown",
   "metadata": {},
   "source": [
    "На первый взгляд можно сказать, что в наименованиях поселений используются разные нназвания однного и то го же, например \"посёлок городского типа\" и \"городской посёлок\". Также из этих же значений мы видим, что используется и буква \"е\", и буква \"ё\" в слове \"поселок\", поэтому надо привести к общему виду:"
   ]
  },
  {
   "cell_type": "code",
   "execution_count": 16,
   "metadata": {},
   "outputs": [],
   "source": [
    "df['locality_name'] = df['locality_name'].str.replace('ё', 'е')"
   ]
  },
  {
   "cell_type": "markdown",
   "metadata": {},
   "source": [
    "Чтобы исключить разные обозначения одного и того же населенного пункта, необходимо вычленить их и привести к общему виду. Как подсказал преподаватель из projects - сделать это можно с помощью replace и регулярных выражений, вроде получилось:"
   ]
  },
  {
   "cell_type": "code",
   "execution_count": 17,
   "metadata": {},
   "outputs": [
    {
     "data": {
      "text/plain": [
       "array(['', 'поселок ', 'городской поселок ', 'деревня ',\n",
       "       'поселок городского типа ', 'садовое товарищество ', 'село ', nan,\n",
       "       'поселок городского типа имени ', 'поселок станции ',\n",
       "       'садоводческое некоммерческое товарищество ',\n",
       "       'поселок при железнодорожной станции ', 'коттеджный поселок '],\n",
       "      dtype=object)"
      ]
     },
     "execution_count": 17,
     "metadata": {},
     "output_type": "execute_result"
    }
   ],
   "source": [
    "df['locality_name'].str.replace(r'([А-Я].*)', r'', regex=True).unique()"
   ]
  },
  {
   "cell_type": "markdown",
   "metadata": {},
   "source": [
    "Теперь явные дубликаты очевидны и мы можем привести их к одному виду:"
   ]
  },
  {
   "cell_type": "code",
   "execution_count": 18,
   "metadata": {},
   "outputs": [],
   "source": [
    "df['locality_name'] = df['locality_name'].str.replace('городской поселок', 'поселок городского типа')\n",
    "df['locality_name'] = df['locality_name'].str.replace('садоводческое некоммерческое товарищество', 'садовое товарищество')\n",
    "df['locality_name'] = df['locality_name'].str.replace('поселок при железнодорожной станции', 'поселок станции')"
   ]
  },
  {
   "cell_type": "markdown",
   "metadata": {},
   "source": [
    "Далее будет целесообразным проверить наименования на опечатки, где содержится только названия населенных пунктов:"
   ]
  },
  {
   "cell_type": "code",
   "execution_count": 19,
   "metadata": {},
   "outputs": [
    {
     "data": {
      "text/plain": [
       "array(['Петербург', 'Шушары', 'Янино-1', 'Парголово', 'Мурино',\n",
       "       'Ломоносов', 'Сертолово', 'Петергоф', 'Пушкин', 'Кудрово',\n",
       "       'Коммунар', 'Колпино', 'Бор', 'Гатчина', 'Федоровское', 'Выборг',\n",
       "       'Кронштадт', 'Кировск', 'Девяткино', 'Металлострой', 'Лебяжье',\n",
       "       'Сиверский', 'Молодцово', 'Кузьмоловский', 'Ропша', 'Павловск',\n",
       "       'Пикколово', 'Всеволожск', 'Волхов', 'Кингисепп', 'Приозерск',\n",
       "       'Сестрорецк', 'Куттузи', 'Аннино', 'Ефимовский', 'Плодовое',\n",
       "       'Заклинье', 'Торковичи', 'Первомайское', 'Село', 'Понтонный',\n",
       "       'Сясьстрой', 'Старая', 'Лесколово', 'Свет', 'Сланцы', 'Путилово',\n",
       "       'Ивангород', 'Шлиссельбург', 'Никольское', 'Зеленогорск', 'Оржицы',\n",
       "       'Кальтино', 'Романовка', 'Бугры', 'Рощино', 'Кириши', 'Луга',\n",
       "       'Волосово', 'Отрадное', 'Павлово', 'Оредеж', 'Копорье',\n",
       "       'Молодежное', 'Тихвин', 'Победа', 'Нурма', 'Синявино', 'Тосно',\n",
       "       'Стрельна', 'Бокситогорск', 'Александровская', 'Лопухинка',\n",
       "       'Пикалево', 'Терволово', 'Советский', 'Подпорожье', 'Петровское',\n",
       "       'Токсово', 'Сельцо', 'Вырица', 'Кипень', 'Келози', 'Вартемяги',\n",
       "       'Тельмана', 'Севастьяново', 'Ижора', nan, 'Агалатово',\n",
       "       'Новогорелово', 'Лесогорский', 'Лаголово', 'Цвелодубово', 'Рахья',\n",
       "       'Белогорка', 'Заводской', 'Новоселье', 'Колпаны', 'Горбунки',\n",
       "       'Батово', 'Заневка', 'Иссад', 'Приморск', 'Мистолово', 'Ладога',\n",
       "       'Зимитицы', 'Барышево', 'Разметелево', 'Свердлова', 'Пеники',\n",
       "       'Рябово', 'Пудомяги', 'Корнево', 'Низино', 'Бегуницы', 'Поляны',\n",
       "       'Мга', 'Елизаветино', 'Кузнечное', 'Колтуши', 'Запорожское',\n",
       "       'Гостилицы', 'Карлино', 'Мичуринское', 'Морозова', 'Песочный',\n",
       "       'Сосново', 'Аро', 'Ильичево', 'Тайцы', 'Верево', 'Извара',\n",
       "       'Вещево', 'Паша', 'Калитино', 'Ульяновка', 'Дубровка', 'Мины',\n",
       "       'Войсковицы', 'Коркино', 'Приладожский', 'Щеглово', 'Гаврилово',\n",
       "       'Поле', 'Рабитицы', 'Никольский', 'Кузьмолово', 'Славянка',\n",
       "       'Назия', 'Репино', 'Углово', 'Малукса', 'Меньково', 'Саперный',\n",
       "       'Семрино', 'Глажево', 'Кобринское', 'Гарболово', 'Юкки',\n",
       "       'Приветнинское', 'Мануйлово', 'Пчева', 'Цвылево', 'Мельниково',\n",
       "       'Пудость', 'Светогорск', 'Любань', 'Селезнево', 'Каменногорск',\n",
       "       'Кривко', 'Глебычево', 'Парицы', 'Жилпоселок', 'Войскорово',\n",
       "       'Стеклянный', 'Важины', 'Ивановка', 'Высоцкое', 'Форносово',\n",
       "       'Житково', 'Виллози', 'Лампово', 'Шпаньково', 'Лаврики', 'Сумино',\n",
       "       'Возрождение', 'Старосиверская', 'Кикерино', 'Хинколово',\n",
       "       'Пригородный', 'Торфяное', 'Будогощь', 'Суходолье', 'Долина', 'Ое',\n",
       "       'Горка', 'Нос', 'Яльгелево', 'Рождествено', 'Старополье',\n",
       "       'Левашово', 'Сяськелево', 'Камышовка', 'Поляна', 'Хязельки',\n",
       "       'Жилгородок', 'Ялгино', 'Учхоз', 'Гончарово', 'Почап', 'Саперное',\n",
       "       'Платформа 69-й километр', 'Каложицы', 'Фалилеево', 'Пельгора',\n",
       "       'Торошковичи', 'Белоостров', 'Алексеевка', 'Серебрянский',\n",
       "       'Лукаши', 'Тарасово', 'Кингисеппский', 'Ушаки', 'Котлы', 'Сижно',\n",
       "       'Торосово', 'Новолисино', 'Громово', 'Глинка', 'Пустошь',\n",
       "       'Коммунары', 'Починок', 'Вознесенье', 'Разбегаево', 'Гладкое',\n",
       "       'Тесово-4', 'Коробицыно', 'Вруда', 'Курковицы', 'Кобралово',\n",
       "       'Суоранда', 'Кондратьево', 'Счастье', 'Реброво', 'Тойворово',\n",
       "       'Семиозерье', 'Лесное', 'Совхозный', 'Ленинское', 'Суйда',\n",
       "       'Осельки', 'Свирь', 'Перово', 'Высоцк', 'Шум', 'Котельский',\n",
       "       'Лужайка', 'Пустомержа', 'Красносельское', 'Кара', 'Пижма',\n",
       "       'Север', 'Ромашки', 'Каськово', 'Куровицы', 'Плоское', 'Кирпичное',\n",
       "       'Тесово', 'Раздолье', 'Терпилицы', 'Шугозеро', 'Ваганово',\n",
       "       'Пушное', 'Садко', 'Выскатка', 'Свирьстрой', 'Кисельня',\n",
       "       'Высокоключевой', 'Ненимяки', 'Снегиревка', 'Рапполово',\n",
       "       'Пустынка', 'Сабск', 'Русско', 'Лупполово', 'Рейзино',\n",
       "       'Дружноселье', 'Пчевжа', 'Володарское', 'Нижняя', 'Тихковицы',\n",
       "       'Грива', 'Дзержинского'], dtype=object)"
      ]
     },
     "execution_count": 19,
     "metadata": {},
     "output_type": "execute_result"
    }
   ],
   "source": [
    "df['locality_name'].str.replace(r'.*(?=[А-Я])', r'', regex=True).unique()"
   ]
  },
  {
   "cell_type": "markdown",
   "metadata": {},
   "source": [
    "Сложно сказать, есть тут дубликаты или нет, поэтому пока оставим как есть."
   ]
  },
  {
   "cell_type": "markdown",
   "metadata": {},
   "source": [
    "<b>Вывод по дубликатам:</b> устранили дубликаты, где использовались буквы \"е\" и \"ё\", а также устранили дубли в названиях населенных пунктов."
   ]
  },
  {
   "cell_type": "markdown",
   "metadata": {},
   "source": [
    "<b>Найдите и устраните редкие и выбивающиеся значения.</b> Для того, чтобы выполнить данную задачу, нужно для начала изучить распределение в каждом столбце датафрейма:"
   ]
  },
  {
   "cell_type": "code",
   "execution_count": 20,
   "metadata": {},
   "outputs": [
    {
     "data": {
      "text/html": [
       "<div>\n",
       "<style scoped>\n",
       "    .dataframe tbody tr th:only-of-type {\n",
       "        vertical-align: middle;\n",
       "    }\n",
       "\n",
       "    .dataframe tbody tr th {\n",
       "        vertical-align: top;\n",
       "    }\n",
       "\n",
       "    .dataframe thead th {\n",
       "        text-align: right;\n",
       "    }\n",
       "</style>\n",
       "<table border=\"1\" class=\"dataframe\">\n",
       "  <thead>\n",
       "    <tr style=\"text-align: right;\">\n",
       "      <th></th>\n",
       "      <th>total_images</th>\n",
       "      <th>last_price</th>\n",
       "      <th>total_area</th>\n",
       "      <th>rooms</th>\n",
       "      <th>ceiling_height</th>\n",
       "      <th>floors_total</th>\n",
       "      <th>living_area</th>\n",
       "      <th>floor</th>\n",
       "      <th>kitchen_area</th>\n",
       "      <th>balcony</th>\n",
       "      <th>airports_nearest</th>\n",
       "      <th>city_сenters_nearest</th>\n",
       "      <th>parks_around3000</th>\n",
       "      <th>parks_nearest</th>\n",
       "      <th>ponds_around3000</th>\n",
       "      <th>ponds_nearest</th>\n",
       "      <th>days_exposition</th>\n",
       "    </tr>\n",
       "  </thead>\n",
       "  <tbody>\n",
       "    <tr>\n",
       "      <th>count</th>\n",
       "      <td>23613.000000</td>\n",
       "      <td>2.361300e+04</td>\n",
       "      <td>23613.000000</td>\n",
       "      <td>23613.000000</td>\n",
       "      <td>14495.000000</td>\n",
       "      <td>23613.000000</td>\n",
       "      <td>23613.000000</td>\n",
       "      <td>23613.000000</td>\n",
       "      <td>23613.000000</td>\n",
       "      <td>23613.000000</td>\n",
       "      <td>18081.000000</td>\n",
       "      <td>18104.000000</td>\n",
       "      <td>18105.000000</td>\n",
       "      <td>8045.000000</td>\n",
       "      <td>18105.000000</td>\n",
       "      <td>9061.000000</td>\n",
       "      <td>20441.000000</td>\n",
       "    </tr>\n",
       "    <tr>\n",
       "      <th>mean</th>\n",
       "      <td>9.874518</td>\n",
       "      <td>6.540555e+06</td>\n",
       "      <td>60.340678</td>\n",
       "      <td>2.071147</td>\n",
       "      <td>2.771495</td>\n",
       "      <td>10.673824</td>\n",
       "      <td>34.631561</td>\n",
       "      <td>5.877313</td>\n",
       "      <td>10.502668</td>\n",
       "      <td>0.593063</td>\n",
       "      <td>28788.008185</td>\n",
       "      <td>14185.084015</td>\n",
       "      <td>0.611433</td>\n",
       "      <td>490.554630</td>\n",
       "      <td>0.770119</td>\n",
       "      <td>518.209469</td>\n",
       "      <td>180.884839</td>\n",
       "    </tr>\n",
       "    <tr>\n",
       "      <th>std</th>\n",
       "      <td>5.681541</td>\n",
       "      <td>1.090172e+07</td>\n",
       "      <td>35.648988</td>\n",
       "      <td>1.078380</td>\n",
       "      <td>1.261445</td>\n",
       "      <td>6.597173</td>\n",
       "      <td>22.394364</td>\n",
       "      <td>4.873539</td>\n",
       "      <td>6.040009</td>\n",
       "      <td>0.960307</td>\n",
       "      <td>12626.209956</td>\n",
       "      <td>8614.132292</td>\n",
       "      <td>0.802168</td>\n",
       "      <td>341.336698</td>\n",
       "      <td>0.939075</td>\n",
       "      <td>277.887489</td>\n",
       "      <td>219.685543</td>\n",
       "    </tr>\n",
       "    <tr>\n",
       "      <th>min</th>\n",
       "      <td>0.000000</td>\n",
       "      <td>1.219000e+04</td>\n",
       "      <td>12.000000</td>\n",
       "      <td>0.000000</td>\n",
       "      <td>1.000000</td>\n",
       "      <td>1.000000</td>\n",
       "      <td>2.000000</td>\n",
       "      <td>1.000000</td>\n",
       "      <td>1.300000</td>\n",
       "      <td>0.000000</td>\n",
       "      <td>0.000000</td>\n",
       "      <td>181.000000</td>\n",
       "      <td>0.000000</td>\n",
       "      <td>1.000000</td>\n",
       "      <td>0.000000</td>\n",
       "      <td>13.000000</td>\n",
       "      <td>1.000000</td>\n",
       "    </tr>\n",
       "    <tr>\n",
       "      <th>25%</th>\n",
       "      <td>6.000000</td>\n",
       "      <td>3.400000e+06</td>\n",
       "      <td>40.000000</td>\n",
       "      <td>1.000000</td>\n",
       "      <td>2.520000</td>\n",
       "      <td>5.000000</td>\n",
       "      <td>19.000000</td>\n",
       "      <td>2.000000</td>\n",
       "      <td>7.000000</td>\n",
       "      <td>0.000000</td>\n",
       "      <td>18575.000000</td>\n",
       "      <td>9233.750000</td>\n",
       "      <td>0.000000</td>\n",
       "      <td>288.000000</td>\n",
       "      <td>0.000000</td>\n",
       "      <td>294.000000</td>\n",
       "      <td>45.000000</td>\n",
       "    </tr>\n",
       "    <tr>\n",
       "      <th>50%</th>\n",
       "      <td>9.000000</td>\n",
       "      <td>4.650000e+06</td>\n",
       "      <td>52.000000</td>\n",
       "      <td>2.000000</td>\n",
       "      <td>2.650000</td>\n",
       "      <td>9.000000</td>\n",
       "      <td>30.000000</td>\n",
       "      <td>4.000000</td>\n",
       "      <td>9.000000</td>\n",
       "      <td>0.000000</td>\n",
       "      <td>26726.000000</td>\n",
       "      <td>13093.000000</td>\n",
       "      <td>0.000000</td>\n",
       "      <td>455.000000</td>\n",
       "      <td>1.000000</td>\n",
       "      <td>503.000000</td>\n",
       "      <td>95.000000</td>\n",
       "    </tr>\n",
       "    <tr>\n",
       "      <th>75%</th>\n",
       "      <td>14.000000</td>\n",
       "      <td>6.799000e+06</td>\n",
       "      <td>69.800000</td>\n",
       "      <td>3.000000</td>\n",
       "      <td>2.800000</td>\n",
       "      <td>16.000000</td>\n",
       "      <td>42.173077</td>\n",
       "      <td>8.000000</td>\n",
       "      <td>12.000000</td>\n",
       "      <td>1.000000</td>\n",
       "      <td>37242.000000</td>\n",
       "      <td>16287.000000</td>\n",
       "      <td>1.000000</td>\n",
       "      <td>612.000000</td>\n",
       "      <td>1.000000</td>\n",
       "      <td>730.000000</td>\n",
       "      <td>232.000000</td>\n",
       "    </tr>\n",
       "    <tr>\n",
       "      <th>max</th>\n",
       "      <td>50.000000</td>\n",
       "      <td>7.630000e+08</td>\n",
       "      <td>900.000000</td>\n",
       "      <td>19.000000</td>\n",
       "      <td>100.000000</td>\n",
       "      <td>60.000000</td>\n",
       "      <td>409.700000</td>\n",
       "      <td>33.000000</td>\n",
       "      <td>112.000000</td>\n",
       "      <td>5.000000</td>\n",
       "      <td>84869.000000</td>\n",
       "      <td>65968.000000</td>\n",
       "      <td>3.000000</td>\n",
       "      <td>3190.000000</td>\n",
       "      <td>3.000000</td>\n",
       "      <td>1344.000000</td>\n",
       "      <td>1580.000000</td>\n",
       "    </tr>\n",
       "  </tbody>\n",
       "</table>\n",
       "</div>"
      ],
      "text/plain": [
       "       total_images    last_price    total_area         rooms  ceiling_height  \\\n",
       "count  23613.000000  2.361300e+04  23613.000000  23613.000000    14495.000000   \n",
       "mean       9.874518  6.540555e+06     60.340678      2.071147        2.771495   \n",
       "std        5.681541  1.090172e+07     35.648988      1.078380        1.261445   \n",
       "min        0.000000  1.219000e+04     12.000000      0.000000        1.000000   \n",
       "25%        6.000000  3.400000e+06     40.000000      1.000000        2.520000   \n",
       "50%        9.000000  4.650000e+06     52.000000      2.000000        2.650000   \n",
       "75%       14.000000  6.799000e+06     69.800000      3.000000        2.800000   \n",
       "max       50.000000  7.630000e+08    900.000000     19.000000      100.000000   \n",
       "\n",
       "       floors_total   living_area         floor  kitchen_area       balcony  \\\n",
       "count  23613.000000  23613.000000  23613.000000  23613.000000  23613.000000   \n",
       "mean      10.673824     34.631561      5.877313     10.502668      0.593063   \n",
       "std        6.597173     22.394364      4.873539      6.040009      0.960307   \n",
       "min        1.000000      2.000000      1.000000      1.300000      0.000000   \n",
       "25%        5.000000     19.000000      2.000000      7.000000      0.000000   \n",
       "50%        9.000000     30.000000      4.000000      9.000000      0.000000   \n",
       "75%       16.000000     42.173077      8.000000     12.000000      1.000000   \n",
       "max       60.000000    409.700000     33.000000    112.000000      5.000000   \n",
       "\n",
       "       airports_nearest  city_сenters_nearest  parks_around3000  \\\n",
       "count      18081.000000          18104.000000      18105.000000   \n",
       "mean       28788.008185          14185.084015          0.611433   \n",
       "std        12626.209956           8614.132292          0.802168   \n",
       "min            0.000000            181.000000          0.000000   \n",
       "25%        18575.000000           9233.750000          0.000000   \n",
       "50%        26726.000000          13093.000000          0.000000   \n",
       "75%        37242.000000          16287.000000          1.000000   \n",
       "max        84869.000000          65968.000000          3.000000   \n",
       "\n",
       "       parks_nearest  ponds_around3000  ponds_nearest  days_exposition  \n",
       "count    8045.000000      18105.000000    9061.000000     20441.000000  \n",
       "mean      490.554630          0.770119     518.209469       180.884839  \n",
       "std       341.336698          0.939075     277.887489       219.685543  \n",
       "min         1.000000          0.000000      13.000000         1.000000  \n",
       "25%       288.000000          0.000000     294.000000        45.000000  \n",
       "50%       455.000000          1.000000     503.000000        95.000000  \n",
       "75%       612.000000          1.000000     730.000000       232.000000  \n",
       "max      3190.000000          3.000000    1344.000000      1580.000000  "
      ]
     },
     "execution_count": 20,
     "metadata": {},
     "output_type": "execute_result"
    }
   ],
   "source": [
    "df.describe()"
   ]
  },
  {
   "cell_type": "markdown",
   "metadata": {},
   "source": [
    "Площадь 900 кв м и число комнат 19 выглядит подозрительно большим. Чтобы проверить, аномальные это значения или нет - сделаем выборку по двум условиям и изучим ее:"
   ]
  },
  {
   "cell_type": "code",
   "execution_count": 21,
   "metadata": {},
   "outputs": [
    {
     "data": {
      "text/html": [
       "<div>\n",
       "<style scoped>\n",
       "    .dataframe tbody tr th:only-of-type {\n",
       "        vertical-align: middle;\n",
       "    }\n",
       "\n",
       "    .dataframe tbody tr th {\n",
       "        vertical-align: top;\n",
       "    }\n",
       "\n",
       "    .dataframe thead th {\n",
       "        text-align: right;\n",
       "    }\n",
       "</style>\n",
       "<table border=\"1\" class=\"dataframe\">\n",
       "  <thead>\n",
       "    <tr style=\"text-align: right;\">\n",
       "      <th></th>\n",
       "      <th>total_images</th>\n",
       "      <th>last_price</th>\n",
       "      <th>total_area</th>\n",
       "      <th>first_day_exposition</th>\n",
       "      <th>rooms</th>\n",
       "      <th>ceiling_height</th>\n",
       "      <th>floors_total</th>\n",
       "      <th>living_area</th>\n",
       "      <th>floor</th>\n",
       "      <th>is_apartment</th>\n",
       "      <th>...</th>\n",
       "      <th>kitchen_area</th>\n",
       "      <th>balcony</th>\n",
       "      <th>locality_name</th>\n",
       "      <th>airports_nearest</th>\n",
       "      <th>city_сenters_nearest</th>\n",
       "      <th>parks_around3000</th>\n",
       "      <th>parks_nearest</th>\n",
       "      <th>ponds_around3000</th>\n",
       "      <th>ponds_nearest</th>\n",
       "      <th>days_exposition</th>\n",
       "    </tr>\n",
       "  </thead>\n",
       "  <tbody>\n",
       "    <tr>\n",
       "      <th>866</th>\n",
       "      <td>5</td>\n",
       "      <td>25000000.0</td>\n",
       "      <td>363.0</td>\n",
       "      <td>2017-12-23</td>\n",
       "      <td>14</td>\n",
       "      <td>3.16</td>\n",
       "      <td>5</td>\n",
       "      <td>222.0</td>\n",
       "      <td>4</td>\n",
       "      <td>False</td>\n",
       "      <td>...</td>\n",
       "      <td>16.6</td>\n",
       "      <td>0</td>\n",
       "      <td>Санкт-Петербург</td>\n",
       "      <td>38076.0</td>\n",
       "      <td>7950.0</td>\n",
       "      <td>0</td>\n",
       "      <td>NaN</td>\n",
       "      <td>2</td>\n",
       "      <td>435.0</td>\n",
       "      <td>418.0</td>\n",
       "    </tr>\n",
       "    <tr>\n",
       "      <th>5358</th>\n",
       "      <td>20</td>\n",
       "      <td>65000000.0</td>\n",
       "      <td>590.0</td>\n",
       "      <td>2019-02-14</td>\n",
       "      <td>15</td>\n",
       "      <td>3.50</td>\n",
       "      <td>6</td>\n",
       "      <td>409.0</td>\n",
       "      <td>3</td>\n",
       "      <td>False</td>\n",
       "      <td>...</td>\n",
       "      <td>100.0</td>\n",
       "      <td>0</td>\n",
       "      <td>Санкт-Петербург</td>\n",
       "      <td>24447.0</td>\n",
       "      <td>4666.0</td>\n",
       "      <td>1</td>\n",
       "      <td>767.0</td>\n",
       "      <td>0</td>\n",
       "      <td>NaN</td>\n",
       "      <td>14.0</td>\n",
       "    </tr>\n",
       "    <tr>\n",
       "      <th>14498</th>\n",
       "      <td>6</td>\n",
       "      <td>32250000.0</td>\n",
       "      <td>374.6</td>\n",
       "      <td>2018-06-09</td>\n",
       "      <td>19</td>\n",
       "      <td>NaN</td>\n",
       "      <td>5</td>\n",
       "      <td>264.5</td>\n",
       "      <td>2</td>\n",
       "      <td>False</td>\n",
       "      <td>...</td>\n",
       "      <td>27.6</td>\n",
       "      <td>0</td>\n",
       "      <td>Санкт-Петербург</td>\n",
       "      <td>19497.0</td>\n",
       "      <td>3574.0</td>\n",
       "      <td>0</td>\n",
       "      <td>NaN</td>\n",
       "      <td>2</td>\n",
       "      <td>548.0</td>\n",
       "      <td>114.0</td>\n",
       "    </tr>\n",
       "    <tr>\n",
       "      <th>19540</th>\n",
       "      <td>8</td>\n",
       "      <td>420000000.0</td>\n",
       "      <td>900.0</td>\n",
       "      <td>2017-12-06</td>\n",
       "      <td>12</td>\n",
       "      <td>2.80</td>\n",
       "      <td>25</td>\n",
       "      <td>409.7</td>\n",
       "      <td>25</td>\n",
       "      <td>False</td>\n",
       "      <td>...</td>\n",
       "      <td>112.0</td>\n",
       "      <td>0</td>\n",
       "      <td>Санкт-Петербург</td>\n",
       "      <td>30706.0</td>\n",
       "      <td>7877.0</td>\n",
       "      <td>0</td>\n",
       "      <td>NaN</td>\n",
       "      <td>2</td>\n",
       "      <td>318.0</td>\n",
       "      <td>106.0</td>\n",
       "    </tr>\n",
       "  </tbody>\n",
       "</table>\n",
       "<p>4 rows × 22 columns</p>\n",
       "</div>"
      ],
      "text/plain": [
       "       total_images   last_price  total_area first_day_exposition  rooms  \\\n",
       "866               5   25000000.0       363.0           2017-12-23     14   \n",
       "5358             20   65000000.0       590.0           2019-02-14     15   \n",
       "14498             6   32250000.0       374.6           2018-06-09     19   \n",
       "19540             8  420000000.0       900.0           2017-12-06     12   \n",
       "\n",
       "       ceiling_height  floors_total  living_area  floor  is_apartment  ...  \\\n",
       "866              3.16             5        222.0      4         False  ...   \n",
       "5358             3.50             6        409.0      3         False  ...   \n",
       "14498             NaN             5        264.5      2         False  ...   \n",
       "19540            2.80            25        409.7     25         False  ...   \n",
       "\n",
       "       kitchen_area  balcony    locality_name  airports_nearest  \\\n",
       "866            16.6        0  Санкт-Петербург           38076.0   \n",
       "5358          100.0        0  Санкт-Петербург           24447.0   \n",
       "14498          27.6        0  Санкт-Петербург           19497.0   \n",
       "19540         112.0        0  Санкт-Петербург           30706.0   \n",
       "\n",
       "      city_сenters_nearest  parks_around3000  parks_nearest  ponds_around3000  \\\n",
       "866                 7950.0                 0            NaN                 2   \n",
       "5358                4666.0                 1          767.0                 0   \n",
       "14498               3574.0                 0            NaN                 2   \n",
       "19540               7877.0                 0            NaN                 2   \n",
       "\n",
       "       ponds_nearest  days_exposition  \n",
       "866            435.0            418.0  \n",
       "5358             NaN             14.0  \n",
       "14498          548.0            114.0  \n",
       "19540          318.0            106.0  \n",
       "\n",
       "[4 rows x 22 columns]"
      ]
     },
     "execution_count": 21,
     "metadata": {},
     "output_type": "execute_result"
    }
   ],
   "source": [
    "df.query('total_area > 300 and rooms > 10')"
   ]
  },
  {
   "cell_type": "markdown",
   "metadata": {},
   "source": [
    "Судя по стоимости квартир данной выборки - всё вполне обосновано, поэтому оставляем значения."
   ]
  },
  {
   "cell_type": "markdown",
   "metadata": {},
   "source": [
    "В значениях столбца с количеством комнат присуствует минимальное значение 0, но думаю это нормально, поскольку у квартиры может быть свободная планировка, поэтому эти значения также оставляем."
   ]
  },
  {
   "cell_type": "markdown",
   "metadata": {},
   "source": [
    "Однако со знакчениямми в колонке высоты потолков явно что-то неладно, что с минимальным значением - что с максимальным. На просторах интернета я нашла информацию, что нормы в высоте потолков - от 2,5 до 4м. Будем предерживаться этой нормы. Также учтем тот факт, что продавец мог забыть поставить точку в значениях столбца высоты потоолков от 25 до 40 метров. Остальыне значения удалим."
   ]
  },
  {
   "cell_type": "code",
   "execution_count": 22,
   "metadata": {},
   "outputs": [],
   "source": [
    "df = df.query('ceiling_height <= 40') #оставляем потолки меньше 40м\n",
    "df = df.query('ceiling_height <= 4 or ceiling_height >= 25') #отсеиваем аномальные значения в промежутке\n",
    "\n",
    "df['ceiling_height'].where(df['ceiling_height'] <= 4, df['ceiling_height'] / 10, inplace=True) #делим на 10 значения, чтобы получить правдоподобную высоту"
   ]
  },
  {
   "cell_type": "code",
   "execution_count": 23,
   "metadata": {},
   "outputs": [
    {
     "data": {
      "text/plain": [
       "0"
      ]
     },
     "execution_count": 23,
     "metadata": {},
     "output_type": "execute_result"
    }
   ],
   "source": [
    "df['ceiling_height'] = df['ceiling_height'].fillna(df['ceiling_height'].median())\n",
    "df['ceiling_height'].isna().sum()\n"
   ]
  },
  {
   "cell_type": "markdown",
   "metadata": {},
   "source": [
    "### Посчитайте и добавьте в таблицу новые столбцы"
   ]
  },
  {
   "cell_type": "markdown",
   "metadata": {},
   "source": [
    "<b>Цена одного квадратного метра</b>"
   ]
  },
  {
   "cell_type": "code",
   "execution_count": 24,
   "metadata": {},
   "outputs": [],
   "source": [
    "df['cost_meter'] = df['last_price'] / df['total_area']"
   ]
  },
  {
   "cell_type": "markdown",
   "metadata": {},
   "source": [
    "<b>День недели публикации объявления (0 — понедельник, 1 — вторник и так далее)</b>"
   ]
  },
  {
   "cell_type": "code",
   "execution_count": 25,
   "metadata": {},
   "outputs": [],
   "source": [
    "df['day_publication'] = pd.DatetimeIndex(df['first_day_exposition']).dayofweek"
   ]
  },
  {
   "cell_type": "markdown",
   "metadata": {},
   "source": [
    "<b>Месяц публикации объявления</b>"
   ]
  },
  {
   "cell_type": "code",
   "execution_count": 26,
   "metadata": {},
   "outputs": [],
   "source": [
    "df['month_publication'] = pd.DatetimeIndex(df['first_day_exposition']).month"
   ]
  },
  {
   "cell_type": "markdown",
   "metadata": {},
   "source": [
    "<b>Год публикации объявления</b>"
   ]
  },
  {
   "cell_type": "code",
   "execution_count": 27,
   "metadata": {},
   "outputs": [],
   "source": [
    "df['year_publication'] = pd.DatetimeIndex(df['first_day_exposition']).year"
   ]
  },
  {
   "cell_type": "markdown",
   "metadata": {},
   "source": [
    "<b>Тип этажа квартиры (значения — «‎первый», «последний», «другой»)</b>"
   ]
  },
  {
   "cell_type": "code",
   "execution_count": 28,
   "metadata": {},
   "outputs": [],
   "source": [
    "df['type_floor'] = np.where(df['floor'] == 1, 'первый', np.where(df['floor'] == df['floors_total'], 'последний', 'другой'))"
   ]
  },
  {
   "cell_type": "markdown",
   "metadata": {},
   "source": [
    "<b>Расстояние до центра города в километрах (переведите из м в км и округлите до целых значений)</b>"
   ]
  },
  {
   "cell_type": "code",
   "execution_count": 29,
   "metadata": {},
   "outputs": [],
   "source": [
    "df['distance_to_center'] = ((df['city_сenters_nearest'] / 1000).round().astype('Int64'))"
   ]
  },
  {
   "cell_type": "markdown",
   "metadata": {},
   "source": [
    "Проверим получившиеся столбцы:"
   ]
  },
  {
   "cell_type": "code",
   "execution_count": 30,
   "metadata": {},
   "outputs": [
    {
     "data": {
      "text/html": [
       "<div>\n",
       "<style scoped>\n",
       "    .dataframe tbody tr th:only-of-type {\n",
       "        vertical-align: middle;\n",
       "    }\n",
       "\n",
       "    .dataframe tbody tr th {\n",
       "        vertical-align: top;\n",
       "    }\n",
       "\n",
       "    .dataframe thead th {\n",
       "        text-align: right;\n",
       "    }\n",
       "</style>\n",
       "<table border=\"1\" class=\"dataframe\">\n",
       "  <thead>\n",
       "    <tr style=\"text-align: right;\">\n",
       "      <th></th>\n",
       "      <th>cost_meter</th>\n",
       "      <th>day_publication</th>\n",
       "      <th>month_publication</th>\n",
       "      <th>year_publication</th>\n",
       "      <th>type_floor</th>\n",
       "      <th>distance_to_center</th>\n",
       "    </tr>\n",
       "  </thead>\n",
       "  <tbody>\n",
       "    <tr>\n",
       "      <th>0</th>\n",
       "      <td>120370.370370</td>\n",
       "      <td>3</td>\n",
       "      <td>3</td>\n",
       "      <td>2019</td>\n",
       "      <td>другой</td>\n",
       "      <td>16</td>\n",
       "    </tr>\n",
       "    <tr>\n",
       "      <th>4</th>\n",
       "      <td>100000.000000</td>\n",
       "      <td>1</td>\n",
       "      <td>6</td>\n",
       "      <td>2018</td>\n",
       "      <td>другой</td>\n",
       "      <td>8</td>\n",
       "    </tr>\n",
       "    <tr>\n",
       "      <th>9</th>\n",
       "      <td>88524.590164</td>\n",
       "      <td>6</td>\n",
       "      <td>2</td>\n",
       "      <td>2017</td>\n",
       "      <td>другой</td>\n",
       "      <td>15</td>\n",
       "    </tr>\n",
       "    <tr>\n",
       "      <th>10</th>\n",
       "      <td>127525.252525</td>\n",
       "      <td>3</td>\n",
       "      <td>11</td>\n",
       "      <td>2017</td>\n",
       "      <td>другой</td>\n",
       "      <td>14</td>\n",
       "    </tr>\n",
       "    <tr>\n",
       "      <th>13</th>\n",
       "      <td>82943.925234</td>\n",
       "      <td>5</td>\n",
       "      <td>7</td>\n",
       "      <td>2017</td>\n",
       "      <td>последний</td>\n",
       "      <td>33</td>\n",
       "    </tr>\n",
       "    <tr>\n",
       "      <th>...</th>\n",
       "      <td>...</td>\n",
       "      <td>...</td>\n",
       "      <td>...</td>\n",
       "      <td>...</td>\n",
       "      <td>...</td>\n",
       "      <td>...</td>\n",
       "    </tr>\n",
       "    <tr>\n",
       "      <th>23691</th>\n",
       "      <td>129903.978052</td>\n",
       "      <td>3</td>\n",
       "      <td>10</td>\n",
       "      <td>2016</td>\n",
       "      <td>другой</td>\n",
       "      <td>4</td>\n",
       "    </tr>\n",
       "    <tr>\n",
       "      <th>23693</th>\n",
       "      <td>73717.948718</td>\n",
       "      <td>4</td>\n",
       "      <td>8</td>\n",
       "      <td>2016</td>\n",
       "      <td>другой</td>\n",
       "      <td>34</td>\n",
       "    </tr>\n",
       "    <tr>\n",
       "      <th>23694</th>\n",
       "      <td>72490.845228</td>\n",
       "      <td>1</td>\n",
       "      <td>3</td>\n",
       "      <td>2017</td>\n",
       "      <td>другой</td>\n",
       "      <td>4</td>\n",
       "    </tr>\n",
       "    <tr>\n",
       "      <th>23697</th>\n",
       "      <td>149511.400651</td>\n",
       "      <td>1</td>\n",
       "      <td>3</td>\n",
       "      <td>2017</td>\n",
       "      <td>другой</td>\n",
       "      <td>10</td>\n",
       "    </tr>\n",
       "    <tr>\n",
       "      <th>23698</th>\n",
       "      <td>41795.665635</td>\n",
       "      <td>4</td>\n",
       "      <td>7</td>\n",
       "      <td>2017</td>\n",
       "      <td>первый</td>\n",
       "      <td>&lt;NA&gt;</td>\n",
       "    </tr>\n",
       "  </tbody>\n",
       "</table>\n",
       "<p>14439 rows × 6 columns</p>\n",
       "</div>"
      ],
      "text/plain": [
       "          cost_meter  day_publication  month_publication  year_publication  \\\n",
       "0      120370.370370                3                  3              2019   \n",
       "4      100000.000000                1                  6              2018   \n",
       "9       88524.590164                6                  2              2017   \n",
       "10     127525.252525                3                 11              2017   \n",
       "13      82943.925234                5                  7              2017   \n",
       "...              ...              ...                ...               ...   \n",
       "23691  129903.978052                3                 10              2016   \n",
       "23693   73717.948718                4                  8              2016   \n",
       "23694   72490.845228                1                  3              2017   \n",
       "23697  149511.400651                1                  3              2017   \n",
       "23698   41795.665635                4                  7              2017   \n",
       "\n",
       "      type_floor  distance_to_center  \n",
       "0         другой                  16  \n",
       "4         другой                   8  \n",
       "9         другой                  15  \n",
       "10        другой                  14  \n",
       "13     последний                  33  \n",
       "...          ...                 ...  \n",
       "23691     другой                   4  \n",
       "23693     другой                  34  \n",
       "23694     другой                   4  \n",
       "23697     другой                  10  \n",
       "23698     первый                <NA>  \n",
       "\n",
       "[14439 rows x 6 columns]"
      ]
     },
     "execution_count": 30,
     "metadata": {},
     "output_type": "execute_result"
    }
   ],
   "source": [
    "df[['cost_meter', 'day_publication', 'month_publication', 'year_publication', 'type_floor', 'distance_to_center']]"
   ]
  },
  {
   "cell_type": "markdown",
   "metadata": {},
   "source": [
    "### Проведите исследовательский анализ данных"
   ]
  },
  {
   "cell_type": "markdown",
   "metadata": {},
   "source": [
    "<b>#1 Изучите параметры объектов, постройте отдельные гистограммы для каждого из этих параметров и опишите все ваши наблюдения по параметрам</b>"
   ]
  },
  {
   "cell_type": "markdown",
   "metadata": {},
   "source": [
    "<b>Общая площадь</b>"
   ]
  },
  {
   "cell_type": "code",
   "execution_count": 31,
   "metadata": {},
   "outputs": [
    {
     "data": {
      "text/plain": [
       "array([[<AxesSubplot:title={'center':'total_area'}>]], dtype=object)"
      ]
     },
     "execution_count": 31,
     "metadata": {},
     "output_type": "execute_result"
    },
    {
     "data": {
      "image/png": "[encoded data removed]",
      "text/plain": [
       "<Figure size 864x360 with 1 Axes>"
      ]
     },
     "metadata": {
      "needs_background": "light"
     },
     "output_type": "display_data"
    }
   ],
   "source": [
    "df.hist(column='total_area', range=(0,200), bins=100, figsize=(12,5))"
   ]
  },
  {
   "cell_type": "markdown",
   "metadata": {},
   "source": [
    "Большинство площадей квартир расположены в диапазоне ~ от 30 до 100 кв.м. Больше всего квартир с площадью около 45кв.м. С увеличением площади квартир - количство объявлений с ними снижается, но есть некоторые высокие значения в районе 60кв.м. — 70кв.м."
   ]
  },
  {
   "cell_type": "markdown",
   "metadata": {},
   "source": [
    "<b>Жилая площадь</b>"
   ]
  },
  {
   "cell_type": "code",
   "execution_count": 32,
   "metadata": {},
   "outputs": [
    {
     "data": {
      "text/plain": [
       "array([[<AxesSubplot:title={'center':'living_area'}>]], dtype=object)"
      ]
     },
     "execution_count": 32,
     "metadata": {},
     "output_type": "execute_result"
    },
    {
     "data": {
      "image/png": "[encoded data removed]",
      "text/plain": [
       "<Figure size 864x360 with 1 Axes>"
      ]
     },
     "metadata": {
      "needs_background": "light"
     },
     "output_type": "display_data"
    },
    {
     "data": {
      "image/png": "[encoded data removed]",
      "text/plain": [
       "<Figure size 864x360 with 1 Axes>"
      ]
     },
     "metadata": {
      "needs_background": "light"
     },
     "output_type": "display_data"
    }
   ],
   "source": [
    "df.hist(column='living_area', range=(0,100), bins=100, figsize=(12,5))\n",
    "df.hist(column='living_area', range=(0,60), bins=100, figsize=(12,5)) #рассмотрим поближе график, где сосредоточено большинство значений"
   ]
  },
  {
   "cell_type": "markdown",
   "metadata": {},
   "source": [
    "По первому графику можно сделать вывод, что болиншство квартир в объявлениях имеют жилую площадь ~ от 17 до 21кв м. и ~от 25 до 60кв.м."
   ]
  },
  {
   "cell_type": "markdown",
   "metadata": {},
   "source": [
    "<b>Площадь кухни</b>"
   ]
  },
  {
   "cell_type": "code",
   "execution_count": 33,
   "metadata": {},
   "outputs": [
    {
     "data": {
      "text/plain": [
       "array([[<AxesSubplot:title={'center':'kitchen_area'}>]], dtype=object)"
      ]
     },
     "execution_count": 33,
     "metadata": {},
     "output_type": "execute_result"
    },
    {
     "data": {
      "image/png": "[encoded data removed]",
      "text/plain": [
       "<Figure size 864x360 with 1 Axes>"
      ]
     },
     "metadata": {
      "needs_background": "light"
     },
     "output_type": "display_data"
    }
   ],
   "source": [
    "df.hist(column='kitchen_area', range=(0,40), bins=100, figsize=(12,5))"
   ]
  },
  {
   "cell_type": "markdown",
   "metadata": {},
   "source": [
    "Большинство составляют квартиры с площадью кухни от 5 до 30 кв.м. Из них же основное значение площади кухни составляет ~ от 6 до 13 кв.м. "
   ]
  },
  {
   "cell_type": "markdown",
   "metadata": {},
   "source": [
    "<b>Цена объекта</b>"
   ]
  },
  {
   "cell_type": "code",
   "execution_count": 34,
   "metadata": {},
   "outputs": [
    {
     "data": {
      "text/plain": [
       "array([[<AxesSubplot:title={'center':'last_price'}>]], dtype=object)"
      ]
     },
     "execution_count": 34,
     "metadata": {},
     "output_type": "execute_result"
    },
    {
     "data": {
      "image/png": "[encoded data removed]",
      "text/plain": [
       "<Figure size 864x360 with 1 Axes>"
      ]
     },
     "metadata": {
      "needs_background": "light"
     },
     "output_type": "display_data"
    }
   ],
   "source": [
    "df.hist(column='last_price', range=(0,25000000), bins=100, figsize=(12,5))"
   ]
  },
  {
   "cell_type": "markdown",
   "metadata": {},
   "source": [
    "Большинство квартир по стоимости лежат в диапазоне от 2 до 8 млн. руб. Больше всего квартир со стоимостью около 4 млн. руб. (на это значение приходится пик гистограммы)"
   ]
  },
  {
   "cell_type": "markdown",
   "metadata": {},
   "source": [
    "<b>Количество комнат</b>"
   ]
  },
  {
   "cell_type": "code",
   "execution_count": 35,
   "metadata": {},
   "outputs": [
    {
     "data": {
      "text/plain": [
       "array([[<AxesSubplot:title={'center':'rooms'}>]], dtype=object)"
      ]
     },
     "execution_count": 35,
     "metadata": {},
     "output_type": "execute_result"
    },
    {
     "data": {
      "image/png": "[encoded data removed]",
      "text/plain": [
       "<Figure size 864x360 with 1 Axes>"
      ]
     },
     "metadata": {
      "needs_background": "light"
     },
     "output_type": "display_data"
    }
   ],
   "source": [
    "df.hist(column='rooms', range=(0,8), bins=100, figsize=(12,5))"
   ]
  },
  {
   "cell_type": "markdown",
   "metadata": {},
   "source": [
    "Большинство квартир из объявлений имеет количество комнат от 1 до 3."
   ]
  },
  {
   "cell_type": "markdown",
   "metadata": {},
   "source": [
    "<b>Высота потолков</b>"
   ]
  },
  {
   "cell_type": "code",
   "execution_count": 36,
   "metadata": {},
   "outputs": [
    {
     "data": {
      "text/plain": [
       "array([[<AxesSubplot:title={'center':'ceiling_height'}>]], dtype=object)"
      ]
     },
     "execution_count": 36,
     "metadata": {},
     "output_type": "execute_result"
    },
    {
     "data": {
      "image/png": "[encoded data removed]",
      "text/plain": [
       "<Figure size 864x360 with 1 Axes>"
      ]
     },
     "metadata": {
      "needs_background": "light"
     },
     "output_type": "display_data"
    }
   ],
   "source": [
    "df.hist(column='ceiling_height', range=(2,4), bins=100, figsize=(12,5))"
   ]
  },
  {
   "cell_type": "markdown",
   "metadata": {},
   "source": [
    "Болишнство квартир имеют высоту потолка в диапазоне от 2,5 до 3 метров. Пик приходится на квартиры с высотой потолков 2,5м."
   ]
  },
  {
   "cell_type": "markdown",
   "metadata": {},
   "source": [
    "<b>Этаж квартирыь</b>"
   ]
  },
  {
   "cell_type": "code",
   "execution_count": 37,
   "metadata": {},
   "outputs": [
    {
     "data": {
      "text/plain": [
       "array([[<AxesSubplot:title={'center':'floor'}>]], dtype=object)"
      ]
     },
     "execution_count": 37,
     "metadata": {},
     "output_type": "execute_result"
    },
    {
     "data": {
      "image/png": "[encoded data removed]",
      "text/plain": [
       "<Figure size 864x360 with 1 Axes>"
      ]
     },
     "metadata": {
      "needs_background": "light"
     },
     "output_type": "display_data"
    }
   ],
   "source": [
    "df.hist(column='floor', range=(1,25), bins=100, figsize=(12,5))"
   ]
  },
  {
   "cell_type": "markdown",
   "metadata": {},
   "source": [
    "Большинство квартир расположены на 1-10 этажах. "
   ]
  },
  {
   "cell_type": "markdown",
   "metadata": {},
   "source": [
    "<b>Тип этажа квартиры</b>"
   ]
  },
  {
   "cell_type": "code",
   "execution_count": 38,
   "metadata": {},
   "outputs": [],
   "source": [
    "\n",
    "#df.hist(column='type_floor', figsize=(12,5))"
   ]
  },
  {
   "cell_type": "code",
   "execution_count": 39,
   "metadata": {},
   "outputs": [
    {
     "data": {
      "text/plain": [
       "<AxesSubplot:xlabel='type_floor'>"
      ]
     },
     "execution_count": 39,
     "metadata": {},
     "output_type": "execute_result"
    },
    {
     "data": {
      "image/png": "[encoded data removed]",
      "text/plain": [
       "<Figure size 432x288 with 1 Axes>"
      ]
     },
     "metadata": {
      "needs_background": "light"
     },
     "output_type": "display_data"
    }
   ],
   "source": [
    "df.groupby(by='type_floor')['type_floor'].count().plot(kind='bar')"
   ]
  },
  {
   "cell_type": "code",
   "execution_count": 40,
   "metadata": {},
   "outputs": [
    {
     "data": {
      "text/plain": [
       "type_floor\n",
       "другой       10557\n",
       "первый        1816\n",
       "последний     2066\n",
       "Name: type_floor, dtype: int64"
      ]
     },
     "execution_count": 40,
     "metadata": {},
     "output_type": "execute_result"
    }
   ],
   "source": [
    "df.groupby('type_floor')['type_floor'].count()"
   ]
  },
  {
   "cell_type": "markdown",
   "metadata": {},
   "source": [
    "У меня не получилсоь построить аналогично гистаграмму (при аналогичном коде выдавало ошибку \"\". буду рада, если подскажете, в чем дело), к тому же значений всего 3, поэтому можно сделать вывод по этой таблице: болишснтво квартир находится не на первом и не на последнем этаж, а между ними"
   ]
  },
  {
   "cell_type": "markdown",
   "metadata": {},
   "source": [
    "<b>Общее количество этажей в доме</b>"
   ]
  },
  {
   "cell_type": "code",
   "execution_count": 41,
   "metadata": {},
   "outputs": [
    {
     "data": {
      "text/plain": [
       "array([[<AxesSubplot:title={'center':'floors_total'}>]], dtype=object)"
      ]
     },
     "execution_count": 41,
     "metadata": {},
     "output_type": "execute_result"
    },
    {
     "data": {
      "image/png": "[encoded data removed]",
      "text/plain": [
       "<Figure size 864x360 with 1 Axes>"
      ]
     },
     "metadata": {
      "needs_background": "light"
     },
     "output_type": "display_data"
    }
   ],
   "source": [
    "df.hist(column='floors_total', bins=100, figsize=(12,5))"
   ]
  },
  {
   "cell_type": "markdown",
   "metadata": {},
   "source": [
    "Большая часть квартир расположена в домах до на 25 этажей."
   ]
  },
  {
   "cell_type": "markdown",
   "metadata": {},
   "source": [
    "<b>Расстояние до центра города в метрах</b>"
   ]
  },
  {
   "cell_type": "code",
   "execution_count": 42,
   "metadata": {},
   "outputs": [
    {
     "data": {
      "text/plain": [
       "array([[<AxesSubplot:title={'center':'city_сenters_nearest'}>]],\n",
       "      dtype=object)"
      ]
     },
     "execution_count": 42,
     "metadata": {},
     "output_type": "execute_result"
    },
    {
     "data": {
      "image/png": "[encoded data removed]",
      "text/plain": [
       "<Figure size 864x360 with 1 Axes>"
      ]
     },
     "metadata": {
      "needs_background": "light"
     },
     "output_type": "display_data"
    }
   ],
   "source": [
    "df.hist(column='city_сenters_nearest', bins=100, figsize=(12,5))"
   ]
  },
  {
   "cell_type": "markdown",
   "metadata": {},
   "source": [
    "Болишнство квартир расположены не дальше чем 20км от центра. Наблюдаются также всплекски в районе 30км от центра и 50км, что может означать, что там находятся относительно крупные населенные пункты."
   ]
  },
  {
   "cell_type": "markdown",
   "metadata": {},
   "source": [
    "<b>Расстояние до ближайшего аэропорта</b>"
   ]
  },
  {
   "cell_type": "code",
   "execution_count": 43,
   "metadata": {},
   "outputs": [
    {
     "data": {
      "text/plain": [
       "array([[<AxesSubplot:title={'center':'airports_nearest'}>]], dtype=object)"
      ]
     },
     "execution_count": 43,
     "metadata": {},
     "output_type": "execute_result"
    },
    {
     "data": {
      "image/png": "[encoded data removed]",
      "text/plain": [
       "<Figure size 864x360 with 1 Axes>"
      ]
     },
     "metadata": {
      "needs_background": "light"
     },
     "output_type": "display_data"
    }
   ],
   "source": [
    "df.hist(column='airports_nearest', bins=100, figsize=(12,5))"
   ]
  },
  {
   "cell_type": "markdown",
   "metadata": {},
   "source": [
    "Основная часть квартир удалены от аэропорта на расстояние от 8 до 60км."
   ]
  },
  {
   "cell_type": "markdown",
   "metadata": {},
   "source": [
    "<b>Расстояние до ближайшего парка</b>"
   ]
  },
  {
   "cell_type": "code",
   "execution_count": 44,
   "metadata": {},
   "outputs": [
    {
     "data": {
      "text/plain": [
       "array([[<AxesSubplot:title={'center':'parks_nearest'}>]], dtype=object)"
      ]
     },
     "execution_count": 44,
     "metadata": {},
     "output_type": "execute_result"
    },
    {
     "data": {
      "image/png": "[encoded data removed]",
      "text/plain": [
       "<Figure size 864x360 with 1 Axes>"
      ]
     },
     "metadata": {
      "needs_background": "light"
     },
     "output_type": "display_data"
    }
   ],
   "source": [
    "df.hist(column='parks_nearest', bins=100, figsize=(12,5))"
   ]
  },
  {
   "cell_type": "markdown",
   "metadata": {},
   "source": [
    "Болишнство квартир удалены от ближайшего парка на расстояние до 1000м."
   ]
  },
  {
   "cell_type": "markdown",
   "metadata": {},
   "source": [
    "<b>День и месяц публикации объявления</b>"
   ]
  },
  {
   "cell_type": "code",
   "execution_count": 45,
   "metadata": {},
   "outputs": [
    {
     "data": {
      "text/plain": [
       "array([[<AxesSubplot:title={'center':'month_publication'}>]], dtype=object)"
      ]
     },
     "execution_count": 45,
     "metadata": {},
     "output_type": "execute_result"
    },
    {
     "data": {
      "image/png": "[encoded data removed]",
      "text/plain": [
       "<Figure size 864x360 with 1 Axes>"
      ]
     },
     "metadata": {
      "needs_background": "light"
     },
     "output_type": "display_data"
    },
    {
     "data": {
      "image/png": "[encoded data removed]",
      "text/plain": [
       "<Figure size 864x360 with 1 Axes>"
      ]
     },
     "metadata": {
      "needs_background": "light"
     },
     "output_type": "display_data"
    }
   ],
   "source": [
    "df.hist(column='day_publication', bins=100, figsize=(12,5))\n",
    "df.hist(column='month_publication', bins=100, figsize=(12,5))"
   ]
  },
  {
   "cell_type": "markdown",
   "metadata": {},
   "source": [
    "Большинство объялвений были опубликованы в будние дни. Самыми большими по количеству объявлений являются февраль, март, апрель; самыми маленькими по количеству - январь, май и декабрь."
   ]
  },
  {
   "cell_type": "markdown",
   "metadata": {},
   "source": [
    "<b>№2 Изучите, как быстро продавались квартиры.</b>"
   ]
  },
  {
   "cell_type": "code",
   "execution_count": 46,
   "metadata": {},
   "outputs": [
    {
     "data": {
      "text/plain": [
       "array([[<AxesSubplot:title={'center':'days_exposition'}>]], dtype=object)"
      ]
     },
     "execution_count": 46,
     "metadata": {},
     "output_type": "execute_result"
    },
    {
     "data": {
      "image/png": "[encoded data removed]",
      "text/plain": [
       "<Figure size 864x360 with 1 Axes>"
      ]
     },
     "metadata": {
      "needs_background": "light"
     },
     "output_type": "display_data"
    }
   ],
   "source": [
    "df.hist(column='days_exposition', range=(0, 600), bins=100, figsize=(12,5))"
   ]
  },
  {
   "cell_type": "code",
   "execution_count": 47,
   "metadata": {},
   "outputs": [
    {
     "name": "stdout",
     "output_type": "stream",
     "text": [
      "Среднее: 189.9059843307218\n",
      "Медиана: 103.0\n"
     ]
    }
   ],
   "source": [
    "print('Среднее:', df['days_exposition'].mean())\n",
    "print('Медиана:', df['days_exposition'].median())"
   ]
  },
  {
   "cell_type": "markdown",
   "metadata": {},
   "source": [
    "В среднем продажа квартиры составляет 180 дней, то есть около полугода. Медианное время продажи - 95 дней. Такая разница может говорить о том, что в данных присутсвуют квартиры, которые стояли на продаже очень долгое время, потому среднее время продажи гораздо больше медианы."
   ]
  },
  {
   "cell_type": "code",
   "execution_count": 48,
   "metadata": {},
   "outputs": [
    {
     "data": {
      "text/plain": [
       "array([[<AxesSubplot:title={'center':'days_exposition'}>]], dtype=object)"
      ]
     },
     "execution_count": 48,
     "metadata": {},
     "output_type": "execute_result"
    },
    {
     "data": {
      "image/png": "[encoded data removed]",
      "text/plain": [
       "<Figure size 864x360 with 1 Axes>"
      ]
     },
     "metadata": {
      "needs_background": "light"
     },
     "output_type": "display_data"
    }
   ],
   "source": [
    "df.hist(column='days_exposition', range=(0, 100), bins=100, figsize=(12,5))"
   ]
  },
  {
   "cell_type": "markdown",
   "metadata": {},
   "source": [
    "<div class=\"alert alert-block alert-info\">\n",
    "\n",
    "<b>Обновленный вывод:</b>В среднем продажа квартиры составляет 180 дней, то есть около полугода. Медианное время продажи - 95 дней. Такая разница может говорить о том, что в данных присутсвуют квартиры, которые стояли на продаже очень долгое время, потому среднее время продажи гораздо больше медианы. Также в данных присутсвуют значительный выбросы (вторая гистограмма), которые соотсвутсуют приблизительно соотсветсвуют значениям 45 и 62 дня. Болишьнство квартир продавалась за такое количество дней.\n",
    "      \n",
    "</div>"
   ]
  },
  {
   "cell_type": "markdown",
   "metadata": {},
   "source": [
    "<b>№3 Какие факторы больше всего влияют на общую (полную) стоимость объекта?</b>"
   ]
  },
  {
   "cell_type": "markdown",
   "metadata": {},
   "source": [
    "<b>Зависит ли цена от общей площади?</b>"
   ]
  },
  {
   "cell_type": "code",
   "execution_count": 49,
   "metadata": {},
   "outputs": [
    {
     "data": {
      "text/plain": [
       "0.7050831312827853"
      ]
     },
     "execution_count": 49,
     "metadata": {},
     "output_type": "execute_result"
    },
    {
     "data": {
      "image/png": "[encoded data removed]",
      "text/plain": [
       "<Figure size 432x288 with 1 Axes>"
      ]
     },
     "metadata": {
      "needs_background": "light"
     },
     "output_type": "display_data"
    }
   ],
   "source": [
    "df.query('total_area < 100 and last_price < 20000000').plot(x='total_area', y='last_price', kind='scatter', alpha=0.1) \n",
    "df.corr()['last_price']['total_area']"
   ]
  },
  {
   "cell_type": "markdown",
   "metadata": {},
   "source": [
    "Есть небольшая зависимость цены квартиры от ее площади, что логично. По наличию множества выбивающихся значений можно предположить, что цена зависит не только от рассматриваемого параметра."
   ]
  },
  {
   "cell_type": "markdown",
   "metadata": {},
   "source": [
    "<b>Зависит ли цена от жилой площади?</b>"
   ]
  },
  {
   "cell_type": "code",
   "execution_count": 50,
   "metadata": {},
   "outputs": [
    {
     "data": {
      "text/plain": [
       "0.6144408451672049"
      ]
     },
     "execution_count": 50,
     "metadata": {},
     "output_type": "execute_result"
    },
    {
     "data": {
      "image/png": "[encoded data removed]",
      "text/plain": [
       "<Figure size 432x288 with 1 Axes>"
      ]
     },
     "metadata": {
      "needs_background": "light"
     },
     "output_type": "display_data"
    }
   ],
   "source": [
    "df.query('living_area < 100 and last_price < 20000000').plot(x='living_area', y='last_price', kind='scatter', alpha=0.1) \n",
    "df.corr()['last_price']['living_area']"
   ]
  },
  {
   "cell_type": "markdown",
   "metadata": {},
   "source": [
    "Небольшая зависимость есть; также мы можем заметить, что данные сгрупированные на 3 группы, что может о чем-то говорить."
   ]
  },
  {
   "cell_type": "markdown",
   "metadata": {},
   "source": [
    "<b>Зависит ли цена от площади кухни?</b>"
   ]
  },
  {
   "cell_type": "code",
   "execution_count": 51,
   "metadata": {},
   "outputs": [
    {
     "data": {
      "text/plain": [
       "0.5530809600254184"
      ]
     },
     "execution_count": 51,
     "metadata": {},
     "output_type": "execute_result"
    },
    {
     "data": {
      "image/png": "[encoded data removed]",
      "text/plain": [
       "<Figure size 432x288 with 1 Axes>"
      ]
     },
     "metadata": {
      "needs_background": "light"
     },
     "output_type": "display_data"
    }
   ],
   "source": [
    "df.query('kitchen_area < 40 and last_price < 20000000').plot(x='kitchen_area', y='last_price', kind='scatter', alpha=0.03) \n",
    "df.corr()['last_price']['kitchen_area']"
   ]
  },
  {
   "cell_type": "markdown",
   "metadata": {},
   "source": [
    "Также наблдаем неольшую зависимость. Это может быть связано с тем, что чем дороже квартира - тем больше в ней площадь кухни."
   ]
  },
  {
   "cell_type": "markdown",
   "metadata": {},
   "source": [
    "<b>Зависит ли цена от количества комнат?</b>"
   ]
  },
  {
   "cell_type": "code",
   "execution_count": 52,
   "metadata": {},
   "outputs": [
    {
     "data": {
      "text/plain": [
       "0.39672356038918605"
      ]
     },
     "execution_count": 52,
     "metadata": {},
     "output_type": "execute_result"
    },
    {
     "data": {
      "image/png": "[encoded data removed]",
      "text/plain": [
       "<Figure size 432x288 with 1 Axes>"
      ]
     },
     "metadata": {
      "needs_background": "light"
     },
     "output_type": "display_data"
    }
   ],
   "source": [
    "df.query('rooms < 8 and last_price < 20000000').plot(x='rooms', y='last_price', kind='scatter', alpha=0.03) \n",
    "df.corr()['last_price']['rooms']"
   ]
  },
  {
   "cell_type": "markdown",
   "metadata": {},
   "source": [
    "По графику мы можеи сказать, что наблюдается слабо выраженная заивисмость цены от количества комнат: чем больше комнат, тем дороже квартира."
   ]
  },
  {
   "cell_type": "markdown",
   "metadata": {},
   "source": [
    "<b>Зависит ли цена от этажа?</b>"
   ]
  },
  {
   "cell_type": "code",
   "execution_count": 53,
   "metadata": {},
   "outputs": [
    {
     "data": {
      "text/plain": [
       "0.03950736633054211"
      ]
     },
     "execution_count": 53,
     "metadata": {},
     "output_type": "execute_result"
    },
    {
     "data": {
      "image/png": "[encoded data removed]",
      "text/plain": [
       "<Figure size 432x288 with 1 Axes>"
      ]
     },
     "metadata": {
      "needs_background": "light"
     },
     "output_type": "display_data"
    }
   ],
   "source": [
    "df.plot(x='floor', y='last_price', kind='scatter', alpha=1) \n",
    "df.corr()['last_price']['floor']"
   ]
  },
  {
   "cell_type": "markdown",
   "metadata": {},
   "source": [
    "По графику: зависимость небольшая, но она есть. Квартиры ближе к последнему этажу дешевле, нежели остальные. Тем не менее, можем заметить выбившуюся точку, расположившуюся на высоком этаже и с самой большой стоимостью. Это может говорить о том, что на последнем этаже дома расположена, например, дорогая двухэтажная квартира; так что это не выброс. В целом у квартир, расположенных до 7 этажа, наблюдается разная стоимость, но таких квартир немнного.\n",
    "\n",
    "По значени корреляции: зависимость практически отсутсвует."
   ]
  },
  {
   "cell_type": "markdown",
   "metadata": {},
   "source": [
    "<b>Зависит ли цена от даты размещения?</b>"
   ]
  },
  {
   "cell_type": "code",
   "execution_count": 54,
   "metadata": {},
   "outputs": [
    {
     "data": {
      "text/plain": [
       "<AxesSubplot:xlabel='year_publication', ylabel='last_price'>"
      ]
     },
     "execution_count": 54,
     "metadata": {},
     "output_type": "execute_result"
    },
    {
     "data": {
      "image/png": "[encoded data removed]",
      "text/plain": [
       "<Figure size 432x288 with 1 Axes>"
      ]
     },
     "metadata": {
      "needs_background": "light"
     },
     "output_type": "display_data"
    },
    {
     "data": {
      "image/png": "[encoded data removed]",
      "text/plain": [
       "<Figure size 432x288 with 1 Axes>"
      ]
     },
     "metadata": {
      "needs_background": "light"
     },
     "output_type": "display_data"
    },
    {
     "data": {
      "image/png": "[encoded data removed]",
      "text/plain": [
       "<Figure size 432x288 with 1 Axes>"
      ]
     },
     "metadata": {
      "needs_background": "light"
     },
     "output_type": "display_data"
    }
   ],
   "source": [
    "df.plot(x='day_publication', y='last_price', kind='scatter', alpha=1) \n",
    "df.plot(x='month_publication', y='last_price', kind='scatter', alpha=1) \n",
    "df.plot(x='year_publication', y='last_price', kind='scatter', alpha=1) "
   ]
  },
  {
   "cell_type": "markdown",
   "metadata": {},
   "source": [
    "Зависимости цены от дня недели или месяца не наблюдается. Цена от года по сути не зависит, но тем не менее в 2014 году были цены на квартиры значительно ниже. Затем цена по годам особо не отличается."
   ]
  },
  {
   "cell_type": "markdown",
   "metadata": {},
   "source": [
    "<b>#4 Посчитайте среднюю цену одного квадратного метра в 10 населённых пунктах с наибольшим числом объявлений</b>"
   ]
  },
  {
   "cell_type": "code",
   "execution_count": 55,
   "metadata": {},
   "outputs": [
    {
     "name": "stdout",
     "output_type": "stream",
     "text": [
      "                      mean_meter  amount\n",
      "locality_name                           \n",
      "Санкт-Петербург    115347.173928   10047\n",
      "Всеволожск          67267.996231     271\n",
      "Пушкин             103817.355642     233\n",
      "поселок Шушары      79286.491658     216\n",
      "поселок Мурино      87138.590997     214\n",
      "Колпино             75938.525561     203\n",
      "Гатчина             69992.693801     149\n",
      "Петергоф            85554.144673     145\n",
      "поселок Парголово   90901.351145     137\n",
      "Сестрорецк         102267.327328     129\n"
     ]
    }
   ],
   "source": [
    "price_settlement = df.pivot_table(index='locality_name', values='cost_meter', aggfunc=['mean', 'count'])\n",
    "\n",
    "price_settlement.columns = ['mean_meter', 'amount']\n",
    "\n",
    "print(price_settlement.sort_values(by='amount', ascending=False).head(10))\n",
    "\n"
   ]
  },
  {
   "cell_type": "markdown",
   "metadata": {},
   "source": [
    "Самая высокая цена однго кв.м. составляет 115 347 руб. и принадлежит непосредственно городу СПб. Минимальная же цена кв. м. из данной выорки принадлежит населенному пункту Всеволожск и составляет 67 268 руб."
   ]
  },
  {
   "cell_type": "markdown",
   "metadata": {},
   "source": [
    "<b>#5 Выделите квартиры в Санкт-Петербурге с помощью столбца locality_name и вычислите среднюю цену каждого километра. Опишите, как стоимость объектов зависит от расстояния до центра города</b>"
   ]
  },
  {
   "cell_type": "code",
   "execution_count": 56,
   "metadata": {},
   "outputs": [
    {
     "data": {
      "text/plain": [
       "<AxesSubplot:xlabel='distance_to_center'>"
      ]
     },
     "execution_count": 56,
     "metadata": {},
     "output_type": "execute_result"
    },
    {
     "data": {
      "image/png": "[encoded data removed]",
      "text/plain": [
       "<Figure size 432x288 with 1 Axes>"
      ]
     },
     "metadata": {
      "needs_background": "light"
     },
     "output_type": "display_data"
    }
   ],
   "source": [
    "cost_km = df.query('locality_name == \"Санкт-Петербург\"').pivot_table(index='distance_to_center', values='cost_meter', aggfunc='mean')\n",
    "\n",
    "cost_km.plot()"
   ]
  },
  {
   "cell_type": "markdown",
   "metadata": {},
   "source": [
    "Если исключить всплески, то можно сказать, что чем ближе к центру объект - тем дороже он стоит. Однако есть 2 всплеска, которые могут быть связаны с выгодным местоположением объекта относительно каких-то параметров."
   ]
  },
  {
   "cell_type": "markdown",
   "metadata": {},
   "source": [
    "### Общий вывод"
   ]
  },
  {
   "cell_type": "markdown",
   "metadata": {},
   "source": [
    "<b>Шаг 1. Открытие файла с данными и изучение общей информации</b>\n",
    "<br>\n",
    "Данные были успешно загружены, никаких проблем не возникло. Дана предварительная оценка данных: в некоторых столбцах присутсвуют пропуски и аномальные значения.\n",
    "<br><br>\n",
    "\n",
    "<b>Шаг 2. Предобработка данных</b>\n",
    "<br>\n",
    "Был переименован столбец cityCenters_nearest в соотсветсвии со \"змеинным регистром\". Были найдены и обработаны (где возможно) пропуски в столбцах: одна часть удалена, вторая заполнена, третья - не тронута. Значения в некоторых столбцах были приведены к правильным типам данных, чтобы можно было корретно выполнять дальнейшие задачи. Были устранены неявные дубликаты в данных для дальнейшего корретного анализа. Также были обработаны и устранены аномальные значения в столбцах (в частности, удалены аномально большие значения потолков).\n",
    "<br><br>\n",
    "\n",
    "<b>Шаг 3. Добавление в таблицу новых столбцов</b>\n",
    "<br>\n",
    "В данные было решено добавить некоторые параметры для дальнейшего анализа:\n",
    "<li>цена одного квадратного метра - cost_meter</li>\n",
    "<li>день недели публикации объявления - day_publication</li>\n",
    "<li>месяц публикации объявления - month_publication</li>\n",
    "<li>год публикации объявления - year_publication</li>\n",
    "<li>тип этажа квартиры - type_floor</li>\n",
    "<li>расстояние до центра города в километраx - distance_to_center</li>\n",
    "<br><br>\n",
    "\n",
    "<b>Шаг 4. Исследовательский анализ данных</b>\n",
    "<br>\n",
    "Были изучены параметры объектов и сделаны следующие выводы:\n",
    "<li>Общая площадь квартир в большинствк своем находится в диапазоне от 30 до 100 кв.м.;</li>\n",
    "<li>Жилая площадь квартир находится в основном в двух диапазлнах: от 17 до 21 кв.м. и от 25 до 60 кв.м.;</li>\n",
    "<li>Площадь кухни в среднем составляет от 5 до 30 кв.м.;</li>\n",
    "<li>Цена объектов в основном лежит в диапазоне от 2 до 8 млн. руб.;</li>\n",
    "<li>количество комнат у большинства объектов - от 1 до 3;</li>\n",
    "<li>Высота потолков для большинства объектов составляет от 2,5 до 3 метров;</li>\n",
    "<li>Болишнство квартир расположено на 1-10 этажах;</li>\n",
    "<li>Большинство квартир находится между первым и последним этажами, преимущественно ближе к первому;</li>\n",
    "<li>Основная часть квартир расположена в домах с этажностью не выше 25;</li>\n",
    "<li>Большинство квартир расположены до 20км от центра города;</li>\n",
    "<li>Основная часть квартир удалены от аэропорта на расстояние от 8 до 60км;</li>\n",
    "<li>Большинство квартир удалены от ближайшего парка на расстояние до 1км;</li>\n",
    "<li>Большинство объялвений было опубликовано в будние дни с февраля по март.</li>\n",
    "<br>\n",
    "Также в процессе анализа были выялвены следующие факты и закономерности:\n",
    "<li>В среднем продажа квартиры составляет 180 дней, то есть около полугода. Медианное время продажи - 95 дней.</li>\n",
    "<li>На общую стоиомсть объекта больше всего влияют такие параметры, как жилая и общая площади, а также год объявления.</li>\n",
    "<li>Самая высокая стоимость 1 кв.м. среди населенных пунктов с наибольшим числом объявлений в Санкт-Петербурге - 115 347 руб.; самая низкая в Всеволожске - 67 268 руб.</li>\n",
    "<li>Если исключить всплески, то чем ближе к центру объект - тем дороже он стоит. Однако есть 2 всплеска, которые могут быть связаны с выгодным местоположением объекта относительно каких-то параметров.</li>\n",
    "<br><br>"
   ]
  }
 ],
 "metadata": {
  "ExecuteTimeLog": [
   {
    "duration": 663,
    "start_time": "2023-02-17T19:15:12.140Z"
   },
   {
    "duration": 175,
    "start_time": "2023-02-17T19:15:25.687Z"
   },
   {
    "duration": 109,
    "start_time": "2023-02-17T19:15:36.323Z"
   },
   {
    "duration": 162,
    "start_time": "2023-02-17T19:15:45.448Z"
   },
   {
    "duration": 175,
    "start_time": "2023-02-17T19:15:55.990Z"
   },
   {
    "duration": 145,
    "start_time": "2023-02-17T19:16:14.339Z"
   },
   {
    "duration": 201,
    "start_time": "2023-02-17T19:18:46.994Z"
   },
   {
    "duration": 154,
    "start_time": "2023-02-17T19:22:20.802Z"
   },
   {
    "duration": 80,
    "start_time": "2023-02-20T19:46:10.846Z"
   },
   {
    "duration": 488,
    "start_time": "2023-02-20T19:46:30.280Z"
   },
   {
    "duration": 77,
    "start_time": "2023-02-20T19:47:41.332Z"
   },
   {
    "duration": 83,
    "start_time": "2023-02-20T19:47:43.253Z"
   },
   {
    "duration": 125,
    "start_time": "2023-02-20T19:48:00.302Z"
   },
   {
    "duration": 14,
    "start_time": "2023-02-20T19:50:20.961Z"
   },
   {
    "duration": 13,
    "start_time": "2023-02-20T19:52:48.794Z"
   },
   {
    "duration": 58,
    "start_time": "2023-02-20T19:59:49.127Z"
   },
   {
    "duration": 2582,
    "start_time": "2023-02-20T19:59:57.282Z"
   },
   {
    "duration": 1838,
    "start_time": "2023-02-20T20:00:42.199Z"
   },
   {
    "duration": 2358,
    "start_time": "2023-02-20T20:01:03.209Z"
   },
   {
    "duration": 2532,
    "start_time": "2023-02-20T20:01:24.147Z"
   },
   {
    "duration": 2088,
    "start_time": "2023-02-20T20:01:34.700Z"
   },
   {
    "duration": 85,
    "start_time": "2023-02-20T20:11:30.993Z"
   },
   {
    "duration": 93,
    "start_time": "2023-02-20T20:12:08.305Z"
   },
   {
    "duration": 6,
    "start_time": "2023-02-20T20:27:24.740Z"
   },
   {
    "duration": 4,
    "start_time": "2023-02-20T20:33:02.211Z"
   },
   {
    "duration": 8,
    "start_time": "2023-02-20T20:33:33.127Z"
   },
   {
    "duration": 8,
    "start_time": "2023-02-20T20:42:45.322Z"
   },
   {
    "duration": 8,
    "start_time": "2023-02-20T20:48:36.389Z"
   },
   {
    "duration": 3,
    "start_time": "2023-02-20T20:56:13.059Z"
   },
   {
    "duration": 5,
    "start_time": "2023-02-20T21:38:22.020Z"
   },
   {
    "duration": 14,
    "start_time": "2023-02-20T21:40:42.838Z"
   },
   {
    "duration": 26,
    "start_time": "2023-02-20T21:41:01.208Z"
   },
   {
    "duration": 38,
    "start_time": "2023-02-20T21:43:12.750Z"
   },
   {
    "duration": 28,
    "start_time": "2023-02-20T21:43:31.035Z"
   },
   {
    "duration": 9,
    "start_time": "2023-02-20T21:46:32.180Z"
   },
   {
    "duration": 9,
    "start_time": "2023-02-20T21:47:14.687Z"
   },
   {
    "duration": 25,
    "start_time": "2023-02-20T21:52:07.998Z"
   },
   {
    "duration": 9,
    "start_time": "2023-02-20T21:55:52.414Z"
   },
   {
    "duration": 10,
    "start_time": "2023-02-20T21:56:14.635Z"
   },
   {
    "duration": 7,
    "start_time": "2023-02-20T22:01:42.178Z"
   },
   {
    "duration": 10,
    "start_time": "2023-02-20T22:09:17.089Z"
   },
   {
    "duration": 22,
    "start_time": "2023-02-20T22:25:23.799Z"
   },
   {
    "duration": 34,
    "start_time": "2023-02-20T22:27:27.193Z"
   },
   {
    "duration": 47,
    "start_time": "2023-02-20T22:28:16.299Z"
   },
   {
    "duration": 67,
    "start_time": "2023-02-20T22:29:48.663Z"
   },
   {
    "duration": 86,
    "start_time": "2023-02-20T22:35:15.021Z"
   },
   {
    "duration": 25,
    "start_time": "2023-02-20T22:45:29.497Z"
   },
   {
    "duration": 29,
    "start_time": "2023-02-20T22:46:22.905Z"
   },
   {
    "duration": 39,
    "start_time": "2023-02-20T23:02:59.518Z"
   },
   {
    "duration": 45,
    "start_time": "2023-02-20T23:03:22.379Z"
   },
   {
    "duration": 40,
    "start_time": "2023-02-20T23:03:33.937Z"
   },
   {
    "duration": 15,
    "start_time": "2023-02-20T23:03:42.970Z"
   },
   {
    "duration": 51,
    "start_time": "2023-02-21T11:20:21.777Z"
   },
   {
    "duration": 588,
    "start_time": "2023-02-21T11:20:32.367Z"
   },
   {
    "duration": 15,
    "start_time": "2023-02-21T11:20:32.957Z"
   },
   {
    "duration": 2656,
    "start_time": "2023-02-21T11:20:32.974Z"
   },
   {
    "duration": 6,
    "start_time": "2023-02-21T11:20:35.632Z"
   },
   {
    "duration": 21,
    "start_time": "2023-02-21T11:20:35.640Z"
   },
   {
    "duration": 26,
    "start_time": "2023-02-21T11:20:35.663Z"
   },
   {
    "duration": 6,
    "start_time": "2023-02-21T11:20:35.691Z"
   },
   {
    "duration": 6,
    "start_time": "2023-02-21T11:20:35.699Z"
   },
   {
    "duration": 24,
    "start_time": "2023-02-21T11:20:35.706Z"
   },
   {
    "duration": 32,
    "start_time": "2023-02-21T11:20:35.732Z"
   },
   {
    "duration": 8,
    "start_time": "2023-02-21T11:20:35.766Z"
   },
   {
    "duration": 29,
    "start_time": "2023-02-21T11:20:35.776Z"
   },
   {
    "duration": 22,
    "start_time": "2023-02-21T11:20:35.806Z"
   },
   {
    "duration": 23,
    "start_time": "2023-02-21T11:20:35.830Z"
   },
   {
    "duration": 44,
    "start_time": "2023-02-21T11:20:35.856Z"
   },
   {
    "duration": 44,
    "start_time": "2023-02-21T11:20:35.902Z"
   },
   {
    "duration": 78,
    "start_time": "2023-02-21T11:20:35.948Z"
   },
   {
    "duration": 108,
    "start_time": "2023-02-21T11:20:36.028Z"
   },
   {
    "duration": 40,
    "start_time": "2023-02-21T11:20:36.137Z"
   },
   {
    "duration": 15,
    "start_time": "2023-02-21T11:20:36.179Z"
   },
   {
    "duration": 5,
    "start_time": "2023-02-21T11:20:36.196Z"
   },
   {
    "duration": 4,
    "start_time": "2023-02-21T11:20:37.998Z"
   },
   {
    "duration": 6,
    "start_time": "2023-02-21T11:23:15.498Z"
   },
   {
    "duration": 76,
    "start_time": "2023-02-21T11:23:27.291Z"
   },
   {
    "duration": 1153,
    "start_time": "2023-02-21T11:23:34.765Z"
   },
   {
    "duration": 7,
    "start_time": "2023-02-21T11:23:53.293Z"
   },
   {
    "duration": 4,
    "start_time": "2023-02-21T11:24:00.877Z"
   },
   {
    "duration": 4,
    "start_time": "2023-02-21T11:24:44.377Z"
   },
   {
    "duration": 5,
    "start_time": "2023-02-21T11:25:19.654Z"
   },
   {
    "duration": 4,
    "start_time": "2023-02-21T11:25:27.338Z"
   },
   {
    "duration": 5,
    "start_time": "2023-02-21T11:25:29.219Z"
   },
   {
    "duration": 6,
    "start_time": "2023-02-21T11:25:44.263Z"
   },
   {
    "duration": 4,
    "start_time": "2023-02-21T11:25:45.864Z"
   },
   {
    "duration": 8,
    "start_time": "2023-02-21T11:28:24.274Z"
   },
   {
    "duration": 120,
    "start_time": "2023-02-21T11:34:52.635Z"
   },
   {
    "duration": 9,
    "start_time": "2023-02-21T11:35:30.018Z"
   },
   {
    "duration": 1082,
    "start_time": "2023-02-21T11:37:22.750Z"
   },
   {
    "duration": 1298,
    "start_time": "2023-02-21T11:42:47.273Z"
   },
   {
    "duration": 542,
    "start_time": "2023-02-21T11:43:13.854Z"
   },
   {
    "duration": 16,
    "start_time": "2023-02-21T11:43:14.398Z"
   },
   {
    "duration": 2466,
    "start_time": "2023-02-21T11:43:14.416Z"
   },
   {
    "duration": 6,
    "start_time": "2023-02-21T11:43:16.884Z"
   },
   {
    "duration": 13,
    "start_time": "2023-02-21T11:43:16.892Z"
   },
   {
    "duration": 19,
    "start_time": "2023-02-21T11:43:16.907Z"
   },
   {
    "duration": 17,
    "start_time": "2023-02-21T11:43:16.928Z"
   },
   {
    "duration": 9,
    "start_time": "2023-02-21T11:43:16.947Z"
   },
   {
    "duration": 12,
    "start_time": "2023-02-21T11:43:16.958Z"
   },
   {
    "duration": 32,
    "start_time": "2023-02-21T11:43:16.971Z"
   },
   {
    "duration": 8,
    "start_time": "2023-02-21T11:43:17.004Z"
   },
   {
    "duration": 22,
    "start_time": "2023-02-21T11:43:17.013Z"
   },
   {
    "duration": 9,
    "start_time": "2023-02-21T11:43:17.053Z"
   },
   {
    "duration": 16,
    "start_time": "2023-02-21T11:43:17.066Z"
   },
   {
    "duration": 35,
    "start_time": "2023-02-21T11:43:17.084Z"
   },
   {
    "duration": 52,
    "start_time": "2023-02-21T11:43:17.121Z"
   },
   {
    "duration": 83,
    "start_time": "2023-02-21T11:43:17.175Z"
   },
   {
    "duration": 96,
    "start_time": "2023-02-21T11:43:17.260Z"
   },
   {
    "duration": 44,
    "start_time": "2023-02-21T11:43:17.358Z"
   },
   {
    "duration": 40,
    "start_time": "2023-02-21T11:43:17.406Z"
   },
   {
    "duration": 5,
    "start_time": "2023-02-21T11:43:17.448Z"
   },
   {
    "duration": 41,
    "start_time": "2023-02-21T11:43:17.455Z"
   },
   {
    "duration": 9,
    "start_time": "2023-02-21T11:43:17.499Z"
   },
   {
    "duration": 23,
    "start_time": "2023-02-21T11:43:17.510Z"
   },
   {
    "duration": 43,
    "start_time": "2023-02-21T11:43:17.535Z"
   },
   {
    "duration": 23,
    "start_time": "2023-02-21T11:43:17.603Z"
   },
   {
    "duration": 18,
    "start_time": "2023-02-21T11:45:11.272Z"
   },
   {
    "duration": 7,
    "start_time": "2023-02-21T11:45:46.236Z"
   },
   {
    "duration": 17,
    "start_time": "2023-02-21T11:45:48.492Z"
   },
   {
    "duration": 141,
    "start_time": "2023-02-21T12:02:51.814Z"
   },
   {
    "duration": 152,
    "start_time": "2023-02-21T12:03:10.379Z"
   },
   {
    "duration": 143,
    "start_time": "2023-02-21T12:03:18.825Z"
   },
   {
    "duration": 153,
    "start_time": "2023-02-21T12:03:24.284Z"
   },
   {
    "duration": 187,
    "start_time": "2023-02-21T12:03:34.508Z"
   },
   {
    "duration": 362,
    "start_time": "2023-02-21T12:03:39.817Z"
   },
   {
    "duration": 235,
    "start_time": "2023-02-21T12:03:46.470Z"
   },
   {
    "duration": 248,
    "start_time": "2023-02-21T12:04:15.130Z"
   },
   {
    "duration": 247,
    "start_time": "2023-02-21T12:04:44.887Z"
   },
   {
    "duration": 249,
    "start_time": "2023-02-21T12:04:56.868Z"
   },
   {
    "duration": 374,
    "start_time": "2023-02-21T12:05:15.581Z"
   },
   {
    "duration": 241,
    "start_time": "2023-02-21T12:05:21.931Z"
   },
   {
    "duration": 283,
    "start_time": "2023-02-21T12:05:31.801Z"
   },
   {
    "duration": 301,
    "start_time": "2023-02-21T12:12:04.945Z"
   },
   {
    "duration": 259,
    "start_time": "2023-02-21T12:12:22.740Z"
   },
   {
    "duration": 796,
    "start_time": "2023-02-21T12:13:07.379Z"
   },
   {
    "duration": 308,
    "start_time": "2023-02-21T12:17:38.016Z"
   },
   {
    "duration": 280,
    "start_time": "2023-02-21T12:17:45.975Z"
   },
   {
    "duration": 324,
    "start_time": "2023-02-21T12:20:37.638Z"
   },
   {
    "duration": 269,
    "start_time": "2023-02-21T12:20:47.143Z"
   },
   {
    "duration": 276,
    "start_time": "2023-02-21T12:21:18.754Z"
   },
   {
    "duration": 434,
    "start_time": "2023-02-21T12:21:22.309Z"
   },
   {
    "duration": 294,
    "start_time": "2023-02-21T12:21:26.751Z"
   },
   {
    "duration": 267,
    "start_time": "2023-02-21T12:21:33.675Z"
   },
   {
    "duration": 302,
    "start_time": "2023-02-21T12:21:38.298Z"
   },
   {
    "duration": 278,
    "start_time": "2023-02-21T12:21:42.875Z"
   },
   {
    "duration": 286,
    "start_time": "2023-02-21T12:21:52.042Z"
   },
   {
    "duration": 267,
    "start_time": "2023-02-21T12:24:25.115Z"
   },
   {
    "duration": 294,
    "start_time": "2023-02-21T12:24:53.498Z"
   },
   {
    "duration": 492,
    "start_time": "2023-02-21T12:26:32.800Z"
   },
   {
    "duration": 302,
    "start_time": "2023-02-21T12:26:39.635Z"
   },
   {
    "duration": 303,
    "start_time": "2023-02-21T12:28:10.357Z"
   },
   {
    "duration": 318,
    "start_time": "2023-02-21T12:28:20.654Z"
   },
   {
    "duration": 118,
    "start_time": "2023-02-21T12:29:50.554Z"
   },
   {
    "duration": 19,
    "start_time": "2023-02-21T12:30:17.372Z"
   },
   {
    "duration": 190,
    "start_time": "2023-02-21T12:30:32.778Z"
   },
   {
    "duration": 15,
    "start_time": "2023-02-21T12:31:01.971Z"
   },
   {
    "duration": 22,
    "start_time": "2023-02-21T12:31:09.116Z"
   },
   {
    "duration": 7,
    "start_time": "2023-02-21T12:33:53.853Z"
   },
   {
    "duration": 624,
    "start_time": "2023-02-21T12:37:54.727Z"
   },
   {
    "duration": 1559,
    "start_time": "2023-02-21T12:38:01.985Z"
   },
   {
    "duration": 1401,
    "start_time": "2023-02-21T12:38:59.101Z"
   },
   {
    "duration": 1576,
    "start_time": "2023-02-21T12:39:24.451Z"
   },
   {
    "duration": 4763,
    "start_time": "2023-02-21T12:40:11.736Z"
   },
   {
    "duration": 9,
    "start_time": "2023-02-21T12:41:01.605Z"
   },
   {
    "duration": 7,
    "start_time": "2023-02-21T12:41:19.168Z"
   },
   {
    "duration": 8,
    "start_time": "2023-02-21T12:43:02.174Z"
   },
   {
    "duration": 7,
    "start_time": "2023-02-21T12:43:18.535Z"
   },
   {
    "duration": 15,
    "start_time": "2023-02-21T12:43:43.080Z"
   },
   {
    "duration": 26,
    "start_time": "2023-02-21T12:45:21.885Z"
   },
   {
    "duration": 23,
    "start_time": "2023-02-21T12:45:47.552Z"
   },
   {
    "duration": 220,
    "start_time": "2023-02-21T12:46:37.763Z"
   },
   {
    "duration": 195,
    "start_time": "2023-02-21T12:46:47.447Z"
   },
   {
    "duration": 166,
    "start_time": "2023-02-21T12:48:13.179Z"
   },
   {
    "duration": 200,
    "start_time": "2023-02-21T12:48:32.048Z"
   },
   {
    "duration": 9,
    "start_time": "2023-02-21T12:51:51.800Z"
   },
   {
    "duration": 13,
    "start_time": "2023-02-21T12:53:59.182Z"
   },
   {
    "duration": 8,
    "start_time": "2023-02-21T12:54:23.230Z"
   },
   {
    "duration": 16,
    "start_time": "2023-02-21T12:54:41.541Z"
   },
   {
    "duration": 297,
    "start_time": "2023-02-21T12:56:20.216Z"
   },
   {
    "duration": 27,
    "start_time": "2023-02-21T13:03:29.392Z"
   },
   {
    "duration": 22,
    "start_time": "2023-02-21T13:03:51.347Z"
   },
   {
    "duration": 1643,
    "start_time": "2023-02-21T13:04:57.369Z"
   },
   {
    "duration": 1409,
    "start_time": "2023-02-21T13:05:10.038Z"
   },
   {
    "duration": 49,
    "start_time": "2023-02-21T13:05:11.457Z"
   },
   {
    "duration": 2563,
    "start_time": "2023-02-21T13:05:11.508Z"
   },
   {
    "duration": 7,
    "start_time": "2023-02-21T13:05:14.073Z"
   },
   {
    "duration": 35,
    "start_time": "2023-02-21T13:05:14.085Z"
   },
   {
    "duration": 12,
    "start_time": "2023-02-21T13:05:14.122Z"
   },
   {
    "duration": 8,
    "start_time": "2023-02-21T13:05:14.136Z"
   },
   {
    "duration": 6,
    "start_time": "2023-02-21T13:05:14.146Z"
   },
   {
    "duration": 62,
    "start_time": "2023-02-21T13:05:14.153Z"
   },
   {
    "duration": 53,
    "start_time": "2023-02-21T13:05:14.217Z"
   },
   {
    "duration": 12,
    "start_time": "2023-02-21T13:05:14.271Z"
   },
   {
    "duration": 38,
    "start_time": "2023-02-21T13:05:14.285Z"
   },
   {
    "duration": 8,
    "start_time": "2023-02-21T13:05:14.324Z"
   },
   {
    "duration": 29,
    "start_time": "2023-02-21T13:05:14.335Z"
   },
   {
    "duration": 38,
    "start_time": "2023-02-21T13:05:14.373Z"
   },
   {
    "duration": 42,
    "start_time": "2023-02-21T13:05:14.412Z"
   },
   {
    "duration": 94,
    "start_time": "2023-02-21T13:05:14.464Z"
   },
   {
    "duration": 105,
    "start_time": "2023-02-21T13:05:14.560Z"
   },
   {
    "duration": 46,
    "start_time": "2023-02-21T13:05:14.674Z"
   },
   {
    "duration": 16,
    "start_time": "2023-02-21T13:05:14.722Z"
   },
   {
    "duration": 4,
    "start_time": "2023-02-21T13:05:14.740Z"
   },
   {
    "duration": 9,
    "start_time": "2023-02-21T13:05:14.746Z"
   },
   {
    "duration": 42,
    "start_time": "2023-02-21T13:05:14.763Z"
   },
   {
    "duration": 9,
    "start_time": "2023-02-21T13:05:14.807Z"
   },
   {
    "duration": 8,
    "start_time": "2023-02-21T13:05:14.817Z"
   },
   {
    "duration": 5,
    "start_time": "2023-02-21T13:05:14.826Z"
   },
   {
    "duration": 152,
    "start_time": "2023-02-21T13:05:14.833Z"
   },
   {
    "duration": 0,
    "start_time": "2023-02-21T13:05:14.989Z"
   },
   {
    "duration": 0,
    "start_time": "2023-02-21T13:05:14.995Z"
   },
   {
    "duration": 0,
    "start_time": "2023-02-21T13:05:14.995Z"
   },
   {
    "duration": 0,
    "start_time": "2023-02-21T13:05:14.996Z"
   },
   {
    "duration": 0,
    "start_time": "2023-02-21T13:05:14.997Z"
   },
   {
    "duration": 0,
    "start_time": "2023-02-21T13:05:14.998Z"
   },
   {
    "duration": 0,
    "start_time": "2023-02-21T13:05:14.999Z"
   },
   {
    "duration": 0,
    "start_time": "2023-02-21T13:05:15.000Z"
   },
   {
    "duration": 0,
    "start_time": "2023-02-21T13:05:15.003Z"
   },
   {
    "duration": 0,
    "start_time": "2023-02-21T13:05:15.005Z"
   },
   {
    "duration": 0,
    "start_time": "2023-02-21T13:05:15.006Z"
   },
   {
    "duration": 1755,
    "start_time": "2023-02-21T13:05:15.621Z"
   },
   {
    "duration": 4,
    "start_time": "2023-02-21T13:05:26.227Z"
   },
   {
    "duration": 193,
    "start_time": "2023-02-21T13:05:43.810Z"
   },
   {
    "duration": 323,
    "start_time": "2023-02-21T13:05:54.710Z"
   },
   {
    "duration": 367,
    "start_time": "2023-02-21T13:06:01.738Z"
   },
   {
    "duration": 311,
    "start_time": "2023-02-21T13:11:01.932Z"
   },
   {
    "duration": 314,
    "start_time": "2023-02-21T13:12:26.197Z"
   },
   {
    "duration": 24,
    "start_time": "2023-02-21T13:13:42.991Z"
   },
   {
    "duration": 14,
    "start_time": "2023-02-21T13:13:47.437Z"
   },
   {
    "duration": 319,
    "start_time": "2023-02-21T13:14:33.676Z"
   },
   {
    "duration": 111,
    "start_time": "2023-02-21T13:14:42.295Z"
   },
   {
    "duration": 321,
    "start_time": "2023-02-21T13:14:49.087Z"
   },
   {
    "duration": 706,
    "start_time": "2023-02-21T13:15:42.749Z"
   },
   {
    "duration": 161,
    "start_time": "2023-02-21T13:22:41.027Z"
   },
   {
    "duration": 353,
    "start_time": "2023-02-21T13:22:57.179Z"
   },
   {
    "duration": 331,
    "start_time": "2023-02-21T13:23:15.294Z"
   },
   {
    "duration": 923,
    "start_time": "2023-02-21T13:24:25.981Z"
   },
   {
    "duration": 704,
    "start_time": "2023-02-21T13:24:38.421Z"
   },
   {
    "duration": 608,
    "start_time": "2023-02-21T13:25:33.513Z"
   },
   {
    "duration": 506,
    "start_time": "2023-02-21T13:25:56.924Z"
   },
   {
    "duration": 5,
    "start_time": "2023-02-21T13:34:11.828Z"
   },
   {
    "duration": 7,
    "start_time": "2023-02-21T13:34:28.865Z"
   },
   {
    "duration": 128,
    "start_time": "2023-02-21T13:40:54.345Z"
   },
   {
    "duration": 104,
    "start_time": "2023-02-21T13:41:14.699Z"
   },
   {
    "duration": 290,
    "start_time": "2023-02-21T13:44:57.502Z"
   },
   {
    "duration": 267,
    "start_time": "2023-02-21T13:45:21.476Z"
   },
   {
    "duration": 244,
    "start_time": "2023-02-21T13:45:36.378Z"
   },
   {
    "duration": 140,
    "start_time": "2023-02-21T13:47:27.389Z"
   },
   {
    "duration": 161,
    "start_time": "2023-02-21T13:47:31.680Z"
   },
   {
    "duration": 173,
    "start_time": "2023-02-21T13:47:43.288Z"
   },
   {
    "duration": 259,
    "start_time": "2023-02-21T13:47:53.052Z"
   },
   {
    "duration": 230,
    "start_time": "2023-02-21T13:47:57.872Z"
   },
   {
    "duration": 211,
    "start_time": "2023-02-21T13:48:02.381Z"
   },
   {
    "duration": 194,
    "start_time": "2023-02-21T13:48:08.750Z"
   },
   {
    "duration": 185,
    "start_time": "2023-02-21T13:49:08.722Z"
   },
   {
    "duration": 146,
    "start_time": "2023-02-21T13:49:40.023Z"
   },
   {
    "duration": 190,
    "start_time": "2023-02-21T13:49:47.819Z"
   },
   {
    "duration": 261,
    "start_time": "2023-02-21T13:49:55.172Z"
   },
   {
    "duration": 250,
    "start_time": "2023-02-21T13:50:01.437Z"
   },
   {
    "duration": 249,
    "start_time": "2023-02-21T13:50:47.274Z"
   },
   {
    "duration": 244,
    "start_time": "2023-02-21T13:50:51.786Z"
   },
   {
    "duration": 280,
    "start_time": "2023-02-21T13:50:56.910Z"
   },
   {
    "duration": 306,
    "start_time": "2023-02-21T13:51:06.382Z"
   },
   {
    "duration": 257,
    "start_time": "2023-02-21T13:51:29.610Z"
   },
   {
    "duration": 309,
    "start_time": "2023-02-21T13:51:35.189Z"
   },
   {
    "duration": 231,
    "start_time": "2023-02-21T13:51:40.524Z"
   },
   {
    "duration": 260,
    "start_time": "2023-02-21T13:55:34.743Z"
   },
   {
    "duration": 285,
    "start_time": "2023-02-21T13:57:55.492Z"
   },
   {
    "duration": 301,
    "start_time": "2023-02-21T13:58:06.628Z"
   },
   {
    "duration": 290,
    "start_time": "2023-02-21T13:58:23.576Z"
   },
   {
    "duration": 244,
    "start_time": "2023-02-21T14:00:15.295Z"
   },
   {
    "duration": 17,
    "start_time": "2023-02-21T14:26:40.119Z"
   },
   {
    "duration": 620,
    "start_time": "2023-02-21T14:27:11.277Z"
   },
   {
    "duration": 15,
    "start_time": "2023-02-21T14:27:11.899Z"
   },
   {
    "duration": 2710,
    "start_time": "2023-02-21T14:27:11.916Z"
   },
   {
    "duration": 5,
    "start_time": "2023-02-21T14:27:14.629Z"
   },
   {
    "duration": 13,
    "start_time": "2023-02-21T14:27:14.636Z"
   },
   {
    "duration": 21,
    "start_time": "2023-02-21T14:27:14.651Z"
   },
   {
    "duration": 22,
    "start_time": "2023-02-21T14:27:14.673Z"
   },
   {
    "duration": 8,
    "start_time": "2023-02-21T14:27:14.697Z"
   },
   {
    "duration": 10,
    "start_time": "2023-02-21T14:27:14.707Z"
   },
   {
    "duration": 32,
    "start_time": "2023-02-21T14:27:14.720Z"
   },
   {
    "duration": 13,
    "start_time": "2023-02-21T14:27:14.761Z"
   },
   {
    "duration": 20,
    "start_time": "2023-02-21T14:27:14.778Z"
   },
   {
    "duration": 25,
    "start_time": "2023-02-21T14:27:14.800Z"
   },
   {
    "duration": 23,
    "start_time": "2023-02-21T14:27:14.827Z"
   },
   {
    "duration": 56,
    "start_time": "2023-02-21T14:27:14.851Z"
   },
   {
    "duration": 40,
    "start_time": "2023-02-21T14:27:14.909Z"
   },
   {
    "duration": 100,
    "start_time": "2023-02-21T14:27:14.951Z"
   },
   {
    "duration": 125,
    "start_time": "2023-02-21T14:27:15.053Z"
   },
   {
    "duration": 33,
    "start_time": "2023-02-21T14:27:15.179Z"
   },
   {
    "duration": 15,
    "start_time": "2023-02-21T14:27:15.214Z"
   },
   {
    "duration": 4,
    "start_time": "2023-02-21T14:27:15.230Z"
   },
   {
    "duration": 40,
    "start_time": "2023-02-21T14:27:15.235Z"
   },
   {
    "duration": 24,
    "start_time": "2023-02-21T14:27:15.277Z"
   },
   {
    "duration": 5,
    "start_time": "2023-02-21T14:27:15.303Z"
   },
   {
    "duration": 6,
    "start_time": "2023-02-21T14:27:15.310Z"
   },
   {
    "duration": 5,
    "start_time": "2023-02-21T14:27:15.317Z"
   },
   {
    "duration": 90,
    "start_time": "2023-02-21T14:27:15.324Z"
   },
   {
    "duration": 0,
    "start_time": "2023-02-21T14:27:15.417Z"
   },
   {
    "duration": 0,
    "start_time": "2023-02-21T14:27:15.419Z"
   },
   {
    "duration": 0,
    "start_time": "2023-02-21T14:27:15.420Z"
   },
   {
    "duration": 0,
    "start_time": "2023-02-21T14:27:15.421Z"
   },
   {
    "duration": 0,
    "start_time": "2023-02-21T14:27:15.422Z"
   },
   {
    "duration": 0,
    "start_time": "2023-02-21T14:27:15.423Z"
   },
   {
    "duration": 0,
    "start_time": "2023-02-21T14:27:15.424Z"
   },
   {
    "duration": 0,
    "start_time": "2023-02-21T14:27:15.425Z"
   },
   {
    "duration": 0,
    "start_time": "2023-02-21T14:27:15.426Z"
   },
   {
    "duration": 0,
    "start_time": "2023-02-21T14:27:15.427Z"
   },
   {
    "duration": 0,
    "start_time": "2023-02-21T14:27:15.428Z"
   },
   {
    "duration": 0,
    "start_time": "2023-02-21T14:27:15.453Z"
   },
   {
    "duration": 0,
    "start_time": "2023-02-21T14:27:15.454Z"
   },
   {
    "duration": 0,
    "start_time": "2023-02-21T14:27:15.455Z"
   },
   {
    "duration": 0,
    "start_time": "2023-02-21T14:27:15.458Z"
   },
   {
    "duration": 0,
    "start_time": "2023-02-21T14:27:15.458Z"
   },
   {
    "duration": 0,
    "start_time": "2023-02-21T14:27:15.459Z"
   },
   {
    "duration": 0,
    "start_time": "2023-02-21T14:27:15.460Z"
   },
   {
    "duration": 0,
    "start_time": "2023-02-21T14:27:15.466Z"
   },
   {
    "duration": 0,
    "start_time": "2023-02-21T14:27:15.467Z"
   },
   {
    "duration": 0,
    "start_time": "2023-02-21T14:27:15.470Z"
   },
   {
    "duration": 1496,
    "start_time": "2023-02-21T14:27:24.238Z"
   },
   {
    "duration": 1484,
    "start_time": "2023-02-21T14:27:39.079Z"
   },
   {
    "duration": 31,
    "start_time": "2023-02-21T14:28:19.953Z"
   },
   {
    "duration": 222,
    "start_time": "2023-02-21T14:28:59.621Z"
   },
   {
    "duration": 1610,
    "start_time": "2023-02-21T14:30:20.384Z"
   },
   {
    "duration": 166,
    "start_time": "2023-02-21T14:31:23.326Z"
   },
   {
    "duration": 259,
    "start_time": "2023-02-21T14:31:34.132Z"
   },
   {
    "duration": 161,
    "start_time": "2023-02-21T14:31:38.991Z"
   },
   {
    "duration": 175,
    "start_time": "2023-02-21T14:33:14.533Z"
   },
   {
    "duration": 1527,
    "start_time": "2023-02-21T14:40:43.873Z"
   },
   {
    "duration": 175,
    "start_time": "2023-02-21T14:41:43.697Z"
   },
   {
    "duration": 502,
    "start_time": "2023-02-21T14:42:24.195Z"
   },
   {
    "duration": 215,
    "start_time": "2023-02-21T14:57:42.330Z"
   },
   {
    "duration": 190,
    "start_time": "2023-02-21T14:57:43.897Z"
   },
   {
    "duration": 182,
    "start_time": "2023-02-21T14:57:45.608Z"
   },
   {
    "duration": 188,
    "start_time": "2023-02-21T14:58:04.433Z"
   },
   {
    "duration": 211,
    "start_time": "2023-02-21T14:58:10.396Z"
   },
   {
    "duration": 259,
    "start_time": "2023-02-21T14:58:27.862Z"
   },
   {
    "duration": 253,
    "start_time": "2023-02-21T14:58:43.230Z"
   },
   {
    "duration": 215,
    "start_time": "2023-02-21T14:58:59.234Z"
   },
   {
    "duration": 193,
    "start_time": "2023-02-21T14:59:36.170Z"
   },
   {
    "duration": 667,
    "start_time": "2023-02-21T15:00:52.099Z"
   },
   {
    "duration": 643,
    "start_time": "2023-02-21T15:01:17.428Z"
   },
   {
    "duration": 569,
    "start_time": "2023-02-21T15:04:43.734Z"
   },
   {
    "duration": 24,
    "start_time": "2023-02-21T15:09:56.598Z"
   },
   {
    "duration": 23,
    "start_time": "2023-02-21T15:10:22.808Z"
   },
   {
    "duration": 41,
    "start_time": "2023-02-21T15:10:43.730Z"
   },
   {
    "duration": 75,
    "start_time": "2023-02-21T15:11:28.068Z"
   },
   {
    "duration": 23,
    "start_time": "2023-02-21T15:13:21.479Z"
   },
   {
    "duration": 19,
    "start_time": "2023-02-21T15:13:32.921Z"
   },
   {
    "duration": 20,
    "start_time": "2023-02-21T15:15:31.744Z"
   },
   {
    "duration": 19,
    "start_time": "2023-02-21T15:16:03.697Z"
   },
   {
    "duration": 156,
    "start_time": "2023-02-21T15:25:58.387Z"
   },
   {
    "duration": 148,
    "start_time": "2023-02-21T15:29:44.899Z"
   },
   {
    "duration": 15,
    "start_time": "2023-02-21T15:34:45.300Z"
   },
   {
    "duration": 17,
    "start_time": "2023-02-21T16:17:08.124Z"
   },
   {
    "duration": 264,
    "start_time": "2023-02-21T16:24:21.724Z"
   },
   {
    "duration": 267,
    "start_time": "2023-02-21T16:27:21.830Z"
   },
   {
    "duration": 356,
    "start_time": "2023-02-21T16:41:03.892Z"
   },
   {
    "duration": 674,
    "start_time": "2023-02-21T16:41:07.491Z"
   },
   {
    "duration": 274,
    "start_time": "2023-02-21T16:41:10.433Z"
   },
   {
    "duration": 294,
    "start_time": "2023-02-21T16:41:12.637Z"
   },
   {
    "duration": 407,
    "start_time": "2023-02-21T16:41:14.955Z"
   },
   {
    "duration": 301,
    "start_time": "2023-02-21T16:41:17.308Z"
   },
   {
    "duration": 267,
    "start_time": "2023-02-21T16:41:20.181Z"
   },
   {
    "duration": 15,
    "start_time": "2023-02-21T16:41:22.338Z"
   },
   {
    "duration": 12,
    "start_time": "2023-02-21T16:41:28.523Z"
   },
   {
    "duration": 300,
    "start_time": "2023-02-21T16:41:32.393Z"
   },
   {
    "duration": 274,
    "start_time": "2023-02-21T16:41:34.973Z"
   },
   {
    "duration": 300,
    "start_time": "2023-02-21T16:41:37.133Z"
   },
   {
    "duration": 705,
    "start_time": "2023-02-21T16:41:39.957Z"
   },
   {
    "duration": 279,
    "start_time": "2023-02-21T16:41:43.485Z"
   },
   {
    "duration": 6,
    "start_time": "2023-02-21T16:41:45.970Z"
   },
   {
    "duration": 571,
    "start_time": "2023-02-21T21:01:31.058Z"
   },
   {
    "duration": 15,
    "start_time": "2023-02-21T21:01:31.631Z"
   },
   {
    "duration": 2321,
    "start_time": "2023-02-21T21:01:31.648Z"
   },
   {
    "duration": 6,
    "start_time": "2023-02-21T21:01:33.971Z"
   },
   {
    "duration": 28,
    "start_time": "2023-02-21T21:01:33.978Z"
   },
   {
    "duration": 23,
    "start_time": "2023-02-21T21:01:34.008Z"
   },
   {
    "duration": 6,
    "start_time": "2023-02-21T21:01:34.033Z"
   },
   {
    "duration": 7,
    "start_time": "2023-02-21T21:01:34.040Z"
   },
   {
    "duration": 12,
    "start_time": "2023-02-21T21:01:34.048Z"
   },
   {
    "duration": 37,
    "start_time": "2023-02-21T21:01:34.066Z"
   },
   {
    "duration": 8,
    "start_time": "2023-02-21T21:01:34.105Z"
   },
   {
    "duration": 14,
    "start_time": "2023-02-21T21:01:34.115Z"
   },
   {
    "duration": 7,
    "start_time": "2023-02-21T21:01:34.131Z"
   },
   {
    "duration": 31,
    "start_time": "2023-02-21T21:01:34.140Z"
   },
   {
    "duration": 33,
    "start_time": "2023-02-21T21:01:34.173Z"
   },
   {
    "duration": 37,
    "start_time": "2023-02-21T21:01:34.208Z"
   },
   {
    "duration": 87,
    "start_time": "2023-02-21T21:01:34.247Z"
   },
   {
    "duration": 105,
    "start_time": "2023-02-21T21:01:34.336Z"
   },
   {
    "duration": 38,
    "start_time": "2023-02-21T21:01:34.443Z"
   },
   {
    "duration": 13,
    "start_time": "2023-02-21T21:01:34.482Z"
   },
   {
    "duration": 4,
    "start_time": "2023-02-21T21:01:34.496Z"
   },
   {
    "duration": 12,
    "start_time": "2023-02-21T21:01:34.501Z"
   },
   {
    "duration": 9,
    "start_time": "2023-02-21T21:01:34.515Z"
   },
   {
    "duration": 5,
    "start_time": "2023-02-21T21:01:34.525Z"
   },
   {
    "duration": 11,
    "start_time": "2023-02-21T21:01:34.532Z"
   },
   {
    "duration": 28,
    "start_time": "2023-02-21T21:01:34.544Z"
   },
   {
    "duration": 19,
    "start_time": "2023-02-21T21:01:34.573Z"
   },
   {
    "duration": 256,
    "start_time": "2023-02-21T21:01:34.596Z"
   },
   {
    "duration": 563,
    "start_time": "2023-02-21T21:01:34.854Z"
   },
   {
    "duration": 382,
    "start_time": "2023-02-21T21:01:35.419Z"
   },
   {
    "duration": 272,
    "start_time": "2023-02-21T21:01:35.803Z"
   },
   {
    "duration": 251,
    "start_time": "2023-02-21T21:01:36.077Z"
   },
   {
    "duration": 254,
    "start_time": "2023-02-21T21:01:36.330Z"
   },
   {
    "duration": 282,
    "start_time": "2023-02-21T21:01:36.586Z"
   },
   {
    "duration": 72,
    "start_time": "2023-02-21T21:01:36.870Z"
   },
   {
    "duration": 0,
    "start_time": "2023-02-21T21:01:36.944Z"
   },
   {
    "duration": 0,
    "start_time": "2023-02-21T21:01:36.946Z"
   },
   {
    "duration": 0,
    "start_time": "2023-02-21T21:01:36.947Z"
   },
   {
    "duration": 0,
    "start_time": "2023-02-21T21:01:36.967Z"
   },
   {
    "duration": 0,
    "start_time": "2023-02-21T21:01:36.968Z"
   },
   {
    "duration": 0,
    "start_time": "2023-02-21T21:01:36.970Z"
   },
   {
    "duration": 0,
    "start_time": "2023-02-21T21:01:36.971Z"
   },
   {
    "duration": 0,
    "start_time": "2023-02-21T21:01:36.973Z"
   },
   {
    "duration": 0,
    "start_time": "2023-02-21T21:01:36.974Z"
   },
   {
    "duration": 0,
    "start_time": "2023-02-21T21:01:36.975Z"
   },
   {
    "duration": 0,
    "start_time": "2023-02-21T21:01:36.976Z"
   },
   {
    "duration": 0,
    "start_time": "2023-02-21T21:01:36.977Z"
   },
   {
    "duration": 0,
    "start_time": "2023-02-21T21:01:36.978Z"
   },
   {
    "duration": 0,
    "start_time": "2023-02-21T21:01:36.980Z"
   },
   {
    "duration": 0,
    "start_time": "2023-02-21T21:01:36.980Z"
   },
   {
    "duration": 0,
    "start_time": "2023-02-21T21:01:36.981Z"
   },
   {
    "duration": 118,
    "start_time": "2023-02-21T21:16:43.759Z"
   },
   {
    "duration": 14,
    "start_time": "2023-02-21T21:16:44.078Z"
   },
   {
    "duration": 2129,
    "start_time": "2023-02-21T21:16:44.606Z"
   },
   {
    "duration": 6,
    "start_time": "2023-02-21T21:16:46.737Z"
   },
   {
    "duration": 23,
    "start_time": "2023-02-21T21:16:46.745Z"
   },
   {
    "duration": 16,
    "start_time": "2023-02-21T21:16:46.771Z"
   },
   {
    "duration": 31,
    "start_time": "2023-02-21T21:16:46.788Z"
   },
   {
    "duration": 5,
    "start_time": "2023-02-21T21:16:46.967Z"
   },
   {
    "duration": 8,
    "start_time": "2023-02-21T21:16:47.333Z"
   },
   {
    "duration": 27,
    "start_time": "2023-02-21T21:16:48.270Z"
   },
   {
    "duration": 7,
    "start_time": "2023-02-21T21:16:48.654Z"
   },
   {
    "duration": 7,
    "start_time": "2023-02-21T21:16:49.018Z"
   },
   {
    "duration": 6,
    "start_time": "2023-02-21T21:16:49.563Z"
   },
   {
    "duration": 11,
    "start_time": "2023-02-21T21:16:49.932Z"
   },
   {
    "duration": 20,
    "start_time": "2023-02-21T21:16:50.312Z"
   },
   {
    "duration": 34,
    "start_time": "2023-02-21T21:16:50.669Z"
   },
   {
    "duration": 70,
    "start_time": "2023-02-21T21:16:51.027Z"
   },
   {
    "duration": 77,
    "start_time": "2023-02-21T21:16:51.960Z"
   },
   {
    "duration": 26,
    "start_time": "2023-02-21T21:16:52.356Z"
   },
   {
    "duration": 14,
    "start_time": "2023-02-21T21:16:53.299Z"
   },
   {
    "duration": 6,
    "start_time": "2023-02-21T21:16:54.953Z"
   },
   {
    "duration": 5,
    "start_time": "2023-02-21T21:16:55.333Z"
   },
   {
    "duration": 4,
    "start_time": "2023-02-21T21:16:55.730Z"
   },
   {
    "duration": 5,
    "start_time": "2023-02-21T21:16:56.117Z"
   },
   {
    "duration": 6,
    "start_time": "2023-02-21T21:16:56.508Z"
   },
   {
    "duration": 5,
    "start_time": "2023-02-21T21:16:57.020Z"
   },
   {
    "duration": 15,
    "start_time": "2023-02-21T21:16:57.974Z"
   },
   {
    "duration": 389,
    "start_time": "2023-02-21T21:16:59.852Z"
   },
   {
    "duration": 470,
    "start_time": "2023-02-21T21:17:01.423Z"
   },
   {
    "duration": 232,
    "start_time": "2023-02-21T21:17:02.775Z"
   },
   {
    "duration": 263,
    "start_time": "2023-02-21T21:17:03.899Z"
   },
   {
    "duration": 271,
    "start_time": "2023-02-21T21:17:04.948Z"
   },
   {
    "duration": 236,
    "start_time": "2023-02-21T21:17:06.276Z"
   },
   {
    "duration": 389,
    "start_time": "2023-02-21T21:17:07.128Z"
   },
   {
    "duration": 11,
    "start_time": "2023-02-21T21:17:10.251Z"
   },
   {
    "duration": 8,
    "start_time": "2023-02-21T21:17:10.959Z"
   },
   {
    "duration": 236,
    "start_time": "2023-02-21T21:17:11.652Z"
   },
   {
    "duration": 248,
    "start_time": "2023-02-21T21:17:12.327Z"
   },
   {
    "duration": 219,
    "start_time": "2023-02-21T21:17:13.415Z"
   },
   {
    "duration": 224,
    "start_time": "2023-02-21T21:17:14.070Z"
   },
   {
    "duration": 502,
    "start_time": "2023-02-21T21:17:14.724Z"
   },
   {
    "duration": 230,
    "start_time": "2023-02-21T21:17:15.352Z"
   },
   {
    "duration": 6,
    "start_time": "2023-02-21T21:17:15.584Z"
   },
   {
    "duration": 360,
    "start_time": "2023-02-21T21:17:17.357Z"
   },
   {
    "duration": 197,
    "start_time": "2023-02-21T21:17:17.970Z"
   },
   {
    "duration": 198,
    "start_time": "2023-02-21T21:17:18.520Z"
   },
   {
    "duration": 184,
    "start_time": "2023-02-21T21:17:19.070Z"
   },
   {
    "duration": 179,
    "start_time": "2023-02-21T21:17:19.622Z"
   },
   {
    "duration": 391,
    "start_time": "2023-02-21T21:17:20.180Z"
   },
   {
    "duration": 17,
    "start_time": "2023-02-21T21:17:20.755Z"
   },
   {
    "duration": 142,
    "start_time": "2023-02-21T21:17:21.312Z"
   },
   {
    "duration": 62,
    "start_time": "2023-02-21T23:32:46.211Z"
   },
   {
    "duration": 45,
    "start_time": "2023-02-21T23:33:37.478Z"
   },
   {
    "duration": 889,
    "start_time": "2023-02-21T23:33:46.377Z"
   },
   {
    "duration": 15,
    "start_time": "2023-02-21T23:33:47.268Z"
   },
   {
    "duration": 2652,
    "start_time": "2023-02-21T23:33:47.284Z"
   },
   {
    "duration": 6,
    "start_time": "2023-02-21T23:33:49.938Z"
   },
   {
    "duration": 16,
    "start_time": "2023-02-21T23:33:49.946Z"
   },
   {
    "duration": 11,
    "start_time": "2023-02-21T23:33:49.963Z"
   },
   {
    "duration": 6,
    "start_time": "2023-02-21T23:33:49.977Z"
   },
   {
    "duration": 6,
    "start_time": "2023-02-21T23:33:49.985Z"
   },
   {
    "duration": 15,
    "start_time": "2023-02-21T23:33:49.993Z"
   },
   {
    "duration": 55,
    "start_time": "2023-02-21T23:33:50.011Z"
   },
   {
    "duration": 8,
    "start_time": "2023-02-21T23:33:50.068Z"
   },
   {
    "duration": 13,
    "start_time": "2023-02-21T23:33:50.079Z"
   },
   {
    "duration": 8,
    "start_time": "2023-02-21T23:33:50.094Z"
   },
   {
    "duration": 42,
    "start_time": "2023-02-21T23:33:50.107Z"
   },
   {
    "duration": 26,
    "start_time": "2023-02-21T23:33:50.151Z"
   },
   {
    "duration": 41,
    "start_time": "2023-02-21T23:33:50.179Z"
   },
   {
    "duration": 91,
    "start_time": "2023-02-21T23:33:50.221Z"
   },
   {
    "duration": 115,
    "start_time": "2023-02-21T23:33:50.314Z"
   },
   {
    "duration": 50,
    "start_time": "2023-02-21T23:33:50.432Z"
   },
   {
    "duration": 20,
    "start_time": "2023-02-21T23:33:50.484Z"
   },
   {
    "duration": 8,
    "start_time": "2023-02-21T23:33:50.507Z"
   },
   {
    "duration": 9,
    "start_time": "2023-02-21T23:33:50.518Z"
   },
   {
    "duration": 5,
    "start_time": "2023-02-21T23:33:50.545Z"
   },
   {
    "duration": 13,
    "start_time": "2023-02-21T23:33:50.553Z"
   },
   {
    "duration": 14,
    "start_time": "2023-02-21T23:33:50.569Z"
   },
   {
    "duration": 13,
    "start_time": "2023-02-21T23:33:50.585Z"
   },
   {
    "duration": 26,
    "start_time": "2023-02-21T23:33:50.600Z"
   },
   {
    "duration": 284,
    "start_time": "2023-02-21T23:33:50.628Z"
   },
   {
    "duration": 637,
    "start_time": "2023-02-21T23:33:50.915Z"
   },
   {
    "duration": 294,
    "start_time": "2023-02-21T23:33:51.553Z"
   },
   {
    "duration": 288,
    "start_time": "2023-02-21T23:33:51.848Z"
   },
   {
    "duration": 283,
    "start_time": "2023-02-21T23:33:52.138Z"
   },
   {
    "duration": 315,
    "start_time": "2023-02-21T23:33:52.423Z"
   },
   {
    "duration": 271,
    "start_time": "2023-02-21T23:33:52.745Z"
   },
   {
    "duration": 87,
    "start_time": "2023-02-21T23:33:53.018Z"
   },
   {
    "duration": 0,
    "start_time": "2023-02-21T23:33:53.108Z"
   },
   {
    "duration": 0,
    "start_time": "2023-02-21T23:33:53.110Z"
   },
   {
    "duration": 0,
    "start_time": "2023-02-21T23:33:53.111Z"
   },
   {
    "duration": 0,
    "start_time": "2023-02-21T23:33:53.116Z"
   },
   {
    "duration": 0,
    "start_time": "2023-02-21T23:33:53.118Z"
   },
   {
    "duration": 0,
    "start_time": "2023-02-21T23:33:53.121Z"
   },
   {
    "duration": 0,
    "start_time": "2023-02-21T23:33:53.122Z"
   },
   {
    "duration": 0,
    "start_time": "2023-02-21T23:33:53.145Z"
   },
   {
    "duration": 0,
    "start_time": "2023-02-21T23:33:53.146Z"
   },
   {
    "duration": 0,
    "start_time": "2023-02-21T23:33:53.147Z"
   },
   {
    "duration": 0,
    "start_time": "2023-02-21T23:33:53.149Z"
   },
   {
    "duration": 0,
    "start_time": "2023-02-21T23:33:53.151Z"
   },
   {
    "duration": 0,
    "start_time": "2023-02-21T23:33:53.152Z"
   },
   {
    "duration": 0,
    "start_time": "2023-02-21T23:33:53.153Z"
   },
   {
    "duration": 0,
    "start_time": "2023-02-21T23:33:53.154Z"
   },
   {
    "duration": 0,
    "start_time": "2023-02-21T23:33:53.298Z"
   },
   {
    "duration": 0,
    "start_time": "2023-02-21T23:33:53.299Z"
   },
   {
    "duration": 318,
    "start_time": "2023-02-21T23:33:55.291Z"
   },
   {
    "duration": 294,
    "start_time": "2023-02-21T23:34:03.339Z"
   },
   {
    "duration": 115,
    "start_time": "2023-02-21T23:42:44.061Z"
   },
   {
    "duration": 11,
    "start_time": "2023-02-21T23:44:56.621Z"
   },
   {
    "duration": 31,
    "start_time": "2023-02-21T23:50:44.634Z"
   },
   {
    "duration": 7,
    "start_time": "2023-02-22T00:04:09.641Z"
   },
   {
    "duration": 11,
    "start_time": "2023-02-22T00:04:35.989Z"
   },
   {
    "duration": 11,
    "start_time": "2023-02-22T00:05:09.492Z"
   },
   {
    "duration": 11,
    "start_time": "2023-02-22T00:05:29.486Z"
   },
   {
    "duration": 8,
    "start_time": "2023-02-22T00:05:52.018Z"
   },
   {
    "duration": 5,
    "start_time": "2023-02-22T00:06:14.235Z"
   },
   {
    "duration": 591,
    "start_time": "2023-02-22T00:06:19.902Z"
   },
   {
    "duration": 26,
    "start_time": "2023-02-22T00:06:20.495Z"
   },
   {
    "duration": 2584,
    "start_time": "2023-02-22T00:06:20.524Z"
   },
   {
    "duration": 7,
    "start_time": "2023-02-22T00:06:23.111Z"
   },
   {
    "duration": 18,
    "start_time": "2023-02-22T00:06:23.119Z"
   },
   {
    "duration": 16,
    "start_time": "2023-02-22T00:06:23.140Z"
   },
   {
    "duration": 9,
    "start_time": "2023-02-22T00:06:23.159Z"
   },
   {
    "duration": 8,
    "start_time": "2023-02-22T00:06:23.169Z"
   },
   {
    "duration": 11,
    "start_time": "2023-02-22T00:06:23.179Z"
   },
   {
    "duration": 55,
    "start_time": "2023-02-22T00:06:23.193Z"
   },
   {
    "duration": 9,
    "start_time": "2023-02-22T00:06:23.250Z"
   },
   {
    "duration": 16,
    "start_time": "2023-02-22T00:06:23.260Z"
   },
   {
    "duration": 6,
    "start_time": "2023-02-22T00:06:23.278Z"
   },
   {
    "duration": 13,
    "start_time": "2023-02-22T00:06:23.286Z"
   },
   {
    "duration": 50,
    "start_time": "2023-02-22T00:06:23.300Z"
   },
   {
    "duration": 42,
    "start_time": "2023-02-22T00:06:23.352Z"
   },
   {
    "duration": 95,
    "start_time": "2023-02-22T00:06:23.396Z"
   },
   {
    "duration": 108,
    "start_time": "2023-02-22T00:06:23.493Z"
   },
   {
    "duration": 45,
    "start_time": "2023-02-22T00:06:23.604Z"
   },
   {
    "duration": 16,
    "start_time": "2023-02-22T00:06:23.651Z"
   },
   {
    "duration": 5,
    "start_time": "2023-02-22T00:06:23.669Z"
   },
   {
    "duration": 6,
    "start_time": "2023-02-22T00:06:23.676Z"
   },
   {
    "duration": 9,
    "start_time": "2023-02-22T00:06:23.684Z"
   },
   {
    "duration": 5,
    "start_time": "2023-02-22T00:06:23.695Z"
   },
   {
    "duration": 9,
    "start_time": "2023-02-22T00:06:23.702Z"
   },
   {
    "duration": 33,
    "start_time": "2023-02-22T00:06:23.713Z"
   },
   {
    "duration": 7,
    "start_time": "2023-02-22T00:06:23.748Z"
   },
   {
    "duration": 22,
    "start_time": "2023-02-22T00:06:23.760Z"
   },
   {
    "duration": 307,
    "start_time": "2023-02-22T00:06:23.784Z"
   },
   {
    "duration": 560,
    "start_time": "2023-02-22T00:06:24.092Z"
   },
   {
    "duration": 393,
    "start_time": "2023-02-22T00:06:24.654Z"
   },
   {
    "duration": 305,
    "start_time": "2023-02-22T00:06:25.049Z"
   },
   {
    "duration": 294,
    "start_time": "2023-02-22T00:06:25.356Z"
   },
   {
    "duration": 308,
    "start_time": "2023-02-22T00:06:25.651Z"
   },
   {
    "duration": 297,
    "start_time": "2023-02-22T00:06:25.960Z"
   },
   {
    "duration": 93,
    "start_time": "2023-02-22T00:06:26.259Z"
   },
   {
    "duration": 0,
    "start_time": "2023-02-22T00:06:26.354Z"
   },
   {
    "duration": 0,
    "start_time": "2023-02-22T00:06:26.355Z"
   },
   {
    "duration": 0,
    "start_time": "2023-02-22T00:06:26.357Z"
   },
   {
    "duration": 0,
    "start_time": "2023-02-22T00:06:26.358Z"
   },
   {
    "duration": 1,
    "start_time": "2023-02-22T00:06:26.359Z"
   },
   {
    "duration": 0,
    "start_time": "2023-02-22T00:06:26.361Z"
   },
   {
    "duration": 0,
    "start_time": "2023-02-22T00:06:26.362Z"
   },
   {
    "duration": 0,
    "start_time": "2023-02-22T00:06:26.364Z"
   },
   {
    "duration": 0,
    "start_time": "2023-02-22T00:06:26.366Z"
   },
   {
    "duration": 0,
    "start_time": "2023-02-22T00:06:26.367Z"
   },
   {
    "duration": 0,
    "start_time": "2023-02-22T00:06:26.368Z"
   },
   {
    "duration": 0,
    "start_time": "2023-02-22T00:06:26.370Z"
   },
   {
    "duration": 0,
    "start_time": "2023-02-22T00:06:26.372Z"
   },
   {
    "duration": 0,
    "start_time": "2023-02-22T00:06:26.373Z"
   },
   {
    "duration": 0,
    "start_time": "2023-02-22T00:06:26.375Z"
   },
   {
    "duration": 0,
    "start_time": "2023-02-22T00:06:26.377Z"
   },
   {
    "duration": 0,
    "start_time": "2023-02-22T00:06:26.378Z"
   },
   {
    "duration": 0,
    "start_time": "2023-02-22T00:06:26.380Z"
   },
   {
    "duration": 4,
    "start_time": "2023-02-22T00:06:53.575Z"
   },
   {
    "duration": 5,
    "start_time": "2023-02-22T00:07:01.611Z"
   },
   {
    "duration": 4,
    "start_time": "2023-02-22T00:07:10.682Z"
   },
   {
    "duration": 6,
    "start_time": "2023-02-22T00:07:15.353Z"
   },
   {
    "duration": 6,
    "start_time": "2023-02-22T00:07:37.353Z"
   },
   {
    "duration": 10,
    "start_time": "2023-02-22T00:11:10.064Z"
   },
   {
    "duration": 9,
    "start_time": "2023-02-22T00:11:53.140Z"
   },
   {
    "duration": 14,
    "start_time": "2023-02-22T00:13:09.886Z"
   },
   {
    "duration": 10,
    "start_time": "2023-02-22T00:15:49.428Z"
   },
   {
    "duration": 15,
    "start_time": "2023-02-22T00:17:32.014Z"
   },
   {
    "duration": 7,
    "start_time": "2023-02-22T00:18:23.459Z"
   },
   {
    "duration": 11,
    "start_time": "2023-02-22T00:19:10.512Z"
   },
   {
    "duration": 9,
    "start_time": "2023-02-22T00:19:24.126Z"
   },
   {
    "duration": 8,
    "start_time": "2023-02-22T00:20:05.612Z"
   },
   {
    "duration": 9,
    "start_time": "2023-02-22T00:20:43.817Z"
   },
   {
    "duration": 10,
    "start_time": "2023-02-22T00:22:06.265Z"
   },
   {
    "duration": 8,
    "start_time": "2023-02-22T00:22:19.584Z"
   },
   {
    "duration": 6,
    "start_time": "2023-02-22T00:22:37.103Z"
   },
   {
    "duration": 7,
    "start_time": "2023-02-22T00:22:54.155Z"
   },
   {
    "duration": 532,
    "start_time": "2023-02-22T00:22:59.391Z"
   },
   {
    "duration": 20,
    "start_time": "2023-02-22T00:22:59.925Z"
   },
   {
    "duration": 2542,
    "start_time": "2023-02-22T00:22:59.946Z"
   },
   {
    "duration": 5,
    "start_time": "2023-02-22T00:23:02.490Z"
   },
   {
    "duration": 25,
    "start_time": "2023-02-22T00:23:02.497Z"
   },
   {
    "duration": 24,
    "start_time": "2023-02-22T00:23:02.524Z"
   },
   {
    "duration": 22,
    "start_time": "2023-02-22T00:23:02.550Z"
   },
   {
    "duration": 14,
    "start_time": "2023-02-22T00:23:02.574Z"
   },
   {
    "duration": 25,
    "start_time": "2023-02-22T00:23:02.590Z"
   },
   {
    "duration": 53,
    "start_time": "2023-02-22T00:23:02.618Z"
   },
   {
    "duration": 26,
    "start_time": "2023-02-22T00:23:02.673Z"
   },
   {
    "duration": 25,
    "start_time": "2023-02-22T00:23:02.700Z"
   },
   {
    "duration": 19,
    "start_time": "2023-02-22T00:23:02.727Z"
   },
   {
    "duration": 36,
    "start_time": "2023-02-22T00:23:02.748Z"
   },
   {
    "duration": 39,
    "start_time": "2023-02-22T00:23:02.786Z"
   },
   {
    "duration": 52,
    "start_time": "2023-02-22T00:23:02.827Z"
   },
   {
    "duration": 89,
    "start_time": "2023-02-22T00:23:02.881Z"
   },
   {
    "duration": 104,
    "start_time": "2023-02-22T00:23:02.971Z"
   },
   {
    "duration": 39,
    "start_time": "2023-02-22T00:23:03.077Z"
   },
   {
    "duration": 41,
    "start_time": "2023-02-22T00:23:03.119Z"
   },
   {
    "duration": 20,
    "start_time": "2023-02-22T00:23:03.162Z"
   },
   {
    "duration": 19,
    "start_time": "2023-02-22T00:23:03.185Z"
   },
   {
    "duration": 16,
    "start_time": "2023-02-22T00:23:03.205Z"
   },
   {
    "duration": 13,
    "start_time": "2023-02-22T00:23:03.223Z"
   },
   {
    "duration": 25,
    "start_time": "2023-02-22T00:23:03.239Z"
   },
   {
    "duration": 23,
    "start_time": "2023-02-22T00:23:03.266Z"
   },
   {
    "duration": 14,
    "start_time": "2023-02-22T00:23:03.291Z"
   },
   {
    "duration": 30,
    "start_time": "2023-02-22T00:23:03.310Z"
   },
   {
    "duration": 331,
    "start_time": "2023-02-22T00:23:03.342Z"
   },
   {
    "duration": 567,
    "start_time": "2023-02-22T00:23:03.675Z"
   },
   {
    "duration": 401,
    "start_time": "2023-02-22T00:23:04.245Z"
   },
   {
    "duration": 288,
    "start_time": "2023-02-22T00:23:04.648Z"
   },
   {
    "duration": 289,
    "start_time": "2023-02-22T00:23:04.938Z"
   },
   {
    "duration": 300,
    "start_time": "2023-02-22T00:23:05.229Z"
   },
   {
    "duration": 284,
    "start_time": "2023-02-22T00:23:05.531Z"
   },
   {
    "duration": 91,
    "start_time": "2023-02-22T00:23:05.817Z"
   },
   {
    "duration": 0,
    "start_time": "2023-02-22T00:23:05.909Z"
   },
   {
    "duration": 0,
    "start_time": "2023-02-22T00:23:05.910Z"
   },
   {
    "duration": 0,
    "start_time": "2023-02-22T00:23:05.911Z"
   },
   {
    "duration": 0,
    "start_time": "2023-02-22T00:23:05.912Z"
   },
   {
    "duration": 0,
    "start_time": "2023-02-22T00:23:05.914Z"
   },
   {
    "duration": 0,
    "start_time": "2023-02-22T00:23:05.915Z"
   },
   {
    "duration": 0,
    "start_time": "2023-02-22T00:23:05.916Z"
   },
   {
    "duration": 0,
    "start_time": "2023-02-22T00:23:05.916Z"
   },
   {
    "duration": 0,
    "start_time": "2023-02-22T00:23:05.917Z"
   },
   {
    "duration": 0,
    "start_time": "2023-02-22T00:23:05.918Z"
   },
   {
    "duration": 0,
    "start_time": "2023-02-22T00:23:05.919Z"
   },
   {
    "duration": 0,
    "start_time": "2023-02-22T00:23:05.921Z"
   },
   {
    "duration": 0,
    "start_time": "2023-02-22T00:23:05.922Z"
   },
   {
    "duration": 0,
    "start_time": "2023-02-22T00:23:05.945Z"
   },
   {
    "duration": 0,
    "start_time": "2023-02-22T00:23:05.946Z"
   },
   {
    "duration": 0,
    "start_time": "2023-02-22T00:23:05.947Z"
   },
   {
    "duration": 0,
    "start_time": "2023-02-22T00:23:05.948Z"
   },
   {
    "duration": 0,
    "start_time": "2023-02-22T00:23:05.949Z"
   },
   {
    "duration": 8,
    "start_time": "2023-02-22T00:23:13.410Z"
   },
   {
    "duration": 10,
    "start_time": "2023-02-22T00:23:22.118Z"
   },
   {
    "duration": 5,
    "start_time": "2023-02-22T00:27:13.971Z"
   },
   {
    "duration": 7,
    "start_time": "2023-02-22T00:28:07.575Z"
   },
   {
    "duration": 12,
    "start_time": "2023-02-22T00:28:21.738Z"
   },
   {
    "duration": 8,
    "start_time": "2023-02-22T00:28:38.516Z"
   },
   {
    "duration": 10,
    "start_time": "2023-02-22T00:29:05.707Z"
   },
   {
    "duration": 10,
    "start_time": "2023-02-22T00:30:23.072Z"
   },
   {
    "duration": 6,
    "start_time": "2023-02-22T00:32:37.352Z"
   },
   {
    "duration": 120,
    "start_time": "2023-02-22T00:33:56.715Z"
   },
   {
    "duration": 701,
    "start_time": "2023-02-22T07:58:26.519Z"
   },
   {
    "duration": 26,
    "start_time": "2023-02-22T07:58:27.222Z"
   },
   {
    "duration": 3516,
    "start_time": "2023-02-22T07:58:27.250Z"
   },
   {
    "duration": 8,
    "start_time": "2023-02-22T07:58:30.770Z"
   },
   {
    "duration": 113,
    "start_time": "2023-02-22T07:58:30.781Z"
   },
   {
    "duration": 27,
    "start_time": "2023-02-22T07:58:30.896Z"
   },
   {
    "duration": 51,
    "start_time": "2023-02-22T07:58:30.925Z"
   },
   {
    "duration": 56,
    "start_time": "2023-02-22T07:58:30.979Z"
   },
   {
    "duration": 44,
    "start_time": "2023-02-22T07:58:31.038Z"
   },
   {
    "duration": 23,
    "start_time": "2023-02-22T07:58:31.086Z"
   },
   {
    "duration": 30,
    "start_time": "2023-02-22T07:58:31.112Z"
   },
   {
    "duration": 68,
    "start_time": "2023-02-22T07:58:31.145Z"
   },
   {
    "duration": 14,
    "start_time": "2023-02-22T07:58:31.216Z"
   },
   {
    "duration": 47,
    "start_time": "2023-02-22T07:58:31.241Z"
   },
   {
    "duration": 24,
    "start_time": "2023-02-22T07:58:31.291Z"
   },
   {
    "duration": 69,
    "start_time": "2023-02-22T07:58:31.320Z"
   },
   {
    "duration": 73,
    "start_time": "2023-02-22T07:58:31.392Z"
   },
   {
    "duration": 86,
    "start_time": "2023-02-22T07:58:31.468Z"
   },
   {
    "duration": 135,
    "start_time": "2023-02-22T07:58:31.558Z"
   },
   {
    "duration": 110,
    "start_time": "2023-02-22T07:58:31.695Z"
   },
   {
    "duration": 40,
    "start_time": "2023-02-22T07:58:31.806Z"
   },
   {
    "duration": 27,
    "start_time": "2023-02-22T07:58:31.847Z"
   },
   {
    "duration": 35,
    "start_time": "2023-02-22T07:58:31.877Z"
   },
   {
    "duration": 22,
    "start_time": "2023-02-22T07:58:31.914Z"
   },
   {
    "duration": 39,
    "start_time": "2023-02-22T07:58:31.938Z"
   },
   {
    "duration": 26,
    "start_time": "2023-02-22T07:58:31.980Z"
   },
   {
    "duration": 26,
    "start_time": "2023-02-22T07:58:32.008Z"
   },
   {
    "duration": 19,
    "start_time": "2023-02-22T07:58:32.039Z"
   },
   {
    "duration": 17,
    "start_time": "2023-02-22T07:58:32.060Z"
   },
   {
    "duration": 39,
    "start_time": "2023-02-22T07:58:32.080Z"
   },
   {
    "duration": 395,
    "start_time": "2023-02-22T07:58:32.122Z"
   },
   {
    "duration": 591,
    "start_time": "2023-02-22T07:58:32.520Z"
   },
   {
    "duration": 452,
    "start_time": "2023-02-22T07:58:33.113Z"
   },
   {
    "duration": 302,
    "start_time": "2023-02-22T07:58:33.567Z"
   },
   {
    "duration": 339,
    "start_time": "2023-02-22T07:58:33.871Z"
   },
   {
    "duration": 417,
    "start_time": "2023-02-22T07:58:34.212Z"
   },
   {
    "duration": 435,
    "start_time": "2023-02-22T07:58:34.639Z"
   },
   {
    "duration": 3,
    "start_time": "2023-02-22T07:58:35.076Z"
   },
   {
    "duration": 190,
    "start_time": "2023-02-22T07:58:35.081Z"
   },
   {
    "duration": 11,
    "start_time": "2023-02-22T07:58:35.273Z"
   },
   {
    "duration": 444,
    "start_time": "2023-02-22T07:58:35.287Z"
   },
   {
    "duration": 342,
    "start_time": "2023-02-22T07:58:35.733Z"
   },
   {
    "duration": 307,
    "start_time": "2023-02-22T07:58:36.078Z"
   },
   {
    "duration": 404,
    "start_time": "2023-02-22T07:58:36.387Z"
   },
   {
    "duration": 623,
    "start_time": "2023-02-22T07:58:36.793Z"
   },
   {
    "duration": 489,
    "start_time": "2023-02-22T07:58:37.418Z"
   },
   {
    "duration": 8,
    "start_time": "2023-02-22T07:58:37.909Z"
   },
   {
    "duration": 483,
    "start_time": "2023-02-22T07:58:37.919Z"
   },
   {
    "duration": 266,
    "start_time": "2023-02-22T07:58:38.404Z"
   },
   {
    "duration": 335,
    "start_time": "2023-02-22T07:58:38.673Z"
   },
   {
    "duration": 347,
    "start_time": "2023-02-22T07:58:39.011Z"
   },
   {
    "duration": 299,
    "start_time": "2023-02-22T07:58:39.360Z"
   },
   {
    "duration": 215,
    "start_time": "2023-02-22T07:58:39.662Z"
   },
   {
    "duration": 568,
    "start_time": "2023-02-22T07:58:39.879Z"
   },
   {
    "duration": 30,
    "start_time": "2023-02-22T07:58:40.449Z"
   },
   {
    "duration": 207,
    "start_time": "2023-02-22T07:58:40.481Z"
   }
  ],
  "kernelspec": {
   "display_name": "Python 3 (ipykernel)",
   "language": "python",
   "name": "python3"
  },
  "language_info": {
   "codemirror_mode": {
    "name": "ipython",
    "version": 3
   },
   "file_extension": ".py",
   "mimetype": "text/x-python",
   "name": "python",
   "nbconvert_exporter": "python",
   "pygments_lexer": "ipython3",
   "version": "3.9.13"
  },
  "toc": {
   "base_numbering": 1,
   "nav_menu": {},
   "number_sections": true,
   "sideBar": true,
   "skip_h1_title": true,
   "title_cell": "Table of Contents",
   "title_sidebar": "Contents",
   "toc_cell": false,
   "toc_position": {},
   "toc_section_display": true,
   "toc_window_display": false
  }
 },
 "nbformat": 4,
 "nbformat_minor": 2
}
