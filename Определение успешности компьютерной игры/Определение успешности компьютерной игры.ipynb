{
 "cells": [
  {
   "cell_type": "markdown",
   "metadata": {},
   "source": [
    "<h1>Определение успешности компьютерной игры</h1>\n",
    "<h2>Открытие файла с данными и изучение общей информации</h2>"
   ]
  },
  {
   "cell_type": "code",
   "execution_count": 49,
   "metadata": {},
   "outputs": [],
   "source": [
    "import pandas as pd\n",
    "import numpy as np\n",
    "from scipy import stats as st\n",
    "import seaborn as sns\n",
    "import matplotlib.pyplot as plt\n",
    "\n",
    "df = pd.read_csv('/datasets/games.csv')"
   ]
  },
  {
   "cell_type": "code",
   "execution_count": 2,
   "metadata": {},
   "outputs": [
    {
     "data": {
      "text/html": [
       "<div>\n",
       "<style scoped>\n",
       "    .dataframe tbody tr th:only-of-type {\n",
       "        vertical-align: middle;\n",
       "    }\n",
       "\n",
       "    .dataframe tbody tr th {\n",
       "        vertical-align: top;\n",
       "    }\n",
       "\n",
       "    .dataframe thead th {\n",
       "        text-align: right;\n",
       "    }\n",
       "</style>\n",
       "<table border=\"1\" class=\"dataframe\">\n",
       "  <thead>\n",
       "    <tr style=\"text-align: right;\">\n",
       "      <th></th>\n",
       "      <th>Name</th>\n",
       "      <th>Platform</th>\n",
       "      <th>Year_of_Release</th>\n",
       "      <th>Genre</th>\n",
       "      <th>NA_sales</th>\n",
       "      <th>EU_sales</th>\n",
       "      <th>JP_sales</th>\n",
       "      <th>Other_sales</th>\n",
       "      <th>Critic_Score</th>\n",
       "      <th>User_Score</th>\n",
       "      <th>Rating</th>\n",
       "    </tr>\n",
       "  </thead>\n",
       "  <tbody>\n",
       "    <tr>\n",
       "      <th>0</th>\n",
       "      <td>Wii Sports</td>\n",
       "      <td>Wii</td>\n",
       "      <td>2006.0</td>\n",
       "      <td>Sports</td>\n",
       "      <td>41.36</td>\n",
       "      <td>28.96</td>\n",
       "      <td>3.77</td>\n",
       "      <td>8.45</td>\n",
       "      <td>76.0</td>\n",
       "      <td>8</td>\n",
       "      <td>E</td>\n",
       "    </tr>\n",
       "    <tr>\n",
       "      <th>1</th>\n",
       "      <td>Super Mario Bros.</td>\n",
       "      <td>NES</td>\n",
       "      <td>1985.0</td>\n",
       "      <td>Platform</td>\n",
       "      <td>29.08</td>\n",
       "      <td>3.58</td>\n",
       "      <td>6.81</td>\n",
       "      <td>0.77</td>\n",
       "      <td>NaN</td>\n",
       "      <td>NaN</td>\n",
       "      <td>NaN</td>\n",
       "    </tr>\n",
       "    <tr>\n",
       "      <th>2</th>\n",
       "      <td>Mario Kart Wii</td>\n",
       "      <td>Wii</td>\n",
       "      <td>2008.0</td>\n",
       "      <td>Racing</td>\n",
       "      <td>15.68</td>\n",
       "      <td>12.76</td>\n",
       "      <td>3.79</td>\n",
       "      <td>3.29</td>\n",
       "      <td>82.0</td>\n",
       "      <td>8.3</td>\n",
       "      <td>E</td>\n",
       "    </tr>\n",
       "    <tr>\n",
       "      <th>3</th>\n",
       "      <td>Wii Sports Resort</td>\n",
       "      <td>Wii</td>\n",
       "      <td>2009.0</td>\n",
       "      <td>Sports</td>\n",
       "      <td>15.61</td>\n",
       "      <td>10.93</td>\n",
       "      <td>3.28</td>\n",
       "      <td>2.95</td>\n",
       "      <td>80.0</td>\n",
       "      <td>8</td>\n",
       "      <td>E</td>\n",
       "    </tr>\n",
       "    <tr>\n",
       "      <th>4</th>\n",
       "      <td>Pokemon Red/Pokemon Blue</td>\n",
       "      <td>GB</td>\n",
       "      <td>1996.0</td>\n",
       "      <td>Role-Playing</td>\n",
       "      <td>11.27</td>\n",
       "      <td>8.89</td>\n",
       "      <td>10.22</td>\n",
       "      <td>1.00</td>\n",
       "      <td>NaN</td>\n",
       "      <td>NaN</td>\n",
       "      <td>NaN</td>\n",
       "    </tr>\n",
       "    <tr>\n",
       "      <th>5</th>\n",
       "      <td>Tetris</td>\n",
       "      <td>GB</td>\n",
       "      <td>1989.0</td>\n",
       "      <td>Puzzle</td>\n",
       "      <td>23.20</td>\n",
       "      <td>2.26</td>\n",
       "      <td>4.22</td>\n",
       "      <td>0.58</td>\n",
       "      <td>NaN</td>\n",
       "      <td>NaN</td>\n",
       "      <td>NaN</td>\n",
       "    </tr>\n",
       "    <tr>\n",
       "      <th>6</th>\n",
       "      <td>New Super Mario Bros.</td>\n",
       "      <td>DS</td>\n",
       "      <td>2006.0</td>\n",
       "      <td>Platform</td>\n",
       "      <td>11.28</td>\n",
       "      <td>9.14</td>\n",
       "      <td>6.50</td>\n",
       "      <td>2.88</td>\n",
       "      <td>89.0</td>\n",
       "      <td>8.5</td>\n",
       "      <td>E</td>\n",
       "    </tr>\n",
       "    <tr>\n",
       "      <th>7</th>\n",
       "      <td>Wii Play</td>\n",
       "      <td>Wii</td>\n",
       "      <td>2006.0</td>\n",
       "      <td>Misc</td>\n",
       "      <td>13.96</td>\n",
       "      <td>9.18</td>\n",
       "      <td>2.93</td>\n",
       "      <td>2.84</td>\n",
       "      <td>58.0</td>\n",
       "      <td>6.6</td>\n",
       "      <td>E</td>\n",
       "    </tr>\n",
       "    <tr>\n",
       "      <th>8</th>\n",
       "      <td>New Super Mario Bros. Wii</td>\n",
       "      <td>Wii</td>\n",
       "      <td>2009.0</td>\n",
       "      <td>Platform</td>\n",
       "      <td>14.44</td>\n",
       "      <td>6.94</td>\n",
       "      <td>4.70</td>\n",
       "      <td>2.24</td>\n",
       "      <td>87.0</td>\n",
       "      <td>8.4</td>\n",
       "      <td>E</td>\n",
       "    </tr>\n",
       "    <tr>\n",
       "      <th>9</th>\n",
       "      <td>Duck Hunt</td>\n",
       "      <td>NES</td>\n",
       "      <td>1984.0</td>\n",
       "      <td>Shooter</td>\n",
       "      <td>26.93</td>\n",
       "      <td>0.63</td>\n",
       "      <td>0.28</td>\n",
       "      <td>0.47</td>\n",
       "      <td>NaN</td>\n",
       "      <td>NaN</td>\n",
       "      <td>NaN</td>\n",
       "    </tr>\n",
       "    <tr>\n",
       "      <th>10</th>\n",
       "      <td>Nintendogs</td>\n",
       "      <td>DS</td>\n",
       "      <td>2005.0</td>\n",
       "      <td>Simulation</td>\n",
       "      <td>9.05</td>\n",
       "      <td>10.95</td>\n",
       "      <td>1.93</td>\n",
       "      <td>2.74</td>\n",
       "      <td>NaN</td>\n",
       "      <td>NaN</td>\n",
       "      <td>NaN</td>\n",
       "    </tr>\n",
       "    <tr>\n",
       "      <th>11</th>\n",
       "      <td>Mario Kart DS</td>\n",
       "      <td>DS</td>\n",
       "      <td>2005.0</td>\n",
       "      <td>Racing</td>\n",
       "      <td>9.71</td>\n",
       "      <td>7.47</td>\n",
       "      <td>4.13</td>\n",
       "      <td>1.90</td>\n",
       "      <td>91.0</td>\n",
       "      <td>8.6</td>\n",
       "      <td>E</td>\n",
       "    </tr>\n",
       "    <tr>\n",
       "      <th>12</th>\n",
       "      <td>Pokemon Gold/Pokemon Silver</td>\n",
       "      <td>GB</td>\n",
       "      <td>1999.0</td>\n",
       "      <td>Role-Playing</td>\n",
       "      <td>9.00</td>\n",
       "      <td>6.18</td>\n",
       "      <td>7.20</td>\n",
       "      <td>0.71</td>\n",
       "      <td>NaN</td>\n",
       "      <td>NaN</td>\n",
       "      <td>NaN</td>\n",
       "    </tr>\n",
       "    <tr>\n",
       "      <th>13</th>\n",
       "      <td>Wii Fit</td>\n",
       "      <td>Wii</td>\n",
       "      <td>2007.0</td>\n",
       "      <td>Sports</td>\n",
       "      <td>8.92</td>\n",
       "      <td>8.03</td>\n",
       "      <td>3.60</td>\n",
       "      <td>2.15</td>\n",
       "      <td>80.0</td>\n",
       "      <td>7.7</td>\n",
       "      <td>E</td>\n",
       "    </tr>\n",
       "    <tr>\n",
       "      <th>14</th>\n",
       "      <td>Kinect Adventures!</td>\n",
       "      <td>X360</td>\n",
       "      <td>2010.0</td>\n",
       "      <td>Misc</td>\n",
       "      <td>15.00</td>\n",
       "      <td>4.89</td>\n",
       "      <td>0.24</td>\n",
       "      <td>1.69</td>\n",
       "      <td>61.0</td>\n",
       "      <td>6.3</td>\n",
       "      <td>E</td>\n",
       "    </tr>\n",
       "    <tr>\n",
       "      <th>15</th>\n",
       "      <td>Wii Fit Plus</td>\n",
       "      <td>Wii</td>\n",
       "      <td>2009.0</td>\n",
       "      <td>Sports</td>\n",
       "      <td>9.01</td>\n",
       "      <td>8.49</td>\n",
       "      <td>2.53</td>\n",
       "      <td>1.77</td>\n",
       "      <td>80.0</td>\n",
       "      <td>7.4</td>\n",
       "      <td>E</td>\n",
       "    </tr>\n",
       "    <tr>\n",
       "      <th>16</th>\n",
       "      <td>Grand Theft Auto V</td>\n",
       "      <td>PS3</td>\n",
       "      <td>2013.0</td>\n",
       "      <td>Action</td>\n",
       "      <td>7.02</td>\n",
       "      <td>9.09</td>\n",
       "      <td>0.98</td>\n",
       "      <td>3.96</td>\n",
       "      <td>97.0</td>\n",
       "      <td>8.2</td>\n",
       "      <td>M</td>\n",
       "    </tr>\n",
       "    <tr>\n",
       "      <th>17</th>\n",
       "      <td>Grand Theft Auto: San Andreas</td>\n",
       "      <td>PS2</td>\n",
       "      <td>2004.0</td>\n",
       "      <td>Action</td>\n",
       "      <td>9.43</td>\n",
       "      <td>0.40</td>\n",
       "      <td>0.41</td>\n",
       "      <td>10.57</td>\n",
       "      <td>95.0</td>\n",
       "      <td>9</td>\n",
       "      <td>M</td>\n",
       "    </tr>\n",
       "    <tr>\n",
       "      <th>18</th>\n",
       "      <td>Super Mario World</td>\n",
       "      <td>SNES</td>\n",
       "      <td>1990.0</td>\n",
       "      <td>Platform</td>\n",
       "      <td>12.78</td>\n",
       "      <td>3.75</td>\n",
       "      <td>3.54</td>\n",
       "      <td>0.55</td>\n",
       "      <td>NaN</td>\n",
       "      <td>NaN</td>\n",
       "      <td>NaN</td>\n",
       "    </tr>\n",
       "    <tr>\n",
       "      <th>19</th>\n",
       "      <td>Brain Age: Train Your Brain in Minutes a Day</td>\n",
       "      <td>DS</td>\n",
       "      <td>2005.0</td>\n",
       "      <td>Misc</td>\n",
       "      <td>4.74</td>\n",
       "      <td>9.20</td>\n",
       "      <td>4.16</td>\n",
       "      <td>2.04</td>\n",
       "      <td>77.0</td>\n",
       "      <td>7.9</td>\n",
       "      <td>E</td>\n",
       "    </tr>\n",
       "  </tbody>\n",
       "</table>\n",
       "</div>"
      ],
      "text/plain": [
       "                                            Name Platform  Year_of_Release  \\\n",
       "0                                     Wii Sports      Wii           2006.0   \n",
       "1                              Super Mario Bros.      NES           1985.0   \n",
       "2                                 Mario Kart Wii      Wii           2008.0   \n",
       "3                              Wii Sports Resort      Wii           2009.0   \n",
       "4                       Pokemon Red/Pokemon Blue       GB           1996.0   \n",
       "5                                         Tetris       GB           1989.0   \n",
       "6                          New Super Mario Bros.       DS           2006.0   \n",
       "7                                       Wii Play      Wii           2006.0   \n",
       "8                      New Super Mario Bros. Wii      Wii           2009.0   \n",
       "9                                      Duck Hunt      NES           1984.0   \n",
       "10                                    Nintendogs       DS           2005.0   \n",
       "11                                 Mario Kart DS       DS           2005.0   \n",
       "12                   Pokemon Gold/Pokemon Silver       GB           1999.0   \n",
       "13                                       Wii Fit      Wii           2007.0   \n",
       "14                            Kinect Adventures!     X360           2010.0   \n",
       "15                                  Wii Fit Plus      Wii           2009.0   \n",
       "16                            Grand Theft Auto V      PS3           2013.0   \n",
       "17                 Grand Theft Auto: San Andreas      PS2           2004.0   \n",
       "18                             Super Mario World     SNES           1990.0   \n",
       "19  Brain Age: Train Your Brain in Minutes a Day       DS           2005.0   \n",
       "\n",
       "           Genre  NA_sales  EU_sales  JP_sales  Other_sales  Critic_Score  \\\n",
       "0         Sports     41.36     28.96      3.77         8.45          76.0   \n",
       "1       Platform     29.08      3.58      6.81         0.77           NaN   \n",
       "2         Racing     15.68     12.76      3.79         3.29          82.0   \n",
       "3         Sports     15.61     10.93      3.28         2.95          80.0   \n",
       "4   Role-Playing     11.27      8.89     10.22         1.00           NaN   \n",
       "5         Puzzle     23.20      2.26      4.22         0.58           NaN   \n",
       "6       Platform     11.28      9.14      6.50         2.88          89.0   \n",
       "7           Misc     13.96      9.18      2.93         2.84          58.0   \n",
       "8       Platform     14.44      6.94      4.70         2.24          87.0   \n",
       "9        Shooter     26.93      0.63      0.28         0.47           NaN   \n",
       "10    Simulation      9.05     10.95      1.93         2.74           NaN   \n",
       "11        Racing      9.71      7.47      4.13         1.90          91.0   \n",
       "12  Role-Playing      9.00      6.18      7.20         0.71           NaN   \n",
       "13        Sports      8.92      8.03      3.60         2.15          80.0   \n",
       "14          Misc     15.00      4.89      0.24         1.69          61.0   \n",
       "15        Sports      9.01      8.49      2.53         1.77          80.0   \n",
       "16        Action      7.02      9.09      0.98         3.96          97.0   \n",
       "17        Action      9.43      0.40      0.41        10.57          95.0   \n",
       "18      Platform     12.78      3.75      3.54         0.55           NaN   \n",
       "19          Misc      4.74      9.20      4.16         2.04          77.0   \n",
       "\n",
       "   User_Score Rating  \n",
       "0           8      E  \n",
       "1         NaN    NaN  \n",
       "2         8.3      E  \n",
       "3           8      E  \n",
       "4         NaN    NaN  \n",
       "5         NaN    NaN  \n",
       "6         8.5      E  \n",
       "7         6.6      E  \n",
       "8         8.4      E  \n",
       "9         NaN    NaN  \n",
       "10        NaN    NaN  \n",
       "11        8.6      E  \n",
       "12        NaN    NaN  \n",
       "13        7.7      E  \n",
       "14        6.3      E  \n",
       "15        7.4      E  \n",
       "16        8.2      M  \n",
       "17          9      M  \n",
       "18        NaN    NaN  \n",
       "19        7.9      E  "
      ]
     },
     "execution_count": 2,
     "metadata": {},
     "output_type": "execute_result"
    }
   ],
   "source": [
    "df.head(20)"
   ]
  },
  {
   "cell_type": "code",
   "execution_count": 3,
   "metadata": {},
   "outputs": [
    {
     "name": "stdout",
     "output_type": "stream",
     "text": [
      "<class 'pandas.core.frame.DataFrame'>\n",
      "RangeIndex: 16715 entries, 0 to 16714\n",
      "Data columns (total 11 columns):\n",
      " #   Column           Non-Null Count  Dtype  \n",
      "---  ------           --------------  -----  \n",
      " 0   Name             16713 non-null  object \n",
      " 1   Platform         16715 non-null  object \n",
      " 2   Year_of_Release  16446 non-null  float64\n",
      " 3   Genre            16713 non-null  object \n",
      " 4   NA_sales         16715 non-null  float64\n",
      " 5   EU_sales         16715 non-null  float64\n",
      " 6   JP_sales         16715 non-null  float64\n",
      " 7   Other_sales      16715 non-null  float64\n",
      " 8   Critic_Score     8137 non-null   float64\n",
      " 9   User_Score       10014 non-null  object \n",
      " 10  Rating           9949 non-null   object \n",
      "dtypes: float64(6), object(5)\n",
      "memory usage: 1.4+ MB\n"
     ]
    }
   ],
   "source": [
    "df.info()"
   ]
  },
  {
   "cell_type": "code",
   "execution_count": 4,
   "metadata": {},
   "outputs": [
    {
     "data": {
      "text/html": [
       "<div>\n",
       "<style scoped>\n",
       "    .dataframe tbody tr th:only-of-type {\n",
       "        vertical-align: middle;\n",
       "    }\n",
       "\n",
       "    .dataframe tbody tr th {\n",
       "        vertical-align: top;\n",
       "    }\n",
       "\n",
       "    .dataframe thead th {\n",
       "        text-align: right;\n",
       "    }\n",
       "</style>\n",
       "<table border=\"1\" class=\"dataframe\">\n",
       "  <thead>\n",
       "    <tr style=\"text-align: right;\">\n",
       "      <th></th>\n",
       "      <th>Year_of_Release</th>\n",
       "      <th>NA_sales</th>\n",
       "      <th>EU_sales</th>\n",
       "      <th>JP_sales</th>\n",
       "      <th>Other_sales</th>\n",
       "      <th>Critic_Score</th>\n",
       "    </tr>\n",
       "  </thead>\n",
       "  <tbody>\n",
       "    <tr>\n",
       "      <th>count</th>\n",
       "      <td>16446.000000</td>\n",
       "      <td>16715.000000</td>\n",
       "      <td>16715.000000</td>\n",
       "      <td>16715.000000</td>\n",
       "      <td>16715.000000</td>\n",
       "      <td>8137.000000</td>\n",
       "    </tr>\n",
       "    <tr>\n",
       "      <th>mean</th>\n",
       "      <td>2006.484616</td>\n",
       "      <td>0.263377</td>\n",
       "      <td>0.145060</td>\n",
       "      <td>0.077617</td>\n",
       "      <td>0.047342</td>\n",
       "      <td>68.967679</td>\n",
       "    </tr>\n",
       "    <tr>\n",
       "      <th>std</th>\n",
       "      <td>5.877050</td>\n",
       "      <td>0.813604</td>\n",
       "      <td>0.503339</td>\n",
       "      <td>0.308853</td>\n",
       "      <td>0.186731</td>\n",
       "      <td>13.938165</td>\n",
       "    </tr>\n",
       "    <tr>\n",
       "      <th>min</th>\n",
       "      <td>1980.000000</td>\n",
       "      <td>0.000000</td>\n",
       "      <td>0.000000</td>\n",
       "      <td>0.000000</td>\n",
       "      <td>0.000000</td>\n",
       "      <td>13.000000</td>\n",
       "    </tr>\n",
       "    <tr>\n",
       "      <th>25%</th>\n",
       "      <td>2003.000000</td>\n",
       "      <td>0.000000</td>\n",
       "      <td>0.000000</td>\n",
       "      <td>0.000000</td>\n",
       "      <td>0.000000</td>\n",
       "      <td>60.000000</td>\n",
       "    </tr>\n",
       "    <tr>\n",
       "      <th>50%</th>\n",
       "      <td>2007.000000</td>\n",
       "      <td>0.080000</td>\n",
       "      <td>0.020000</td>\n",
       "      <td>0.000000</td>\n",
       "      <td>0.010000</td>\n",
       "      <td>71.000000</td>\n",
       "    </tr>\n",
       "    <tr>\n",
       "      <th>75%</th>\n",
       "      <td>2010.000000</td>\n",
       "      <td>0.240000</td>\n",
       "      <td>0.110000</td>\n",
       "      <td>0.040000</td>\n",
       "      <td>0.030000</td>\n",
       "      <td>79.000000</td>\n",
       "    </tr>\n",
       "    <tr>\n",
       "      <th>max</th>\n",
       "      <td>2016.000000</td>\n",
       "      <td>41.360000</td>\n",
       "      <td>28.960000</td>\n",
       "      <td>10.220000</td>\n",
       "      <td>10.570000</td>\n",
       "      <td>98.000000</td>\n",
       "    </tr>\n",
       "  </tbody>\n",
       "</table>\n",
       "</div>"
      ],
      "text/plain": [
       "       Year_of_Release      NA_sales      EU_sales      JP_sales  \\\n",
       "count     16446.000000  16715.000000  16715.000000  16715.000000   \n",
       "mean       2006.484616      0.263377      0.145060      0.077617   \n",
       "std           5.877050      0.813604      0.503339      0.308853   \n",
       "min        1980.000000      0.000000      0.000000      0.000000   \n",
       "25%        2003.000000      0.000000      0.000000      0.000000   \n",
       "50%        2007.000000      0.080000      0.020000      0.000000   \n",
       "75%        2010.000000      0.240000      0.110000      0.040000   \n",
       "max        2016.000000     41.360000     28.960000     10.220000   \n",
       "\n",
       "        Other_sales  Critic_Score  \n",
       "count  16715.000000   8137.000000  \n",
       "mean       0.047342     68.967679  \n",
       "std        0.186731     13.938165  \n",
       "min        0.000000     13.000000  \n",
       "25%        0.000000     60.000000  \n",
       "50%        0.010000     71.000000  \n",
       "75%        0.030000     79.000000  \n",
       "max       10.570000     98.000000  "
      ]
     },
     "execution_count": 4,
     "metadata": {},
     "output_type": "execute_result"
    }
   ],
   "source": [
    "df.describe()"
   ]
  },
  {
   "cell_type": "code",
   "execution_count": 5,
   "metadata": {},
   "outputs": [
    {
     "data": {
      "text/plain": [
       "0"
      ]
     },
     "execution_count": 5,
     "metadata": {},
     "output_type": "execute_result"
    }
   ],
   "source": [
    "df.duplicated().sum()"
   ]
  },
  {
   "cell_type": "markdown",
   "metadata": {},
   "source": [
    "<b>Вывод:</b> предварительно изучив данные, мы можем сказать, что в них имеются некоторые проблемы: есть пропуски данных в некоторых столбцах, к значениям некоторых столбцов некорректно применен тип данных, также есть одно некорретные для pep-8 названия столбцов; явные дубликаты в таблице отсутствуют. Предобработку данных пройдем в следующем шаге."
   ]
  },
  {
   "cell_type": "markdown",
   "metadata": {},
   "source": [
    "<h2>Подготовка данных</h2>"
   ]
  },
  {
   "cell_type": "markdown",
   "metadata": {},
   "source": [
    "<b>Заменим названия столбцов</b>, привяди их к нижнему регистру:"
   ]
  },
  {
   "cell_type": "code",
   "execution_count": 6,
   "metadata": {},
   "outputs": [
    {
     "data": {
      "text/plain": [
       "Index(['name', 'platform', 'year_of_release', 'genre', 'na_sales', 'eu_sales',\n",
       "       'jp_sales', 'other_sales', 'critic_score', 'user_score', 'rating'],\n",
       "      dtype='object')"
      ]
     },
     "execution_count": 6,
     "metadata": {},
     "output_type": "execute_result"
    }
   ],
   "source": [
    "df.columns = [i.lower() for i in df.columns]\n",
    "df.columns"
   ]
  },
  {
   "cell_type": "markdown",
   "metadata": {},
   "source": [
    "<b>Преобразуем данные в нужные типы</b>"
   ]
  },
  {
   "cell_type": "markdown",
   "metadata": {},
   "source": [
    "Года в столбце 'year_of_release' записаны числом с плавающей точкой. Необходимо привести этот столбец к целочисленному типу int. "
   ]
  },
  {
   "cell_type": "code",
   "execution_count": 7,
   "metadata": {},
   "outputs": [],
   "source": [
    "df['year_of_release'] = df['year_of_release'].astype('Int64')"
   ]
  },
  {
   "cell_type": "markdown",
   "metadata": {},
   "source": [
    "Также столбец 'user_score' должен быть приведен к типу float. Посмотрим на него подробнее."
   ]
  },
  {
   "cell_type": "code",
   "execution_count": 8,
   "metadata": {},
   "outputs": [
    {
     "data": {
      "text/plain": [
       "array(['8', nan, '8.3', '8.5', '6.6', '8.4', '8.6', '7.7', '6.3', '7.4',\n",
       "       '8.2', '9', '7.9', '8.1', '8.7', '7.1', '3.4', '5.3', '4.8', '3.2',\n",
       "       '8.9', '6.4', '7.8', '7.5', '2.6', '7.2', '9.2', '7', '7.3', '4.3',\n",
       "       '7.6', '5.7', '5', '9.1', '6.5', 'tbd', '8.8', '6.9', '9.4', '6.8',\n",
       "       '6.1', '6.7', '5.4', '4', '4.9', '4.5', '9.3', '6.2', '4.2', '6',\n",
       "       '3.7', '4.1', '5.8', '5.6', '5.5', '4.4', '4.6', '5.9', '3.9',\n",
       "       '3.1', '2.9', '5.2', '3.3', '4.7', '5.1', '3.5', '2.5', '1.9', '3',\n",
       "       '2.7', '2.2', '2', '9.5', '2.1', '3.6', '2.8', '1.8', '3.8', '0',\n",
       "       '1.6', '9.6', '2.4', '1.7', '1.1', '0.3', '1.5', '0.7', '1.2',\n",
       "       '2.3', '0.5', '1.3', '0.2', '0.6', '1.4', '0.9', '1', '9.7'],\n",
       "      dtype=object)"
      ]
     },
     "execution_count": 8,
     "metadata": {},
     "output_type": "execute_result"
    }
   ],
   "source": [
    "df['user_score'].unique()"
   ]
  },
  {
   "cell_type": "markdown",
   "metadata": {},
   "source": [
    "В столбце есть значение \"tbd\", из-за пока остается невозможным преобразовать данный столбец к нужному типу. Поэтому для начала обработаем в нем пропуски (в плане по проекту этот шаг идет следующим, но без него не удасться выполнить текущий). Значение tbd обозначает, что данные только предстоит определить, но сейчас это всего лишь пропуск, который можно заменить на nan:"
   ]
  },
  {
   "cell_type": "code",
   "execution_count": 9,
   "metadata": {},
   "outputs": [],
   "source": [
    "df['user_score'] = df['user_score'].replace('tbd', np.nan)\n",
    "df['user_score'] = df['user_score'].astype(float)"
   ]
  },
  {
   "cell_type": "code",
   "execution_count": 10,
   "metadata": {},
   "outputs": [
    {
     "data": {
      "text/plain": [
       "array([8. , nan, 8.3, 8.5, 6.6, 8.4, 8.6, 7.7, 6.3, 7.4, 8.2, 9. , 7.9,\n",
       "       8.1, 8.7, 7.1, 3.4, 5.3, 4.8, 3.2, 8.9, 6.4, 7.8, 7.5, 2.6, 7.2,\n",
       "       9.2, 7. , 7.3, 4.3, 7.6, 5.7, 5. , 9.1, 6.5, 8.8, 6.9, 9.4, 6.8,\n",
       "       6.1, 6.7, 5.4, 4. , 4.9, 4.5, 9.3, 6.2, 4.2, 6. , 3.7, 4.1, 5.8,\n",
       "       5.6, 5.5, 4.4, 4.6, 5.9, 3.9, 3.1, 2.9, 5.2, 3.3, 4.7, 5.1, 3.5,\n",
       "       2.5, 1.9, 3. , 2.7, 2.2, 2. , 9.5, 2.1, 3.6, 2.8, 1.8, 3.8, 0. ,\n",
       "       1.6, 9.6, 2.4, 1.7, 1.1, 0.3, 1.5, 0.7, 1.2, 2.3, 0.5, 1.3, 0.2,\n",
       "       0.6, 1.4, 0.9, 1. , 9.7])"
      ]
     },
     "execution_count": 10,
     "metadata": {},
     "output_type": "execute_result"
    }
   ],
   "source": [
    "df['user_score'].unique() #проверим, ушли ли значения tbd"
   ]
  },
  {
   "cell_type": "markdown",
   "metadata": {},
   "source": [
    "<b>Обработаем пропуски</b>"
   ]
  },
  {
   "cell_type": "code",
   "execution_count": 11,
   "metadata": {},
   "outputs": [
    {
     "name": "stdout",
     "output_type": "stream",
     "text": [
      "<class 'pandas.core.frame.DataFrame'>\n",
      "RangeIndex: 16715 entries, 0 to 16714\n",
      "Data columns (total 11 columns):\n",
      " #   Column           Non-Null Count  Dtype  \n",
      "---  ------           --------------  -----  \n",
      " 0   name             16713 non-null  object \n",
      " 1   platform         16715 non-null  object \n",
      " 2   year_of_release  16446 non-null  Int64  \n",
      " 3   genre            16713 non-null  object \n",
      " 4   na_sales         16715 non-null  float64\n",
      " 5   eu_sales         16715 non-null  float64\n",
      " 6   jp_sales         16715 non-null  float64\n",
      " 7   other_sales      16715 non-null  float64\n",
      " 8   critic_score     8137 non-null   float64\n",
      " 9   user_score       7590 non-null   float64\n",
      " 10  rating           9949 non-null   object \n",
      "dtypes: Int64(1), float64(6), object(4)\n",
      "memory usage: 1.4+ MB\n"
     ]
    }
   ],
   "source": [
    "df.info() #продублируем информацию о таблице"
   ]
  },
  {
   "cell_type": "markdown",
   "metadata": {},
   "source": [
    "В столбце 'name' присутсвут два пропуска. Придется удалить эти 2 строки, так как заполнить мы их не сможем и их удаление не скажется на дальнейшем анализе."
   ]
  },
  {
   "cell_type": "code",
   "execution_count": 12,
   "metadata": {},
   "outputs": [],
   "source": [
    "df.dropna(subset=['name'], inplace=True)"
   ]
  },
  {
   "cell_type": "markdown",
   "metadata": {},
   "source": [
    "В столбце с годом выпуска игры 'year_of_release' также присутсвуют пропуски. Заполнить мы их ничем не можем. Их доля относительно общего количества данных мала, поэтому мы можем удалить строки с пропусками в этом столбце:"
   ]
  },
  {
   "cell_type": "code",
   "execution_count": 13,
   "metadata": {},
   "outputs": [],
   "source": [
    "df.dropna(subset=['year_of_release'], inplace=True)"
   ]
  },
  {
   "cell_type": "markdown",
   "metadata": {},
   "source": [
    "Поступим так же со столбцом 'genre' с жанрами по аналогичной причине, что и с двумя столбцами ранее: "
   ]
  },
  {
   "cell_type": "code",
   "execution_count": 14,
   "metadata": {},
   "outputs": [],
   "source": [
    "df.dropna(subset=['genre'], inplace=True)"
   ]
  },
  {
   "cell_type": "markdown",
   "metadata": {},
   "source": [
    "Пропуски в следующих столбцах с оценками критиков 'critic_score' и пользователей 'user_score',скорее всего, появились из-за того, что не все игры настолько масштабные, что их могли бы оценить критики; а пропуски в столбце с оценкой пользователей связаны с тем, что они значительно не распространены по всему миру. Их слишком большое количество, поэтому удалить мы их не можем. И не можем вставить на их место какое-либо значение, потому как это исказит все дальнейшие выводы."
   ]
  },
  {
   "cell_type": "markdown",
   "metadata": {},
   "source": [
    "Просмотрим уникальные значение в последнем столбце с пропусками 'rating':"
   ]
  },
  {
   "cell_type": "code",
   "execution_count": 15,
   "metadata": {},
   "outputs": [
    {
     "data": {
      "text/plain": [
       "array(['E', nan, 'M', 'T', 'E10+', 'K-A', 'AO', 'EC', 'RP'], dtype=object)"
      ]
     },
     "execution_count": 15,
     "metadata": {},
     "output_type": "execute_result"
    }
   ],
   "source": [
    "df['rating'].unique()"
   ]
  },
  {
   "cell_type": "markdown",
   "metadata": {},
   "source": [
    "Ознакомившись в Интернете с ERSB, я обнаружила, что с 1998 года рейтинг 'K-A' называется 'E', поэтому для актуальной информации по рейтингу в некоторых строках следует переименовать эти значения. В остальном пропуски мы заменить не можем, потому что не обладаем такой информацией. Удалить также не можем, поскольку их большое количество."
   ]
  },
  {
   "cell_type": "code",
   "execution_count": 16,
   "metadata": {},
   "outputs": [
    {
     "data": {
      "text/plain": [
       "array(['E', nan, 'M', 'T', 'E10+', 'AO', 'EC', 'RP'], dtype=object)"
      ]
     },
     "execution_count": 16,
     "metadata": {},
     "output_type": "execute_result"
    }
   ],
   "source": [
    "df['rating'] = df['rating'].replace('K-A', 'E')\n",
    "df['rating'].unique()"
   ]
  },
  {
   "cell_type": "markdown",
   "metadata": {},
   "source": [
    "** Как оказалось из шага 5, незаполнение пропусков отсекает очень много игр и не дает полной информации о влиянии рейтинга на продажи по регионам. Поэтому заполним заглушками пропуски в столбце 'rating':"
   ]
  },
  {
   "cell_type": "code",
   "execution_count": 17,
   "metadata": {},
   "outputs": [],
   "source": [
    "df['rating'] = df['rating'].fillna('ND')"
   ]
  },
  {
   "cell_type": "markdown",
   "metadata": {},
   "source": [
    "<b>Посчитаем суммарные продажи во всех регионах и запишем их в отдельный столбец.</b>"
   ]
  },
  {
   "cell_type": "code",
   "execution_count": 18,
   "metadata": {},
   "outputs": [],
   "source": [
    "df['all_sales'] = df['na_sales'] + df['eu_sales'] + df['jp_sales'] + df['other_sales']"
   ]
  },
  {
   "cell_type": "markdown",
   "metadata": {},
   "source": [
    "<h2>Проведение исследовательского анализа данных</h2>"
   ]
  },
  {
   "cell_type": "markdown",
   "metadata": {},
   "source": [
    "<b>Сколько игр выпускалось в разные годы</b>"
   ]
  },
  {
   "cell_type": "code",
   "execution_count": 19,
   "metadata": {},
   "outputs": [
    {
     "data": {
      "text/plain": [
       "<AxesSubplot:xlabel='year_of_release'>"
      ]
     },
     "execution_count": 19,
     "metadata": {},
     "output_type": "execute_result"
    },
    {
     "data": {
      "image/png": "[encoded data removed]",
      "text/plain": [
       "<Figure size 432x288 with 1 Axes>"
      ]
     },
     "metadata": {
      "needs_background": "light"
     },
     "output_type": "display_data"
    }
   ],
   "source": [
    "df.groupby('year_of_release')['name'].count().plot()"
   ]
  },
  {
   "cell_type": "markdown",
   "metadata": {},
   "source": [
    "До ~2010 года выпуск игр рос, но после по какой-то причине произошел резкий спад.\n",
    "<br><br>\n",
    "Важны ли данные за все периоды? Нет, поскольку мы планируем кампанию на 2017-й год, для нас актуальны данные только за последние несколько лет."
   ]
  },
  {
   "cell_type": "markdown",
   "metadata": {},
   "source": [
    "<b>Как менялись продажи по платформам</b>"
   ]
  },
  {
   "cell_type": "code",
   "execution_count": 20,
   "metadata": {},
   "outputs": [
    {
     "data": {
      "text/plain": [
       "array(['Wii', 'NES', 'GB', 'DS', 'X360', 'PS3', 'PS2', 'SNES', 'GBA',\n",
       "       'PS4', '3DS', 'N64', 'PS', 'XB', 'PC', '2600', 'PSP', 'XOne',\n",
       "       'WiiU', 'GC', 'GEN', 'DC', 'PSV', 'SAT', 'SCD', 'WS', 'NG', 'TG16',\n",
       "       '3DO', 'GG', 'PCFX'], dtype=object)"
      ]
     },
     "execution_count": 20,
     "metadata": {},
     "output_type": "execute_result"
    }
   ],
   "source": [
    "df['platform'].unique()"
   ]
  },
  {
   "cell_type": "code",
   "execution_count": 21,
   "metadata": {},
   "outputs": [
    {
     "data": {
      "text/plain": [
       "<AxesSubplot:xlabel='year_of_release'>"
      ]
     },
     "execution_count": 21,
     "metadata": {},
     "output_type": "execute_result"
    },
    {
     "data": {
      "image/png": "[encoded data removed]",
      "text/plain": [
       "<Figure size 1080x360 with 1 Axes>"
      ]
     },
     "metadata": {
      "needs_background": "light"
     },
     "output_type": "display_data"
    }
   ],
   "source": [
    "top_10 = df.groupby('platform').sum()['all_sales'].sort_values(ascending=False).index.values[:12]\n",
    "\n",
    "top_platform = df[df.platform.isin(top_10)]\n",
    "top_platform = top_platform.pivot_table(index='year_of_release', columns='platform', values='all_sales', aggfunc='sum')\n",
    "\n",
    "top_platform.plot(figsize=(15, 5))"
   ]
  },
  {
   "cell_type": "markdown",
   "metadata": {},
   "source": [
    "По графику видно, что почти все платформы изживали себя. Единственное исключение - PC, которое протягивается от начала до конца графика.\n",
    "<br><br>\n",
    "За какой характерный срок появляются новые и исчезают старые платформы? Около 12 лет"
   ]
  },
  {
   "cell_type": "markdown",
   "metadata": {},
   "source": [
    "<b>Взятие данных за соответствующий актуальный период</b>"
   ]
  },
  {
   "cell_type": "markdown",
   "metadata": {},
   "source": [
    "Для построения прогноза на 2017-й год возьмем данные за последние 3 года:"
   ]
  },
  {
   "cell_type": "code",
   "execution_count": 22,
   "metadata": {},
   "outputs": [
    {
     "data": {
      "text/html": [
       "<div>\n",
       "<style scoped>\n",
       "    .dataframe tbody tr th:only-of-type {\n",
       "        vertical-align: middle;\n",
       "    }\n",
       "\n",
       "    .dataframe tbody tr th {\n",
       "        vertical-align: top;\n",
       "    }\n",
       "\n",
       "    .dataframe thead th {\n",
       "        text-align: right;\n",
       "    }\n",
       "</style>\n",
       "<table border=\"1\" class=\"dataframe\">\n",
       "  <thead>\n",
       "    <tr style=\"text-align: right;\">\n",
       "      <th></th>\n",
       "      <th>name</th>\n",
       "      <th>platform</th>\n",
       "      <th>year_of_release</th>\n",
       "      <th>genre</th>\n",
       "      <th>na_sales</th>\n",
       "      <th>eu_sales</th>\n",
       "      <th>jp_sales</th>\n",
       "      <th>other_sales</th>\n",
       "      <th>critic_score</th>\n",
       "      <th>user_score</th>\n",
       "      <th>rating</th>\n",
       "      <th>all_sales</th>\n",
       "    </tr>\n",
       "  </thead>\n",
       "  <tbody>\n",
       "    <tr>\n",
       "      <th>31</th>\n",
       "      <td>Call of Duty: Black Ops 3</td>\n",
       "      <td>PS4</td>\n",
       "      <td>2015</td>\n",
       "      <td>Shooter</td>\n",
       "      <td>6.03</td>\n",
       "      <td>5.86</td>\n",
       "      <td>0.36</td>\n",
       "      <td>2.38</td>\n",
       "      <td>NaN</td>\n",
       "      <td>NaN</td>\n",
       "      <td>ND</td>\n",
       "      <td>14.63</td>\n",
       "    </tr>\n",
       "    <tr>\n",
       "      <th>42</th>\n",
       "      <td>Grand Theft Auto V</td>\n",
       "      <td>PS4</td>\n",
       "      <td>2014</td>\n",
       "      <td>Action</td>\n",
       "      <td>3.96</td>\n",
       "      <td>6.31</td>\n",
       "      <td>0.38</td>\n",
       "      <td>1.97</td>\n",
       "      <td>97.0</td>\n",
       "      <td>8.3</td>\n",
       "      <td>M</td>\n",
       "      <td>12.62</td>\n",
       "    </tr>\n",
       "    <tr>\n",
       "      <th>47</th>\n",
       "      <td>Pokemon Omega Ruby/Pokemon Alpha Sapphire</td>\n",
       "      <td>3DS</td>\n",
       "      <td>2014</td>\n",
       "      <td>Role-Playing</td>\n",
       "      <td>4.35</td>\n",
       "      <td>3.49</td>\n",
       "      <td>3.10</td>\n",
       "      <td>0.74</td>\n",
       "      <td>NaN</td>\n",
       "      <td>NaN</td>\n",
       "      <td>ND</td>\n",
       "      <td>11.68</td>\n",
       "    </tr>\n",
       "    <tr>\n",
       "      <th>77</th>\n",
       "      <td>FIFA 16</td>\n",
       "      <td>PS4</td>\n",
       "      <td>2015</td>\n",
       "      <td>Sports</td>\n",
       "      <td>1.12</td>\n",
       "      <td>6.12</td>\n",
       "      <td>0.06</td>\n",
       "      <td>1.28</td>\n",
       "      <td>82.0</td>\n",
       "      <td>4.3</td>\n",
       "      <td>E</td>\n",
       "      <td>8.58</td>\n",
       "    </tr>\n",
       "    <tr>\n",
       "      <th>87</th>\n",
       "      <td>Star Wars Battlefront (2015)</td>\n",
       "      <td>PS4</td>\n",
       "      <td>2015</td>\n",
       "      <td>Shooter</td>\n",
       "      <td>2.99</td>\n",
       "      <td>3.49</td>\n",
       "      <td>0.22</td>\n",
       "      <td>1.28</td>\n",
       "      <td>NaN</td>\n",
       "      <td>NaN</td>\n",
       "      <td>ND</td>\n",
       "      <td>7.98</td>\n",
       "    </tr>\n",
       "  </tbody>\n",
       "</table>\n",
       "</div>"
      ],
      "text/plain": [
       "                                         name platform  year_of_release  \\\n",
       "31                  Call of Duty: Black Ops 3      PS4             2015   \n",
       "42                         Grand Theft Auto V      PS4             2014   \n",
       "47  Pokemon Omega Ruby/Pokemon Alpha Sapphire      3DS             2014   \n",
       "77                                    FIFA 16      PS4             2015   \n",
       "87               Star Wars Battlefront (2015)      PS4             2015   \n",
       "\n",
       "           genre  na_sales  eu_sales  jp_sales  other_sales  critic_score  \\\n",
       "31       Shooter      6.03      5.86      0.36         2.38           NaN   \n",
       "42        Action      3.96      6.31      0.38         1.97          97.0   \n",
       "47  Role-Playing      4.35      3.49      3.10         0.74           NaN   \n",
       "77        Sports      1.12      6.12      0.06         1.28          82.0   \n",
       "87       Shooter      2.99      3.49      0.22         1.28           NaN   \n",
       "\n",
       "    user_score rating  all_sales  \n",
       "31         NaN     ND      14.63  \n",
       "42         8.3      M      12.62  \n",
       "47         NaN     ND      11.68  \n",
       "77         4.3      E       8.58  \n",
       "87         NaN     ND       7.98  "
      ]
     },
     "execution_count": 22,
     "metadata": {},
     "output_type": "execute_result"
    }
   ],
   "source": [
    "df_new = df.query('year_of_release > 2013')\n",
    "df_new.head()"
   ]
  },
  {
   "cell_type": "markdown",
   "metadata": {},
   "source": [
    "<b>Выбор нескольких потенциально прибыльных платформ</b>"
   ]
  },
  {
   "cell_type": "code",
   "execution_count": 23,
   "metadata": {},
   "outputs": [
    {
     "data": {
      "text/plain": [
       "<AxesSubplot:xlabel='year_of_release'>"
      ]
     },
     "execution_count": 23,
     "metadata": {},
     "output_type": "execute_result"
    },
    {
     "data": {
      "image/png": "[encoded data removed]",
      "text/plain": [
       "<Figure size 1080x360 with 1 Axes>"
      ]
     },
     "metadata": {
      "needs_background": "light"
     },
     "output_type": "display_data"
    }
   ],
   "source": [
    "df_new.pivot_table(index='year_of_release', columns='platform', values='all_sales', aggfunc='sum').plot(figsize=(15, 5))"
   ]
  },
  {
   "cell_type": "markdown",
   "metadata": {},
   "source": [
    "Лидирует по продажам PS4. Падают по продажам все платформы, судя по графику. Выберем несколько потенциально прибыльных платформ: PS4, XOne, 3DS, PC."
   ]
  },
  {
   "cell_type": "markdown",
   "metadata": {},
   "source": [
    "<b>Построение графика «ящик с усами» по глобальным продажам игр в разбивке по платформам</b>"
   ]
  },
  {
   "cell_type": "code",
   "execution_count": 24,
   "metadata": {},
   "outputs": [
    {
     "data": {
      "text/plain": [
       "<AxesSubplot:title={'center':'all_sales'}, xlabel='platform'>"
      ]
     },
     "execution_count": 24,
     "metadata": {},
     "output_type": "execute_result"
    },
    {
     "data": {
      "image/png": "[encoded data removed]",
      "text/plain": [
       "<Figure size 720x360 with 1 Axes>"
      ]
     },
     "metadata": {
      "needs_background": "light"
     },
     "output_type": "display_data"
    }
   ],
   "source": [
    "df_new.boxplot(by='platform', column='all_sales', figsize=(10, 5))"
   ]
  },
  {
   "cell_type": "markdown",
   "metadata": {},
   "source": [
    "Лидером продаж являются PS4, WiiU и XOne. PSP является самой непопулярной платформой из рассматриваемых. PC же также не особо популярна, но самая стабильная платформа. Выбросы показывают, что у каждой из платформ есть игры-хиты, приносящие миллионы.  Маленький ящик с большим количеством выбросов говорит о том, что основные продаж происходят засчет этих выбросов. А например на платформе XOne большой \"ящик\", длинный ус и малое количество выбросов, что может говорить о том, что на XOne покупают большое количество разных по популярности игр.\n"
   ]
  },
  {
   "cell_type": "code",
   "execution_count": 47,
   "metadata": {},
   "outputs": [
    {
     "data": {
      "text/plain": [
       "(0.0, 2.0)"
      ]
     },
     "execution_count": 47,
     "metadata": {},
     "output_type": "execute_result"
    },
    {
     "data": {
      "image/png": "[encoded data removed]",
      "text/plain": [
       "<Figure size 432x288 with 1 Axes>"
      ]
     },
     "metadata": {
      "needs_background": "light"
     },
     "output_type": "display_data"
    }
   ],
   "source": [
    "ax = sns.boxplot( data=df_new, x='platform', y='all_sales')\n",
    "ax.set_ylim([0, 2])"
   ]
  },
  {
   "cell_type": "markdown",
   "metadata": {},
   "source": [
    "Разницы между графиками по каждой платформе почти нет. Они демонстрируют похожие продажи. Средние же продажи очень сильно отличаются, поскольку почти в каждом графике присутсвуют выбросы (продажи очень популярных игр)."
   ]
  },
  {
   "cell_type": "markdown",
   "metadata": {},
   "source": [
    "<b>Как влияют на продажи внутри одной популярной платформы отзывы пользователей и критиков. Построение диаграммы рассеяния и подсчет корреляции между отзывами и продажами</b> (возьмем платформу PC4)"
   ]
  },
  {
   "cell_type": "code",
   "execution_count": 25,
   "metadata": {},
   "outputs": [
    {
     "name": "stdout",
     "output_type": "stream",
     "text": [
      "-0.013070305002483143\n"
     ]
    },
    {
     "data": {
      "text/plain": [
       "0.32810508696636437"
      ]
     },
     "execution_count": 25,
     "metadata": {},
     "output_type": "execute_result"
    },
    {
     "data": {
      "image/png": "[encoded data removed]",
      "text/plain": [
       "<Figure size 432x288 with 1 Axes>"
      ]
     },
     "metadata": {
      "needs_background": "light"
     },
     "output_type": "display_data"
    },
    {
     "data": {
      "image/png": "[encoded data removed]",
      "text/plain": [
       "<Figure size 432x288 with 1 Axes>"
      ]
     },
     "metadata": {
      "needs_background": "light"
     },
     "output_type": "display_data"
    }
   ],
   "source": [
    "df_new.query('platform == \"PS4\"').plot(x='user_score', y='all_sales', kind='scatter')\n",
    "df_new.query('platform == \"PS4\"').plot(x='critic_score', y='all_sales', kind='scatter')\n",
    "\n",
    "print(df_new.corr()['user_score']['all_sales'])\n",
    "df_new.corr()['critic_score']['all_sales']"
   ]
  },
  {
   "cell_type": "markdown",
   "metadata": {},
   "source": [
    "Слабо отрицательная связь на графике с оценками пользователей и умеренно положительная связь на графике с оценками критиков."
   ]
  },
  {
   "cell_type": "markdown",
   "metadata": {},
   "source": [
    "<b>Что можно сказать о самых прибыльных жанрах? Выделяются ли жанры с высокими и низкими продажами?</b>"
   ]
  },
  {
   "cell_type": "code",
   "execution_count": 26,
   "metadata": {},
   "outputs": [
    {
     "data": {
      "text/plain": [
       "<AxesSubplot:title={'center':'all_sales'}, xlabel='genre'>"
      ]
     },
     "execution_count": 26,
     "metadata": {},
     "output_type": "execute_result"
    },
    {
     "data": {
      "image/png": "[encoded data removed]",
      "text/plain": [
       "<Figure size 1080x360 with 1 Axes>"
      ]
     },
     "metadata": {
      "needs_background": "light"
     },
     "output_type": "display_data"
    }
   ],
   "source": [
    "df_new.boxplot(by='genre', column='all_sales', figsize=(15,5))"
   ]
  },
  {
   "cell_type": "code",
   "execution_count": 27,
   "metadata": {},
   "outputs": [
    {
     "data": {
      "text/plain": [
       "genre\n",
       "Shooter         0.515\n",
       "Sports          0.180\n",
       "Platform        0.140\n",
       "Fighting        0.125\n",
       "Role-Playing    0.110\n",
       "Simulation      0.100\n",
       "Action          0.090\n",
       "Misc            0.090\n",
       "Racing          0.090\n",
       "Strategy        0.060\n",
       "Puzzle          0.045\n",
       "Adventure       0.030\n",
       "Name: all_sales, dtype: float64"
      ]
     },
     "execution_count": 27,
     "metadata": {},
     "output_type": "execute_result"
    }
   ],
   "source": [
    "df_new.groupby('genre').median()['all_sales'].sort_values(ascending=False)"
   ]
  },
  {
   "cell_type": "markdown",
   "metadata": {},
   "source": [
    "Самые высокие продажи у жанров Shooter, Sports и Platform. Самые низкие продажи у жанров Strategy, Puzzle, Adventure."
   ]
  },
  {
   "cell_type": "markdown",
   "metadata": {},
   "source": [
    "<h2>Портрет пользователя каждого региона</h2>"
   ]
  },
  {
   "cell_type": "markdown",
   "metadata": {},
   "source": [
    "<b>Самые популярные платформы (топ-5)</b>"
   ]
  },
  {
   "cell_type": "code",
   "execution_count": 28,
   "metadata": {},
   "outputs": [
    {
     "name": "stdout",
     "output_type": "stream",
     "text": [
      "platform\n",
      "XOne    0.356447\n",
      "WiiU    0.265205\n",
      "PS4     0.262261\n",
      "X360    0.254955\n",
      "Wii     0.189091\n",
      "Name: na_sales, dtype: float64\n",
      "platform\n",
      "PS4     0.345851\n",
      "Wii     0.235455\n",
      "XOne    0.202851\n",
      "WiiU    0.180137\n",
      "X360    0.139550\n",
      "Name: eu_sales, dtype: float64\n"
     ]
    },
    {
     "data": {
      "text/plain": [
       "platform\n",
       "3DS     0.208679\n",
       "WiiU    0.100137\n",
       "PS3     0.051233\n",
       "PSV     0.049288\n",
       "PS4     0.039947\n",
       "Name: jp_sales, dtype: float64"
      ]
     },
     "execution_count": 28,
     "metadata": {},
     "output_type": "execute_result"
    }
   ],
   "source": [
    "# NA\n",
    "platforms_na = df_new.groupby('platform').na_sales.mean().sort_values(ascending=False)[:5]\n",
    "print(platforms_na)\n",
    "\n",
    "#EU\n",
    "platforms_eu = df_new.groupby('platform').eu_sales.mean().sort_values(ascending=False)[:5]\n",
    "print(platforms_eu)\n",
    "\n",
    "#JP\n",
    "platforms_jp = df_new.groupby('platform').jp_sales.mean().sort_values(ascending=False)[:5]\n",
    "platforms_jp"
   ]
  },
  {
   "cell_type": "code",
   "execution_count": 29,
   "metadata": {},
   "outputs": [
    {
     "data": {
      "text/plain": [
       "<AxesSubplot:xlabel='platform'>"
      ]
     },
     "execution_count": 29,
     "metadata": {},
     "output_type": "execute_result"
    },
    {
     "data": {
      "image/png": "[encoded data removed]",
      "text/plain": [
       "<Figure size 1080x360 with 1 Axes>"
      ]
     },
     "metadata": {
      "needs_background": "light"
     },
     "output_type": "display_data"
    }
   ],
   "source": [
    "df_platform_region = pd.DataFrame(data=[platforms_na, platforms_eu, platforms_jp]).T\n",
    "\n",
    "df_platform_region.plot(kind='bar',figsize=(15,5))"
   ]
  },
  {
   "cell_type": "markdown",
   "metadata": {},
   "source": [
    "По диаграмме можно сказать, что рынки EU и NA схожи, а вот рынок JP сильно отличается. Самыми популярными платформами для NA - XOne, для EU - PS4, для JP - 3DC."
   ]
  },
  {
   "cell_type": "markdown",
   "metadata": {},
   "source": [
    "<b>Самые популярные жанры (топ-5)</b>"
   ]
  },
  {
   "cell_type": "code",
   "execution_count": 30,
   "metadata": {},
   "outputs": [
    {
     "name": "stdout",
     "output_type": "stream",
     "text": [
      "genre\n",
      "Shooter         0.617344\n",
      "Sports          0.286522\n",
      "Fighting        0.207167\n",
      "Platform        0.178684\n",
      "Role-Playing    0.151448\n",
      "Name: na_sales, dtype: float64\n",
      "genre\n",
      "Shooter       0.511875\n",
      "Sports        0.284037\n",
      "Racing        0.204783\n",
      "Platform      0.178947\n",
      "Simulation    0.165909\n",
      "Name: eu_sales, dtype: float64\n"
     ]
    },
    {
     "data": {
      "text/plain": [
       "genre\n",
       "Role-Playing    0.140995\n",
       "Fighting        0.106167\n",
       "Platform        0.070789\n",
       "Puzzle          0.066429\n",
       "Simulation      0.052500\n",
       "Name: jp_sales, dtype: float64"
      ]
     },
     "execution_count": 30,
     "metadata": {},
     "output_type": "execute_result"
    }
   ],
   "source": [
    "# NA\n",
    "genre_na = df_new.groupby('genre').na_sales.mean().sort_values(ascending=False)[:5]\n",
    "print(genre_na)\n",
    "\n",
    "#EU\n",
    "genre_eu = df_new.groupby('genre').eu_sales.mean().sort_values(ascending=False)[:5]\n",
    "print(genre_eu)\n",
    "\n",
    "#JP\n",
    "genre_jp = df_new.groupby('genre').jp_sales.mean().sort_values(ascending=False)[:5]\n",
    "genre_jp"
   ]
  },
  {
   "cell_type": "code",
   "execution_count": 31,
   "metadata": {},
   "outputs": [
    {
     "data": {
      "text/plain": [
       "<AxesSubplot:xlabel='genre'>"
      ]
     },
     "execution_count": 31,
     "metadata": {},
     "output_type": "execute_result"
    },
    {
     "data": {
      "image/png": "[encoded data removed]",
      "text/plain": [
       "<Figure size 1080x360 with 1 Axes>"
      ]
     },
     "metadata": {
      "needs_background": "light"
     },
     "output_type": "display_data"
    }
   ],
   "source": [
    "df_genre_region = pd.DataFrame(data=[genre_na, genre_eu, genre_jp]).T\n",
    "\n",
    "df_genre_region.plot(kind='bar',figsize=(15,5))"
   ]
  },
  {
   "cell_type": "markdown",
   "metadata": {},
   "source": [
    "По диаграмме мы видим, что особых совпадений среди регионов по жанрам нет. Cамыми популярными жанрами являются: для NA - Shooter, Sports, Fighting; для EU - Shooter, Sports, Racing; для JA - Role-Playing (остальные жанры в JP распределены примерно одинаково)."
   ]
  },
  {
   "cell_type": "markdown",
   "metadata": {},
   "source": [
    "<b>Влияет ли рейтинг ESRB на продажи в отдельном регионе</b>"
   ]
  },
  {
   "cell_type": "code",
   "execution_count": 32,
   "metadata": {},
   "outputs": [
    {
     "name": "stdout",
     "output_type": "stream",
     "text": [
      "rating\n",
      "E       50.74\n",
      "E10+    33.23\n",
      "M       96.42\n",
      "ND      64.72\n",
      "T       38.95\n",
      "Name: na_sales, dtype: float64\n",
      "rating\n",
      "E       58.06\n",
      "E10+    26.16\n",
      "M       93.44\n",
      "ND      58.95\n",
      "T       34.07\n",
      "Name: eu_sales, dtype: float64\n"
     ]
    },
    {
     "data": {
      "text/plain": [
       "rating\n",
       "E        8.94\n",
       "E10+     4.46\n",
       "M        8.01\n",
       "ND      56.90\n",
       "T       14.78\n",
       "Name: jp_sales, dtype: float64"
      ]
     },
     "execution_count": 32,
     "metadata": {},
     "output_type": "execute_result"
    }
   ],
   "source": [
    "# NA\n",
    "rating_na = df_new.groupby('rating').sum().na_sales\n",
    "print(rating_na)\n",
    "\n",
    "#EU\n",
    "rating_eu = df_new.groupby('rating').sum().eu_sales\n",
    "print(rating_eu)\n",
    "\n",
    "#JP\n",
    "rating_jp = df_new.groupby('rating').sum().jp_sales\n",
    "rating_jp\n",
    "\n"
   ]
  },
  {
   "cell_type": "code",
   "execution_count": 33,
   "metadata": {},
   "outputs": [
    {
     "data": {
      "text/plain": [
       "<AxesSubplot:xlabel='rating'>"
      ]
     },
     "execution_count": 33,
     "metadata": {},
     "output_type": "execute_result"
    },
    {
     "data": {
      "image/png": "[encoded data removed]",
      "text/plain": [
       "<Figure size 1080x360 with 1 Axes>"
      ]
     },
     "metadata": {
      "needs_background": "light"
     },
     "output_type": "display_data"
    }
   ],
   "source": [
    "df_rating_region = pd.DataFrame(data=[rating_na, rating_eu, rating_jp]).T\n",
    "\n",
    "df_rating_region.plot(kind='bar',figsize=(15,5))"
   ]
  },
  {
   "cell_type": "markdown",
   "metadata": {},
   "source": [
    "Рейтинга M больше всего в регионах NA и JP, в Японии распределяются примерно одинаково (если не учитывать игры с неопределнным рейтингом). Также можем заметить, что достаточно большое количество игр с неопределенным рейтингом среди всех регионов."
   ]
  },
  {
   "cell_type": "markdown",
   "metadata": {},
   "source": [
    "<h2>Проверка гипотез</h2>"
   ]
  },
  {
   "cell_type": "markdown",
   "metadata": {},
   "source": [
    "<b>Средние пользовательские рейтинги платформ Xbox One и PC одинаковые</b>"
   ]
  },
  {
   "cell_type": "markdown",
   "metadata": {},
   "source": [
    "Cформулируем нулевую и альтернативную гипотезы по принципу \"нулевая всегда со знаком равенства\", а в альтернативной все то, что хотим проверить. <br> Для проверки гипотез применяем t-test (гипотеза о равенстве средних двух генеральных совокупностей), потому что нужно сравнить средние двух генеральных совокупностей между собой. <br>\n",
    "H0 = Средние пользовательские рейтинги платформ Xbox One и PC одинаковые <br>\n",
    "H1 = Средние пользовательские рейтинги платформ Xbox One и PC отличаются"
   ]
  },
  {
   "cell_type": "code",
   "execution_count": 34,
   "metadata": {},
   "outputs": [
    {
     "name": "stdout",
     "output_type": "stream",
     "text": [
      "0.10450507919348415\n",
      "Не получилось отвергнуть нулевую гипотезу\n"
     ]
    }
   ],
   "source": [
    "alpha = .05\n",
    " \n",
    "pl_XOne = df_new[df_new['platform'] == 'XOne']['user_score'].dropna()\n",
    "pl_PC = df_new[df_new['platform'] == 'PC']['user_score'].dropna()\n",
    "\n",
    "results = st.ttest_ind(pl_XOne, pl_PC)\n",
    "\n",
    "print(results.pvalue)\n",
    "\n",
    "if results.pvalue < alpha:\n",
    "    print('Отвергаем нулевую гипотезу')\n",
    "else:\n",
    "    print('Не получилось отвергнуть нулевую гипотезу')"
   ]
  },
  {
   "cell_type": "markdown",
   "metadata": {},
   "source": [
    "<b>Средние пользовательские рейтинги жанров Action (англ. «действие», экшен-игры) и Sports (англ. «спортивные соревнования») разные</b>"
   ]
  },
  {
   "cell_type": "markdown",
   "metadata": {},
   "source": [
    "Cформулируем нулевую и альтернативную гипотезы по принципу \"нулевая всегда со знаком равенства\", а в альтернативной все то, что хотим проверить. <br> Для проверки гипотез применяем t-test (гипотеза о равенстве средних двух генеральных совокупностей), потому что нужно сравнить средние двух генеральных совокупностей между собой. <br>\n",
    "H0 = Средние пользовательские рейтинги жанров Action (англ. «действие», экшен-игры) и Sports (англ. «спортивные соревнования») одинаковые <br>\n",
    "H1 = Средние пользовательские рейтинги жанров Action (англ. «действие», экшен-игры) и Sports (англ. «спортивные соревнования») разные"
   ]
  },
  {
   "cell_type": "code",
   "execution_count": 38,
   "metadata": {},
   "outputs": [
    {
     "name": "stdout",
     "output_type": "stream",
     "text": [
      "2.8711147985105864e-19\n",
      "Отвергаем нулевую гипотезу\n"
     ]
    }
   ],
   "source": [
    "alpha = .05\n",
    " \n",
    "pl_action = df_new[df_new['genre'] == 'Action']['user_score'].dropna()\n",
    "pl_sports = df_new[df_new['genre'] == 'Sports']['user_score'].dropna()\n",
    "\n",
    "results = st.ttest_ind(pl_action, pl_sports)\n",
    "\n",
    "print(results.pvalue)\n",
    "\n",
    "if results.pvalue < alpha:\n",
    "    print('Отвергаем нулевую гипотезу')\n",
    "else:\n",
    "    print('Не получилось отвергнуть нулевую гипотезу')"
   ]
  },
  {
   "cell_type": "markdown",
   "metadata": {},
   "source": [
    "<h2>Общий вывод</h2>"
   ]
  },
  {
   "cell_type": "markdown",
   "metadata": {},
   "source": [
    "<b>Шаг 1. Открытие файла с данными и изучение общей информации</b>\n",
    "<br>\n",
    "Данные были успешно загружены, никаких проблем не возникло. Дана предварительная оценка данных: в некоторых столбцах присутсвуют пропуски и столбцы неправильно названы.\n",
    "<br><br>\n",
    "\n",
    "<b>Шаг 2. Подготовка данных</b>\n",
    "<br>\n",
    "Переименовали названия столбцов в соответствии с правилами. Преобразовали данные в нужные типы. Обработали пропуски в некоторых столбцах. Добавили столбец с суммарными продажами во всех регионах.\n",
    "<br><br>\n",
    "\n",
    "<b>Шаг 3. Исследовательский анализ данных</b>\n",
    "<br>\n",
    "Данные не за все периоды важны для нашей цели. По продажам лидирует платформа PS4. Все платформы постепенно падают по продажам. Растущих платформ нет. PC - стабильная платформа. Потенциально прибыльные платформы - PS4, XOne, 3DS, PC. По графику \"ящык с усами\" можно сказать следующее: разницы между графиками по каждой платформе почти нет. Они демонстрируют похожие продажи. Средние же продажи очень сильно отличаются, поскольку почти в каждом графике присутсвуют выбросы (продажи очень популярных игр). Высокий рейтинг далеко не всегда означает большие продажи, а низкий рейтинг почти всегда обозначает низкий уровень продаж. Слабо отрицательная связь на графике с оценками пользователей и умеренно положительная связь на графике с оценками критиков. Самые высокие продажи у жанров Shooter, Sports и Platform. Самые низкие продажи у жанров Strategy, Puzzle, Adventure.\n",
    "<br><br>\n",
    "\n",
    "<b>Шаг 4. Портрет пользователя каждого региона</b>\n",
    "<br>\n",
    "NA: самая популрная платформа - XOne, самый популярный жанр - Shooter.\n",
    "EU: самая популрная платформа - PS4, самый популярный жанр - Shooter.\n",
    "JP: самая популрная платформа - 3DS, самый популярный жанр - Role-Playing.\n",
    "<br><br>\n",
    "\n",
    "<b>Шаг 5. Проверка гипотез</b>\n",
    "<br>\n",
    "В ходе проверки обе гипотезы потдвердились:\n",
    "1. Средние пользовательские рейтинги платформ Xbox One и PC одинаковые <br>\n",
    "2. Средние пользовательские рейтинги жанров Action (англ. «действие», экшен-игры) и Sports (англ. «спортивные соревнования») разные\n",
    "<br><br>"
   ]
  }
 ],
 "metadata": {
  "ExecuteTimeLog": [
   {
    "duration": 111,
    "start_time": "2023-02-25T13:25:01.909Z"
   },
   {
    "duration": 1050,
    "start_time": "2023-02-25T13:30:36.155Z"
   },
   {
    "duration": 28,
    "start_time": "2023-02-25T13:30:54.245Z"
   },
   {
    "duration": 22,
    "start_time": "2023-02-25T13:31:15.017Z"
   },
   {
    "duration": 30,
    "start_time": "2023-02-25T13:37:11.344Z"
   },
   {
    "duration": 23,
    "start_time": "2023-02-25T13:39:47.086Z"
   },
   {
    "duration": 17,
    "start_time": "2023-02-25T13:39:56.406Z"
   },
   {
    "duration": 95,
    "start_time": "2023-02-25T13:48:46.311Z"
   },
   {
    "duration": 9,
    "start_time": "2023-02-25T13:49:02.413Z"
   },
   {
    "duration": 19,
    "start_time": "2023-02-25T13:49:40.851Z"
   },
   {
    "duration": 14,
    "start_time": "2023-02-25T13:50:32.460Z"
   },
   {
    "duration": 308,
    "start_time": "2023-02-25T13:50:36.584Z"
   },
   {
    "duration": 9,
    "start_time": "2023-02-25T13:51:58.821Z"
   },
   {
    "duration": 8,
    "start_time": "2023-02-25T13:52:11.547Z"
   },
   {
    "duration": 958,
    "start_time": "2023-02-25T13:52:17.728Z"
   },
   {
    "duration": 28,
    "start_time": "2023-02-25T13:52:18.688Z"
   },
   {
    "duration": 18,
    "start_time": "2023-02-25T13:52:18.718Z"
   },
   {
    "duration": 33,
    "start_time": "2023-02-25T13:52:18.738Z"
   },
   {
    "duration": 17,
    "start_time": "2023-02-25T13:52:18.773Z"
   },
   {
    "duration": 119,
    "start_time": "2023-02-25T13:52:18.792Z"
   },
   {
    "duration": 9,
    "start_time": "2023-02-25T13:55:13.277Z"
   },
   {
    "duration": 6,
    "start_time": "2023-02-25T13:56:27.625Z"
   },
   {
    "duration": 5,
    "start_time": "2023-02-25T13:56:39.469Z"
   },
   {
    "duration": 5,
    "start_time": "2023-02-25T14:02:48.694Z"
   },
   {
    "duration": 37,
    "start_time": "2023-02-25T14:04:15.869Z"
   },
   {
    "duration": 5,
    "start_time": "2023-02-25T14:04:36.465Z"
   },
   {
    "duration": 15,
    "start_time": "2023-02-25T14:05:17.481Z"
   },
   {
    "duration": 3,
    "start_time": "2023-02-25T14:05:28.616Z"
   },
   {
    "duration": 6,
    "start_time": "2023-02-25T14:09:17.158Z"
   },
   {
    "duration": 17,
    "start_time": "2023-02-25T14:11:58.161Z"
   },
   {
    "duration": 677,
    "start_time": "2023-02-25T14:12:47.798Z"
   },
   {
    "duration": 14,
    "start_time": "2023-02-25T14:15:44.522Z"
   },
   {
    "duration": 595,
    "start_time": "2023-02-25T14:15:54.820Z"
   },
   {
    "duration": 13,
    "start_time": "2023-02-25T14:16:49.610Z"
   },
   {
    "duration": 6,
    "start_time": "2023-02-25T14:18:14.671Z"
   },
   {
    "duration": 9,
    "start_time": "2023-02-25T14:18:23.953Z"
   },
   {
    "duration": 5,
    "start_time": "2023-02-25T14:18:28.374Z"
   },
   {
    "duration": 950,
    "start_time": "2023-02-25T14:18:37.317Z"
   },
   {
    "duration": 28,
    "start_time": "2023-02-25T14:18:38.269Z"
   },
   {
    "duration": 16,
    "start_time": "2023-02-25T14:18:38.301Z"
   },
   {
    "duration": 32,
    "start_time": "2023-02-25T14:18:38.340Z"
   },
   {
    "duration": 17,
    "start_time": "2023-02-25T14:18:38.374Z"
   },
   {
    "duration": 13,
    "start_time": "2023-02-25T14:18:38.392Z"
   },
   {
    "duration": 9,
    "start_time": "2023-02-25T14:18:38.407Z"
   },
   {
    "duration": 25,
    "start_time": "2023-02-25T14:18:38.418Z"
   },
   {
    "duration": 8,
    "start_time": "2023-02-25T14:18:38.446Z"
   },
   {
    "duration": 6,
    "start_time": "2023-02-25T14:18:38.455Z"
   },
   {
    "duration": 5,
    "start_time": "2023-02-25T14:20:05.157Z"
   },
   {
    "duration": 6,
    "start_time": "2023-02-25T14:20:07.990Z"
   },
   {
    "duration": 95,
    "start_time": "2023-02-25T14:20:17.832Z"
   },
   {
    "duration": 10,
    "start_time": "2023-02-25T14:21:31.699Z"
   },
   {
    "duration": 10,
    "start_time": "2023-02-25T14:21:47.817Z"
   },
   {
    "duration": 5,
    "start_time": "2023-02-25T14:23:34.963Z"
   },
   {
    "duration": 5,
    "start_time": "2023-02-25T14:23:37.221Z"
   },
   {
    "duration": 996,
    "start_time": "2023-02-25T14:23:45.653Z"
   },
   {
    "duration": 28,
    "start_time": "2023-02-25T14:23:46.651Z"
   },
   {
    "duration": 14,
    "start_time": "2023-02-25T14:23:46.680Z"
   },
   {
    "duration": 47,
    "start_time": "2023-02-25T14:23:46.698Z"
   },
   {
    "duration": 17,
    "start_time": "2023-02-25T14:23:46.747Z"
   },
   {
    "duration": 5,
    "start_time": "2023-02-25T14:23:46.766Z"
   },
   {
    "duration": 16,
    "start_time": "2023-02-25T14:23:46.773Z"
   },
   {
    "duration": 6,
    "start_time": "2023-02-25T14:23:46.791Z"
   },
   {
    "duration": 8,
    "start_time": "2023-02-25T14:23:46.798Z"
   },
   {
    "duration": 7,
    "start_time": "2023-02-25T14:23:46.809Z"
   },
   {
    "duration": 23,
    "start_time": "2023-02-25T14:26:54.451Z"
   },
   {
    "duration": 10,
    "start_time": "2023-02-25T14:28:41.416Z"
   },
   {
    "duration": 8,
    "start_time": "2023-02-25T14:32:35.460Z"
   },
   {
    "duration": 10,
    "start_time": "2023-02-25T14:34:45.452Z"
   },
   {
    "duration": 8,
    "start_time": "2023-02-25T14:38:00.817Z"
   },
   {
    "duration": 5,
    "start_time": "2023-02-25T14:41:14.470Z"
   },
   {
    "duration": 6,
    "start_time": "2023-02-25T14:41:37.980Z"
   },
   {
    "duration": 11,
    "start_time": "2023-02-25T14:43:20.367Z"
   },
   {
    "duration": 6,
    "start_time": "2023-02-25T14:51:34.659Z"
   },
   {
    "duration": 8,
    "start_time": "2023-02-25T14:57:33.309Z"
   },
   {
    "duration": 7,
    "start_time": "2023-02-25T15:00:32.287Z"
   },
   {
    "duration": 10,
    "start_time": "2023-02-25T15:00:55.219Z"
   },
   {
    "duration": 6,
    "start_time": "2023-02-25T15:01:26.001Z"
   },
   {
    "duration": 96,
    "start_time": "2023-02-25T15:56:05.086Z"
   },
   {
    "duration": 72,
    "start_time": "2023-02-25T16:00:46.036Z"
   },
   {
    "duration": 81,
    "start_time": "2023-02-25T16:24:09.667Z"
   },
   {
    "duration": 635,
    "start_time": "2023-02-25T16:24:45.453Z"
   },
   {
    "duration": 1276,
    "start_time": "2023-02-25T17:57:28.074Z"
   },
   {
    "duration": 23,
    "start_time": "2023-02-25T17:58:13.118Z"
   },
   {
    "duration": 254,
    "start_time": "2023-02-25T17:58:22.810Z"
   },
   {
    "duration": 290,
    "start_time": "2023-02-25T17:58:35.973Z"
   },
   {
    "duration": 304,
    "start_time": "2023-02-25T17:58:43.409Z"
   },
   {
    "duration": 40,
    "start_time": "2023-02-25T18:05:14.564Z"
   },
   {
    "duration": 347,
    "start_time": "2023-02-25T18:17:12.623Z"
   },
   {
    "duration": 301,
    "start_time": "2023-02-25T18:17:37.805Z"
   },
   {
    "duration": 6,
    "start_time": "2023-02-25T18:18:20.743Z"
   },
   {
    "duration": 285,
    "start_time": "2023-02-25T18:18:56.473Z"
   },
   {
    "duration": 295,
    "start_time": "2023-02-25T18:19:07.363Z"
   },
   {
    "duration": 283,
    "start_time": "2023-02-25T18:19:15.471Z"
   },
   {
    "duration": 358,
    "start_time": "2023-02-25T18:19:21.450Z"
   },
   {
    "duration": 22,
    "start_time": "2023-02-25T19:09:17.603Z"
   },
   {
    "duration": 192,
    "start_time": "2023-02-25T19:12:14.542Z"
   },
   {
    "duration": 319,
    "start_time": "2023-02-25T19:13:49.308Z"
   },
   {
    "duration": 283,
    "start_time": "2023-02-25T19:18:57.057Z"
   },
   {
    "duration": 256,
    "start_time": "2023-02-25T19:19:09.999Z"
   },
   {
    "duration": 46,
    "start_time": "2023-02-25T20:22:07.835Z"
   },
   {
    "duration": 46,
    "start_time": "2023-02-25T20:22:13.819Z"
   },
   {
    "duration": 1705,
    "start_time": "2023-02-25T20:22:25.321Z"
   },
   {
    "duration": 160,
    "start_time": "2023-02-25T20:22:46.282Z"
   },
   {
    "duration": 223,
    "start_time": "2023-02-25T20:23:48.524Z"
   },
   {
    "duration": 316,
    "start_time": "2023-02-25T20:24:18.982Z"
   },
   {
    "duration": 393,
    "start_time": "2023-02-25T20:24:57.817Z"
   },
   {
    "duration": 235,
    "start_time": "2023-02-25T20:25:40.888Z"
   },
   {
    "duration": 274,
    "start_time": "2023-02-25T20:25:48.709Z"
   },
   {
    "duration": 341,
    "start_time": "2023-02-25T21:32:50.904Z"
   },
   {
    "duration": 364,
    "start_time": "2023-02-25T21:34:28.364Z"
   },
   {
    "duration": 390,
    "start_time": "2023-02-25T21:34:46.498Z"
   },
   {
    "duration": 359,
    "start_time": "2023-02-25T21:34:54.256Z"
   },
   {
    "duration": 252,
    "start_time": "2023-02-25T21:40:49.342Z"
   },
   {
    "duration": 229,
    "start_time": "2023-02-25T21:41:09.200Z"
   },
   {
    "duration": 1869,
    "start_time": "2023-02-25T21:42:18.658Z"
   },
   {
    "duration": 1821,
    "start_time": "2023-02-25T21:44:39.614Z"
   },
   {
    "duration": 346,
    "start_time": "2023-02-25T21:45:48.657Z"
   },
   {
    "duration": 408,
    "start_time": "2023-02-25T21:45:55.027Z"
   },
   {
    "duration": 321,
    "start_time": "2023-02-25T21:46:01.068Z"
   },
   {
    "duration": 198,
    "start_time": "2023-02-25T21:46:51.676Z"
   },
   {
    "duration": 214,
    "start_time": "2023-02-25T21:47:03.576Z"
   },
   {
    "duration": 196,
    "start_time": "2023-02-25T21:47:19.233Z"
   },
   {
    "duration": 207,
    "start_time": "2023-02-25T21:48:00.918Z"
   },
   {
    "duration": 212,
    "start_time": "2023-02-25T21:48:12.631Z"
   },
   {
    "duration": 283,
    "start_time": "2023-02-25T21:50:30.230Z"
   },
   {
    "duration": 11,
    "start_time": "2023-02-25T21:51:32.577Z"
   },
   {
    "duration": 8,
    "start_time": "2023-02-25T21:56:18.069Z"
   },
   {
    "duration": 14,
    "start_time": "2023-02-25T21:57:36.306Z"
   },
   {
    "duration": 15,
    "start_time": "2023-02-25T21:57:51.927Z"
   },
   {
    "duration": 14,
    "start_time": "2023-02-25T21:58:23.699Z"
   },
   {
    "duration": 13,
    "start_time": "2023-02-25T21:58:40.052Z"
   },
   {
    "duration": 4,
    "start_time": "2023-02-25T22:01:06.706Z"
   },
   {
    "duration": 15,
    "start_time": "2023-02-25T22:01:53.660Z"
   },
   {
    "duration": 28,
    "start_time": "2023-02-25T22:03:51.426Z"
   },
   {
    "duration": 17,
    "start_time": "2023-02-25T22:03:59.216Z"
   },
   {
    "duration": 16,
    "start_time": "2023-02-25T22:04:09.044Z"
   },
   {
    "duration": 7,
    "start_time": "2023-02-25T22:04:15.241Z"
   },
   {
    "duration": 9,
    "start_time": "2023-02-25T22:04:52.873Z"
   },
   {
    "duration": 7,
    "start_time": "2023-02-25T22:05:03.888Z"
   },
   {
    "duration": 12,
    "start_time": "2023-02-25T22:05:08.799Z"
   },
   {
    "duration": 12,
    "start_time": "2023-02-25T22:05:21.700Z"
   },
   {
    "duration": 13,
    "start_time": "2023-02-25T22:05:32.267Z"
   },
   {
    "duration": 12,
    "start_time": "2023-02-25T22:05:50.791Z"
   },
   {
    "duration": 250,
    "start_time": "2023-02-25T22:06:11.301Z"
   },
   {
    "duration": 236,
    "start_time": "2023-02-25T22:06:38.634Z"
   },
   {
    "duration": 15,
    "start_time": "2023-02-25T22:10:41.564Z"
   },
   {
    "duration": 272,
    "start_time": "2023-02-25T22:11:29.724Z"
   },
   {
    "duration": 246,
    "start_time": "2023-02-25T22:11:36.410Z"
   },
   {
    "duration": 225,
    "start_time": "2023-02-25T22:12:00.130Z"
   },
   {
    "duration": 13,
    "start_time": "2023-02-25T22:20:22.034Z"
   },
   {
    "duration": 20,
    "start_time": "2023-02-25T22:20:34.696Z"
   },
   {
    "duration": 13,
    "start_time": "2023-02-25T22:21:06.105Z"
   },
   {
    "duration": 19,
    "start_time": "2023-02-25T22:21:16.853Z"
   },
   {
    "duration": 7,
    "start_time": "2023-02-25T22:26:13.529Z"
   },
   {
    "duration": 946,
    "start_time": "2023-02-25T22:26:21.325Z"
   },
   {
    "duration": 30,
    "start_time": "2023-02-25T22:26:22.273Z"
   },
   {
    "duration": 33,
    "start_time": "2023-02-25T22:26:22.307Z"
   },
   {
    "duration": 32,
    "start_time": "2023-02-25T22:26:22.342Z"
   },
   {
    "duration": 16,
    "start_time": "2023-02-25T22:26:22.376Z"
   },
   {
    "duration": 5,
    "start_time": "2023-02-25T22:26:22.393Z"
   },
   {
    "duration": 7,
    "start_time": "2023-02-25T22:26:22.400Z"
   },
   {
    "duration": 41,
    "start_time": "2023-02-25T22:26:22.408Z"
   },
   {
    "duration": 7,
    "start_time": "2023-02-25T22:26:22.452Z"
   },
   {
    "duration": 6,
    "start_time": "2023-02-25T22:26:22.461Z"
   },
   {
    "duration": 18,
    "start_time": "2023-02-25T22:26:22.469Z"
   },
   {
    "duration": 9,
    "start_time": "2023-02-25T22:26:22.488Z"
   },
   {
    "duration": 6,
    "start_time": "2023-02-25T22:26:22.499Z"
   },
   {
    "duration": 35,
    "start_time": "2023-02-25T22:26:22.507Z"
   },
   {
    "duration": 5,
    "start_time": "2023-02-25T22:26:22.544Z"
   },
   {
    "duration": 10,
    "start_time": "2023-02-25T22:26:22.551Z"
   },
   {
    "duration": 10,
    "start_time": "2023-02-25T22:26:22.563Z"
   },
   {
    "duration": 5,
    "start_time": "2023-02-25T22:26:22.575Z"
   },
   {
    "duration": 454,
    "start_time": "2023-02-25T22:26:22.581Z"
   },
   {
    "duration": 6,
    "start_time": "2023-02-25T22:26:23.039Z"
   },
   {
    "duration": 335,
    "start_time": "2023-02-25T22:26:23.046Z"
   },
   {
    "duration": 22,
    "start_time": "2023-02-25T22:26:23.383Z"
   },
   {
    "duration": 300,
    "start_time": "2023-02-25T22:26:23.407Z"
   },
   {
    "duration": 294,
    "start_time": "2023-02-25T22:26:23.709Z"
   },
   {
    "duration": 376,
    "start_time": "2023-02-25T22:26:24.005Z"
   },
   {
    "duration": 308,
    "start_time": "2023-02-25T22:26:24.383Z"
   },
   {
    "duration": 10,
    "start_time": "2023-02-25T22:26:24.694Z"
   },
   {
    "duration": 17,
    "start_time": "2023-02-25T22:26:24.706Z"
   },
   {
    "duration": 253,
    "start_time": "2023-02-25T22:26:24.739Z"
   },
   {
    "duration": 14,
    "start_time": "2023-02-25T22:26:24.994Z"
   },
   {
    "duration": 251,
    "start_time": "2023-02-25T22:26:25.010Z"
   },
   {
    "duration": 16,
    "start_time": "2023-02-25T22:26:25.263Z"
   },
   {
    "duration": 15,
    "start_time": "2023-02-25T22:26:34.882Z"
   },
   {
    "duration": 15,
    "start_time": "2023-02-25T22:27:12.207Z"
   },
   {
    "duration": 5,
    "start_time": "2023-02-25T22:27:36.321Z"
   },
   {
    "duration": 846,
    "start_time": "2023-02-25T22:27:44.889Z"
   },
   {
    "duration": 25,
    "start_time": "2023-02-25T22:27:45.737Z"
   },
   {
    "duration": 16,
    "start_time": "2023-02-25T22:27:45.763Z"
   },
   {
    "duration": 29,
    "start_time": "2023-02-25T22:27:45.781Z"
   },
   {
    "duration": 35,
    "start_time": "2023-02-25T22:27:45.812Z"
   },
   {
    "duration": 4,
    "start_time": "2023-02-25T22:27:45.849Z"
   },
   {
    "duration": 6,
    "start_time": "2023-02-25T22:27:45.855Z"
   },
   {
    "duration": 8,
    "start_time": "2023-02-25T22:27:45.863Z"
   },
   {
    "duration": 8,
    "start_time": "2023-02-25T22:27:45.873Z"
   },
   {
    "duration": 8,
    "start_time": "2023-02-25T22:27:45.884Z"
   },
   {
    "duration": 46,
    "start_time": "2023-02-25T22:27:45.894Z"
   },
   {
    "duration": 9,
    "start_time": "2023-02-25T22:27:45.942Z"
   },
   {
    "duration": 6,
    "start_time": "2023-02-25T22:27:45.952Z"
   },
   {
    "duration": 9,
    "start_time": "2023-02-25T22:27:45.959Z"
   },
   {
    "duration": 5,
    "start_time": "2023-02-25T22:27:45.969Z"
   },
   {
    "duration": 9,
    "start_time": "2023-02-25T22:27:45.975Z"
   },
   {
    "duration": 5,
    "start_time": "2023-02-25T22:27:45.985Z"
   },
   {
    "duration": 5,
    "start_time": "2023-02-25T22:27:45.992Z"
   },
   {
    "duration": 442,
    "start_time": "2023-02-25T22:27:45.998Z"
   },
   {
    "duration": 6,
    "start_time": "2023-02-25T22:27:46.441Z"
   },
   {
    "duration": 316,
    "start_time": "2023-02-25T22:27:46.448Z"
   },
   {
    "duration": 18,
    "start_time": "2023-02-25T22:27:46.766Z"
   },
   {
    "duration": 299,
    "start_time": "2023-02-25T22:27:46.786Z"
   },
   {
    "duration": 261,
    "start_time": "2023-02-25T22:27:47.088Z"
   },
   {
    "duration": 357,
    "start_time": "2023-02-25T22:27:47.351Z"
   },
   {
    "duration": 312,
    "start_time": "2023-02-25T22:27:47.710Z"
   },
   {
    "duration": 18,
    "start_time": "2023-02-25T22:27:48.024Z"
   },
   {
    "duration": 14,
    "start_time": "2023-02-25T22:27:48.045Z"
   },
   {
    "duration": 237,
    "start_time": "2023-02-25T22:27:48.060Z"
   },
   {
    "duration": 13,
    "start_time": "2023-02-25T22:27:48.299Z"
   },
   {
    "duration": 231,
    "start_time": "2023-02-25T22:27:48.314Z"
   },
   {
    "duration": 21,
    "start_time": "2023-02-25T22:27:48.547Z"
   },
   {
    "duration": 17,
    "start_time": "2023-02-25T22:28:28.192Z"
   },
   {
    "duration": 19,
    "start_time": "2023-02-25T22:28:59.042Z"
   },
   {
    "duration": 18,
    "start_time": "2023-02-25T22:29:12.589Z"
   },
   {
    "duration": 427,
    "start_time": "2023-02-25T22:30:24.168Z"
   },
   {
    "duration": 294,
    "start_time": "2023-02-25T22:33:07.463Z"
   },
   {
    "duration": 16,
    "start_time": "2023-02-25T22:35:12.050Z"
   },
   {
    "duration": 16,
    "start_time": "2023-02-25T22:35:34.224Z"
   },
   {
    "duration": 204,
    "start_time": "2023-02-25T22:36:20.832Z"
   },
   {
    "duration": 106,
    "start_time": "2023-02-25T22:47:16.969Z"
   },
   {
    "duration": 8,
    "start_time": "2023-02-25T22:47:28.329Z"
   },
   {
    "duration": 10,
    "start_time": "2023-02-25T22:47:38.832Z"
   },
   {
    "duration": 10,
    "start_time": "2023-02-25T22:47:56.223Z"
   },
   {
    "duration": 10,
    "start_time": "2023-02-25T22:51:24.012Z"
   },
   {
    "duration": 8,
    "start_time": "2023-02-25T22:51:32.960Z"
   },
   {
    "duration": 8,
    "start_time": "2023-02-25T22:51:40.435Z"
   },
   {
    "duration": 8,
    "start_time": "2023-02-25T23:02:46.672Z"
   },
   {
    "duration": 52,
    "start_time": "2023-02-26T11:26:08.948Z"
   },
   {
    "duration": 1009,
    "start_time": "2023-02-26T11:26:15.812Z"
   },
   {
    "duration": 29,
    "start_time": "2023-02-26T11:26:16.823Z"
   },
   {
    "duration": 17,
    "start_time": "2023-02-26T11:26:16.854Z"
   },
   {
    "duration": 31,
    "start_time": "2023-02-26T11:26:16.873Z"
   },
   {
    "duration": 17,
    "start_time": "2023-02-26T11:26:16.906Z"
   },
   {
    "duration": 30,
    "start_time": "2023-02-26T11:26:16.924Z"
   },
   {
    "duration": 8,
    "start_time": "2023-02-26T11:26:16.956Z"
   },
   {
    "duration": 8,
    "start_time": "2023-02-26T11:26:16.965Z"
   },
   {
    "duration": 8,
    "start_time": "2023-02-26T11:26:16.974Z"
   },
   {
    "duration": 4,
    "start_time": "2023-02-26T11:26:16.985Z"
   },
   {
    "duration": 13,
    "start_time": "2023-02-26T11:26:16.991Z"
   },
   {
    "duration": 10,
    "start_time": "2023-02-26T11:26:17.006Z"
   },
   {
    "duration": 6,
    "start_time": "2023-02-26T11:26:17.054Z"
   },
   {
    "duration": 7,
    "start_time": "2023-02-26T11:26:17.062Z"
   },
   {
    "duration": 5,
    "start_time": "2023-02-26T11:26:17.071Z"
   },
   {
    "duration": 8,
    "start_time": "2023-02-26T11:26:17.078Z"
   },
   {
    "duration": 5,
    "start_time": "2023-02-26T11:26:17.087Z"
   },
   {
    "duration": 8,
    "start_time": "2023-02-26T11:26:17.093Z"
   },
   {
    "duration": 721,
    "start_time": "2023-02-26T11:26:17.102Z"
   },
   {
    "duration": 7,
    "start_time": "2023-02-26T11:26:17.826Z"
   },
   {
    "duration": 339,
    "start_time": "2023-02-26T11:26:17.835Z"
   },
   {
    "duration": 19,
    "start_time": "2023-02-26T11:26:18.176Z"
   },
   {
    "duration": 325,
    "start_time": "2023-02-26T11:26:18.197Z"
   },
   {
    "duration": 302,
    "start_time": "2023-02-26T11:26:18.524Z"
   },
   {
    "duration": 336,
    "start_time": "2023-02-26T11:26:18.827Z"
   },
   {
    "duration": 312,
    "start_time": "2023-02-26T11:26:19.165Z"
   },
   {
    "duration": 11,
    "start_time": "2023-02-26T11:26:19.480Z"
   },
   {
    "duration": 15,
    "start_time": "2023-02-26T11:26:19.495Z"
   },
   {
    "duration": 248,
    "start_time": "2023-02-26T11:26:19.512Z"
   },
   {
    "duration": 18,
    "start_time": "2023-02-26T11:26:19.766Z"
   },
   {
    "duration": 326,
    "start_time": "2023-02-26T11:26:19.785Z"
   },
   {
    "duration": 17,
    "start_time": "2023-02-26T11:26:20.113Z"
   },
   {
    "duration": 223,
    "start_time": "2023-02-26T11:26:20.132Z"
   },
   {
    "duration": 8,
    "start_time": "2023-02-26T11:26:20.357Z"
   },
   {
    "duration": 7,
    "start_time": "2023-02-26T11:26:20.380Z"
   },
   {
    "duration": 9,
    "start_time": "2023-02-26T11:26:24.974Z"
   },
   {
    "duration": 8,
    "start_time": "2023-02-26T11:26:28.369Z"
   },
   {
    "duration": 99,
    "start_time": "2023-02-26T11:33:53.385Z"
   },
   {
    "duration": 133,
    "start_time": "2023-02-26T11:34:16.347Z"
   },
   {
    "duration": 241,
    "start_time": "2023-02-26T11:34:22.043Z"
   },
   {
    "duration": 122,
    "start_time": "2023-02-26T11:35:12.005Z"
   },
   {
    "duration": 253,
    "start_time": "2023-02-26T11:35:26.985Z"
   },
   {
    "duration": 72,
    "start_time": "2023-02-26T11:37:08.938Z"
   },
   {
    "duration": 240,
    "start_time": "2023-02-26T11:37:13.928Z"
   },
   {
    "duration": 325,
    "start_time": "2023-02-26T11:37:18.281Z"
   },
   {
    "duration": 262,
    "start_time": "2023-02-26T11:55:03.041Z"
   },
   {
    "duration": 14,
    "start_time": "2023-02-26T12:01:41.083Z"
   },
   {
    "duration": 53,
    "start_time": "2023-02-26T12:02:22.103Z"
   },
   {
    "duration": 645,
    "start_time": "2023-02-26T12:02:27.311Z"
   },
   {
    "duration": 665,
    "start_time": "2023-02-26T12:02:52.956Z"
   },
   {
    "duration": 1900,
    "start_time": "2023-02-26T12:03:19.308Z"
   },
   {
    "duration": 695,
    "start_time": "2023-02-26T12:03:27.989Z"
   },
   {
    "duration": 1835,
    "start_time": "2023-02-26T12:04:33.871Z"
   }
  ],
  "kernelspec": {
   "display_name": "Python 3 (ipykernel)",
   "language": "python",
   "name": "python3"
  },
  "language_info": {
   "codemirror_mode": {
    "name": "ipython",
    "version": 3
   },
   "file_extension": ".py",
   "mimetype": "text/x-python",
   "name": "python",
   "nbconvert_exporter": "python",
   "pygments_lexer": "ipython3",
   "version": "3.9.13"
  },
  "toc": {
   "base_numbering": 1,
   "nav_menu": {},
   "number_sections": true,
   "sideBar": true,
   "skip_h1_title": true,
   "title_cell": "Table of Contents",
   "title_sidebar": "Contents",
   "toc_cell": false,
   "toc_position": {},
   "toc_section_display": true,
   "toc_window_display": false
  }
 },
 "nbformat": 4,
 "nbformat_minor": 2
}
