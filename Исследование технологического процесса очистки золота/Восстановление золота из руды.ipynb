{
 "cells": [
  {
   "cell_type": "markdown",
   "metadata": {
    "toc": true
   },
   "source": [
    "<h1>Содержание<span class=\"tocSkip\"></span></h1>\n",
    "<div class=\"toc\"><ul class=\"toc-item\"><li><span><a href=\"#Подготовка-данных\" data-toc-modified-id=\"Подготовка-данных-1\"><span class=\"toc-item-num\">1&nbsp;&nbsp;</span>Подготовка данных</a></span><ul class=\"toc-item\"><li><span><a href=\"#Откройте-файлы-и-изучите-их.\" data-toc-modified-id=\"Откройте-файлы-и-изучите-их.-1.1\"><span class=\"toc-item-num\">1.1&nbsp;&nbsp;</span>Откройте файлы и изучите их.</a></span></li><li><span><a href=\"#Проверьте,-что-эффективность-обогащения-рассчитана-правильно.-Вычислите-её-на-обучающей-выборке-для-признака-rougher.output.recovery.-Найдите-MAE-между-вашими-расчётами-и-значением-признака.-Опишите-выводы.\" data-toc-modified-id=\"Проверьте,-что-эффективность-обогащения-рассчитана-правильно.-Вычислите-её-на-обучающей-выборке-для-признака-rougher.output.recovery.-Найдите-MAE-между-вашими-расчётами-и-значением-признака.-Опишите-выводы.-1.2\"><span class=\"toc-item-num\">1.2&nbsp;&nbsp;</span>Проверьте, что эффективность обогащения рассчитана правильно. Вычислите её на обучающей выборке для признака rougher.output.recovery. Найдите MAE между вашими расчётами и значением признака. Опишите выводы.</a></span></li><li><span><a href=\"#Проанализируйте-признаки,-недоступные-в-тестовой-выборке.-Что-это-за-параметры?-К-какому-типу-относятся?\" data-toc-modified-id=\"Проанализируйте-признаки,-недоступные-в-тестовой-выборке.-Что-это-за-параметры?-К-какому-типу-относятся?-1.3\"><span class=\"toc-item-num\">1.3&nbsp;&nbsp;</span>Проанализируйте признаки, недоступные в тестовой выборке. Что это за параметры? К какому типу относятся?</a></span></li><li><span><a href=\"#Проведите-предобработку-данных.\" data-toc-modified-id=\"Проведите-предобработку-данных.-1.4\"><span class=\"toc-item-num\">1.4&nbsp;&nbsp;</span>Проведите предобработку данных.</a></span></li></ul></li><li><span><a href=\"#Анализ-данных\" data-toc-modified-id=\"Анализ-данных-2\"><span class=\"toc-item-num\">2&nbsp;&nbsp;</span>Анализ данных</a></span><ul class=\"toc-item\"><li><span><a href=\"#Посмотрите,-как-меняется-концентрация-металлов-(Au,-Ag,-Pb)-на-различных-этапах-очистки.-Опишите-выводы.\" data-toc-modified-id=\"Посмотрите,-как-меняется-концентрация-металлов-(Au,-Ag,-Pb)-на-различных-этапах-очистки.-Опишите-выводы.-2.1\"><span class=\"toc-item-num\">2.1&nbsp;&nbsp;</span>Посмотрите, как меняется концентрация металлов (Au, Ag, Pb) на различных этапах очистки. Опишите выводы.</a></span></li><li><span><a href=\"#Сравните-распределения-размеров-гранул-сырья-на-обучающей-и-тестовой-выборках.\" data-toc-modified-id=\"Сравните-распределения-размеров-гранул-сырья-на-обучающей-и-тестовой-выборках.-2.2\"><span class=\"toc-item-num\">2.2&nbsp;&nbsp;</span>Сравните распределения размеров гранул сырья на обучающей и тестовой выборках.</a></span></li><li><span><a href=\"#Исследуйте-суммарную-концентрацию-всех-веществ-на-разных-стадиях:-в-сырье,-в-черновом-и-финальном-концентратах.\" data-toc-modified-id=\"Исследуйте-суммарную-концентрацию-всех-веществ-на-разных-стадиях:-в-сырье,-в-черновом-и-финальном-концентратах.-2.3\"><span class=\"toc-item-num\">2.3&nbsp;&nbsp;</span>Исследуйте суммарную концентрацию всех веществ на разных стадиях: в сырье, в черновом и финальном концентратах.</a></span></li></ul></li><li><span><a href=\"#Модель\" data-toc-modified-id=\"Модель-3\"><span class=\"toc-item-num\">3&nbsp;&nbsp;</span>Модель</a></span><ul class=\"toc-item\"><li><span><a href=\"#Напишите-функцию-для-вычисления-итоговой-sMAPE.\" data-toc-modified-id=\"Напишите-функцию-для-вычисления-итоговой-sMAPE.-3.1\"><span class=\"toc-item-num\">3.1&nbsp;&nbsp;</span>Напишите функцию для вычисления итоговой sMAPE.</a></span></li><li><span><a href=\"#Обучите-разные-модели-и-оцените-их-качество-кросс-валидацией.-Выберите-лучшую-модель-и-проверьте-её-на-тестовой-выборке.-Опишите-выводы.\" data-toc-modified-id=\"Обучите-разные-модели-и-оцените-их-качество-кросс-валидацией.-Выберите-лучшую-модель-и-проверьте-её-на-тестовой-выборке.-Опишите-выводы.-3.2\"><span class=\"toc-item-num\">3.2&nbsp;&nbsp;</span>Обучите разные модели и оцените их качество кросс-валидацией. Выберите лучшую модель и проверьте её на тестовой выборке. Опишите выводы.</a></span></li></ul></li><li><span><a href=\"#Общий-вывод\" data-toc-modified-id=\"Общий-вывод-4\"><span class=\"toc-item-num\">4&nbsp;&nbsp;</span>Общий вывод</a></span></li><li><span><a href=\"#Чек-лист-готовности-проекта\" data-toc-modified-id=\"Чек-лист-готовности-проекта-5\"><span class=\"toc-item-num\">5&nbsp;&nbsp;</span>Чек-лист готовности проекта</a></span></li></ul></div>"
   ]
  },
  {
   "cell_type": "markdown",
   "metadata": {},
   "source": [
    "# Восстановление золота из руды"
   ]
  },
  {
   "cell_type": "markdown",
   "metadata": {},
   "source": [
    "Подготовьте прототип модели машинного обучения для «Цифры». Компания разрабатывает решения для эффективной работы промышленных предприятий.\n",
    "\n",
    "Модель должна предсказать коэффициент восстановления золота из золотосодержащей руды. Используйте данные с параметрами добычи и очистки. \n",
    "\n",
    "Модель поможет оптимизировать производство, чтобы не запускать предприятие с убыточными характеристиками.\n",
    "\n",
    "Вам нужно:\n",
    "\n",
    "1. Подготовить данные;\n",
    "2. Провести исследовательский анализ данных;\n",
    "3. Построить и обучить модель.\n",
    "\n",
    "Чтобы выполнить проект, обращайтесь к библиотекам *pandas*, *matplotlib* и *sklearn.* Вам поможет их документация."
   ]
  },
  {
   "cell_type": "markdown",
   "metadata": {},
   "source": [
    "## Подготовка данных"
   ]
  },
  {
   "cell_type": "markdown",
   "metadata": {},
   "source": [
    "### Откройте файлы и изучите их."
   ]
  },
  {
   "cell_type": "code",
   "execution_count": 29,
   "metadata": {},
   "outputs": [],
   "source": [
    "import pandas as pd\n",
    "import numpy as np\n",
    "import matplotlib.pyplot as plt\n",
    "import seaborn as sns\n",
    "from sklearn.model_selection import train_test_split\n",
    "from sklearn.pipeline import  make_pipeline\n",
    "from sklearn.preprocessing import StandardScaler\n",
    "from sklearn.tree import DecisionTreeRegressor\n",
    "from sklearn.ensemble import RandomForestRegressor\n",
    "from sklearn.linear_model import LinearRegression\n",
    "from sklearn.metrics import mean_absolute_error, make_scorer\n",
    "from sklearn.model_selection import GridSearchCV\n",
    "from sklearn.dummy import DummyRegressor"
   ]
  },
  {
   "cell_type": "code",
   "execution_count": 2,
   "metadata": {},
   "outputs": [],
   "source": [
    "df_train = pd.read_csv('/datasets/gold_recovery_train_new.csv', index_col='date') \n",
    "df_test = pd.read_csv('/datasets/gold_recovery_test_new.csv', index_col='date') \n",
    "df_full = pd.read_csv('/datasets/gold_recovery_full_new.csv', index_col='date')"
   ]
  },
  {
   "cell_type": "code",
   "execution_count": 3,
   "metadata": {},
   "outputs": [
    {
     "name": "stdout",
     "output_type": "stream",
     "text": [
      "<class 'pandas.core.frame.DataFrame'>\n",
      "Index: 14149 entries, 2016-01-15 00:00:00 to 2018-08-18 10:59:59\n",
      "Data columns (total 86 columns):\n",
      " #   Column                                              Non-Null Count  Dtype  \n",
      "---  ------                                              --------------  -----  \n",
      " 0   final.output.concentrate_ag                         14148 non-null  float64\n",
      " 1   final.output.concentrate_pb                         14148 non-null  float64\n",
      " 2   final.output.concentrate_sol                        13938 non-null  float64\n",
      " 3   final.output.concentrate_au                         14149 non-null  float64\n",
      " 4   final.output.recovery                               14149 non-null  float64\n",
      " 5   final.output.tail_ag                                14149 non-null  float64\n",
      " 6   final.output.tail_pb                                14049 non-null  float64\n",
      " 7   final.output.tail_sol                               14144 non-null  float64\n",
      " 8   final.output.tail_au                                14149 non-null  float64\n",
      " 9   primary_cleaner.input.sulfate                       14129 non-null  float64\n",
      " 10  primary_cleaner.input.depressant                    14117 non-null  float64\n",
      " 11  primary_cleaner.input.feed_size                     14149 non-null  float64\n",
      " 12  primary_cleaner.input.xanthate                      14049 non-null  float64\n",
      " 13  primary_cleaner.output.concentrate_ag               14149 non-null  float64\n",
      " 14  primary_cleaner.output.concentrate_pb               14063 non-null  float64\n",
      " 15  primary_cleaner.output.concentrate_sol              13863 non-null  float64\n",
      " 16  primary_cleaner.output.concentrate_au               14149 non-null  float64\n",
      " 17  primary_cleaner.output.tail_ag                      14148 non-null  float64\n",
      " 18  primary_cleaner.output.tail_pb                      14134 non-null  float64\n",
      " 19  primary_cleaner.output.tail_sol                     14103 non-null  float64\n",
      " 20  primary_cleaner.output.tail_au                      14149 non-null  float64\n",
      " 21  primary_cleaner.state.floatbank8_a_air              14145 non-null  float64\n",
      " 22  primary_cleaner.state.floatbank8_a_level            14148 non-null  float64\n",
      " 23  primary_cleaner.state.floatbank8_b_air              14145 non-null  float64\n",
      " 24  primary_cleaner.state.floatbank8_b_level            14148 non-null  float64\n",
      " 25  primary_cleaner.state.floatbank8_c_air              14147 non-null  float64\n",
      " 26  primary_cleaner.state.floatbank8_c_level            14148 non-null  float64\n",
      " 27  primary_cleaner.state.floatbank8_d_air              14146 non-null  float64\n",
      " 28  primary_cleaner.state.floatbank8_d_level            14148 non-null  float64\n",
      " 29  rougher.calculation.sulfate_to_au_concentrate       14148 non-null  float64\n",
      " 30  rougher.calculation.floatbank10_sulfate_to_au_feed  14148 non-null  float64\n",
      " 31  rougher.calculation.floatbank11_sulfate_to_au_feed  14148 non-null  float64\n",
      " 32  rougher.calculation.au_pb_ratio                     14149 non-null  float64\n",
      " 33  rougher.input.feed_ag                               14149 non-null  float64\n",
      " 34  rougher.input.feed_pb                               14049 non-null  float64\n",
      " 35  rougher.input.feed_rate                             14141 non-null  float64\n",
      " 36  rougher.input.feed_size                             14005 non-null  float64\n",
      " 37  rougher.input.feed_sol                              14071 non-null  float64\n",
      " 38  rougher.input.feed_au                               14149 non-null  float64\n",
      " 39  rougher.input.floatbank10_sulfate                   14120 non-null  float64\n",
      " 40  rougher.input.floatbank10_xanthate                  14141 non-null  float64\n",
      " 41  rougher.input.floatbank11_sulfate                   14113 non-null  float64\n",
      " 42  rougher.input.floatbank11_xanthate                  13721 non-null  float64\n",
      " 43  rougher.output.concentrate_ag                       14149 non-null  float64\n",
      " 44  rougher.output.concentrate_pb                       14149 non-null  float64\n",
      " 45  rougher.output.concentrate_sol                      14127 non-null  float64\n",
      " 46  rougher.output.concentrate_au                       14149 non-null  float64\n",
      " 47  rougher.output.recovery                             14149 non-null  float64\n",
      " 48  rougher.output.tail_ag                              14148 non-null  float64\n",
      " 49  rougher.output.tail_pb                              14149 non-null  float64\n",
      " 50  rougher.output.tail_sol                             14149 non-null  float64\n",
      " 51  rougher.output.tail_au                              14149 non-null  float64\n",
      " 52  rougher.state.floatbank10_a_air                     14148 non-null  float64\n",
      " 53  rougher.state.floatbank10_a_level                   14148 non-null  float64\n",
      " 54  rougher.state.floatbank10_b_air                     14148 non-null  float64\n",
      " 55  rougher.state.floatbank10_b_level                   14148 non-null  float64\n",
      " 56  rougher.state.floatbank10_c_air                     14148 non-null  float64\n",
      " 57  rougher.state.floatbank10_c_level                   14148 non-null  float64\n",
      " 58  rougher.state.floatbank10_d_air                     14149 non-null  float64\n",
      " 59  rougher.state.floatbank10_d_level                   14149 non-null  float64\n",
      " 60  rougher.state.floatbank10_e_air                     13713 non-null  float64\n",
      " 61  rougher.state.floatbank10_e_level                   14149 non-null  float64\n",
      " 62  rougher.state.floatbank10_f_air                     14149 non-null  float64\n",
      " 63  rougher.state.floatbank10_f_level                   14149 non-null  float64\n",
      " 64  secondary_cleaner.output.tail_ag                    14147 non-null  float64\n",
      " 65  secondary_cleaner.output.tail_pb                    14139 non-null  float64\n",
      " 66  secondary_cleaner.output.tail_sol                   12544 non-null  float64\n",
      " 67  secondary_cleaner.output.tail_au                    14149 non-null  float64\n",
      " 68  secondary_cleaner.state.floatbank2_a_air            13932 non-null  float64\n",
      " 69  secondary_cleaner.state.floatbank2_a_level          14148 non-null  float64\n",
      " 70  secondary_cleaner.state.floatbank2_b_air            14128 non-null  float64\n",
      " 71  secondary_cleaner.state.floatbank2_b_level          14148 non-null  float64\n",
      " 72  secondary_cleaner.state.floatbank3_a_air            14145 non-null  float64\n",
      " 73  secondary_cleaner.state.floatbank3_a_level          14148 non-null  float64\n",
      " 74  secondary_cleaner.state.floatbank3_b_air            14148 non-null  float64\n",
      " 75  secondary_cleaner.state.floatbank3_b_level          14148 non-null  float64\n",
      " 76  secondary_cleaner.state.floatbank4_a_air            14143 non-null  float64\n",
      " 77  secondary_cleaner.state.floatbank4_a_level          14148 non-null  float64\n",
      " 78  secondary_cleaner.state.floatbank4_b_air            14148 non-null  float64\n",
      " 79  secondary_cleaner.state.floatbank4_b_level          14148 non-null  float64\n",
      " 80  secondary_cleaner.state.floatbank5_a_air            14148 non-null  float64\n",
      " 81  secondary_cleaner.state.floatbank5_a_level          14148 non-null  float64\n",
      " 82  secondary_cleaner.state.floatbank5_b_air            14148 non-null  float64\n",
      " 83  secondary_cleaner.state.floatbank5_b_level          14148 non-null  float64\n",
      " 84  secondary_cleaner.state.floatbank6_a_air            14147 non-null  float64\n",
      " 85  secondary_cleaner.state.floatbank6_a_level          14148 non-null  float64\n",
      "dtypes: float64(86)\n",
      "memory usage: 9.4+ MB\n",
      "None\n",
      "\n",
      "\n",
      "                     final.output.concentrate_ag  final.output.concentrate_pb  \\\n",
      "date                                                                            \n",
      "2016-01-15 00:00:00                     6.055403                     9.889648   \n",
      "2016-01-15 01:00:00                     6.029369                     9.968944   \n",
      "2016-01-15 02:00:00                     6.055926                    10.213995   \n",
      "2016-01-15 03:00:00                     6.047977                     9.977019   \n",
      "2016-01-15 04:00:00                     6.148599                    10.142511   \n",
      "\n",
      "                     final.output.concentrate_sol  \\\n",
      "date                                                \n",
      "2016-01-15 00:00:00                      5.507324   \n",
      "2016-01-15 01:00:00                      5.257781   \n",
      "2016-01-15 02:00:00                      5.383759   \n",
      "2016-01-15 03:00:00                      4.858634   \n",
      "2016-01-15 04:00:00                      4.939416   \n",
      "\n",
      "                     final.output.concentrate_au  final.output.recovery  \\\n",
      "date                                                                      \n",
      "2016-01-15 00:00:00                    42.192020              70.541216   \n",
      "2016-01-15 01:00:00                    42.701629              69.266198   \n",
      "2016-01-15 02:00:00                    42.657501              68.116445   \n",
      "2016-01-15 03:00:00                    42.689819              68.347543   \n",
      "2016-01-15 04:00:00                    42.774141              66.927016   \n",
      "\n",
      "                     final.output.tail_ag  final.output.tail_pb  \\\n",
      "date                                                              \n",
      "2016-01-15 00:00:00             10.411962              0.895447   \n",
      "2016-01-15 01:00:00             10.462676              0.927452   \n",
      "2016-01-15 02:00:00             10.507046              0.953716   \n",
      "2016-01-15 03:00:00             10.422762              0.883763   \n",
      "2016-01-15 04:00:00             10.360302              0.792826   \n",
      "\n",
      "                     final.output.tail_sol  final.output.tail_au  \\\n",
      "date                                                               \n",
      "2016-01-15 00:00:00              16.904297              2.143149   \n",
      "2016-01-15 01:00:00              16.634514              2.224930   \n",
      "2016-01-15 02:00:00              16.208849              2.257889   \n",
      "2016-01-15 03:00:00              16.532835              2.146849   \n",
      "2016-01-15 04:00:00              16.525686              2.055292   \n",
      "\n",
      "                     primary_cleaner.input.sulfate  ...  \\\n",
      "date                                                ...   \n",
      "2016-01-15 00:00:00                     127.092003  ...   \n",
      "2016-01-15 01:00:00                     125.629232  ...   \n",
      "2016-01-15 02:00:00                     123.819808  ...   \n",
      "2016-01-15 03:00:00                     122.270188  ...   \n",
      "2016-01-15 04:00:00                     117.988169  ...   \n",
      "\n",
      "                     secondary_cleaner.state.floatbank4_a_air  \\\n",
      "date                                                            \n",
      "2016-01-15 00:00:00                                 14.016835   \n",
      "2016-01-15 01:00:00                                 13.992281   \n",
      "2016-01-15 02:00:00                                 14.015015   \n",
      "2016-01-15 03:00:00                                 14.036510   \n",
      "2016-01-15 04:00:00                                 14.027298   \n",
      "\n",
      "                     secondary_cleaner.state.floatbank4_a_level  \\\n",
      "date                                                              \n",
      "2016-01-15 00:00:00                                 -502.488007   \n",
      "2016-01-15 01:00:00                                 -505.503262   \n",
      "2016-01-15 02:00:00                                 -502.520901   \n",
      "2016-01-15 03:00:00                                 -500.857308   \n",
      "2016-01-15 04:00:00                                 -499.838632   \n",
      "\n",
      "                     secondary_cleaner.state.floatbank4_b_air  \\\n",
      "date                                                            \n",
      "2016-01-15 00:00:00                                 12.099931   \n",
      "2016-01-15 01:00:00                                 11.950531   \n",
      "2016-01-15 02:00:00                                 11.912783   \n",
      "2016-01-15 03:00:00                                 11.999550   \n",
      "2016-01-15 04:00:00                                 11.953070   \n",
      "\n",
      "                     secondary_cleaner.state.floatbank4_b_level  \\\n",
      "date                                                              \n",
      "2016-01-15 00:00:00                                 -504.715942   \n",
      "2016-01-15 01:00:00                                 -501.331529   \n",
      "2016-01-15 02:00:00                                 -501.133383   \n",
      "2016-01-15 03:00:00                                 -501.193686   \n",
      "2016-01-15 04:00:00                                 -501.053894   \n",
      "\n",
      "                     secondary_cleaner.state.floatbank5_a_air  \\\n",
      "date                                                            \n",
      "2016-01-15 00:00:00                                  9.925633   \n",
      "2016-01-15 01:00:00                                 10.039245   \n",
      "2016-01-15 02:00:00                                 10.070913   \n",
      "2016-01-15 03:00:00                                  9.970366   \n",
      "2016-01-15 04:00:00                                  9.925709   \n",
      "\n",
      "                     secondary_cleaner.state.floatbank5_a_level  \\\n",
      "date                                                              \n",
      "2016-01-15 00:00:00                                 -498.310211   \n",
      "2016-01-15 01:00:00                                 -500.169983   \n",
      "2016-01-15 02:00:00                                 -500.129135   \n",
      "2016-01-15 03:00:00                                 -499.201640   \n",
      "2016-01-15 04:00:00                                 -501.686727   \n",
      "\n",
      "                     secondary_cleaner.state.floatbank5_b_air  \\\n",
      "date                                                            \n",
      "2016-01-15 00:00:00                                  8.079666   \n",
      "2016-01-15 01:00:00                                  7.984757   \n",
      "2016-01-15 02:00:00                                  8.013877   \n",
      "2016-01-15 03:00:00                                  7.977324   \n",
      "2016-01-15 04:00:00                                  7.894242   \n",
      "\n",
      "                     secondary_cleaner.state.floatbank5_b_level  \\\n",
      "date                                                              \n",
      "2016-01-15 00:00:00                                 -500.470978   \n",
      "2016-01-15 01:00:00                                 -500.582168   \n",
      "2016-01-15 02:00:00                                 -500.517572   \n",
      "2016-01-15 03:00:00                                 -500.255908   \n",
      "2016-01-15 04:00:00                                 -500.356035   \n",
      "\n",
      "                     secondary_cleaner.state.floatbank6_a_air  \\\n",
      "date                                                            \n",
      "2016-01-15 00:00:00                                 14.151341   \n",
      "2016-01-15 01:00:00                                 13.998353   \n",
      "2016-01-15 02:00:00                                 14.028663   \n",
      "2016-01-15 03:00:00                                 14.005551   \n",
      "2016-01-15 04:00:00                                 13.996647   \n",
      "\n",
      "                     secondary_cleaner.state.floatbank6_a_level  \n",
      "date                                                             \n",
      "2016-01-15 00:00:00                                 -605.841980  \n",
      "2016-01-15 01:00:00                                 -599.787184  \n",
      "2016-01-15 02:00:00                                 -601.427363  \n",
      "2016-01-15 03:00:00                                 -599.996129  \n",
      "2016-01-15 04:00:00                                 -601.496691  \n",
      "\n",
      "[5 rows x 86 columns]\n",
      "\n",
      "\n",
      "       final.output.concentrate_ag  final.output.concentrate_pb  \\\n",
      "count                 14148.000000                 14148.000000   \n",
      "mean                      5.142034                    10.132960   \n",
      "std                       1.369586                     1.654930   \n",
      "min                       0.000000                     0.000000   \n",
      "25%                       4.211620                     9.297355   \n",
      "50%                       4.994652                    10.297144   \n",
      "75%                       5.859540                    11.170603   \n",
      "max                      16.001945                    17.031899   \n",
      "\n",
      "       final.output.concentrate_sol  final.output.concentrate_au  \\\n",
      "count                  13938.000000                 14149.000000   \n",
      "mean                       9.202849                    44.003792   \n",
      "std                        2.790516                     4.905261   \n",
      "min                        0.000000                     0.000000   \n",
      "25%                        7.484645                    43.276111   \n",
      "50%                        8.845462                    44.872436   \n",
      "75%                       10.487508                    46.166425   \n",
      "max                       18.124851                    52.756638   \n",
      "\n",
      "       final.output.recovery  final.output.tail_ag  final.output.tail_pb  \\\n",
      "count           14149.000000          14149.000000          14049.000000   \n",
      "mean               66.518832              9.607035              2.597298   \n",
      "std                10.295402              2.319069              0.971843   \n",
      "min                 0.000000              0.000000              0.000000   \n",
      "25%                62.545817              7.997429              1.905973   \n",
      "50%                67.432775              9.480270              2.592022   \n",
      "75%                72.346428             11.003707              3.241723   \n",
      "max               100.000000             19.552149              5.639565   \n",
      "\n",
      "       final.output.tail_sol  final.output.tail_au  \\\n",
      "count           14144.000000          14149.000000   \n",
      "mean               10.512122              2.918421   \n",
      "std                 3.003617              0.903712   \n",
      "min                 0.000000              0.000000   \n",
      "25%                 8.811324              2.368607   \n",
      "50%                10.514621              2.851025   \n",
      "75%                11.933009              3.434764   \n",
      "max                22.317730              8.197408   \n",
      "\n",
      "       primary_cleaner.input.sulfate  ...  \\\n",
      "count                   14129.000000  ...   \n",
      "mean                      133.320659  ...   \n",
      "std                        39.431659  ...   \n",
      "min                         0.003112  ...   \n",
      "25%                       107.006651  ...   \n",
      "50%                       133.018328  ...   \n",
      "75%                       159.825396  ...   \n",
      "max                       250.127834  ...   \n",
      "\n",
      "       secondary_cleaner.state.floatbank4_a_air  \\\n",
      "count                              14143.000000   \n",
      "mean                                  19.985454   \n",
      "std                                    5.657723   \n",
      "min                                    0.000000   \n",
      "25%                                   14.990775   \n",
      "50%                                   20.001789   \n",
      "75%                                   24.990826   \n",
      "max                                   30.115735   \n",
      "\n",
      "       secondary_cleaner.state.floatbank4_a_level  \\\n",
      "count                                14148.000000   \n",
      "mean                                  -478.696836   \n",
      "std                                     50.736021   \n",
      "min                                   -799.709069   \n",
      "25%                                   -500.628656   \n",
      "50%                                   -499.681450   \n",
      "75%                                   -477.472413   \n",
      "max                                   -245.239184   \n",
      "\n",
      "       secondary_cleaner.state.floatbank4_b_air  \\\n",
      "count                              14148.000000   \n",
      "mean                                  15.487065   \n",
      "std                                    5.255655   \n",
      "min                                    0.000000   \n",
      "25%                                   11.894558   \n",
      "50%                                   14.975536   \n",
      "75%                                   20.059375   \n",
      "max                                   24.007913   \n",
      "\n",
      "       secondary_cleaner.state.floatbank4_b_level  \\\n",
      "count                                14148.000000   \n",
      "mean                                  -460.229416   \n",
      "std                                     58.843586   \n",
      "min                                   -799.889113   \n",
      "25%                                   -500.149000   \n",
      "50%                                   -499.388738   \n",
      "75%                                   -400.039008   \n",
      "max                                   -145.071088   \n",
      "\n",
      "       secondary_cleaner.state.floatbank5_a_air  \\\n",
      "count                              14148.000000   \n",
      "mean                                  16.775136   \n",
      "std                                    5.831906   \n",
      "min                                   -0.372054   \n",
      "25%                                   11.083980   \n",
      "50%                                   17.932223   \n",
      "75%                                   21.346550   \n",
      "max                                   43.709931   \n",
      "\n",
      "       secondary_cleaner.state.floatbank5_a_level  \\\n",
      "count                                14148.000000   \n",
      "mean                                  -483.956022   \n",
      "std                                     37.892788   \n",
      "min                                   -797.142475   \n",
      "25%                                   -500.363177   \n",
      "50%                                   -499.702452   \n",
      "75%                                   -487.712108   \n",
      "max                                   -275.073125   \n",
      "\n",
      "       secondary_cleaner.state.floatbank5_b_air  \\\n",
      "count                              14148.000000   \n",
      "mean                                  13.064590   \n",
      "std                                    5.765617   \n",
      "min                                    0.646208   \n",
      "25%                                    8.994405   \n",
      "50%                                   11.997547   \n",
      "75%                                   17.982903   \n",
      "max                                   27.926001   \n",
      "\n",
      "       secondary_cleaner.state.floatbank5_b_level  \\\n",
      "count                                14148.000000   \n",
      "mean                                  -483.966564   \n",
      "std                                     39.207913   \n",
      "min                                   -800.006180   \n",
      "25%                                   -500.105994   \n",
      "50%                                   -499.914556   \n",
      "75%                                   -453.186936   \n",
      "max                                   -157.396071   \n",
      "\n",
      "       secondary_cleaner.state.floatbank6_a_air  \\\n",
      "count                              14147.000000   \n",
      "mean                                  19.577539   \n",
      "std                                    5.764417   \n",
      "min                                    0.195324   \n",
      "25%                                   14.989304   \n",
      "50%                                   19.984175   \n",
      "75%                                   24.991623   \n",
      "max                                   32.188906   \n",
      "\n",
      "       secondary_cleaner.state.floatbank6_a_level  \n",
      "count                                14148.000000  \n",
      "mean                                  -506.798480  \n",
      "std                                     37.079249  \n",
      "min                                   -809.398668  \n",
      "25%                                   -500.745104  \n",
      "50%                                   -500.061431  \n",
      "75%                                   -499.536466  \n",
      "max                                   -104.427459  \n",
      "\n",
      "[8 rows x 86 columns]\n"
     ]
    }
   ],
   "source": [
    "print(df_train.info(), df_train.head(), df_train.describe(), sep='\\n\\n\\n')"
   ]
  },
  {
   "cell_type": "code",
   "execution_count": 4,
   "metadata": {},
   "outputs": [
    {
     "name": "stdout",
     "output_type": "stream",
     "text": [
      "<class 'pandas.core.frame.DataFrame'>\n",
      "Index: 5290 entries, 2016-09-01 00:59:59 to 2017-12-31 23:59:59\n",
      "Data columns (total 52 columns):\n",
      " #   Column                                      Non-Null Count  Dtype  \n",
      "---  ------                                      --------------  -----  \n",
      " 0   primary_cleaner.input.sulfate               5286 non-null   float64\n",
      " 1   primary_cleaner.input.depressant            5285 non-null   float64\n",
      " 2   primary_cleaner.input.feed_size             5290 non-null   float64\n",
      " 3   primary_cleaner.input.xanthate              5286 non-null   float64\n",
      " 4   primary_cleaner.state.floatbank8_a_air      5290 non-null   float64\n",
      " 5   primary_cleaner.state.floatbank8_a_level    5290 non-null   float64\n",
      " 6   primary_cleaner.state.floatbank8_b_air      5290 non-null   float64\n",
      " 7   primary_cleaner.state.floatbank8_b_level    5290 non-null   float64\n",
      " 8   primary_cleaner.state.floatbank8_c_air      5290 non-null   float64\n",
      " 9   primary_cleaner.state.floatbank8_c_level    5290 non-null   float64\n",
      " 10  primary_cleaner.state.floatbank8_d_air      5290 non-null   float64\n",
      " 11  primary_cleaner.state.floatbank8_d_level    5290 non-null   float64\n",
      " 12  rougher.input.feed_ag                       5290 non-null   float64\n",
      " 13  rougher.input.feed_pb                       5290 non-null   float64\n",
      " 14  rougher.input.feed_rate                     5287 non-null   float64\n",
      " 15  rougher.input.feed_size                     5289 non-null   float64\n",
      " 16  rougher.input.feed_sol                      5269 non-null   float64\n",
      " 17  rougher.input.feed_au                       5290 non-null   float64\n",
      " 18  rougher.input.floatbank10_sulfate           5285 non-null   float64\n",
      " 19  rougher.input.floatbank10_xanthate          5290 non-null   float64\n",
      " 20  rougher.input.floatbank11_sulfate           5282 non-null   float64\n",
      " 21  rougher.input.floatbank11_xanthate          5265 non-null   float64\n",
      " 22  rougher.state.floatbank10_a_air             5290 non-null   float64\n",
      " 23  rougher.state.floatbank10_a_level           5290 non-null   float64\n",
      " 24  rougher.state.floatbank10_b_air             5290 non-null   float64\n",
      " 25  rougher.state.floatbank10_b_level           5290 non-null   float64\n",
      " 26  rougher.state.floatbank10_c_air             5290 non-null   float64\n",
      " 27  rougher.state.floatbank10_c_level           5290 non-null   float64\n",
      " 28  rougher.state.floatbank10_d_air             5290 non-null   float64\n",
      " 29  rougher.state.floatbank10_d_level           5290 non-null   float64\n",
      " 30  rougher.state.floatbank10_e_air             5290 non-null   float64\n",
      " 31  rougher.state.floatbank10_e_level           5290 non-null   float64\n",
      " 32  rougher.state.floatbank10_f_air             5290 non-null   float64\n",
      " 33  rougher.state.floatbank10_f_level           5290 non-null   float64\n",
      " 34  secondary_cleaner.state.floatbank2_a_air    5287 non-null   float64\n",
      " 35  secondary_cleaner.state.floatbank2_a_level  5290 non-null   float64\n",
      " 36  secondary_cleaner.state.floatbank2_b_air    5288 non-null   float64\n",
      " 37  secondary_cleaner.state.floatbank2_b_level  5290 non-null   float64\n",
      " 38  secondary_cleaner.state.floatbank3_a_air    5281 non-null   float64\n",
      " 39  secondary_cleaner.state.floatbank3_a_level  5290 non-null   float64\n",
      " 40  secondary_cleaner.state.floatbank3_b_air    5290 non-null   float64\n",
      " 41  secondary_cleaner.state.floatbank3_b_level  5290 non-null   float64\n",
      " 42  secondary_cleaner.state.floatbank4_a_air    5290 non-null   float64\n",
      " 43  secondary_cleaner.state.floatbank4_a_level  5290 non-null   float64\n",
      " 44  secondary_cleaner.state.floatbank4_b_air    5290 non-null   float64\n",
      " 45  secondary_cleaner.state.floatbank4_b_level  5290 non-null   float64\n",
      " 46  secondary_cleaner.state.floatbank5_a_air    5290 non-null   float64\n",
      " 47  secondary_cleaner.state.floatbank5_a_level  5290 non-null   float64\n",
      " 48  secondary_cleaner.state.floatbank5_b_air    5290 non-null   float64\n",
      " 49  secondary_cleaner.state.floatbank5_b_level  5290 non-null   float64\n",
      " 50  secondary_cleaner.state.floatbank6_a_air    5290 non-null   float64\n",
      " 51  secondary_cleaner.state.floatbank6_a_level  5290 non-null   float64\n",
      "dtypes: float64(52)\n",
      "memory usage: 2.1+ MB\n",
      "None\n",
      "\n",
      "\n",
      "                     primary_cleaner.input.sulfate  \\\n",
      "date                                                 \n",
      "2016-09-01 00:59:59                     210.800909   \n",
      "2016-09-01 01:59:59                     215.392455   \n",
      "2016-09-01 02:59:59                     215.259946   \n",
      "2016-09-01 03:59:59                     215.336236   \n",
      "2016-09-01 04:59:59                     199.099327   \n",
      "\n",
      "                     primary_cleaner.input.depressant  \\\n",
      "date                                                    \n",
      "2016-09-01 00:59:59                         14.993118   \n",
      "2016-09-01 01:59:59                         14.987471   \n",
      "2016-09-01 02:59:59                         12.884934   \n",
      "2016-09-01 03:59:59                         12.006805   \n",
      "2016-09-01 04:59:59                         10.682530   \n",
      "\n",
      "                     primary_cleaner.input.feed_size  \\\n",
      "date                                                   \n",
      "2016-09-01 00:59:59                         8.080000   \n",
      "2016-09-01 01:59:59                         8.080000   \n",
      "2016-09-01 02:59:59                         7.786667   \n",
      "2016-09-01 03:59:59                         7.640000   \n",
      "2016-09-01 04:59:59                         7.530000   \n",
      "\n",
      "                     primary_cleaner.input.xanthate  \\\n",
      "date                                                  \n",
      "2016-09-01 00:59:59                        1.005021   \n",
      "2016-09-01 01:59:59                        0.990469   \n",
      "2016-09-01 02:59:59                        0.996043   \n",
      "2016-09-01 03:59:59                        0.863514   \n",
      "2016-09-01 04:59:59                        0.805575   \n",
      "\n",
      "                     primary_cleaner.state.floatbank8_a_air  \\\n",
      "date                                                          \n",
      "2016-09-01 00:59:59                             1398.981301   \n",
      "2016-09-01 01:59:59                             1398.777912   \n",
      "2016-09-01 02:59:59                             1398.493666   \n",
      "2016-09-01 03:59:59                             1399.618111   \n",
      "2016-09-01 04:59:59                             1401.268123   \n",
      "\n",
      "                     primary_cleaner.state.floatbank8_a_level  \\\n",
      "date                                                            \n",
      "2016-09-01 00:59:59                               -500.225577   \n",
      "2016-09-01 01:59:59                               -500.057435   \n",
      "2016-09-01 02:59:59                               -500.868360   \n",
      "2016-09-01 03:59:59                               -498.863574   \n",
      "2016-09-01 04:59:59                               -500.808305   \n",
      "\n",
      "                     primary_cleaner.state.floatbank8_b_air  \\\n",
      "date                                                          \n",
      "2016-09-01 00:59:59                             1399.144926   \n",
      "2016-09-01 01:59:59                             1398.055362   \n",
      "2016-09-01 02:59:59                             1398.860436   \n",
      "2016-09-01 03:59:59                             1397.440120   \n",
      "2016-09-01 04:59:59                             1398.128818   \n",
      "\n",
      "                     primary_cleaner.state.floatbank8_b_level  \\\n",
      "date                                                            \n",
      "2016-09-01 00:59:59                               -499.919735   \n",
      "2016-09-01 01:59:59                               -499.778182   \n",
      "2016-09-01 02:59:59                               -499.764529   \n",
      "2016-09-01 03:59:59                               -499.211024   \n",
      "2016-09-01 04:59:59                               -499.504543   \n",
      "\n",
      "                     primary_cleaner.state.floatbank8_c_air  \\\n",
      "date                                                          \n",
      "2016-09-01 00:59:59                             1400.102998   \n",
      "2016-09-01 01:59:59                             1396.151033   \n",
      "2016-09-01 02:59:59                             1398.075709   \n",
      "2016-09-01 03:59:59                             1400.129303   \n",
      "2016-09-01 04:59:59                             1402.172226   \n",
      "\n",
      "                     primary_cleaner.state.floatbank8_c_level  ...  \\\n",
      "date                                                           ...   \n",
      "2016-09-01 00:59:59                               -500.704369  ...   \n",
      "2016-09-01 01:59:59                               -499.240168  ...   \n",
      "2016-09-01 02:59:59                               -502.151509  ...   \n",
      "2016-09-01 03:59:59                               -498.355873  ...   \n",
      "2016-09-01 04:59:59                               -500.810606  ...   \n",
      "\n",
      "                     secondary_cleaner.state.floatbank4_a_air  \\\n",
      "date                                                            \n",
      "2016-09-01 00:59:59                                 12.023554   \n",
      "2016-09-01 01:59:59                                 12.058140   \n",
      "2016-09-01 02:59:59                                 11.962366   \n",
      "2016-09-01 03:59:59                                 12.033091   \n",
      "2016-09-01 04:59:59                                 12.025367   \n",
      "\n",
      "                     secondary_cleaner.state.floatbank4_a_level  \\\n",
      "date                                                              \n",
      "2016-09-01 00:59:59                                 -497.795834   \n",
      "2016-09-01 01:59:59                                 -498.695773   \n",
      "2016-09-01 02:59:59                                 -498.767484   \n",
      "2016-09-01 03:59:59                                 -498.350935   \n",
      "2016-09-01 04:59:59                                 -500.786497   \n",
      "\n",
      "                     secondary_cleaner.state.floatbank4_b_air  \\\n",
      "date                                                            \n",
      "2016-09-01 00:59:59                                  8.016656   \n",
      "2016-09-01 01:59:59                                  8.130979   \n",
      "2016-09-01 02:59:59                                  8.096893   \n",
      "2016-09-01 03:59:59                                  8.074946   \n",
      "2016-09-01 04:59:59                                  8.054678   \n",
      "\n",
      "                     secondary_cleaner.state.floatbank4_b_level  \\\n",
      "date                                                              \n",
      "2016-09-01 00:59:59                                 -501.289139   \n",
      "2016-09-01 01:59:59                                 -499.634209   \n",
      "2016-09-01 02:59:59                                 -500.827423   \n",
      "2016-09-01 03:59:59                                 -499.474407   \n",
      "2016-09-01 04:59:59                                 -500.397500   \n",
      "\n",
      "                     secondary_cleaner.state.floatbank5_a_air  \\\n",
      "date                                                            \n",
      "2016-09-01 00:59:59                                  7.946562   \n",
      "2016-09-01 01:59:59                                  7.958270   \n",
      "2016-09-01 02:59:59                                  8.071056   \n",
      "2016-09-01 03:59:59                                  7.897085   \n",
      "2016-09-01 04:59:59                                  8.107890   \n",
      "\n",
      "                     secondary_cleaner.state.floatbank5_a_level  \\\n",
      "date                                                              \n",
      "2016-09-01 00:59:59                                 -432.317850   \n",
      "2016-09-01 01:59:59                                 -525.839648   \n",
      "2016-09-01 02:59:59                                 -500.801673   \n",
      "2016-09-01 03:59:59                                 -500.868509   \n",
      "2016-09-01 04:59:59                                 -509.526725   \n",
      "\n",
      "                     secondary_cleaner.state.floatbank5_b_air  \\\n",
      "date                                                            \n",
      "2016-09-01 00:59:59                                  4.872511   \n",
      "2016-09-01 01:59:59                                  4.878850   \n",
      "2016-09-01 02:59:59                                  4.905125   \n",
      "2016-09-01 03:59:59                                  4.931400   \n",
      "2016-09-01 04:59:59                                  4.957674   \n",
      "\n",
      "                     secondary_cleaner.state.floatbank5_b_level  \\\n",
      "date                                                              \n",
      "2016-09-01 00:59:59                                 -500.037437   \n",
      "2016-09-01 01:59:59                                 -500.162375   \n",
      "2016-09-01 02:59:59                                 -499.828510   \n",
      "2016-09-01 03:59:59                                 -499.963623   \n",
      "2016-09-01 04:59:59                                 -500.360026   \n",
      "\n",
      "                     secondary_cleaner.state.floatbank6_a_air  \\\n",
      "date                                                            \n",
      "2016-09-01 00:59:59                                 26.705889   \n",
      "2016-09-01 01:59:59                                 25.019940   \n",
      "2016-09-01 02:59:59                                 24.994862   \n",
      "2016-09-01 03:59:59                                 24.948919   \n",
      "2016-09-01 04:59:59                                 25.003331   \n",
      "\n",
      "                     secondary_cleaner.state.floatbank6_a_level  \n",
      "date                                                             \n",
      "2016-09-01 00:59:59                                 -499.709414  \n",
      "2016-09-01 01:59:59                                 -499.819438  \n",
      "2016-09-01 02:59:59                                 -500.622559  \n",
      "2016-09-01 03:59:59                                 -498.709987  \n",
      "2016-09-01 04:59:59                                 -500.856333  \n",
      "\n",
      "[5 rows x 52 columns]\n",
      "\n",
      "\n",
      "       primary_cleaner.input.sulfate  primary_cleaner.input.depressant  \\\n",
      "count                    5286.000000                       5285.000000   \n",
      "mean                      174.839652                          8.683596   \n",
      "std                        43.027080                          3.072050   \n",
      "min                         2.566156                          0.003839   \n",
      "25%                       147.121401                          6.489555   \n",
      "50%                       177.828489                          8.052207   \n",
      "75%                       208.125438                         10.027764   \n",
      "max                       265.983123                         40.000000   \n",
      "\n",
      "       primary_cleaner.input.feed_size  primary_cleaner.input.xanthate  \\\n",
      "count                      5290.000000                     5286.000000   \n",
      "mean                          7.266339                        1.383803   \n",
      "std                           0.610219                        0.643474   \n",
      "min                           5.650000                        0.004984   \n",
      "25%                           6.890000                        0.907623   \n",
      "50%                           7.250000                        1.197610   \n",
      "75%                           7.600000                        1.797819   \n",
      "max                          15.500000                        4.102454   \n",
      "\n",
      "       primary_cleaner.state.floatbank8_a_air  \\\n",
      "count                            5.290000e+03   \n",
      "mean                             1.539494e+03   \n",
      "std                              1.167979e+02   \n",
      "min                              5.445860e-32   \n",
      "25%                              1.498936e+03   \n",
      "50%                              1.585129e+03   \n",
      "75%                              1.602077e+03   \n",
      "max                              2.103104e+03   \n",
      "\n",
      "       primary_cleaner.state.floatbank8_a_level  \\\n",
      "count                               5290.000000   \n",
      "mean                                -497.665883   \n",
      "std                                   19.952431   \n",
      "min                                 -795.316337   \n",
      "25%                                 -500.357298   \n",
      "50%                                 -499.969164   \n",
      "75%                                 -499.568951   \n",
      "max                                  -57.195404   \n",
      "\n",
      "       primary_cleaner.state.floatbank8_b_air  \\\n",
      "count                            5.290000e+03   \n",
      "mean                             1.545174e+03   \n",
      "std                              1.222246e+02   \n",
      "min                              6.647490e-32   \n",
      "25%                              1.498971e+03   \n",
      "50%                              1.595622e+03   \n",
      "75%                              1.602324e+03   \n",
      "max                              1.813084e+03   \n",
      "\n",
      "       primary_cleaner.state.floatbank8_b_level  \\\n",
      "count                               5290.000000   \n",
      "mean                                -500.273098   \n",
      "std                                   32.968307   \n",
      "min                                 -799.997015   \n",
      "25%                                 -500.703002   \n",
      "50%                                 -500.028514   \n",
      "75%                                 -499.293257   \n",
      "max                                 -142.527229   \n",
      "\n",
      "       primary_cleaner.state.floatbank8_c_air  \\\n",
      "count                            5.290000e+03   \n",
      "mean                             1.527272e+03   \n",
      "std                              1.225380e+02   \n",
      "min                              4.033736e-32   \n",
      "25%                              1.473230e+03   \n",
      "50%                              1.549595e+03   \n",
      "75%                              1.601144e+03   \n",
      "max                              1.715054e+03   \n",
      "\n",
      "       primary_cleaner.state.floatbank8_c_level  ...  \\\n",
      "count                               5290.000000  ...   \n",
      "mean                                -498.330680  ...   \n",
      "std                                   21.964876  ...   \n",
      "min                                 -799.960571  ...   \n",
      "25%                                 -501.018117  ...   \n",
      "50%                                 -500.017711  ...   \n",
      "75%                                 -498.994130  ...   \n",
      "max                                 -150.937035  ...   \n",
      "\n",
      "       secondary_cleaner.state.floatbank4_a_air  \\\n",
      "count                              5.290000e+03   \n",
      "mean                               1.632007e+01   \n",
      "std                                3.493583e+00   \n",
      "min                                1.079872e-16   \n",
      "25%                                1.403618e+01   \n",
      "50%                                1.700847e+01   \n",
      "75%                                1.803862e+01   \n",
      "max                                3.005180e+01   \n",
      "\n",
      "       secondary_cleaner.state.floatbank4_a_level  \\\n",
      "count                                 5290.000000   \n",
      "mean                                  -505.144570   \n",
      "std                                     31.427337   \n",
      "min                                   -799.798523   \n",
      "25%                                   -500.868258   \n",
      "50%                                   -500.115727   \n",
      "75%                                   -499.404224   \n",
      "max                                   -401.565212   \n",
      "\n",
      "       secondary_cleaner.state.floatbank4_b_air  \\\n",
      "count                              5.290000e+03   \n",
      "mean                               1.373544e+01   \n",
      "std                                3.430484e+00   \n",
      "min                                2.489718e-17   \n",
      "25%                                1.202862e+01   \n",
      "50%                                1.496486e+01   \n",
      "75%                                1.596213e+01   \n",
      "max                                3.126971e+01   \n",
      "\n",
      "       secondary_cleaner.state.floatbank4_b_level  \\\n",
      "count                                 5290.000000   \n",
      "mean                                  -463.349858   \n",
      "std                                     86.189107   \n",
      "min                                   -800.836914   \n",
      "25%                                   -500.323028   \n",
      "50%                                   -499.576513   \n",
      "75%                                   -400.933805   \n",
      "max                                     -6.506986   \n",
      "\n",
      "       secondary_cleaner.state.floatbank5_a_air  \\\n",
      "count                               5290.000000   \n",
      "mean                                  12.804186   \n",
      "std                                    3.026591   \n",
      "min                                    0.069227   \n",
      "25%                                   10.914838   \n",
      "50%                                   12.954182   \n",
      "75%                                   15.097528   \n",
      "max                                   25.258848   \n",
      "\n",
      "       secondary_cleaner.state.floatbank5_a_level  \\\n",
      "count                                 5290.000000   \n",
      "mean                                  -501.329122   \n",
      "std                                     17.951495   \n",
      "min                                   -797.323986   \n",
      "25%                                   -500.726841   \n",
      "50%                                   -499.990332   \n",
      "75%                                   -499.283191   \n",
      "max                                   -244.483566   \n",
      "\n",
      "       secondary_cleaner.state.floatbank5_b_air  \\\n",
      "count                               5290.000000   \n",
      "mean                                   9.881145   \n",
      "std                                    2.868205   \n",
      "min                                    0.528083   \n",
      "25%                                    8.036719   \n",
      "50%                                   10.004301   \n",
      "75%                                   11.997467   \n",
      "max                                   14.086866   \n",
      "\n",
      "       secondary_cleaner.state.floatbank5_b_level  \\\n",
      "count                                 5290.000000   \n",
      "mean                                  -495.663398   \n",
      "std                                     34.535007   \n",
      "min                                   -800.220337   \n",
      "25%                                   -500.194668   \n",
      "50%                                   -499.990535   \n",
      "75%                                   -499.719913   \n",
      "max                                   -137.740004   \n",
      "\n",
      "       secondary_cleaner.state.floatbank6_a_air  \\\n",
      "count                               5290.000000   \n",
      "mean                                  17.304935   \n",
      "std                                    4.536544   \n",
      "min                                   -0.079426   \n",
      "25%                                   13.997317   \n",
      "50%                                   16.014935   \n",
      "75%                                   21.020013   \n",
      "max                                   26.705889   \n",
      "\n",
      "       secondary_cleaner.state.floatbank6_a_level  \n",
      "count                                 5290.000000  \n",
      "mean                                  -501.793193  \n",
      "std                                     39.044215  \n",
      "min                                   -809.741464  \n",
      "25%                                   -500.690984  \n",
      "50%                                   -500.007126  \n",
      "75%                                   -499.373018  \n",
      "max                                   -123.307487  \n",
      "\n",
      "[8 rows x 52 columns]\n"
     ]
    }
   ],
   "source": [
    "print(df_test.info(), df_test.head(), df_test.describe(), sep='\\n\\n\\n')"
   ]
  },
  {
   "cell_type": "code",
   "execution_count": 5,
   "metadata": {},
   "outputs": [
    {
     "name": "stdout",
     "output_type": "stream",
     "text": [
      "<class 'pandas.core.frame.DataFrame'>\n",
      "Index: 19439 entries, 2016-01-15 00:00:00 to 2018-08-18 10:59:59\n",
      "Data columns (total 86 columns):\n",
      " #   Column                                              Non-Null Count  Dtype  \n",
      "---  ------                                              --------------  -----  \n",
      " 0   final.output.concentrate_ag                         19438 non-null  float64\n",
      " 1   final.output.concentrate_pb                         19438 non-null  float64\n",
      " 2   final.output.concentrate_sol                        19228 non-null  float64\n",
      " 3   final.output.concentrate_au                         19439 non-null  float64\n",
      " 4   final.output.recovery                               19439 non-null  float64\n",
      " 5   final.output.tail_ag                                19438 non-null  float64\n",
      " 6   final.output.tail_pb                                19338 non-null  float64\n",
      " 7   final.output.tail_sol                               19433 non-null  float64\n",
      " 8   final.output.tail_au                                19439 non-null  float64\n",
      " 9   primary_cleaner.input.sulfate                       19415 non-null  float64\n",
      " 10  primary_cleaner.input.depressant                    19402 non-null  float64\n",
      " 11  primary_cleaner.input.feed_size                     19439 non-null  float64\n",
      " 12  primary_cleaner.input.xanthate                      19335 non-null  float64\n",
      " 13  primary_cleaner.output.concentrate_ag               19439 non-null  float64\n",
      " 14  primary_cleaner.output.concentrate_pb               19323 non-null  float64\n",
      " 15  primary_cleaner.output.concentrate_sol              19069 non-null  float64\n",
      " 16  primary_cleaner.output.concentrate_au               19439 non-null  float64\n",
      " 17  primary_cleaner.output.tail_ag                      19435 non-null  float64\n",
      " 18  primary_cleaner.output.tail_pb                      19418 non-null  float64\n",
      " 19  primary_cleaner.output.tail_sol                     19377 non-null  float64\n",
      " 20  primary_cleaner.output.tail_au                      19439 non-null  float64\n",
      " 21  primary_cleaner.state.floatbank8_a_air              19435 non-null  float64\n",
      " 22  primary_cleaner.state.floatbank8_a_level            19438 non-null  float64\n",
      " 23  primary_cleaner.state.floatbank8_b_air              19435 non-null  float64\n",
      " 24  primary_cleaner.state.floatbank8_b_level            19438 non-null  float64\n",
      " 25  primary_cleaner.state.floatbank8_c_air              19437 non-null  float64\n",
      " 26  primary_cleaner.state.floatbank8_c_level            19438 non-null  float64\n",
      " 27  primary_cleaner.state.floatbank8_d_air              19436 non-null  float64\n",
      " 28  primary_cleaner.state.floatbank8_d_level            19438 non-null  float64\n",
      " 29  rougher.calculation.sulfate_to_au_concentrate       19437 non-null  float64\n",
      " 30  rougher.calculation.floatbank10_sulfate_to_au_feed  19437 non-null  float64\n",
      " 31  rougher.calculation.floatbank11_sulfate_to_au_feed  19437 non-null  float64\n",
      " 32  rougher.calculation.au_pb_ratio                     19439 non-null  float64\n",
      " 33  rougher.input.feed_ag                               19439 non-null  float64\n",
      " 34  rougher.input.feed_pb                               19339 non-null  float64\n",
      " 35  rougher.input.feed_rate                             19428 non-null  float64\n",
      " 36  rougher.input.feed_size                             19294 non-null  float64\n",
      " 37  rougher.input.feed_sol                              19340 non-null  float64\n",
      " 38  rougher.input.feed_au                               19439 non-null  float64\n",
      " 39  rougher.input.floatbank10_sulfate                   19405 non-null  float64\n",
      " 40  rougher.input.floatbank10_xanthate                  19431 non-null  float64\n",
      " 41  rougher.input.floatbank11_sulfate                   19395 non-null  float64\n",
      " 42  rougher.input.floatbank11_xanthate                  18986 non-null  float64\n",
      " 43  rougher.output.concentrate_ag                       19439 non-null  float64\n",
      " 44  rougher.output.concentrate_pb                       19439 non-null  float64\n",
      " 45  rougher.output.concentrate_sol                      19416 non-null  float64\n",
      " 46  rougher.output.concentrate_au                       19439 non-null  float64\n",
      " 47  rougher.output.recovery                             19439 non-null  float64\n",
      " 48  rougher.output.tail_ag                              19438 non-null  float64\n",
      " 49  rougher.output.tail_pb                              19439 non-null  float64\n",
      " 50  rougher.output.tail_sol                             19439 non-null  float64\n",
      " 51  rougher.output.tail_au                              19439 non-null  float64\n",
      " 52  rougher.state.floatbank10_a_air                     19438 non-null  float64\n",
      " 53  rougher.state.floatbank10_a_level                   19438 non-null  float64\n",
      " 54  rougher.state.floatbank10_b_air                     19438 non-null  float64\n",
      " 55  rougher.state.floatbank10_b_level                   19438 non-null  float64\n",
      " 56  rougher.state.floatbank10_c_air                     19438 non-null  float64\n",
      " 57  rougher.state.floatbank10_c_level                   19438 non-null  float64\n",
      " 58  rougher.state.floatbank10_d_air                     19439 non-null  float64\n",
      " 59  rougher.state.floatbank10_d_level                   19439 non-null  float64\n",
      " 60  rougher.state.floatbank10_e_air                     19003 non-null  float64\n",
      " 61  rougher.state.floatbank10_e_level                   19439 non-null  float64\n",
      " 62  rougher.state.floatbank10_f_air                     19439 non-null  float64\n",
      " 63  rougher.state.floatbank10_f_level                   19439 non-null  float64\n",
      " 64  secondary_cleaner.output.tail_ag                    19437 non-null  float64\n",
      " 65  secondary_cleaner.output.tail_pb                    19427 non-null  float64\n",
      " 66  secondary_cleaner.output.tail_sol                   17691 non-null  float64\n",
      " 67  secondary_cleaner.output.tail_au                    19439 non-null  float64\n",
      " 68  secondary_cleaner.state.floatbank2_a_air            19219 non-null  float64\n",
      " 69  secondary_cleaner.state.floatbank2_a_level          19438 non-null  float64\n",
      " 70  secondary_cleaner.state.floatbank2_b_air            19416 non-null  float64\n",
      " 71  secondary_cleaner.state.floatbank2_b_level          19438 non-null  float64\n",
      " 72  secondary_cleaner.state.floatbank3_a_air            19426 non-null  float64\n",
      " 73  secondary_cleaner.state.floatbank3_a_level          19438 non-null  float64\n",
      " 74  secondary_cleaner.state.floatbank3_b_air            19438 non-null  float64\n",
      " 75  secondary_cleaner.state.floatbank3_b_level          19438 non-null  float64\n",
      " 76  secondary_cleaner.state.floatbank4_a_air            19433 non-null  float64\n",
      " 77  secondary_cleaner.state.floatbank4_a_level          19438 non-null  float64\n",
      " 78  secondary_cleaner.state.floatbank4_b_air            19438 non-null  float64\n",
      " 79  secondary_cleaner.state.floatbank4_b_level          19438 non-null  float64\n",
      " 80  secondary_cleaner.state.floatbank5_a_air            19438 non-null  float64\n",
      " 81  secondary_cleaner.state.floatbank5_a_level          19438 non-null  float64\n",
      " 82  secondary_cleaner.state.floatbank5_b_air            19438 non-null  float64\n",
      " 83  secondary_cleaner.state.floatbank5_b_level          19438 non-null  float64\n",
      " 84  secondary_cleaner.state.floatbank6_a_air            19437 non-null  float64\n",
      " 85  secondary_cleaner.state.floatbank6_a_level          19438 non-null  float64\n",
      "dtypes: float64(86)\n",
      "memory usage: 12.9+ MB\n",
      "None\n",
      "\n",
      "\n",
      "                     final.output.concentrate_ag  final.output.concentrate_pb  \\\n",
      "date                                                                            \n",
      "2016-01-15 00:00:00                     6.055403                     9.889648   \n",
      "2016-01-15 01:00:00                     6.029369                     9.968944   \n",
      "2016-01-15 02:00:00                     6.055926                    10.213995   \n",
      "2016-01-15 03:00:00                     6.047977                     9.977019   \n",
      "2016-01-15 04:00:00                     6.148599                    10.142511   \n",
      "\n",
      "                     final.output.concentrate_sol  \\\n",
      "date                                                \n",
      "2016-01-15 00:00:00                      5.507324   \n",
      "2016-01-15 01:00:00                      5.257781   \n",
      "2016-01-15 02:00:00                      5.383759   \n",
      "2016-01-15 03:00:00                      4.858634   \n",
      "2016-01-15 04:00:00                      4.939416   \n",
      "\n",
      "                     final.output.concentrate_au  final.output.recovery  \\\n",
      "date                                                                      \n",
      "2016-01-15 00:00:00                    42.192020              70.541216   \n",
      "2016-01-15 01:00:00                    42.701629              69.266198   \n",
      "2016-01-15 02:00:00                    42.657501              68.116445   \n",
      "2016-01-15 03:00:00                    42.689819              68.347543   \n",
      "2016-01-15 04:00:00                    42.774141              66.927016   \n",
      "\n",
      "                     final.output.tail_ag  final.output.tail_pb  \\\n",
      "date                                                              \n",
      "2016-01-15 00:00:00             10.411962              0.895447   \n",
      "2016-01-15 01:00:00             10.462676              0.927452   \n",
      "2016-01-15 02:00:00             10.507046              0.953716   \n",
      "2016-01-15 03:00:00             10.422762              0.883763   \n",
      "2016-01-15 04:00:00             10.360302              0.792826   \n",
      "\n",
      "                     final.output.tail_sol  final.output.tail_au  \\\n",
      "date                                                               \n",
      "2016-01-15 00:00:00              16.904297              2.143149   \n",
      "2016-01-15 01:00:00              16.634514              2.224930   \n",
      "2016-01-15 02:00:00              16.208849              2.257889   \n",
      "2016-01-15 03:00:00              16.532835              2.146849   \n",
      "2016-01-15 04:00:00              16.525686              2.055292   \n",
      "\n",
      "                     primary_cleaner.input.sulfate  ...  \\\n",
      "date                                                ...   \n",
      "2016-01-15 00:00:00                     127.092003  ...   \n",
      "2016-01-15 01:00:00                     125.629232  ...   \n",
      "2016-01-15 02:00:00                     123.819808  ...   \n",
      "2016-01-15 03:00:00                     122.270188  ...   \n",
      "2016-01-15 04:00:00                     117.988169  ...   \n",
      "\n",
      "                     secondary_cleaner.state.floatbank4_a_air  \\\n",
      "date                                                            \n",
      "2016-01-15 00:00:00                                 14.016835   \n",
      "2016-01-15 01:00:00                                 13.992281   \n",
      "2016-01-15 02:00:00                                 14.015015   \n",
      "2016-01-15 03:00:00                                 14.036510   \n",
      "2016-01-15 04:00:00                                 14.027298   \n",
      "\n",
      "                     secondary_cleaner.state.floatbank4_a_level  \\\n",
      "date                                                              \n",
      "2016-01-15 00:00:00                                 -502.488007   \n",
      "2016-01-15 01:00:00                                 -505.503262   \n",
      "2016-01-15 02:00:00                                 -502.520901   \n",
      "2016-01-15 03:00:00                                 -500.857308   \n",
      "2016-01-15 04:00:00                                 -499.838632   \n",
      "\n",
      "                     secondary_cleaner.state.floatbank4_b_air  \\\n",
      "date                                                            \n",
      "2016-01-15 00:00:00                                 12.099931   \n",
      "2016-01-15 01:00:00                                 11.950531   \n",
      "2016-01-15 02:00:00                                 11.912783   \n",
      "2016-01-15 03:00:00                                 11.999550   \n",
      "2016-01-15 04:00:00                                 11.953070   \n",
      "\n",
      "                     secondary_cleaner.state.floatbank4_b_level  \\\n",
      "date                                                              \n",
      "2016-01-15 00:00:00                                 -504.715942   \n",
      "2016-01-15 01:00:00                                 -501.331529   \n",
      "2016-01-15 02:00:00                                 -501.133383   \n",
      "2016-01-15 03:00:00                                 -501.193686   \n",
      "2016-01-15 04:00:00                                 -501.053894   \n",
      "\n",
      "                     secondary_cleaner.state.floatbank5_a_air  \\\n",
      "date                                                            \n",
      "2016-01-15 00:00:00                                  9.925633   \n",
      "2016-01-15 01:00:00                                 10.039245   \n",
      "2016-01-15 02:00:00                                 10.070913   \n",
      "2016-01-15 03:00:00                                  9.970366   \n",
      "2016-01-15 04:00:00                                  9.925709   \n",
      "\n",
      "                     secondary_cleaner.state.floatbank5_a_level  \\\n",
      "date                                                              \n",
      "2016-01-15 00:00:00                                 -498.310211   \n",
      "2016-01-15 01:00:00                                 -500.169983   \n",
      "2016-01-15 02:00:00                                 -500.129135   \n",
      "2016-01-15 03:00:00                                 -499.201640   \n",
      "2016-01-15 04:00:00                                 -501.686727   \n",
      "\n",
      "                     secondary_cleaner.state.floatbank5_b_air  \\\n",
      "date                                                            \n",
      "2016-01-15 00:00:00                                  8.079666   \n",
      "2016-01-15 01:00:00                                  7.984757   \n",
      "2016-01-15 02:00:00                                  8.013877   \n",
      "2016-01-15 03:00:00                                  7.977324   \n",
      "2016-01-15 04:00:00                                  7.894242   \n",
      "\n",
      "                     secondary_cleaner.state.floatbank5_b_level  \\\n",
      "date                                                              \n",
      "2016-01-15 00:00:00                                 -500.470978   \n",
      "2016-01-15 01:00:00                                 -500.582168   \n",
      "2016-01-15 02:00:00                                 -500.517572   \n",
      "2016-01-15 03:00:00                                 -500.255908   \n",
      "2016-01-15 04:00:00                                 -500.356035   \n",
      "\n",
      "                     secondary_cleaner.state.floatbank6_a_air  \\\n",
      "date                                                            \n",
      "2016-01-15 00:00:00                                 14.151341   \n",
      "2016-01-15 01:00:00                                 13.998353   \n",
      "2016-01-15 02:00:00                                 14.028663   \n",
      "2016-01-15 03:00:00                                 14.005551   \n",
      "2016-01-15 04:00:00                                 13.996647   \n",
      "\n",
      "                     secondary_cleaner.state.floatbank6_a_level  \n",
      "date                                                             \n",
      "2016-01-15 00:00:00                                 -605.841980  \n",
      "2016-01-15 01:00:00                                 -599.787184  \n",
      "2016-01-15 02:00:00                                 -601.427363  \n",
      "2016-01-15 03:00:00                                 -599.996129  \n",
      "2016-01-15 04:00:00                                 -601.496691  \n",
      "\n",
      "[5 rows x 86 columns]\n",
      "\n",
      "\n",
      "       final.output.concentrate_ag  final.output.concentrate_pb  \\\n",
      "count                 19438.000000                 19438.000000   \n",
      "mean                      5.168470                     9.978895   \n",
      "std                       1.372348                     1.669240   \n",
      "min                       0.000000                     0.000000   \n",
      "25%                       4.251240                     9.137262   \n",
      "50%                       5.066094                    10.102433   \n",
      "75%                       5.895527                    11.035769   \n",
      "max                      16.001945                    17.031899   \n",
      "\n",
      "       final.output.concentrate_sol  final.output.concentrate_au  \\\n",
      "count                  19228.000000                 19439.000000   \n",
      "mean                       9.501224                    44.076513   \n",
      "std                        2.787537                     5.129784   \n",
      "min                        0.000000                     0.000000   \n",
      "25%                        7.722820                    43.402215   \n",
      "50%                        9.218961                    45.011244   \n",
      "75%                       10.947813                    46.275313   \n",
      "max                       19.615720                    52.756638   \n",
      "\n",
      "       final.output.recovery  final.output.tail_ag  final.output.tail_pb  \\\n",
      "count           19439.000000          19438.000000          19338.000000   \n",
      "mean               67.050208              9.688589              2.705795   \n",
      "std                10.125840              2.328642              0.949077   \n",
      "min                 0.000000              0.000000              0.000000   \n",
      "25%                63.299712              8.062878              2.040119   \n",
      "50%                68.172738              9.743623              2.748730   \n",
      "75%                72.686642             11.134294              3.333216   \n",
      "max               100.000000             19.552149              5.804178   \n",
      "\n",
      "       final.output.tail_sol  final.output.tail_au  \\\n",
      "count           19433.000000          19439.000000   \n",
      "mean               10.583728              3.042467   \n",
      "std                 2.868782              0.922808   \n",
      "min                 0.000000              0.000000   \n",
      "25%                 8.938947              2.461138   \n",
      "50%                10.622456              2.984909   \n",
      "75%                12.104271              3.571351   \n",
      "max                22.317730              8.245022   \n",
      "\n",
      "       primary_cleaner.input.sulfate  ...  \\\n",
      "count                   19415.000000  ...   \n",
      "mean                      144.624774  ...   \n",
      "std                        44.464071  ...   \n",
      "min                         0.003112  ...   \n",
      "25%                       114.107029  ...   \n",
      "50%                       143.232103  ...   \n",
      "75%                       175.075656  ...   \n",
      "max                       265.983123  ...   \n",
      "\n",
      "       secondary_cleaner.state.floatbank4_a_air  \\\n",
      "count                              19433.000000   \n",
      "mean                                  18.987674   \n",
      "std                                    5.411058   \n",
      "min                                    0.000000   \n",
      "25%                                   14.975734   \n",
      "50%                                   18.017481   \n",
      "75%                                   23.012470   \n",
      "max                                   30.115735   \n",
      "\n",
      "       secondary_cleaner.state.floatbank4_a_level  \\\n",
      "count                                19438.000000   \n",
      "mean                                  -485.894516   \n",
      "std                                     47.758570   \n",
      "min                                   -799.798523   \n",
      "25%                                   -500.704892   \n",
      "50%                                   -499.837793   \n",
      "75%                                   -498.249730   \n",
      "max                                   -245.239184   \n",
      "\n",
      "       secondary_cleaner.state.floatbank4_b_air  \\\n",
      "count                              19438.000000   \n",
      "mean                                  15.010366   \n",
      "std                                    4.890228   \n",
      "min                                    0.000000   \n",
      "25%                                   11.940294   \n",
      "50%                                   14.971014   \n",
      "75%                                   19.034162   \n",
      "max                                   31.269706   \n",
      "\n",
      "       secondary_cleaner.state.floatbank4_b_level  \\\n",
      "count                                19438.000000   \n",
      "mean                                  -461.078636   \n",
      "std                                     67.405524   \n",
      "min                                   -800.836914   \n",
      "25%                                   -500.187742   \n",
      "50%                                   -499.459786   \n",
      "75%                                   -400.118106   \n",
      "max                                     -6.506986   \n",
      "\n",
      "       secondary_cleaner.state.floatbank5_a_air  \\\n",
      "count                              19438.000000   \n",
      "mean                                  15.694452   \n",
      "std                                    5.510974   \n",
      "min                                   -0.372054   \n",
      "25%                                   10.988606   \n",
      "50%                                   15.000036   \n",
      "75%                                   18.026190   \n",
      "max                                   43.709931   \n",
      "\n",
      "       secondary_cleaner.state.floatbank5_a_level  \\\n",
      "count                                19438.000000   \n",
      "mean                                  -488.684065   \n",
      "std                                     34.533396   \n",
      "min                                   -797.323986   \n",
      "25%                                   -500.458467   \n",
      "50%                                   -499.802605   \n",
      "75%                                   -498.384187   \n",
      "max                                   -244.483566   \n",
      "\n",
      "       secondary_cleaner.state.floatbank5_b_air  \\\n",
      "count                              19438.000000   \n",
      "mean                                  12.198224   \n",
      "std                                    5.333024   \n",
      "min                                    0.528083   \n",
      "25%                                    8.971105   \n",
      "50%                                   11.019433   \n",
      "75%                                   14.019088   \n",
      "max                                   27.926001   \n",
      "\n",
      "       secondary_cleaner.state.floatbank5_b_level  \\\n",
      "count                                19438.000000   \n",
      "mean                                  -487.149827   \n",
      "std                                     38.347312   \n",
      "min                                   -800.220337   \n",
      "25%                                   -500.129462   \n",
      "50%                                   -499.935317   \n",
      "75%                                   -499.436708   \n",
      "max                                   -137.740004   \n",
      "\n",
      "       secondary_cleaner.state.floatbank6_a_air  \\\n",
      "count                              19437.000000   \n",
      "mean                                  18.959024   \n",
      "std                                    5.550498   \n",
      "min                                   -0.079426   \n",
      "25%                                   14.983037   \n",
      "50%                                   19.960541   \n",
      "75%                                   24.003170   \n",
      "max                                   32.188906   \n",
      "\n",
      "       secondary_cleaner.state.floatbank6_a_level  \n",
      "count                                19438.000000  \n",
      "mean                                  -505.436305  \n",
      "std                                     37.689057  \n",
      "min                                   -809.741464  \n",
      "25%                                   -500.728067  \n",
      "50%                                   -500.048400  \n",
      "75%                                   -499.495378  \n",
      "max                                   -104.427459  \n",
      "\n",
      "[8 rows x 86 columns]\n"
     ]
    }
   ],
   "source": [
    "print(df_full.info(), df_full.head(), df_full.describe(), sep='\\n\\n\\n')"
   ]
  },
  {
   "cell_type": "markdown",
   "metadata": {},
   "source": [
    "Во всех трёх таблицах есть пропуски. Целевые признаки находятся в столбцах *rougher.output.recovery* и *final.output.recovery*. Также в таблице *df_train* отсутствует немалая часть признаков."
   ]
  },
  {
   "cell_type": "markdown",
   "metadata": {},
   "source": [
    "### Проверьте, что эффективность обогащения рассчитана правильно. Вычислите её на обучающей выборке для признака rougher.output.recovery. Найдите MAE между вашими расчётами и значением признака. Опишите выводы."
   ]
  },
  {
   "cell_type": "code",
   "execution_count": 6,
   "metadata": {},
   "outputs": [
    {
     "data": {
      "text/plain": [
       "date\n",
       "2016-01-15 00:00:00    87.107763\n",
       "2016-01-15 01:00:00    86.843261\n",
       "2016-01-15 02:00:00    86.842308\n",
       "2016-01-15 03:00:00    87.226430\n",
       "2016-01-15 04:00:00    86.688794\n",
       "                         ...    \n",
       "2018-08-18 06:59:59    89.574376\n",
       "2018-08-18 07:59:59    87.724007\n",
       "2018-08-18 08:59:59    88.890579\n",
       "2018-08-18 09:59:59    89.858126\n",
       "2018-08-18 10:59:59    89.514960\n",
       "Length: 14149, dtype: float64"
      ]
     },
     "execution_count": 6,
     "metadata": {},
     "output_type": "execute_result"
    }
   ],
   "source": [
    "recovery = df_train['rougher.output.concentrate_au'] * (df_train['rougher.input.feed_au'] - df_train['rougher.output.tail_au']) \\\n",
    "/ (df_train['rougher.input.feed_au'] * (df_train['rougher.output.concentrate_au'] - df_train['rougher.output.tail_au'])) * 100\n",
    "\n",
    "recovery"
   ]
  },
  {
   "cell_type": "code",
   "execution_count": 7,
   "metadata": {},
   "outputs": [
    {
     "name": "stdout",
     "output_type": "stream",
     "text": [
      "MAE между расчётами и значением признака: 9.73512347450521e-15\n"
     ]
    }
   ],
   "source": [
    "mae = mean_absolute_error(df_train['rougher.output.recovery'], recovery)\n",
    "print('MAE между расчётами и значением признака:', mae)"
   ]
  },
  {
   "cell_type": "markdown",
   "metadata": {},
   "source": [
    "Выводы: MAE между расчётами и значением признака достаточно мала, поэтому эффективность обогащения  на обучающей выборке  рассчитана правильно."
   ]
  },
  {
   "cell_type": "markdown",
   "metadata": {},
   "source": [
    "### Проанализируйте признаки, недоступные в тестовой выборке. Что это за параметры? К какому типу относятся?"
   ]
  },
  {
   "cell_type": "code",
   "execution_count": 8,
   "metadata": {},
   "outputs": [
    {
     "name": "stdout",
     "output_type": "stream",
     "text": [
      "<class 'pandas.core.frame.DataFrame'>\n",
      "Index: 14149 entries, 2016-01-15 00:00:00 to 2018-08-18 10:59:59\n",
      "Data columns (total 34 columns):\n",
      " #   Column                                              Non-Null Count  Dtype  \n",
      "---  ------                                              --------------  -----  \n",
      " 0   final.output.concentrate_ag                         14148 non-null  float64\n",
      " 1   final.output.tail_ag                                14149 non-null  float64\n",
      " 2   rougher.calculation.floatbank11_sulfate_to_au_feed  14148 non-null  float64\n",
      " 3   final.output.concentrate_pb                         14148 non-null  float64\n",
      " 4   secondary_cleaner.output.tail_sol                   12544 non-null  float64\n",
      " 5   rougher.output.tail_au                              14149 non-null  float64\n",
      " 6   rougher.output.tail_sol                             14149 non-null  float64\n",
      " 7   final.output.tail_pb                                14049 non-null  float64\n",
      " 8   final.output.tail_sol                               14144 non-null  float64\n",
      " 9   final.output.concentrate_au                         14149 non-null  float64\n",
      " 10  rougher.output.concentrate_sol                      14127 non-null  float64\n",
      " 11  primary_cleaner.output.tail_au                      14149 non-null  float64\n",
      " 12  rougher.output.concentrate_au                       14149 non-null  float64\n",
      " 13  rougher.calculation.sulfate_to_au_concentrate       14148 non-null  float64\n",
      " 14  rougher.output.concentrate_pb                       14149 non-null  float64\n",
      " 15  primary_cleaner.output.concentrate_au               14149 non-null  float64\n",
      " 16  rougher.calculation.floatbank10_sulfate_to_au_feed  14148 non-null  float64\n",
      " 17  rougher.output.tail_ag                              14148 non-null  float64\n",
      " 18  final.output.recovery                               14149 non-null  float64\n",
      " 19  secondary_cleaner.output.tail_ag                    14147 non-null  float64\n",
      " 20  secondary_cleaner.output.tail_au                    14149 non-null  float64\n",
      " 21  primary_cleaner.output.concentrate_sol              13863 non-null  float64\n",
      " 22  primary_cleaner.output.tail_sol                     14103 non-null  float64\n",
      " 23  primary_cleaner.output.concentrate_ag               14149 non-null  float64\n",
      " 24  secondary_cleaner.output.tail_pb                    14139 non-null  float64\n",
      " 25  final.output.concentrate_sol                        13938 non-null  float64\n",
      " 26  rougher.output.tail_pb                              14149 non-null  float64\n",
      " 27  primary_cleaner.output.tail_pb                      14134 non-null  float64\n",
      " 28  primary_cleaner.output.concentrate_pb               14063 non-null  float64\n",
      " 29  primary_cleaner.output.tail_ag                      14148 non-null  float64\n",
      " 30  rougher.output.concentrate_ag                       14149 non-null  float64\n",
      " 31  final.output.tail_au                                14149 non-null  float64\n",
      " 32  rougher.calculation.au_pb_ratio                     14149 non-null  float64\n",
      " 33  rougher.output.recovery                             14149 non-null  float64\n",
      "dtypes: float64(34)\n",
      "memory usage: 4.3+ MB\n"
     ]
    }
   ],
   "source": [
    "unavailable_trapping_test = set(df_train.columns) - set(df_test.columns)\n",
    "df_train[unavailable_trapping_test].info()"
   ]
  },
  {
   "cell_type": "markdown",
   "metadata": {},
   "source": [
    "В тестовой выборке отсутсвуют 34 параметра. 30 из них относятся к типу *output*, а оставшиеся 4 параметра к типу *calculation*. Отсуствуют целевые признаки. "
   ]
  },
  {
   "cell_type": "markdown",
   "metadata": {},
   "source": [
    "### Проведите предобработку данных."
   ]
  },
  {
   "cell_type": "markdown",
   "metadata": {},
   "source": [
    "Из прошлого пункта проследовало, что в тестовой выборке не хватает признаков, которые есть в остальных таблицах. Так что добавим эти признаки в тестовую выборку из full выборки по совпадению даты:"
   ]
  },
  {
   "cell_type": "code",
   "execution_count": 9,
   "metadata": {},
   "outputs": [],
   "source": [
    "df_test = df_test.merge(df_full[['final.output.recovery', 'rougher.output.recovery']], on='date', how='left')"
   ]
  },
  {
   "cell_type": "markdown",
   "metadata": {},
   "source": [
    "Далее рассмотрим пропуски, которые мы заметили в первом пункте, и заполним их соседними значениями."
   ]
  },
  {
   "cell_type": "code",
   "execution_count": 10,
   "metadata": {},
   "outputs": [
    {
     "name": "stdout",
     "output_type": "stream",
     "text": [
      "secondary_cleaner.output.tail_sol             1605\n",
      "rougher.state.floatbank10_e_air                436\n",
      "rougher.input.floatbank11_xanthate             428\n",
      "primary_cleaner.output.concentrate_sol         286\n",
      "secondary_cleaner.state.floatbank2_a_air       217\n",
      "                                              ... \n",
      "rougher.state.floatbank10_a_air                  1\n",
      "rougher.state.floatbank10_a_level                1\n",
      "rougher.state.floatbank10_b_air                  1\n",
      "rougher.state.floatbank10_b_level                1\n",
      "secondary_cleaner.state.floatbank6_a_level       1\n",
      "Length: 62, dtype: int64\n",
      "\n",
      "\n",
      "\n",
      "rougher.input.floatbank11_xanthate          25\n",
      "rougher.input.feed_sol                      21\n",
      "secondary_cleaner.state.floatbank3_a_air     9\n",
      "rougher.input.floatbank11_sulfate            8\n",
      "primary_cleaner.input.depressant             5\n",
      "rougher.input.floatbank10_sulfate            5\n",
      "primary_cleaner.input.sulfate                4\n",
      "primary_cleaner.input.xanthate               4\n",
      "rougher.input.feed_rate                      3\n",
      "secondary_cleaner.state.floatbank2_a_air     3\n",
      "secondary_cleaner.state.floatbank2_b_air     2\n",
      "rougher.input.feed_size                      1\n",
      "dtype: int64\n",
      "\n",
      "\n",
      "\n",
      "secondary_cleaner.output.tail_sol             1748\n",
      "rougher.input.floatbank11_xanthate             453\n",
      "rougher.state.floatbank10_e_air                436\n",
      "primary_cleaner.output.concentrate_sol         370\n",
      "secondary_cleaner.state.floatbank2_a_air       220\n",
      "                                              ... \n",
      "primary_cleaner.state.floatbank8_c_level         1\n",
      "primary_cleaner.state.floatbank8_b_level         1\n",
      "primary_cleaner.state.floatbank8_a_level         1\n",
      "final.output.tail_ag                             1\n",
      "secondary_cleaner.state.floatbank6_a_level       1\n",
      "Length: 63, dtype: int64\n"
     ]
    }
   ],
   "source": [
    "print(df_train.isna().sum()[df_train.isna().sum()!=0].sort_values(ascending=False), \\\n",
    "     df_test.isna().sum()[df_test.isna().sum()!=0].sort_values(ascending=False), \\\n",
    "     df_full.isna().sum()[df_full.isna().sum()!=0].sort_values(ascending=False), sep='\\n\\n\\n\\n')"
   ]
  },
  {
   "cell_type": "code",
   "execution_count": 11,
   "metadata": {},
   "outputs": [
    {
     "name": "stdout",
     "output_type": "stream",
     "text": [
      "Series([], dtype: int64)\n",
      "\n",
      "\n",
      "\n",
      "Series([], dtype: int64)\n"
     ]
    }
   ],
   "source": [
    "df_train = df_train.fillna(method='bfill')\n",
    "df_test = df_test.fillna(method='bfill')\n",
    "\n",
    "print(df_train.isna().sum()[df_train.isna().sum()!=0].sort_values(ascending=False), \\\n",
    "     df_test.isna().sum()[df_test.isna().sum()!=0].sort_values(ascending=False), sep='\\n\\n\\n\\n')"
   ]
  },
  {
   "cell_type": "markdown",
   "metadata": {},
   "source": [
    "**Вывод по пункту 1:** данные подготовлены: изучены, проверены, обработаны. Подробнее расписала под каждым пунктом."
   ]
  },
  {
   "cell_type": "markdown",
   "metadata": {},
   "source": [
    "## Анализ данных"
   ]
  },
  {
   "cell_type": "markdown",
   "metadata": {},
   "source": [
    "### Посмотрите, как меняется концентрация металлов (Au, Ag, Pb) на различных этапах очистки. Опишите выводы."
   ]
  },
  {
   "cell_type": "code",
   "execution_count": 12,
   "metadata": {},
   "outputs": [
    {
     "name": "stdout",
     "output_type": "stream",
     "text": [
      "Первоначальная концентрация\n",
      "Концентрации: золото 7.867, серебро 8.579, свинец 3.507\n",
      "\n",
      "Концентрация после флотации\n",
      "Концентрации: золото 19.440, серебро 11.776, свинец 7.665\n",
      "\n",
      "Концентрация после первичной очистки\n",
      "Концентрации: золото 32.387, серебро 8.201, свинец 9.568\n",
      "\n",
      "Концентрация поcле вторичной очистки\n",
      "Концентрации: золото 44.004, серебро 5.142, свинец 10.133\n",
      "\n"
     ]
    }
   ],
   "source": [
    "print(\"Первоначальная концентрация\")\n",
    "print(\"Концентрации: золото{: 0.3f}, серебро{: 0.3f}, свинец{: 0.3f}\".format(df_train['rougher.input.feed_au'].mean(), \\\n",
    "                                                                                df_train['rougher.input.feed_ag'].mean(), \\\n",
    "                                                                                df_train['rougher.input.feed_pb'].mean()), end='\\n\\n')\n",
    "\n",
    "\n",
    "print(\"Концентрация после флотации\")\n",
    "print(\"Концентрации: золото{: 0.3f}, серебро{: 0.3f}, свинец{: 0.3f}\".format(df_train['rougher.output.concentrate_au'].mean(), \\\n",
    "                                                                                df_train['rougher.output.concentrate_ag'].mean(), \\\n",
    "                                                                                df_train['rougher.output.concentrate_pb'].mean()), end='\\n\\n')\n",
    "\n",
    "\n",
    "print(\"Концентрация после первичной очистки\")\n",
    "print(\"Концентрации: золото{: 0.3f}, серебро{: 0.3f}, свинец{: 0.3f}\".format(df_train['primary_cleaner.output.concentrate_au'].mean(), \\\n",
    "                                                                                df_train['primary_cleaner.output.concentrate_ag'].mean(), \\\n",
    "                                                                                df_train['primary_cleaner.output.concentrate_pb'].mean()), end='\\n\\n')\n",
    "\n",
    "\n",
    "print(\"Концентрация поcле вторичной очистки\")\n",
    "print(\"Концентрации: золото{: 0.3f}, серебро{: 0.3f}, свинец{: 0.3f}\".format(df_train['final.output.concentrate_au'].mean(), \\\n",
    "                                                                                df_train['final.output.concentrate_ag'].mean(), \\\n",
    "                                                                                df_train['final.output.concentrate_pb'].mean()), end='\\n\\n')"
   ]
  },
  {
   "cell_type": "markdown",
   "metadata": {},
   "source": [
    "Выводы: от первого до последнего этапа очистки уровень концентрации золота и свинца растет, в то время как уровень концентрации серебра снижается."
   ]
  },
  {
   "cell_type": "markdown",
   "metadata": {},
   "source": [
    "<font color='blue'><b>Комментарий ревьюера: </b></font> ✔️\\\n",
    "<font color='green'> Всё верно!</font>"
   ]
  },
  {
   "cell_type": "markdown",
   "metadata": {},
   "source": [
    "### Сравните распределения размеров гранул сырья на обучающей и тестовой выборках."
   ]
  },
  {
   "cell_type": "code",
   "execution_count": 27,
   "metadata": {},
   "outputs": [
    {
     "data": {
      "image/png": "[encoded data removed]",
      "text/plain": [
       "<Figure size 1080x504 with 1 Axes>"
      ]
     },
     "metadata": {
      "needs_background": "light"
     },
     "output_type": "display_data"
    }
   ],
   "source": [
    "plt.hist(df_train['rougher.input.feed_size'], bins=100, label='train', range=(20, 200), alpha=0.5, density=True)\n",
    "plt.hist(df_test['rougher.input.feed_size'], bins=100, label='test', range=(20, 200), alpha=0.5, density=True)\n",
    "plt.rcParams['figure.figsize'] = (15, 7)\n",
    "plt.legend(loc='upper left')\n",
    "plt.title('Распределения размеров гранул сырья на обучающей и тестовой выборках на этапе флотации')\n",
    "plt.show()"
   ]
  },
  {
   "cell_type": "code",
   "execution_count": 14,
   "metadata": {
    "scrolled": true
   },
   "outputs": [
    {
     "name": "stderr",
     "output_type": "stream",
     "text": [
      "/opt/conda/lib/python3.9/site-packages/seaborn/distributions.py:2557: FutureWarning: `distplot` is a deprecated function and will be removed in a future version. Please adapt your code to use either `displot` (a figure-level function with similar flexibility) or `histplot` (an axes-level function for histograms).\n",
      "  warnings.warn(msg, FutureWarning)\n",
      "/opt/conda/lib/python3.9/site-packages/seaborn/distributions.py:2557: FutureWarning: `distplot` is a deprecated function and will be removed in a future version. Please adapt your code to use either `displot` (a figure-level function with similar flexibility) or `histplot` (an axes-level function for histograms).\n",
      "  warnings.warn(msg, FutureWarning)\n"
     ]
    },
    {
     "data": {
      "image/png": "[encoded data removed]",
      "text/plain": [
       "<Figure size 1080x360 with 1 Axes>"
      ]
     },
     "metadata": {
      "needs_background": "light"
     },
     "output_type": "display_data"
    }
   ],
   "source": [
    "# почему-то не отображает график\n",
    "# plt.hist(df_train['primary_cleaner.input.feed_size'], bins=100, label='train', range=(20, 200), alpha=0.5)\n",
    "# plt.hist(df_test['primary_cleaner.input.feed_size'], bins=100,  label='test', range=(20, 200), alpha=0.5)\n",
    "# plt.rcParams['figure.figsize'] = (15, 7)\n",
    "# plt.legend(loc='upper left')\n",
    "# plt.title('Распределения размеров гранул сырья на обучающей и тестовой выборках на этапе первичной очистки')\n",
    "# plt.show()\n",
    "\n",
    "fig = plt.figure(figsize=(15,5))\n",
    "sns.distplot(df_train['primary_cleaner.input.feed_size'])\n",
    "sns.distplot(df_test['primary_cleaner.input.feed_size'])\n",
    "plt.title('Распределение размера гранул сырья на обучающей и тестовой выборках на стадии флотации')\n",
    "plt.xlabel('Размер гранул')\n",
    "plt.legend(labels=['Размер гранул в тестовой выборке','Размер гранул в обучающей выборке'])\n",
    "plt.show()"
   ]
  },
  {
   "cell_type": "markdown",
   "metadata": {},
   "source": [
    "Обе гистограммы показали, что распределения размеров гранул сырья на обучающей и тестовых выборках мало отличаются. Перед первичной очисткой размер гранул сильно снижается, что может говорить о их расщеплении во время этапа флотации.\n",
    "\n",
    "На этапе флотации на обучающей выборке график распределен со смещением влево. Значения на тренировочной выборке до 55, на тестовой - до 45.\n",
    "\n",
    "На этапе первичной очистки на обучающей выборке график распределен нормально. Максимальные значения на тренировочной выборке и на тестовой почти одинаковы."
   ]
  },
  {
   "cell_type": "markdown",
   "metadata": {},
   "source": [
    "### Исследуйте суммарную концентрацию всех веществ на разных стадиях: в сырье, в черновом и финальном концентратах. "
   ]
  },
  {
   "cell_type": "code",
   "execution_count": 28,
   "metadata": {},
   "outputs": [
    {
     "data": {
      "text/html": [
       "<div>\n",
       "<style scoped>\n",
       "    .dataframe tbody tr th:only-of-type {\n",
       "        vertical-align: middle;\n",
       "    }\n",
       "\n",
       "    .dataframe tbody tr th {\n",
       "        vertical-align: top;\n",
       "    }\n",
       "\n",
       "    .dataframe thead th {\n",
       "        text-align: right;\n",
       "    }\n",
       "</style>\n",
       "<table border=\"1\" class=\"dataframe\">\n",
       "  <thead>\n",
       "    <tr style=\"text-align: right;\">\n",
       "      <th></th>\n",
       "      <th>rougher.input</th>\n",
       "      <th>rougher.output</th>\n",
       "      <th>primary_cleaner.output</th>\n",
       "      <th>final.output</th>\n",
       "    </tr>\n",
       "  </thead>\n",
       "  <tbody>\n",
       "    <tr>\n",
       "      <th>count</th>\n",
       "      <td>13428.000000</td>\n",
       "      <td>13428.000000</td>\n",
       "      <td>13428.000000</td>\n",
       "      <td>13428.000000</td>\n",
       "    </tr>\n",
       "    <tr>\n",
       "      <th>mean</th>\n",
       "      <td>56.358868</td>\n",
       "      <td>68.777436</td>\n",
       "      <td>61.120174</td>\n",
       "      <td>68.797632</td>\n",
       "    </tr>\n",
       "    <tr>\n",
       "      <th>std</th>\n",
       "      <td>6.747857</td>\n",
       "      <td>7.768094</td>\n",
       "      <td>7.249503</td>\n",
       "      <td>4.942894</td>\n",
       "    </tr>\n",
       "    <tr>\n",
       "      <th>min</th>\n",
       "      <td>11.784499</td>\n",
       "      <td>11.170072</td>\n",
       "      <td>7.131374</td>\n",
       "      <td>11.843228</td>\n",
       "    </tr>\n",
       "    <tr>\n",
       "      <th>25%</th>\n",
       "      <td>52.658206</td>\n",
       "      <td>65.377021</td>\n",
       "      <td>58.387341</td>\n",
       "      <td>67.577106</td>\n",
       "    </tr>\n",
       "    <tr>\n",
       "      <th>50%</th>\n",
       "      <td>56.673648</td>\n",
       "      <td>69.350836</td>\n",
       "      <td>61.895981</td>\n",
       "      <td>69.168394</td>\n",
       "    </tr>\n",
       "    <tr>\n",
       "      <th>75%</th>\n",
       "      <td>60.823429</td>\n",
       "      <td>73.541881</td>\n",
       "      <td>65.397039</td>\n",
       "      <td>70.999759</td>\n",
       "    </tr>\n",
       "    <tr>\n",
       "      <th>max</th>\n",
       "      <td>74.458253</td>\n",
       "      <td>88.140119</td>\n",
       "      <td>76.918076</td>\n",
       "      <td>80.210644</td>\n",
       "    </tr>\n",
       "  </tbody>\n",
       "</table>\n",
       "</div>"
      ],
      "text/plain": [
       "       rougher.input  rougher.output  primary_cleaner.output  final.output\n",
       "count   13428.000000    13428.000000            13428.000000  13428.000000\n",
       "mean       56.358868       68.777436               61.120174     68.797632\n",
       "std         6.747857        7.768094                7.249503      4.942894\n",
       "min        11.784499       11.170072                7.131374     11.843228\n",
       "25%        52.658206       65.377021               58.387341     67.577106\n",
       "50%        56.673648       69.350836               61.895981     69.168394\n",
       "75%        60.823429       73.541881               65.397039     70.999759\n",
       "max        74.458253       88.140119               76.918076     80.210644"
      ]
     },
     "execution_count": 28,
     "metadata": {},
     "output_type": "execute_result"
    }
   ],
   "source": [
    "concentrates = pd.DataFrame()\n",
    "\n",
    "concentrates['rougher.input'] = df_train['rougher.input.feed_au'] + df_train['rougher.input.feed_ag'] + df_train['rougher.input.feed_pb'] + df_train['rougher.input.feed_sol']\n",
    "\n",
    "concentrates['rougher.output'] = df_train['rougher.output.concentrate_au'] + df_train['rougher.output.concentrate_ag'] + df_train['rougher.output.concentrate_pb'] + df_train['rougher.output.concentrate_sol']\n",
    "\n",
    "concentrates['primary_cleaner.output'] = df_train['primary_cleaner.output.concentrate_au'] + df_train['primary_cleaner.output.concentrate_ag'] + df_train['primary_cleaner.output.concentrate_pb'] + df_train['primary_cleaner.output.concentrate_sol']\n",
    "\n",
    "concentrates['final.output'] = df_train['final.output.concentrate_au'] + df_train['final.output.concentrate_ag'] + df_train['final.output.concentrate_pb'] + df_train['final.output.concentrate_sol']\n",
    "\n",
    "\n",
    "concentrates.describe()"
   ]
  },
  {
   "cell_type": "code",
   "execution_count": 16,
   "metadata": {},
   "outputs": [
    {
     "data": {
      "image/png": "[encoded data removed]",
      "text/plain": [
       "<Figure size 1080x504 with 1 Axes>"
      ]
     },
     "metadata": {
      "needs_background": "light"
     },
     "output_type": "display_data"
    }
   ],
   "source": [
    "plt.hist(concentrates['rougher.input'], bins=150, label='rougher.input', range=(0, 70), alpha=0.5)\n",
    "plt.hist(concentrates['rougher.output'], bins=150, label='rougher.output', range=(0, 70), alpha=0.5)\n",
    "plt.hist(concentrates['primary_cleaner.output'], bins=150, label='primary_cleaner.output', range=(0, 70), alpha=0.5)\n",
    "plt.hist(concentrates['final.output'], bins=150, label='final.output', range=(0, 70), alpha=0.5)\n",
    "\n",
    "plt.rcParams['figure.figsize'] = (15, 5)\n",
    "plt.legend(loc='upper left')\n",
    "plt.title('Распределения суммарной концентрации всех веществ на разных стадиях')\n",
    "plt.show()"
   ]
  },
  {
   "cell_type": "markdown",
   "metadata": {},
   "source": [
    "Суммарная концентрация веществ увеличивается после каждой стадии обогащения, т.к. при обработке веществ вымываются лишние примеси и подсадочные реагенты. \n",
    "\n",
    "Также заметно, что во всех распределениях присутствует выброс около нуля. Их следует удалить."
   ]
  },
  {
   "cell_type": "code",
   "execution_count": 26,
   "metadata": {},
   "outputs": [],
   "source": [
    "df_train = df_train.drop(index = df_train[df_train['rougher.input.feed_au'] < 1].index, axis = 0)\n",
    "df_train = df_train.drop(index = df_train[df_train['rougher.input.feed_ag'] < 1].index, axis = 0)\n",
    "df_train = df_train.drop(index = df_train[df_train['rougher.input.feed_pb'] < 1].index, axis = 0)\n",
    "\n",
    "df_train = df_train.drop(index = df_train[df_train['rougher.output.concentrate_au'] < 1].index, axis = 0)\n",
    "df_train = df_train.drop(index = df_train[df_train['rougher.output.concentrate_ag'] < 1].index, axis = 0)\n",
    "df_train = df_train.drop(index = df_train[df_train['rougher.output.concentrate_pb'] < 1].index, axis = 0)\n",
    "\n",
    "df_train = df_train.drop(index = df_train[df_train['primary_cleaner.output.concentrate_au'] < 1].index, axis = 0)\n",
    "df_train = df_train.drop(index = df_train[df_train['primary_cleaner.output.concentrate_ag'] < 1].index, axis = 0)\n",
    "df_train = df_train.drop(index = df_train[df_train['primary_cleaner.output.concentrate_pb'] < 1].index, axis = 0)\n",
    "\n",
    "df_train = df_train.drop(index = df_train[df_train['final.output.concentrate_au'] < 1].index, axis = 0)\n",
    "df_train = df_train.drop(index = df_train[df_train['final.output.concentrate_ag'] < 1].index, axis = 0)\n",
    "df_train = df_train.drop(index = df_train[df_train['final.output.concentrate_pb'] < 1].index, axis = 0)"
   ]
  },
  {
   "cell_type": "markdown",
   "metadata": {},
   "source": [
    "## Модель"
   ]
  },
  {
   "cell_type": "markdown",
   "metadata": {},
   "source": [
    "### Напишите функцию для вычисления итоговой sMAPE."
   ]
  },
  {
   "cell_type": "code",
   "execution_count": 18,
   "metadata": {},
   "outputs": [],
   "source": [
    "def sMAPE(y_target, y_predict):\n",
    "    smape = np.mean(abs(y_target - y_predict) / ((abs(y_target) + abs(y_predict)) / 2)) * 100\n",
    "    return smape\n",
    "\n",
    "def sMAPE_f(smape_rougher, smape_final):\n",
    "    return (0.25*smape_rougher + 0.75*smape_final)"
   ]
  },
  {
   "cell_type": "markdown",
   "metadata": {},
   "source": [
    "### Обучите разные модели и оцените их качество кросс-валидацией. Выберите лучшую модель и проверьте её на тестовой выборке. Опишите выводы."
   ]
  },
  {
   "cell_type": "code",
   "execution_count": 19,
   "metadata": {},
   "outputs": [],
   "source": [
    "features_train = np.array(df_train.drop(['rougher.output.recovery', 'final.output.recovery',\n",
    "                                     'rougher.output.concentrate_au', 'primary_cleaner.output.tail_pb',\n",
    "                                      'final.output.concentrate_au', 'primary_cleaner.output.concentrate_pb',\n",
    "                                      'final.output.tail_sol',\n",
    "                                      'rougher.calculation.floatbank10_sulfate_to_au_feed',\n",
    "                                      'rougher.output.tail_sol', 'final.output.tail_au',\n",
    "                                      'primary_cleaner.output.concentrate_ag',\n",
    "                                      'rougher.calculation.floatbank11_sulfate_to_au_feed',\n",
    "                                      'rougher.output.tail_ag', 'rougher.output.tail_pb',\n",
    "                                      'secondary_cleaner.output.tail_pb', 'final.output.tail_ag',\n",
    "                                      'final.output.concentrate_sol', 'primary_cleaner.output.tail_au',\n",
    "                                      'secondary_cleaner.output.tail_sol', 'secondary_cleaner.output.tail_ag',\n",
    "                                      'rougher.output.tail_au', 'rougher.output.concentrate_ag',\n",
    "                                      'primary_cleaner.output.concentrate_sol', 'final.output.concentrate_pb',\n",
    "                                      'final.output.concentrate_ag', 'secondary_cleaner.output.tail_au',\n",
    "                                      'rougher.output.concentrate_pb', 'rougher.output.concentrate_sol',\n",
    "                                      'primary_cleaner.output.tail_sol',\n",
    "                                      'rougher.calculation.sulfate_to_au_concentrate',\n",
    "                                      'final.output.tail_pb', 'primary_cleaner.output.concentrate_au',\n",
    "                                      'primary_cleaner.output.tail_ag', 'rougher.calculation.au_pb_ratio'], \n",
    "                                     axis=1)) \n",
    "\n",
    "target_train_rougher = np.array(df_train['rougher.output.recovery'])\n",
    "target_train_final = np.array(df_train['final.output.recovery'])\n"
   ]
  },
  {
   "cell_type": "code",
   "execution_count": 20,
   "metadata": {},
   "outputs": [],
   "source": [
    "score = make_scorer(sMAPE, greater_is_better=False) \n",
    "\n",
    "model_DT = make_pipeline(StandardScaler(), DecisionTreeRegressor())\n",
    "model_RF = make_pipeline(StandardScaler(), RandomForestRegressor())\n",
    "model_LR = make_pipeline(StandardScaler(), LinearRegression())\n",
    "\n",
    "param_DT = {'decisiontreeregressor__max_depth':[1,8]}\n",
    "param_RF = {'randomforestregressor__n_estimators':[1,61,10], 'randomforestregressor__max_depth':[1,5]}\n",
    "\n",
    "grid_rougher_DT = GridSearchCV(model_DT, param_grid=param_DT, cv=5, scoring=score)\n",
    "grid_final_DT = GridSearchCV(model_DT, param_grid=param_DT, cv=5, scoring=score)\n",
    "\n",
    "grid_rougher_RF = GridSearchCV(model_RF, param_grid=param_RF, cv=5, scoring=score)\n",
    "grid_final_RF = GridSearchCV(model_RF, param_grid=param_RF, cv=5, scoring=score)\n"
   ]
  },
  {
   "cell_type": "code",
   "execution_count": 21,
   "metadata": {},
   "outputs": [
    {
     "data": {
      "text/plain": [
       "GridSearchCV(cv=5,\n",
       "             estimator=Pipeline(steps=[('standardscaler', StandardScaler()),\n",
       "                                       ('decisiontreeregressor',\n",
       "                                        DecisionTreeRegressor())]),\n",
       "             param_grid={'decisiontreeregressor__max_depth': [1, 8]},\n",
       "             scoring=make_scorer(sMAPE, greater_is_better=False))"
      ]
     },
     "execution_count": 21,
     "metadata": {},
     "output_type": "execute_result"
    }
   ],
   "source": [
    "grid_rougher_RF.fit(features_train, target_train_rougher)\n",
    "grid_final_RF.fit(features_train, target_train_final)\n",
    "\n",
    "grid_rougher_DT.fit(features_train, target_train_rougher)\n",
    "grid_final_DT.fit(features_train, target_train_final)\n"
   ]
  },
  {
   "cell_type": "code",
   "execution_count": 22,
   "metadata": {},
   "outputs": [
    {
     "name": "stdout",
     "output_type": "stream",
     "text": [
      "DecisionTreeRegressor лучший результат final = -9.481310149479711\n",
      "RandomForestRegressor лучший результат final = -8.898305869991407 \n",
      "\n",
      "DecisionTreeRegressor лучший результат rougher = -7.313314840963892\n",
      "RandomForestRegressor лучший результат rougher = -6.173495111484224\n"
     ]
    }
   ],
   "source": [
    "best_score_rougher_RF = grid_rougher_RF.best_score_\n",
    "best_score_final_RF = grid_final_RF.best_score_\n",
    "\n",
    "best_score_rougher_DT = grid_rougher_DT.best_score_\n",
    "best_score_final_DT = grid_final_DT.best_score_\n",
    "\n",
    "print('DecisionTreeRegressor лучший результат final =', best_score_final_DT)\n",
    "print('RandomForestRegressor лучший результат final =', best_score_final_RF, '\\n')\n",
    "\n",
    "print('DecisionTreeRegressor лучший результат rougher =', best_score_rougher_DT)\n",
    "print('RandomForestRegressor лучший результат rougher =', best_score_rougher_RF)"
   ]
  },
  {
   "cell_type": "code",
   "execution_count": 23,
   "metadata": {},
   "outputs": [
    {
     "name": "stdout",
     "output_type": "stream",
     "text": [
      "RandomForestRegressor итоговое sMAPE = -8.217103180364612\n",
      "DecisionTreeRegressor итоговое sMAPE = -8.939311322350756\n"
     ]
    }
   ],
   "source": [
    "final_smape_RF = sMAPE_f(best_score_rougher_RF, best_score_final_RF)\n",
    "print('RandomForestRegressor итоговое sMAPE =', final_smape_RF)\n",
    "\n",
    "final_smape_DT = sMAPE_f(best_score_rougher_DT, best_score_final_DT)\n",
    "print('DecisionTreeRegressor итоговое sMAPE =', final_smape_DT)"
   ]
  },
  {
   "cell_type": "code",
   "execution_count": 24,
   "metadata": {},
   "outputs": [
    {
     "name": "stdout",
     "output_type": "stream",
     "text": [
      "sMAPE на тестовой выборке = 9.49492946727743\n"
     ]
    }
   ],
   "source": [
    "features_test = np.array(df_test.drop(['rougher.output.recovery', 'final.output.recovery'], axis=1))\n",
    "target_test_rouger = np.array(df_test['rougher.output.recovery'])\n",
    "target_test_final = np.array(df_test['final.output.recovery'])\n",
    "\n",
    "test_rogher = grid_rougher_RF.predict(features_test) \n",
    "test_final = grid_final_RF.predict(features_test)\n",
    "\n",
    "rouger_smape_test = sMAPE(target_test_rouger, test_rogher)\n",
    "final_smape_test = sMAPE(target_test_final, test_final)\n",
    "\n",
    "final_smape = sMAPE_f(rouger_smape_test, final_smape_test)\n",
    "print('sMAPE на тестовой выборке =', final_smape)"
   ]
  },
  {
   "cell_type": "markdown",
   "metadata": {},
   "source": [
    "**Вывод:** обучены 2 модели с применением кросс-валидации. Модель случайного леса показала лучшие метрики качества, поэтому проверка на тестовой выборке была проведена на данной модели. sMAPE на тестовой выборке равна 9.393826917618988."
   ]
  },
  {
   "cell_type": "code",
   "execution_count": 37,
   "metadata": {},
   "outputs": [
    {
     "name": "stdout",
     "output_type": "stream",
     "text": [
      "Для mean итоговая sMAPE = 9.807098186879902\n",
      "Для median итоговая sMAPE = 9.44704896581731\n"
     ]
    }
   ],
   "source": [
    "for strategy in ['mean', 'median']:\n",
    "    dummy_rougher = DummyRegressor(strategy=strategy)\n",
    "    dummy_final = DummyRegressor(strategy=strategy)\n",
    "    \n",
    "    dummy_rougher.fit(features_train, target_train_rougher)\n",
    "    dummy_final.fit(features_train, target_train_final)\n",
    "    \n",
    "    rougher = dummy_rougher.predict(df_test)\n",
    "    final = dummy_final.predict(df_test)\n",
    "    \n",
    "    final_smape = sMAPE_f(sMAPE(target_test_rouger, rougher),\n",
    "                                   sMAPE(target_test_final, final))\n",
    "\n",
    "    print('Для', strategy, 'итоговая sMAPE =', final_smape)"
   ]
  },
  {
   "cell_type": "markdown",
   "metadata": {},
   "source": [
    "По сравнению с константной моделью значения метрик, показанные моделью случайного леса, оказались чуть выше, поэтому можнл сказать, что модель прошла проверку на адекватность."
   ]
  },
  {
   "cell_type": "markdown",
   "metadata": {},
   "source": [
    "## Общий вывод"
   ]
  },
  {
   "cell_type": "markdown",
   "metadata": {},
   "source": [
    "Пункт 1. Проведена подготовка данных, в резульатте которой были обнаружены пропуски в одном из датафреймов и затем устранены; также проверено, что эффективность обогащения рассчитана правильно\n",
    "\n",
    "Пункт 2. Проведен анализ данных, в ходе которого мы выяснили следующий моменты: \n",
    "1. от первого до последнего этапа очистки уровень концентрации золота и свинца растет, в то время как уровень концентрации серебра снижается; \n",
    "2. обе гистограммы показали, что распределения размеров гранул сырья на обучающей и тестовых выборках мало отличаются. Перед первичной очисткой размер гранул сильно снижается, что может говорить о их расщеплении во время этапа флотации; \n",
    "3. суммарная концентрация веществ увеличивается после каждой стадии обогащения, т.к. при обработке веществ вымываются лишние примеси и подсадочные реагенты; удалены выбросы около нуля.\n",
    "\n",
    "Пункт 3. \n",
    "1. Создана функция для вычисления итоговой sMAPE;<br>\n",
    "2. обучены 2 модели с применением кросс-валидации. Модель случайного леса показала лучшие метрики качества, поэтому проверка на тестовой выборке была проведена на данной модели. sMAPE на тестовой выборке равна 9.393826917618988. По сравнению с константной моделью значения метрик, показанные моделью случайного леса, оказались чуть выше, поэтому можнл сказать, что модель прошла проверку на адекватность.\n",
    "\n",
    "Лучшей моделью является RandomForestRegressor, потому как эта модель предсказывает коэффициент восстановления золота из золотосодержащей руды наилучшим образом, как и при проверке на вменяемость."
   ]
  }
 ],
 "metadata": {
  "ExecuteTimeLog": [
   {
    "duration": 1786,
    "start_time": "2023-04-21T14:28:01.583Z"
   },
   {
    "duration": 5,
    "start_time": "2023-04-21T14:28:42.717Z"
   },
   {
    "duration": 5,
    "start_time": "2023-04-21T14:28:46.581Z"
   },
   {
    "duration": 53,
    "start_time": "2023-04-21T17:19:37.016Z"
   },
   {
    "duration": 1682,
    "start_time": "2023-04-21T17:19:39.604Z"
   },
   {
    "duration": 1973,
    "start_time": "2023-04-21T17:19:41.918Z"
   },
   {
    "duration": 93,
    "start_time": "2023-04-21T17:34:23.537Z"
   },
   {
    "duration": 947,
    "start_time": "2023-04-21T17:34:27.393Z"
   },
   {
    "duration": 401,
    "start_time": "2023-04-21T17:34:29.098Z"
   },
   {
    "duration": 263,
    "start_time": "2023-04-21T17:36:29.490Z"
   },
   {
    "duration": 318,
    "start_time": "2023-04-21T17:36:32.848Z"
   },
   {
    "duration": 156,
    "start_time": "2023-04-21T17:37:15.952Z"
   },
   {
    "duration": 151,
    "start_time": "2023-04-21T17:37:56.701Z"
   },
   {
    "duration": 273,
    "start_time": "2023-04-21T17:38:24.742Z"
   },
   {
    "duration": 251,
    "start_time": "2023-04-21T17:38:29.620Z"
   },
   {
    "duration": 2,
    "start_time": "2023-04-21T17:50:02.817Z"
   },
   {
    "duration": 7,
    "start_time": "2023-04-21T17:53:02.101Z"
   },
   {
    "duration": 14,
    "start_time": "2023-04-21T17:53:14.715Z"
   },
   {
    "duration": 5,
    "start_time": "2023-04-21T17:54:24.888Z"
   },
   {
    "duration": 8,
    "start_time": "2023-04-21T17:55:02.554Z"
   },
   {
    "duration": 5,
    "start_time": "2023-04-21T17:55:05.318Z"
   },
   {
    "duration": 17,
    "start_time": "2023-04-21T17:59:12.932Z"
   },
   {
    "duration": 16,
    "start_time": "2023-04-21T17:59:19.934Z"
   },
   {
    "duration": 19,
    "start_time": "2023-04-21T20:35:04.076Z"
   },
   {
    "duration": 12,
    "start_time": "2023-04-21T20:35:11.514Z"
   },
   {
    "duration": 11,
    "start_time": "2023-04-21T20:37:56.383Z"
   },
   {
    "duration": 83,
    "start_time": "2023-04-21T20:39:01.614Z"
   },
   {
    "duration": 23,
    "start_time": "2023-04-21T20:39:12.978Z"
   },
   {
    "duration": 23,
    "start_time": "2023-04-21T20:39:26.662Z"
   },
   {
    "duration": 17,
    "start_time": "2023-04-21T20:41:31.214Z"
   },
   {
    "duration": 34,
    "start_time": "2023-04-21T20:41:51.459Z"
   },
   {
    "duration": 24,
    "start_time": "2023-04-21T20:42:12.128Z"
   },
   {
    "duration": 6,
    "start_time": "2023-04-21T21:11:15.679Z"
   },
   {
    "duration": 7,
    "start_time": "2023-04-21T21:13:08.562Z"
   },
   {
    "duration": 5,
    "start_time": "2023-04-21T21:13:24.342Z"
   },
   {
    "duration": 6,
    "start_time": "2023-04-21T21:13:45.195Z"
   },
   {
    "duration": 13,
    "start_time": "2023-04-21T21:32:33.422Z"
   },
   {
    "duration": 8,
    "start_time": "2023-04-21T21:34:19.395Z"
   },
   {
    "duration": 485,
    "start_time": "2023-04-21T21:42:53.006Z"
   },
   {
    "duration": 14,
    "start_time": "2023-04-21T21:43:47.583Z"
   },
   {
    "duration": 52,
    "start_time": "2023-04-21T21:44:17.060Z"
   },
   {
    "duration": 680,
    "start_time": "2023-04-21T21:44:22.153Z"
   },
   {
    "duration": 512,
    "start_time": "2023-04-21T21:44:36.010Z"
   },
   {
    "duration": 599,
    "start_time": "2023-04-21T21:44:46.831Z"
   },
   {
    "duration": 988,
    "start_time": "2023-04-21T21:45:36.753Z"
   },
   {
    "duration": 616,
    "start_time": "2023-04-21T21:45:48.847Z"
   },
   {
    "duration": 344,
    "start_time": "2023-04-21T21:47:07.456Z"
   },
   {
    "duration": 504,
    "start_time": "2023-04-21T21:47:18.269Z"
   },
   {
    "duration": 345,
    "start_time": "2023-04-21T21:47:27.469Z"
   },
   {
    "duration": 463,
    "start_time": "2023-04-21T21:48:04.788Z"
   },
   {
    "duration": 492,
    "start_time": "2023-04-21T21:48:13.274Z"
   },
   {
    "duration": 356,
    "start_time": "2023-04-21T21:48:43.473Z"
   },
   {
    "duration": 413,
    "start_time": "2023-04-21T21:49:52.603Z"
   },
   {
    "duration": 5,
    "start_time": "2023-04-21T21:50:29.391Z"
   },
   {
    "duration": 360,
    "start_time": "2023-04-21T21:50:48.450Z"
   },
   {
    "duration": 522,
    "start_time": "2023-04-21T21:51:04.359Z"
   },
   {
    "duration": 409,
    "start_time": "2023-04-21T21:51:14.710Z"
   },
   {
    "duration": 438,
    "start_time": "2023-04-21T21:51:43.666Z"
   },
   {
    "duration": 348,
    "start_time": "2023-04-21T21:51:55.764Z"
   },
   {
    "duration": 1360,
    "start_time": "2023-04-21T21:52:37.840Z"
   },
   {
    "duration": 816,
    "start_time": "2023-04-21T21:52:39.202Z"
   },
   {
    "duration": 221,
    "start_time": "2023-04-21T21:52:40.020Z"
   },
   {
    "duration": 142,
    "start_time": "2023-04-21T21:52:40.243Z"
   },
   {
    "duration": 262,
    "start_time": "2023-04-21T21:52:40.387Z"
   },
   {
    "duration": 106,
    "start_time": "2023-04-21T21:52:40.651Z"
   },
   {
    "duration": 0,
    "start_time": "2023-04-21T21:52:40.759Z"
   },
   {
    "duration": 0,
    "start_time": "2023-04-21T21:52:40.761Z"
   },
   {
    "duration": 0,
    "start_time": "2023-04-21T21:52:40.762Z"
   },
   {
    "duration": 0,
    "start_time": "2023-04-21T21:52:40.763Z"
   },
   {
    "duration": 0,
    "start_time": "2023-04-21T21:52:40.764Z"
   },
   {
    "duration": 0,
    "start_time": "2023-04-21T21:52:40.765Z"
   },
   {
    "duration": 0,
    "start_time": "2023-04-21T21:52:40.767Z"
   },
   {
    "duration": 0,
    "start_time": "2023-04-21T21:52:40.768Z"
   },
   {
    "duration": 15,
    "start_time": "2023-04-21T21:52:52.292Z"
   },
   {
    "duration": 11,
    "start_time": "2023-04-21T21:53:06.625Z"
   },
   {
    "duration": 519,
    "start_time": "2023-04-21T21:53:20.018Z"
   },
   {
    "duration": 378,
    "start_time": "2023-04-21T21:53:24.037Z"
   },
   {
    "duration": 388,
    "start_time": "2023-04-21T21:54:00.899Z"
   },
   {
    "duration": 366,
    "start_time": "2023-04-21T21:55:41.675Z"
   },
   {
    "duration": 534,
    "start_time": "2023-04-21T21:55:50.500Z"
   },
   {
    "duration": 526,
    "start_time": "2023-04-21T21:57:36.491Z"
   },
   {
    "duration": 528,
    "start_time": "2023-04-21T21:57:46.606Z"
   },
   {
    "duration": 613,
    "start_time": "2023-04-21T21:58:01.041Z"
   },
   {
    "duration": 73,
    "start_time": "2023-04-21T22:03:32.348Z"
   },
   {
    "duration": 560,
    "start_time": "2023-04-21T22:03:39.754Z"
   },
   {
    "duration": 1178,
    "start_time": "2023-04-21T22:11:56.656Z"
   },
   {
    "duration": 1342,
    "start_time": "2023-04-21T22:19:45.135Z"
   },
   {
    "duration": 682,
    "start_time": "2023-04-21T22:19:46.478Z"
   },
   {
    "duration": 230,
    "start_time": "2023-04-21T22:19:47.162Z"
   },
   {
    "duration": 129,
    "start_time": "2023-04-21T22:19:47.393Z"
   },
   {
    "duration": 238,
    "start_time": "2023-04-21T22:19:47.524Z"
   },
   {
    "duration": 106,
    "start_time": "2023-04-21T22:19:47.764Z"
   },
   {
    "duration": 0,
    "start_time": "2023-04-21T22:19:47.871Z"
   },
   {
    "duration": 0,
    "start_time": "2023-04-21T22:19:47.873Z"
   },
   {
    "duration": 0,
    "start_time": "2023-04-21T22:19:47.874Z"
   },
   {
    "duration": 0,
    "start_time": "2023-04-21T22:19:47.874Z"
   },
   {
    "duration": 0,
    "start_time": "2023-04-21T22:19:47.875Z"
   },
   {
    "duration": 0,
    "start_time": "2023-04-21T22:19:47.876Z"
   },
   {
    "duration": 0,
    "start_time": "2023-04-21T22:19:47.877Z"
   },
   {
    "duration": 0,
    "start_time": "2023-04-21T22:19:47.878Z"
   },
   {
    "duration": 0,
    "start_time": "2023-04-21T22:19:47.879Z"
   },
   {
    "duration": 1169,
    "start_time": "2023-04-21T22:19:49.381Z"
   },
   {
    "duration": 18,
    "start_time": "2023-04-21T22:20:30.848Z"
   },
   {
    "duration": 31,
    "start_time": "2023-04-21T22:20:43.065Z"
   },
   {
    "duration": 918,
    "start_time": "2023-04-21T22:27:47.723Z"
   },
   {
    "duration": 963,
    "start_time": "2023-04-21T22:28:21.009Z"
   },
   {
    "duration": 28,
    "start_time": "2023-04-21T22:30:03.549Z"
   },
   {
    "duration": 851,
    "start_time": "2023-04-21T22:30:06.641Z"
   },
   {
    "duration": 24,
    "start_time": "2023-04-21T22:38:19.132Z"
   },
   {
    "duration": 61,
    "start_time": "2023-04-21T22:41:14.323Z"
   },
   {
    "duration": 48,
    "start_time": "2023-04-21T22:41:42.802Z"
   },
   {
    "duration": 3,
    "start_time": "2023-04-21T23:43:51.027Z"
   },
   {
    "duration": 10,
    "start_time": "2023-04-21T23:45:35.820Z"
   },
   {
    "duration": 3,
    "start_time": "2023-04-21T23:46:22.715Z"
   },
   {
    "duration": 3,
    "start_time": "2023-04-21T23:47:29.973Z"
   },
   {
    "duration": 9,
    "start_time": "2023-04-21T23:48:34.748Z"
   },
   {
    "duration": 10,
    "start_time": "2023-04-21T23:48:47.370Z"
   },
   {
    "duration": 11,
    "start_time": "2023-04-21T23:54:32.339Z"
   },
   {
    "duration": 5,
    "start_time": "2023-04-21T23:54:55.551Z"
   },
   {
    "duration": 6,
    "start_time": "2023-04-21T23:55:02.187Z"
   },
   {
    "duration": 365,
    "start_time": "2023-04-21T23:55:49.198Z"
   },
   {
    "duration": 8,
    "start_time": "2023-04-21T23:58:16.115Z"
   },
   {
    "duration": 5,
    "start_time": "2023-04-21T23:58:18.201Z"
   },
   {
    "duration": 5,
    "start_time": "2023-04-21T23:58:43.172Z"
   },
   {
    "duration": 291,
    "start_time": "2023-04-21T23:58:45.466Z"
   },
   {
    "duration": 300,
    "start_time": "2023-04-22T00:02:17.860Z"
   },
   {
    "duration": 7,
    "start_time": "2023-04-22T00:05:49.010Z"
   },
   {
    "duration": 298,
    "start_time": "2023-04-22T00:06:17.450Z"
   },
   {
    "duration": 6,
    "start_time": "2023-04-22T00:12:49.825Z"
   },
   {
    "duration": 23,
    "start_time": "2023-04-22T00:12:53.283Z"
   },
   {
    "duration": 5,
    "start_time": "2023-04-22T00:30:46.648Z"
   },
   {
    "duration": 334,
    "start_time": "2023-04-22T00:30:49.309Z"
   },
   {
    "duration": 14,
    "start_time": "2023-04-22T00:36:24.153Z"
   },
   {
    "duration": 16,
    "start_time": "2023-04-22T00:36:52.886Z"
   },
   {
    "duration": 5,
    "start_time": "2023-04-22T00:37:15.000Z"
   },
   {
    "duration": 38378,
    "start_time": "2023-04-22T00:37:29.207Z"
   },
   {
    "duration": 5,
    "start_time": "2023-04-22T00:41:07.257Z"
   },
   {
    "duration": 24,
    "start_time": "2023-04-22T00:41:10.301Z"
   },
   {
    "duration": 4,
    "start_time": "2023-04-22T00:52:29.019Z"
   },
   {
    "duration": 312,
    "start_time": "2023-04-22T00:52:30.813Z"
   },
   {
    "duration": 1325,
    "start_time": "2023-04-22T00:53:31.780Z"
   },
   {
    "duration": 674,
    "start_time": "2023-04-22T00:53:33.107Z"
   },
   {
    "duration": 250,
    "start_time": "2023-04-22T00:53:33.783Z"
   },
   {
    "duration": 118,
    "start_time": "2023-04-22T00:53:34.034Z"
   },
   {
    "duration": 233,
    "start_time": "2023-04-22T00:53:34.156Z"
   },
   {
    "duration": 105,
    "start_time": "2023-04-22T00:53:34.390Z"
   },
   {
    "duration": 0,
    "start_time": "2023-04-22T00:53:34.496Z"
   },
   {
    "duration": 0,
    "start_time": "2023-04-22T00:53:34.497Z"
   },
   {
    "duration": 0,
    "start_time": "2023-04-22T00:53:34.498Z"
   },
   {
    "duration": 0,
    "start_time": "2023-04-22T00:53:34.499Z"
   },
   {
    "duration": 0,
    "start_time": "2023-04-22T00:53:34.500Z"
   },
   {
    "duration": 0,
    "start_time": "2023-04-22T00:53:34.501Z"
   },
   {
    "duration": 0,
    "start_time": "2023-04-22T00:53:34.502Z"
   },
   {
    "duration": 0,
    "start_time": "2023-04-22T00:53:34.503Z"
   },
   {
    "duration": 0,
    "start_time": "2023-04-22T00:53:34.504Z"
   },
   {
    "duration": 0,
    "start_time": "2023-04-22T00:53:34.505Z"
   },
   {
    "duration": 0,
    "start_time": "2023-04-22T00:53:34.506Z"
   },
   {
    "duration": 0,
    "start_time": "2023-04-22T00:53:34.507Z"
   },
   {
    "duration": 0,
    "start_time": "2023-04-22T00:53:34.508Z"
   },
   {
    "duration": 0,
    "start_time": "2023-04-22T00:53:34.509Z"
   },
   {
    "duration": 8,
    "start_time": "2023-04-22T00:53:41.542Z"
   },
   {
    "duration": 1379,
    "start_time": "2023-04-22T00:53:50.501Z"
   },
   {
    "duration": 717,
    "start_time": "2023-04-22T00:53:51.882Z"
   },
   {
    "duration": 259,
    "start_time": "2023-04-22T00:53:52.600Z"
   },
   {
    "duration": 153,
    "start_time": "2023-04-22T00:53:52.861Z"
   },
   {
    "duration": 279,
    "start_time": "2023-04-22T00:53:53.016Z"
   },
   {
    "duration": 121,
    "start_time": "2023-04-22T00:53:53.296Z"
   },
   {
    "duration": 0,
    "start_time": "2023-04-22T00:53:53.419Z"
   },
   {
    "duration": 0,
    "start_time": "2023-04-22T00:53:53.420Z"
   },
   {
    "duration": 0,
    "start_time": "2023-04-22T00:53:53.421Z"
   },
   {
    "duration": 0,
    "start_time": "2023-04-22T00:53:53.422Z"
   },
   {
    "duration": 0,
    "start_time": "2023-04-22T00:53:53.423Z"
   },
   {
    "duration": 0,
    "start_time": "2023-04-22T00:53:53.424Z"
   },
   {
    "duration": 0,
    "start_time": "2023-04-22T00:53:53.425Z"
   },
   {
    "duration": 0,
    "start_time": "2023-04-22T00:53:53.426Z"
   },
   {
    "duration": 0,
    "start_time": "2023-04-22T00:53:53.427Z"
   },
   {
    "duration": 0,
    "start_time": "2023-04-22T00:53:53.428Z"
   },
   {
    "duration": 0,
    "start_time": "2023-04-22T00:53:53.429Z"
   },
   {
    "duration": 0,
    "start_time": "2023-04-22T00:53:53.430Z"
   },
   {
    "duration": 0,
    "start_time": "2023-04-22T00:53:53.431Z"
   },
   {
    "duration": 0,
    "start_time": "2023-04-22T00:53:53.432Z"
   },
   {
    "duration": 11,
    "start_time": "2023-04-22T00:54:39.384Z"
   },
   {
    "duration": 1356,
    "start_time": "2023-04-22T00:54:51.188Z"
   },
   {
    "duration": 690,
    "start_time": "2023-04-22T00:54:52.546Z"
   },
   {
    "duration": 222,
    "start_time": "2023-04-22T00:54:53.238Z"
   },
   {
    "duration": 126,
    "start_time": "2023-04-22T00:54:53.461Z"
   },
   {
    "duration": 241,
    "start_time": "2023-04-22T00:54:53.590Z"
   },
   {
    "duration": 11,
    "start_time": "2023-04-22T00:54:53.833Z"
   },
   {
    "duration": 9,
    "start_time": "2023-04-22T00:54:53.856Z"
   },
   {
    "duration": 129,
    "start_time": "2023-04-22T00:54:53.866Z"
   },
   {
    "duration": 0,
    "start_time": "2023-04-22T00:54:53.997Z"
   },
   {
    "duration": 0,
    "start_time": "2023-04-22T00:54:53.997Z"
   },
   {
    "duration": 0,
    "start_time": "2023-04-22T00:54:53.998Z"
   },
   {
    "duration": 0,
    "start_time": "2023-04-22T00:54:53.999Z"
   },
   {
    "duration": 0,
    "start_time": "2023-04-22T00:54:54.000Z"
   },
   {
    "duration": 0,
    "start_time": "2023-04-22T00:54:54.001Z"
   },
   {
    "duration": 0,
    "start_time": "2023-04-22T00:54:54.002Z"
   },
   {
    "duration": 0,
    "start_time": "2023-04-22T00:54:54.004Z"
   },
   {
    "duration": 0,
    "start_time": "2023-04-22T00:54:54.005Z"
   },
   {
    "duration": 0,
    "start_time": "2023-04-22T00:54:54.006Z"
   },
   {
    "duration": 0,
    "start_time": "2023-04-22T00:54:54.007Z"
   },
   {
    "duration": 0,
    "start_time": "2023-04-22T00:54:54.008Z"
   },
   {
    "duration": 1298,
    "start_time": "2023-04-22T00:55:19.992Z"
   },
   {
    "duration": 664,
    "start_time": "2023-04-22T00:55:21.292Z"
   },
   {
    "duration": 261,
    "start_time": "2023-04-22T00:55:21.957Z"
   },
   {
    "duration": 150,
    "start_time": "2023-04-22T00:55:22.220Z"
   },
   {
    "duration": 272,
    "start_time": "2023-04-22T00:55:22.373Z"
   },
   {
    "duration": 14,
    "start_time": "2023-04-22T00:55:22.647Z"
   },
   {
    "duration": 4,
    "start_time": "2023-04-22T00:55:22.662Z"
   },
   {
    "duration": 23,
    "start_time": "2023-04-22T00:55:22.668Z"
   },
   {
    "duration": 18,
    "start_time": "2023-04-22T00:55:22.693Z"
   },
   {
    "duration": 23,
    "start_time": "2023-04-22T00:55:22.713Z"
   },
   {
    "duration": 35,
    "start_time": "2023-04-22T00:55:22.738Z"
   },
   {
    "duration": 9,
    "start_time": "2023-04-22T00:55:22.774Z"
   },
   {
    "duration": 455,
    "start_time": "2023-04-22T00:55:22.785Z"
   },
   {
    "duration": 590,
    "start_time": "2023-04-22T00:55:23.243Z"
   },
   {
    "duration": 36,
    "start_time": "2023-04-22T00:55:23.835Z"
   },
   {
    "duration": 866,
    "start_time": "2023-04-22T00:55:23.873Z"
   },
   {
    "duration": 195,
    "start_time": "2023-04-22T00:55:24.740Z"
   },
   {
    "duration": 3,
    "start_time": "2023-04-22T00:55:24.937Z"
   },
   {
    "duration": 16,
    "start_time": "2023-04-22T00:55:24.941Z"
   },
   {
    "duration": 106,
    "start_time": "2023-04-22T00:55:24.959Z"
   },
   {
    "duration": 61,
    "start_time": "2023-04-22T00:55:53.407Z"
   },
   {
    "duration": 3,
    "start_time": "2023-04-22T00:55:58.213Z"
   },
   {
    "duration": 5,
    "start_time": "2023-04-22T00:56:05.811Z"
   },
   {
    "duration": 8,
    "start_time": "2023-04-22T00:57:28.445Z"
   },
   {
    "duration": 5,
    "start_time": "2023-04-22T00:57:30.532Z"
   },
   {
    "duration": 1293,
    "start_time": "2023-04-22T00:58:47.297Z"
   },
   {
    "duration": 666,
    "start_time": "2023-04-22T00:58:48.592Z"
   },
   {
    "duration": 266,
    "start_time": "2023-04-22T00:58:49.260Z"
   },
   {
    "duration": 144,
    "start_time": "2023-04-22T00:58:49.528Z"
   },
   {
    "duration": 284,
    "start_time": "2023-04-22T00:58:49.674Z"
   },
   {
    "duration": 12,
    "start_time": "2023-04-22T00:58:49.959Z"
   },
   {
    "duration": 4,
    "start_time": "2023-04-22T00:58:49.972Z"
   },
   {
    "duration": 20,
    "start_time": "2023-04-22T00:58:49.978Z"
   },
   {
    "duration": 14,
    "start_time": "2023-04-22T00:58:49.999Z"
   },
   {
    "duration": 47,
    "start_time": "2023-04-22T00:58:50.015Z"
   },
   {
    "duration": 24,
    "start_time": "2023-04-22T00:58:50.064Z"
   },
   {
    "duration": 10,
    "start_time": "2023-04-22T00:58:50.090Z"
   },
   {
    "duration": 499,
    "start_time": "2023-04-22T00:58:50.102Z"
   },
   {
    "duration": 607,
    "start_time": "2023-04-22T00:58:50.603Z"
   },
   {
    "duration": 29,
    "start_time": "2023-04-22T00:58:51.212Z"
   },
   {
    "duration": 881,
    "start_time": "2023-04-22T00:58:51.243Z"
   },
   {
    "duration": 229,
    "start_time": "2023-04-22T00:58:52.126Z"
   },
   {
    "duration": 4,
    "start_time": "2023-04-22T00:58:52.357Z"
   },
   {
    "duration": 10,
    "start_time": "2023-04-22T00:58:52.362Z"
   },
   {
    "duration": 7,
    "start_time": "2023-04-22T00:58:52.374Z"
   },
   {
    "duration": 1324,
    "start_time": "2023-04-22T00:59:13.454Z"
   },
   {
    "duration": 669,
    "start_time": "2023-04-22T00:59:14.780Z"
   },
   {
    "duration": 229,
    "start_time": "2023-04-22T00:59:15.450Z"
   },
   {
    "duration": 128,
    "start_time": "2023-04-22T00:59:15.681Z"
   },
   {
    "duration": 242,
    "start_time": "2023-04-22T00:59:15.811Z"
   },
   {
    "duration": 10,
    "start_time": "2023-04-22T00:59:16.054Z"
   },
   {
    "duration": 4,
    "start_time": "2023-04-22T00:59:16.065Z"
   },
   {
    "duration": 12,
    "start_time": "2023-04-22T00:59:16.070Z"
   },
   {
    "duration": 12,
    "start_time": "2023-04-22T00:59:16.083Z"
   },
   {
    "duration": 22,
    "start_time": "2023-04-22T00:59:16.096Z"
   },
   {
    "duration": 53,
    "start_time": "2023-04-22T00:59:16.120Z"
   },
   {
    "duration": 9,
    "start_time": "2023-04-22T00:59:16.175Z"
   },
   {
    "duration": 472,
    "start_time": "2023-04-22T00:59:16.186Z"
   },
   {
    "duration": 511,
    "start_time": "2023-04-22T00:59:16.661Z"
   },
   {
    "duration": 27,
    "start_time": "2023-04-22T00:59:17.173Z"
   },
   {
    "duration": 812,
    "start_time": "2023-04-22T00:59:17.202Z"
   },
   {
    "duration": 205,
    "start_time": "2023-04-22T00:59:18.016Z"
   },
   {
    "duration": 3,
    "start_time": "2023-04-22T00:59:18.223Z"
   },
   {
    "duration": 13,
    "start_time": "2023-04-22T00:59:18.227Z"
   },
   {
    "duration": 14,
    "start_time": "2023-04-22T00:59:18.242Z"
   },
   {
    "duration": 1340,
    "start_time": "2023-04-22T01:02:12.059Z"
   },
   {
    "duration": 677,
    "start_time": "2023-04-22T01:02:13.401Z"
   },
   {
    "duration": 222,
    "start_time": "2023-04-22T01:02:14.080Z"
   },
   {
    "duration": 126,
    "start_time": "2023-04-22T01:02:14.303Z"
   },
   {
    "duration": 244,
    "start_time": "2023-04-22T01:02:14.431Z"
   },
   {
    "duration": 12,
    "start_time": "2023-04-22T01:02:14.677Z"
   },
   {
    "duration": 17,
    "start_time": "2023-04-22T01:02:14.690Z"
   },
   {
    "duration": 17,
    "start_time": "2023-04-22T01:02:14.709Z"
   },
   {
    "duration": 16,
    "start_time": "2023-04-22T01:02:14.728Z"
   },
   {
    "duration": 31,
    "start_time": "2023-04-22T01:02:14.745Z"
   },
   {
    "duration": 23,
    "start_time": "2023-04-22T01:02:14.778Z"
   },
   {
    "duration": 9,
    "start_time": "2023-04-22T01:02:14.803Z"
   },
   {
    "duration": 506,
    "start_time": "2023-04-22T01:02:14.814Z"
   },
   {
    "duration": 575,
    "start_time": "2023-04-22T01:02:15.322Z"
   },
   {
    "duration": 30,
    "start_time": "2023-04-22T01:02:15.898Z"
   },
   {
    "duration": 831,
    "start_time": "2023-04-22T01:02:15.930Z"
   },
   {
    "duration": 196,
    "start_time": "2023-04-22T01:02:16.762Z"
   },
   {
    "duration": 3,
    "start_time": "2023-04-22T01:02:16.959Z"
   },
   {
    "duration": 8,
    "start_time": "2023-04-22T01:02:16.964Z"
   },
   {
    "duration": 9,
    "start_time": "2023-04-22T01:02:16.973Z"
   },
   {
    "duration": 147976,
    "start_time": "2023-04-22T01:02:16.983Z"
   },
   {
    "duration": 99,
    "start_time": "2023-04-22T01:06:45.376Z"
   },
   {
    "duration": 12,
    "start_time": "2023-04-22T01:07:05.126Z"
   },
   {
    "duration": 4,
    "start_time": "2023-04-22T01:07:25.606Z"
   },
   {
    "duration": 5,
    "start_time": "2023-04-22T01:08:16.969Z"
   },
   {
    "duration": 5,
    "start_time": "2023-04-22T01:09:35.734Z"
   },
   {
    "duration": 4,
    "start_time": "2023-04-22T01:11:09.247Z"
   },
   {
    "duration": 4,
    "start_time": "2023-04-22T01:11:41.797Z"
   },
   {
    "duration": 30,
    "start_time": "2023-04-22T01:13:00.329Z"
   },
   {
    "duration": 33,
    "start_time": "2023-04-22T01:13:20.192Z"
   },
   {
    "duration": 1290,
    "start_time": "2023-04-22T01:18:29.517Z"
   },
   {
    "duration": 666,
    "start_time": "2023-04-22T01:18:30.809Z"
   },
   {
    "duration": 222,
    "start_time": "2023-04-22T01:18:31.477Z"
   },
   {
    "duration": 119,
    "start_time": "2023-04-22T01:18:31.701Z"
   },
   {
    "duration": 237,
    "start_time": "2023-04-22T01:18:31.823Z"
   },
   {
    "duration": 10,
    "start_time": "2023-04-22T01:18:32.062Z"
   },
   {
    "duration": 5,
    "start_time": "2023-04-22T01:18:32.074Z"
   },
   {
    "duration": 14,
    "start_time": "2023-04-22T01:18:32.080Z"
   },
   {
    "duration": 12,
    "start_time": "2023-04-22T01:18:32.096Z"
   },
   {
    "duration": 49,
    "start_time": "2023-04-22T01:18:32.110Z"
   },
   {
    "duration": 23,
    "start_time": "2023-04-22T01:18:32.161Z"
   },
   {
    "duration": 10,
    "start_time": "2023-04-22T01:18:32.186Z"
   },
   {
    "duration": 476,
    "start_time": "2023-04-22T01:18:32.198Z"
   },
   {
    "duration": 597,
    "start_time": "2023-04-22T01:18:32.677Z"
   },
   {
    "duration": 28,
    "start_time": "2023-04-22T01:18:33.276Z"
   },
   {
    "duration": 827,
    "start_time": "2023-04-22T01:18:33.305Z"
   },
   {
    "duration": 193,
    "start_time": "2023-04-22T01:18:34.134Z"
   },
   {
    "duration": 3,
    "start_time": "2023-04-22T01:18:34.328Z"
   },
   {
    "duration": 11,
    "start_time": "2023-04-22T01:18:34.332Z"
   },
   {
    "duration": 5,
    "start_time": "2023-04-22T01:18:34.355Z"
   },
   {
    "duration": 66,
    "start_time": "2023-04-22T08:22:50.645Z"
   },
   {
    "duration": 1536,
    "start_time": "2023-04-22T08:22:56.309Z"
   },
   {
    "duration": 2920,
    "start_time": "2023-04-22T08:22:57.847Z"
   },
   {
    "duration": 273,
    "start_time": "2023-04-22T08:23:00.769Z"
   },
   {
    "duration": 151,
    "start_time": "2023-04-22T08:23:01.044Z"
   },
   {
    "duration": 274,
    "start_time": "2023-04-22T08:23:01.197Z"
   },
   {
    "duration": 16,
    "start_time": "2023-04-22T08:23:01.472Z"
   },
   {
    "duration": 5,
    "start_time": "2023-04-22T08:23:01.489Z"
   },
   {
    "duration": 31,
    "start_time": "2023-04-22T08:23:01.495Z"
   },
   {
    "duration": 30,
    "start_time": "2023-04-22T08:23:01.528Z"
   },
   {
    "duration": 60,
    "start_time": "2023-04-22T08:23:01.561Z"
   },
   {
    "duration": 26,
    "start_time": "2023-04-22T08:23:01.623Z"
   },
   {
    "duration": 14,
    "start_time": "2023-04-22T08:23:01.651Z"
   },
   {
    "duration": 506,
    "start_time": "2023-04-22T08:23:01.667Z"
   },
   {
    "duration": 699,
    "start_time": "2023-04-22T08:23:02.174Z"
   },
   {
    "duration": 38,
    "start_time": "2023-04-22T08:23:02.874Z"
   },
   {
    "duration": 982,
    "start_time": "2023-04-22T08:23:02.914Z"
   },
   {
    "duration": 220,
    "start_time": "2023-04-22T08:23:03.898Z"
   },
   {
    "duration": 4,
    "start_time": "2023-04-22T08:23:04.120Z"
   },
   {
    "duration": 12,
    "start_time": "2023-04-22T08:23:04.126Z"
   },
   {
    "duration": 8,
    "start_time": "2023-04-22T08:23:04.139Z"
   },
   {
    "duration": 162014,
    "start_time": "2023-04-22T08:23:04.149Z"
   },
   {
    "duration": 5,
    "start_time": "2023-04-22T08:25:46.164Z"
   },
   {
    "duration": 17,
    "start_time": "2023-04-22T08:25:46.170Z"
   },
   {
    "duration": 36,
    "start_time": "2023-04-22T08:25:46.188Z"
   },
   {
    "duration": 391,
    "start_time": "2023-04-22T08:25:46.227Z"
   },
   {
    "duration": 50,
    "start_time": "2023-04-22T08:25:46.620Z"
   },
   {
    "duration": 409,
    "start_time": "2023-04-22T08:26:07.505Z"
   },
   {
    "duration": 29,
    "start_time": "2023-04-22T08:29:42.386Z"
   },
   {
    "duration": 4,
    "start_time": "2023-04-22T08:32:21.574Z"
   },
   {
    "duration": 123,
    "start_time": "2023-04-22T08:34:20.721Z"
   },
   {
    "duration": 12,
    "start_time": "2023-04-22T08:34:30.203Z"
   },
   {
    "duration": 12,
    "start_time": "2023-04-22T08:34:36.655Z"
   },
   {
    "duration": 12,
    "start_time": "2023-04-22T08:34:39.411Z"
   },
   {
    "duration": 8,
    "start_time": "2023-04-22T08:34:47.046Z"
   },
   {
    "duration": 12,
    "start_time": "2023-04-22T08:36:02.833Z"
   },
   {
    "duration": 7,
    "start_time": "2023-04-22T08:36:38.492Z"
   },
   {
    "duration": 8,
    "start_time": "2023-04-22T08:36:55.512Z"
   }
  ],
  "kernelspec": {
   "display_name": "Python 3 (ipykernel)",
   "language": "python",
   "name": "python3"
  },
  "language_info": {
   "codemirror_mode": {
    "name": "ipython",
    "version": 3
   },
   "file_extension": ".py",
   "mimetype": "text/x-python",
   "name": "python",
   "nbconvert_exporter": "python",
   "pygments_lexer": "ipython3",
   "version": "3.9.13"
  },
  "toc": {
   "base_numbering": 1,
   "nav_menu": {},
   "number_sections": true,
   "sideBar": true,
   "skip_h1_title": true,
   "title_cell": "Содержание",
   "title_sidebar": "Contents",
   "toc_cell": true,
   "toc_position": {},
   "toc_section_display": true,
   "toc_window_display": false
  }
 },
 "nbformat": 4,
 "nbformat_minor": 2
}
